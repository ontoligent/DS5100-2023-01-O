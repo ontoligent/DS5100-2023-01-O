{
 "cells": [
  {
   "cell_type": "markdown",
   "id": "bbea800c-241d-42b4-a744-ecaffe13959e",
   "metadata": {},
   "source": [
    "# Metadata\n",
    "\n",
    "```yaml\n",
    "Course:  DS 5100\n",
    "Module:  09 Python Packages\n",
    "Topic:   HW Package Booklover\n",
    "Author:  R.C. Alvarado (adapted)\n",
    "Date:    10 October 2022 (revised)\n",
    "```"
   ]
  },
  {
   "cell_type": "markdown",
   "id": "36f46fdd-2405-4dc8-9ea1-33f395e56cc0",
   "metadata": {},
   "source": [
    "# Student Info\n",
    "\n",
    "* Name:  \n",
    "* Net UD:\n",
    "* URL of this file in GitHub:"
   ]
  },
  {
   "cell_type": "markdown",
   "id": "375875a8-1503-46eb-8ea1-7e5bf39b5c41",
   "metadata": {},
   "source": [
    "# Instructions\n",
    "\n",
    "In your **private course repo on Rivanna**, use this Jupyter notebook and the data file described to write code that performs the tasks below. \n",
    "\n",
    "Save your notebook in the `M09` directory.\n",
    "\n",
    "Remember to add and commit these files to your repo. \n",
    "\n",
    "Then push your commits to your repo on GitHib.\n",
    "\n",
    "Be sure to fill out the **Student Info** block above.\n",
    "\n",
    "To submit your homework, save your results as a PDF and upload it to GradeScope. More information about how to create the PDF for this assignment are included at the end of this document.\n",
    "\n",
    "**TOTAL POINTS: 8**"
   ]
  },
  {
   "cell_type": "markdown",
   "id": "1baf08dc-35fe-44f1-bc26-7e1130ee993e",
   "metadata": {},
   "source": [
    "# Overview\n",
    "\n",
    "Follow the following recipe we used in class to package the code you wrote for `HW08` -- `booklover.py` and `booklover_test.py`.\n",
    "\n",
    "* Create a new git repo for your package.\n",
    "* Create and edit the required files and directories for your package and move the booklover modules there.\n",
    "* Stage, commit, and push all the files you've created.\n",
    "* Install your package with pip.\n",
    "* Outside of your package dir, write a script to test your method.\n",
    "\n",
    "Put this notebook in your repo. This will allow you to execute bash commands and capture the outpunt directly in the notebook.\n",
    "\n",
    "**TOTAL: 8 POINTS**"
   ]
  },
  {
   "cell_type": "markdown",
   "id": "6e39ba79-49ee-41e8-9e49-23d9d6bac2e0",
   "metadata": {
    "tags": []
   },
   "source": [
    "# Tasks"
   ]
  },
  {
   "cell_type": "markdown",
   "id": "fb11de14",
   "metadata": {},
   "source": [
    "## Task 1\n",
    "\n",
    "(5 points)\n",
    "\n",
    "Show the directory structure of your repo by running this command from the root of your repo:"
   ]
  },
  {
   "cell_type": "code",
   "execution_count": 4,
   "id": "7e6c6607",
   "metadata": {},
   "outputs": [
    {
     "name": "stdout",
     "output_type": "stream",
     "text": [
      "total 16\n",
      "drwxr-xr-x@ 6 rca2t1  staff   192 Oct 31 08:35 \u001b[34mBook_Lover.egg-info\u001b[m\u001b[m\n",
      "drwxr-xr-x@ 4 rca2t1  staff   128 Oct 31 08:28 \u001b[34mbooklover\u001b[m\u001b[m\n",
      "-rw-r--r--@ 1 rca2t1  staff  2753 Oct 31 08:28 booklover_test.py\n",
      "drwxr-xr-x@ 4 rca2t1  staff   128 Oct 31 08:34 \u001b[34mbuild\u001b[m\u001b[m\n",
      "-rw-r--r--@ 1 rca2t1  staff   300 Oct 31 08:32 setup.py\n",
      "\n",
      "DS5100-2022-08-O-HW09/solution1/Book_Lover.egg-info:\n",
      "total 32\n",
      "-rw-r--r--@ 1 rca2t1  staff  217 Oct 31 08:35 PKG-INFO\n",
      "-rw-r--r--@ 1 rca2t1  staff  189 Oct 31 08:35 SOURCES.txt\n",
      "-rw-r--r--@ 1 rca2t1  staff    1 Oct 31 08:35 dependency_links.txt\n",
      "-rw-r--r--@ 1 rca2t1  staff   10 Oct 31 08:35 top_level.txt\n",
      "\n",
      "DS5100-2022-08-O-HW09/solution1/booklover:\n",
      "total 16\n",
      "-rw-r--r--@ 1 rca2t1  staff   81 Oct 31 08:35 __init__.py\n",
      "-rw-r--r--@ 1 rca2t1  staff  982 Oct 31 08:28 booklover.py\n",
      "\n",
      "DS5100-2022-08-O-HW09/solution1/build:\n",
      "total 0\n",
      "drwxr-xr-x@ 2 rca2t1  staff  64 Oct 31 08:35 \u001b[34mbdist.macosx-10.9-x86_64\u001b[m\u001b[m\n",
      "drwxr-xr-x@ 3 rca2t1  staff  96 Oct 31 08:34 \u001b[34mlib\u001b[m\u001b[m\n",
      "\n",
      "DS5100-2022-08-O-HW09/solution1/build/bdist.macosx-10.9-x86_64:\n",
      "total 0\n",
      "\n",
      "DS5100-2022-08-O-HW09/solution1/build/lib:\n",
      "total 0\n",
      "drwxr-xr-x@ 4 rca2t1  staff  128 Oct 31 08:35 \u001b[34mbooklover\u001b[m\u001b[m\n",
      "\n",
      "DS5100-2022-08-O-HW09/solution1/build/lib/booklover:\n",
      "total 16\n",
      "-rw-r--r--@ 1 rca2t1  staff   81 Oct 31 08:35 __init__.py\n",
      "-rw-r--r--@ 1 rca2t1  staff  982 Oct 31 08:28 booklover.py\n"
     ]
    }
   ],
   "source": [
    "!ls -lR DS5100-2022-08-O-HW09/solution1"
   ]
  },
  {
   "cell_type": "markdown",
   "id": "6b6f288b-05aa-441b-8c73-84b50b3b6844",
   "metadata": {},
   "source": [
    "## Task 2\n",
    "\n",
    "(1 point)\n",
    "\n",
    "Put the URL of your GitHub repo here. Just paste it into a Markdown cell."
   ]
  },
  {
   "cell_type": "markdown",
   "id": "4d09d889-6104-4f20-b31c-2d8a72b17693",
   "metadata": {},
   "source": [
    "URL: https://github.com/ontoligent/DS5100-2022-08-O-HW09 "
   ]
  },
  {
   "cell_type": "markdown",
   "id": "f989dcd1-b1d2-4eb9-8ef6-8ca2d8495260",
   "metadata": {
    "lines_to_next_cell": 0
   },
   "source": [
    "## Task 3\n",
    "\n",
    "(1 point)\n",
    "\n",
    "Show the results of installing your package.\n",
    "\n",
    "```bash\n",
    "!pip install -e .\n",
    "```"
   ]
  },
  {
   "cell_type": "markdown",
   "id": "d0e5a3b5",
   "metadata": {},
   "source": [
    "```bash\n",
    "(base) rca2t1: pip install .\n",
    "Processing /Users/rca2t1/Dropbox/Courses/DS/DS5100/DS5100-2022-08-O/repo-keys/M09/HW/DS5100-2022-08-O-HW09/solution1\n",
    "  Preparing metadata (setup.py) ... done\n",
    "Building wheels for collected packages: Book-Lover\n",
    "  Building wheel for Book-Lover (setup.py) ... done\n",
    "  Created wheel for Book-Lover: filename=Book_Lover-0.1-py3-none-any.whl size=1847 sha256=9a744eb67e96a6ee90bdcef7a75aa5e1f4609e3dad4b882d74b8525b3618f1db\n",
    "  Stored in directory: /private/var/folders/14/rnyfspnx2q131jp_752t9fc80000gn/T/pip-ephem-wheel-cache-5j4h9ixw/wheels/a3/d9/80/9c584f4d021cd3a655bf9797c8a1b74590a314809251444c82\n",
    "Successfully built Book-Lover\n",
    "Installing collected packages: Book-Lover\n",
    "  Attempting uninstall: Book-Lover\n",
    "    Found existing installation: Book-Lover 0.1\n",
    "    Uninstalling Book-Lover-0.1:\n",
    "      Successfully uninstalled Book-Lover-0.1\n",
    "Successfully installed Book-Lover-0.1\n",
    "```"
   ]
  },
  {
   "cell_type": "markdown",
   "id": "5b1a642e-74f0-43ff-97a3-9ddc7553978e",
   "metadata": {},
   "source": [
    "## Task 4\n",
    "\n",
    "(1 point)\n",
    "\n",
    "Create a file outside your repo to test your package by running it.\n",
    "\n",
    "To do this, import the package into your file and create a BookLover object.\n",
    "\n",
    "Then add a book and then print number books read.\n",
    "\n",
    "Then run the file. \n",
    "\n",
    "Show the output of running the file below, using a command like the following:\n",
    "\n",
    "```bash\n",
    "!python ../book_lover_demo.py\n",
    "```"
   ]
  },
  {
   "cell_type": "markdown",
   "id": "5924fca8-6483-4f2b-a33f-6550d1726d6e",
   "metadata": {},
   "source": [
    "```bash\n",
    "(base) rca2t1: python book_lover_demo.py \n",
    "This is from the key to HW09.\n",
    "Number of books read: 1\n",
    "```"
   ]
  },
  {
   "cell_type": "markdown",
   "id": "0773a58c",
   "metadata": {},
   "source": []
  }
 ],
 "metadata": {
  "jupytext": {
   "cell_metadata_filter": "-all",
   "main_language": "bash",
   "notebook_metadata_filter": "-all"
  },
  "kernelspec": {
   "display_name": "Python 3 (ipykernel)",
   "language": "python",
   "name": "python3"
  },
  "language_info": {
   "codemirror_mode": {
    "name": "ipython",
    "version": 3
   },
   "file_extension": ".py",
   "mimetype": "text/x-python",
   "name": "python",
   "nbconvert_exporter": "python",
   "pygments_lexer": "ipython3",
   "version": "3.8.16"
  },
  "vscode": {
   "interpreter": {
    "hash": "c3b963de08c47c3b6758389c5e0978ad73698a111eb508d4e16b558edb8f4cbf"
   }
  },
  "widgets": {
   "application/vnd.jupyter.widget-state+json": {
    "state": {},
    "version_major": 2,
    "version_minor": 0
   }
  }
 },
 "nbformat": 4,
 "nbformat_minor": 5
}
