{
 "cells": [
  {
   "cell_type": "markdown",
   "id": "151b5ec8-0bbb-4295-bd9f-dd8f859f7d14",
   "metadata": {},
   "source": [
    "#### Metadata\n",
    "\n",
    "```yaml\n",
    "Course:  DS 5100\n",
    "Module:  07 Python Classes\n",
    "Topic:   HW 07 Stock Class\n",
    "Author:  R.C. Alvarado\n",
    "Date:    29 June 2022\n",
    "```"
   ]
  },
  {
   "cell_type": "markdown",
   "id": "36f46fdd-2405-4dc8-9ea1-33f395e56cc0",
   "metadata": {},
   "source": [
    "# Student Info\n",
    "\n",
    "* Name:  \n",
    "* Net UD:\n",
    "* URL of this file in GitHub:"
   ]
  },
  {
   "cell_type": "markdown",
   "id": "375875a8-1503-46eb-8ea1-7e5bf39b5c41",
   "metadata": {},
   "source": [
    "# Instructions\n",
    "\n",
    "In your **private course repo on Rivanna**, use this Jupyter notebook and the data file described to write code that performs the tasks below. \n",
    "\n",
    "Save your notebook in the `M07` directory.\n",
    "\n",
    "Remember to add and commit these files to your repo. \n",
    "\n",
    "Then push your commits to your repo on GitHib.\n",
    "\n",
    "Be sure to fill out the **Student Info** block above.\n",
    "\n",
    "To submit your homework, save the notebook as a PDF and upload it to GradeScope, following the instructions.\n",
    "\n",
    "**TOTAL POINTS: 12**"
   ]
  },
  {
   "cell_type": "markdown",
   "id": "74b029c0-da00-4543-b45c-0432c40824d2",
   "metadata": {},
   "source": [
    "# Overview\n",
    "\n",
    "In this assignment you will define a class and use it to perform the requested tasks.\n",
    "\n",
    "Before answering the questions, read the market data from `apple_data.csv` into a Pandas dataframe."
   ]
  },
  {
   "cell_type": "markdown",
   "id": "08b68b0a-43ba-42cc-82ed-e6f638709640",
   "metadata": {},
   "source": [
    "# Setting Up"
   ]
  },
  {
   "cell_type": "code",
   "execution_count": 1,
   "id": "c5c3ed31-c34b-4758-9c1d-7a634c04c8d9",
   "metadata": {},
   "outputs": [],
   "source": [
    "import pandas as pd\n",
    "import numpy as np"
   ]
  },
  {
   "cell_type": "markdown",
   "id": "29fcbc31-0c57-4d90-b99d-feac28d1fdb1",
   "metadata": {},
   "source": [
    "# Prepare the Data\n",
    "\n",
    "Read in the dataset from the attached file `apple_data.csv` using `pd.read_csv()`.  "
   ]
  },
  {
   "cell_type": "code",
   "execution_count": 6,
   "id": "93702ce6-e90a-4f53-aedf-848b5fb10352",
   "metadata": {},
   "outputs": [],
   "source": [
    "# CODE HERE"
   ]
  },
  {
   "cell_type": "code",
   "execution_count": 9,
   "id": "a789f289-247f-4c72-9cf4-96f0eed32783",
   "metadata": {},
   "outputs": [],
   "source": [
    "df = pd.read_csv(\"apple_data.csv\")"
   ]
  },
  {
   "cell_type": "code",
   "execution_count": 10,
   "id": "55164182-b737-4d4d-9788-9e2c0eccb780",
   "metadata": {},
   "outputs": [
    {
     "data": {
      "text/html": [
       "<div>\n",
       "<style scoped>\n",
       "    .dataframe tbody tr th:only-of-type {\n",
       "        vertical-align: middle;\n",
       "    }\n",
       "\n",
       "    .dataframe tbody tr th {\n",
       "        vertical-align: top;\n",
       "    }\n",
       "\n",
       "    .dataframe thead th {\n",
       "        text-align: right;\n",
       "    }\n",
       "</style>\n",
       "<table border=\"1\" class=\"dataframe\">\n",
       "  <thead>\n",
       "    <tr style=\"text-align: right;\">\n",
       "      <th></th>\n",
       "      <th>date</th>\n",
       "      <th>adj_close</th>\n",
       "    </tr>\n",
       "  </thead>\n",
       "  <tbody>\n",
       "    <tr>\n",
       "      <th>0</th>\n",
       "      <td>2020-01-02</td>\n",
       "      <td>298.829956</td>\n",
       "    </tr>\n",
       "    <tr>\n",
       "      <th>1</th>\n",
       "      <td>2020-01-03</td>\n",
       "      <td>295.924713</td>\n",
       "    </tr>\n",
       "    <tr>\n",
       "      <th>2</th>\n",
       "      <td>2020-01-06</td>\n",
       "      <td>298.282715</td>\n",
       "    </tr>\n",
       "    <tr>\n",
       "      <th>3</th>\n",
       "      <td>2020-01-07</td>\n",
       "      <td>296.879883</td>\n",
       "    </tr>\n",
       "    <tr>\n",
       "      <th>4</th>\n",
       "      <td>2020-01-08</td>\n",
       "      <td>301.655548</td>\n",
       "    </tr>\n",
       "    <tr>\n",
       "      <th>...</th>\n",
       "      <td>...</td>\n",
       "      <td>...</td>\n",
       "    </tr>\n",
       "    <tr>\n",
       "      <th>130</th>\n",
       "      <td>2020-07-09</td>\n",
       "      <td>383.010010</td>\n",
       "    </tr>\n",
       "    <tr>\n",
       "      <th>131</th>\n",
       "      <td>2020-07-10</td>\n",
       "      <td>383.679993</td>\n",
       "    </tr>\n",
       "    <tr>\n",
       "      <th>132</th>\n",
       "      <td>2020-07-13</td>\n",
       "      <td>381.910004</td>\n",
       "    </tr>\n",
       "    <tr>\n",
       "      <th>133</th>\n",
       "      <td>2020-07-14</td>\n",
       "      <td>388.230011</td>\n",
       "    </tr>\n",
       "    <tr>\n",
       "      <th>134</th>\n",
       "      <td>2020-07-15</td>\n",
       "      <td>390.899994</td>\n",
       "    </tr>\n",
       "  </tbody>\n",
       "</table>\n",
       "<p>135 rows × 2 columns</p>\n",
       "</div>"
      ],
      "text/plain": [
       "           date   adj_close\n",
       "0    2020-01-02  298.829956\n",
       "1    2020-01-03  295.924713\n",
       "2    2020-01-06  298.282715\n",
       "3    2020-01-07  296.879883\n",
       "4    2020-01-08  301.655548\n",
       "..          ...         ...\n",
       "130  2020-07-09  383.010010\n",
       "131  2020-07-10  383.679993\n",
       "132  2020-07-13  381.910004\n",
       "133  2020-07-14  388.230011\n",
       "134  2020-07-15  390.899994\n",
       "\n",
       "[135 rows x 2 columns]"
      ]
     },
     "execution_count": 10,
     "metadata": {},
     "output_type": "execute_result"
    }
   ],
   "source": [
    "df"
   ]
  },
  {
   "cell_type": "markdown",
   "id": "dcd16641-2622-4617-83ad-4e1851de2916",
   "metadata": {
    "tags": []
   },
   "source": [
    "# Task 1 \n",
    "\n",
    "(5 PTS) \n",
    "\n",
    "Define a class with these features:\n",
    "\n",
    "**Class Name**: `Stock`\n",
    "\n",
    "**Attributes**:\n",
    "- `ticker`: a string to hold the stock symbol\n",
    "- `sector`: a string to hold the sector name\n",
    "- `prices`: a dataframe to hold the prices for the stock\n",
    "\n",
    "**Methods**:\n",
    "- `print_sector` to just print out the sector string.\n",
    "- `get_row_count` to count the number of rows in the price dataframe. Set an attribute \"price_records\" equal to this count.\n",
    "-`__init__` to build objects. Initialize with the three attribute values passed to the constructor."
   ]
  },
  {
   "cell_type": "code",
   "execution_count": null,
   "id": "8629f94c-8247-485a-b9f6-f532f3f555a5",
   "metadata": {},
   "outputs": [],
   "source": [
    "# CODE HERE"
   ]
  },
  {
   "cell_type": "code",
   "execution_count": 16,
   "id": "4b250ffc-e788-4e6f-8784-8413a8145791",
   "metadata": {
    "tags": []
   },
   "outputs": [],
   "source": [
    "class Stock():\n",
    "        \n",
    "    def __init__(self, ticker, sector, prices):\n",
    "        self.ticker = ticker\n",
    "        self.sector = sector\n",
    "        self.prices = prices\n",
    "    \n",
    "    def print_sector(self):\n",
    "        print(self.sector)\n",
    "    \n",
    "    def get_row_count(self):\n",
    "        self.price_records = len(self.prices)\n",
    "        "
   ]
  },
  {
   "cell_type": "markdown",
   "id": "36e8edcc-1aa8-48e3-9f8c-4944a054e0e8",
   "metadata": {},
   "source": [
    "# Task 2\n",
    "\n",
    "(1 PT) \n",
    "\n",
    "Create an instance of your class with the these initial values: \n",
    "- `ticker`: 'AAPL'\n",
    "- `sector`: 'technology'\n",
    "- `prices`: _the imported price dataframe_\n",
    "          \n",
    "Then Use the dot operator to print the stock's ticker.   "
   ]
  },
  {
   "cell_type": "code",
   "execution_count": 17,
   "id": "0c641f40-4723-4623-8a8d-62998fb33f54",
   "metadata": {},
   "outputs": [],
   "source": [
    "# CODE HERE"
   ]
  },
  {
   "cell_type": "code",
   "execution_count": 18,
   "id": "5d59311b-b8e1-427f-9555-971f159cbc71",
   "metadata": {},
   "outputs": [],
   "source": [
    "my_stock = Stock('AAPL', 'technology', df)"
   ]
  },
  {
   "cell_type": "markdown",
   "id": "80f97759-70ee-421c-8346-ebd774b19cc6",
   "metadata": {},
   "source": [
    "# Task 3 \n",
    "\n",
    "(1 PT) \n",
    "\n",
    "Use the `print_sector()` method to print the sector."
   ]
  },
  {
   "cell_type": "code",
   "execution_count": null,
   "id": "68aa3dc1-1aa1-458c-ac9c-a0c9416f6f7a",
   "metadata": {},
   "outputs": [],
   "source": [
    "# CODE HERE"
   ]
  },
  {
   "cell_type": "code",
   "execution_count": 19,
   "id": "3755fb9b-756a-4e68-9567-4210723551e2",
   "metadata": {},
   "outputs": [
    {
     "name": "stdout",
     "output_type": "stream",
     "text": [
      "technology\n"
     ]
    }
   ],
   "source": [
    "my_stock.print_sector()"
   ]
  },
  {
   "cell_type": "markdown",
   "id": "52fc8054-8867-4693-915a-f41026abd9b1",
   "metadata": {},
   "source": [
    "# Task 4 \n",
    "\n",
    "(2 PTS) \n",
    "\n",
    "Use the `get_row_count()` method to compute the number of price records and set price_records.\n",
    "\n",
    "Use the dot operator to access the stock's price_records, printing the result."
   ]
  },
  {
   "cell_type": "code",
   "execution_count": null,
   "id": "347b7ae5-b2cc-42f1-899e-661414745eaf",
   "metadata": {},
   "outputs": [],
   "source": [
    "# CODE HERE"
   ]
  },
  {
   "cell_type": "code",
   "execution_count": 20,
   "id": "5b37f188-bd8b-4b68-812c-5a3b212d4499",
   "metadata": {},
   "outputs": [],
   "source": [
    "my_stock.get_row_count()"
   ]
  },
  {
   "cell_type": "code",
   "execution_count": 21,
   "id": "dcd49e12-15a2-439c-9df4-c843806c72ac",
   "metadata": {},
   "outputs": [
    {
     "data": {
      "text/plain": [
       "135"
      ]
     },
     "execution_count": 21,
     "metadata": {},
     "output_type": "execute_result"
    }
   ],
   "source": [
    "my_stock.price_records"
   ]
  },
  {
   "cell_type": "markdown",
   "id": "9e477fd4-c44f-49d5-b42d-dbaf1ee37521",
   "metadata": {},
   "source": [
    "# Task 5\n",
    "\n",
    "(1 PT) \n",
    "\n",
    "Add a new column called `'month'` to the `prices` attribute and put the month number there. \n",
    "\n",
    "Hint: You can use `.apply()` with a lambda function to split the month string and keep the second element."
   ]
  },
  {
   "cell_type": "code",
   "execution_count": null,
   "id": "3fbb6d08-4382-49c3-a9e2-8879c865530b",
   "metadata": {},
   "outputs": [],
   "source": [
    "# CODE HERE"
   ]
  },
  {
   "cell_type": "code",
   "execution_count": 41,
   "id": "60ea9236-0355-4f46-b5b8-97c25cb6fbdc",
   "metadata": {},
   "outputs": [],
   "source": [
    "my_stock.prices['month'] = my_stock.prices['date'].apply(lambda x: x.split('-')[1])"
   ]
  },
  {
   "cell_type": "code",
   "execution_count": 42,
   "id": "fb3f5adc-e605-430b-b62f-e221174b1639",
   "metadata": {},
   "outputs": [],
   "source": [
    "# Another method"
   ]
  },
  {
   "cell_type": "code",
   "execution_count": 43,
   "id": "f9f83eb4-414e-4b26-9964-438c8c3e8783",
   "metadata": {},
   "outputs": [],
   "source": [
    "# my_stock.prices['month'] = my_stock.prices['date'].str.split('-').str[1]"
   ]
  },
  {
   "cell_type": "markdown",
   "id": "673d38d1-b804-4bc4-98c5-a7e167371701",
   "metadata": {},
   "source": [
    "# Task 6\n",
    "\n",
    "(1 PT)\n",
    "\n",
    "Use `.groupby()` to compute the mean `adj_close` by month. Save your result is a dataframe, not a series."
   ]
  },
  {
   "cell_type": "code",
   "execution_count": 38,
   "id": "bb94ad3c-3e59-4fe3-8a6d-e46ae4969142",
   "metadata": {},
   "outputs": [],
   "source": [
    "# CODE HERE"
   ]
  },
  {
   "cell_type": "code",
   "execution_count": 44,
   "id": "fb2dfa3d-1985-4eb2-99d6-e1c39c9f6549",
   "metadata": {},
   "outputs": [],
   "source": [
    "acm_month = my_stock.prices.groupby('month').adj_close.mean().to_frame()"
   ]
  },
  {
   "cell_type": "code",
   "execution_count": 45,
   "id": "0a241eb8-cbba-4d84-83ca-b21a7a6231c3",
   "metadata": {},
   "outputs": [
    {
     "data": {
      "text/html": [
       "<div>\n",
       "<style scoped>\n",
       "    .dataframe tbody tr th:only-of-type {\n",
       "        vertical-align: middle;\n",
       "    }\n",
       "\n",
       "    .dataframe tbody tr th {\n",
       "        vertical-align: top;\n",
       "    }\n",
       "\n",
       "    .dataframe thead th {\n",
       "        text-align: right;\n",
       "    }\n",
       "</style>\n",
       "<table border=\"1\" class=\"dataframe\">\n",
       "  <thead>\n",
       "    <tr style=\"text-align: right;\">\n",
       "      <th></th>\n",
       "      <th>adj_close</th>\n",
       "    </tr>\n",
       "    <tr>\n",
       "      <th>month</th>\n",
       "      <th></th>\n",
       "    </tr>\n",
       "  </thead>\n",
       "  <tbody>\n",
       "    <tr>\n",
       "      <th>01</th>\n",
       "      <td>310.337596</td>\n",
       "    </tr>\n",
       "    <tr>\n",
       "      <th>02</th>\n",
       "      <td>310.271843</td>\n",
       "    </tr>\n",
       "    <tr>\n",
       "      <th>03</th>\n",
       "      <td>261.735581</td>\n",
       "    </tr>\n",
       "    <tr>\n",
       "      <th>04</th>\n",
       "      <td>271.650839</td>\n",
       "    </tr>\n",
       "    <tr>\n",
       "      <th>05</th>\n",
       "      <td>309.785164</td>\n",
       "    </tr>\n",
       "    <tr>\n",
       "      <th>06</th>\n",
       "      <td>345.806360</td>\n",
       "    </tr>\n",
       "    <tr>\n",
       "      <th>07</th>\n",
       "      <td>378.385999</td>\n",
       "    </tr>\n",
       "  </tbody>\n",
       "</table>\n",
       "</div>"
      ],
      "text/plain": [
       "        adj_close\n",
       "month            \n",
       "01     310.337596\n",
       "02     310.271843\n",
       "03     261.735581\n",
       "04     271.650839\n",
       "05     309.785164\n",
       "06     345.806360\n",
       "07     378.385999"
      ]
     },
     "execution_count": 45,
     "metadata": {},
     "output_type": "execute_result"
    }
   ],
   "source": [
    "acm_month"
   ]
  },
  {
   "cell_type": "code",
   "execution_count": 40,
   "id": "b5b4e8f9-77bd-4d3c-8bd8-e6f3270ce28a",
   "metadata": {},
   "outputs": [],
   "source": [
    "# Another method\n",
    "# my_stock.prices.groupby('month').agg({'adj_close':'mean'})"
   ]
  },
  {
   "cell_type": "markdown",
   "id": "6c63b7c5-dfd5-4bba-932c-0541c8d0e002",
   "metadata": {},
   "source": [
    "# Task 7\n",
    "\n",
    "(1 PT)\n",
    "\n",
    "Plot the mean `adj_close` by month using a simple line plot."
   ]
  },
  {
   "cell_type": "code",
   "execution_count": null,
   "id": "5529c213-82a8-49d2-a219-dbdd137a7ef5",
   "metadata": {},
   "outputs": [],
   "source": [
    "# CODE HERE"
   ]
  },
  {
   "cell_type": "code",
   "execution_count": 47,
   "id": "184567fb-fe0a-46e8-80b4-2f9a61824124",
   "metadata": {},
   "outputs": [
    {
     "data": {
      "image/png": "[encoded data removed]",
      "text/plain": [
       "<Figure size 432x288 with 1 Axes>"
      ]
     },
     "metadata": {
      "needs_background": "light"
     },
     "output_type": "display_data"
    }
   ],
   "source": [
    "acm_month.plot();"
   ]
  },
  {
   "cell_type": "code",
   "execution_count": null,
   "id": "e3254e5b-fc7f-4e46-a339-9499c8cc5895",
   "metadata": {},
   "outputs": [],
   "source": []
  }
 ],
 "metadata": {
  "kernelspec": {
   "display_name": "Python 3 (ipykernel)",
   "language": "python",
   "name": "python3"
  },
  "language_info": {
   "codemirror_mode": {
    "name": "ipython",
    "version": 3
   },
   "file_extension": ".py",
   "mimetype": "text/x-python",
   "name": "python",
   "nbconvert_exporter": "python",
   "pygments_lexer": "ipython3",
   "version": "3.8.16"
  },
  "vscode": {
   "interpreter": {
    "hash": "c3b963de08c47c3b6758389c5e0978ad73698a111eb508d4e16b558edb8f4cbf"
   }
  },
  "widgets": {
   "application/vnd.jupyter.widget-state+json": {
    "state": {},
    "version_major": 2,
    "version_minor": 0
   }
  }
 },
 "nbformat": 4,
 "nbformat_minor": 5
}
