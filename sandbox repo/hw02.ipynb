{
  "cells": [
    {
      "cell_type": "markdown",
      "metadata": {
        "id": "view-in-github",
        "colab_type": "text"
      },
      "source": [
        "<a href=\"https://colab.research.google.com/github/ohashin2G/DS5100-2023-01-O/blob/main/sandbox%20repo/hw02.ipynb\" target=\"_parent\"><img src=\"https://colab.research.google.com/assets/colab-badge.svg\" alt=\"Open In Colab\"/></a>"
      ]
    },
    {
      "cell_type": "markdown",
      "id": "d31b93a7-f221-4338-b044-734458a05492",
      "metadata": {
        "tags": [],
        "id": "d31b93a7-f221-4338-b044-734458a05492"
      },
      "source": [
        "# Metadata\n",
        "\n",
        "```{yaml}\n",
        "Course:   DS 5100\n",
        "Term:     Fall 2022 Online\n",
        "Module:   M02 Homework\n",
        "Author:   R.C. Alvarado\n",
        "Date:     25 August 2022\n",
        "```"
      ]
    },
    {
      "cell_type": "markdown",
      "id": "91c2bea0-57b5-4e2d-b7c3-bae818c949cc",
      "metadata": {
        "id": "91c2bea0-57b5-4e2d-b7c3-bae818c949cc"
      },
      "source": [
        "# Student Info\n",
        "\n",
        "* Name: Naomi Ohashi\n",
        "* Net ID: fju4ek\n",
        "* URL of this file in GitHub: https://github.com/ohashin2G/DS5100-2023-01-fju4ek/blob/main/lessons/M02/hw02.ipynb\n",
        "\n",
        "\n"
      ]
    },
    {
      "cell_type": "markdown",
      "id": "cf3260a5-5781-4529-ba47-8b22f3ab9944",
      "metadata": {
        "tags": [],
        "id": "cf3260a5-5781-4529-ba47-8b22f3ab9944"
      },
      "source": [
        "# Instructions\n",
        "\n",
        "In your **private course repo on Rivanna**, write a Jupyter notebook running Python that performs the numbered tasks below. For each task, create a code block to perform the task.\n",
        "\n",
        "Save your notebook in the `M02` directory as `hw02.ipynb`. \n",
        "\n",
        "Add and commit these files to your repo. \n",
        "\n",
        "Then push your commits to your repo on GitHib.\n",
        "\n",
        "Be sure to fill out the **Student Info** block above.\n",
        "\n",
        "To submit your homework, save the notebook as a PDF and upload it to GradeScope, following the instructions."
      ]
    },
    {
      "cell_type": "markdown",
      "id": "a784a66a-dedd-4ddb-997b-781d4a36129f",
      "metadata": {
        "tags": [],
        "id": "a784a66a-dedd-4ddb-997b-781d4a36129f"
      },
      "source": [
        "# Data\n",
        "\n",
        "```\n",
        "Table 1: GRADES\n",
        "\n",
        "name    grade\n",
        "Jon     95\n",
        "Mike    84\n",
        "Jaime   99\n",
        "\n",
        "\n",
        "Table 2: TOUCHDOWNS\n",
        "\n",
        "name    touchdowns\n",
        "**Alex**    2\n",
        "Patrick 4\n",
        "Tom     1\n",
        "Joe     3\n",
        "**Alex**    1\n",
        "```"
      ]
    },
    {
      "cell_type": "markdown",
      "id": "d78a0b85-7e51-478e-8668-44208f3bbe93",
      "metadata": {
        "tags": [],
        "id": "d78a0b85-7e51-478e-8668-44208f3bbe93"
      },
      "source": [
        "# Tasks"
      ]
    },
    {
      "cell_type": "markdown",
      "id": "31494f23-b4ba-441e-908b-2a05be5ab12f",
      "metadata": {
        "tags": [],
        "id": "31494f23-b4ba-441e-908b-2a05be5ab12f"
      },
      "source": [
        "## Task 1\n",
        "\n",
        "Using the data in Table 1, create a dictionary called `gradebook` where the keys contain the names and the values are the associated grades. Print the dictionary.  (1 PT) "
      ]
    },
    {
      "cell_type": "code",
      "execution_count": null,
      "id": "5a489efe-a6de-44da-8b56-92ad3742d5ad",
      "metadata": {
        "id": "5a489efe-a6de-44da-8b56-92ad3742d5ad",
        "colab": {
          "base_uri": "https://localhost:8080/"
        },
        "outputId": "9c4cd4e4-7daf-40fa-e516-d131425043f9"
      },
      "outputs": [
        {
          "output_type": "stream",
          "name": "stdout",
          "text": [
            "{'Jon': 95, 'Mike': 84, 'Jaime': 99}\n"
          ]
        }
      ],
      "source": [
        "gradebook = {\n",
        "    \"Jon\":95,\n",
        "    \"Mike\":84, \n",
        "    \"Jaime\":99\n",
        "}\n",
        "print(gradebook)"
      ]
    },
    {
      "cell_type": "markdown",
      "id": "c82daae4-d392-41c2-b5ad-666c1d49b4ec",
      "metadata": {
        "tags": [],
        "id": "c82daae4-d392-41c2-b5ad-666c1d49b4ec"
      },
      "source": [
        "## Task 2 \n",
        "\n",
        "Index into the gradebook to print Mike's grade. Do NOT use the `get()` method for this. (1 PT) "
      ]
    },
    {
      "cell_type": "code",
      "execution_count": null,
      "id": "085a45f2-1cec-40f9-9ecb-c4f1cdfbe44e",
      "metadata": {
        "id": "085a45f2-1cec-40f9-9ecb-c4f1cdfbe44e",
        "colab": {
          "base_uri": "https://localhost:8080/"
        },
        "outputId": "9310a282-893f-4add-c65e-ddbe6a9c586e"
      },
      "outputs": [
        {
          "output_type": "execute_result",
          "data": {
            "text/plain": [
              "84"
            ]
          },
          "metadata": {},
          "execution_count": 14
        }
      ],
      "source": [
        "gradebook['Mike']"
      ]
    },
    {
      "cell_type": "markdown",
      "id": "62c2f26c-a62f-4f9b-8438-fe04fff703ab",
      "metadata": {
        "tags": [],
        "id": "62c2f26c-a62f-4f9b-8438-fe04fff703ab"
      },
      "source": [
        "## Task 3\n",
        "\n",
        "Attempt to index into gradebook to print **Jeff's** grade. Show the result. Do NOT use the `get()` method for this. (1 PT) "
      ]
    },
    {
      "cell_type": "code",
      "execution_count": null,
      "id": "b762bb45-d99c-46d1-9087-42ae931e5336",
      "metadata": {
        "id": "b762bb45-d99c-46d1-9087-42ae931e5336",
        "colab": {
          "base_uri": "https://localhost:8080/"
        },
        "outputId": "e1a67f1f-1fea-468a-99d5-6cd90196481a"
      },
      "outputs": [
        {
          "output_type": "execute_result",
          "data": {
            "text/plain": [
              "99"
            ]
          },
          "metadata": {},
          "execution_count": 15
        }
      ],
      "source": [
        "gradebook['Jaime']"
      ]
    },
    {
      "cell_type": "markdown",
      "id": "c18a17ef-e807-417b-807b-fedc47d1d961",
      "metadata": {
        "tags": [],
        "id": "c18a17ef-e807-417b-807b-fedc47d1d961"
      },
      "source": [
        "## Task 4\n",
        "\n",
        "Using Table 2, build a list from the names called `names` and print it. (1 PT) "
      ]
    },
    {
      "cell_type": "code",
      "execution_count": null,
      "id": "bc13167e-ae26-4852-b0a9-b8943da95b6f",
      "metadata": {
        "id": "bc13167e-ae26-4852-b0a9-b8943da95b6f",
        "colab": {
          "base_uri": "https://localhost:8080/"
        },
        "outputId": "c352ccc6-76f0-4b8b-af7c-db2a4d82b338"
      },
      "outputs": [
        {
          "output_type": "stream",
          "name": "stdout",
          "text": [
            "['Alex', 'Patrick', 'Tom', 'Joe', 'Alex']\n"
          ]
        }
      ],
      "source": [
        "names = [\"Alex\", \"Patrick\", \"Tom\", \"Joe\", \"Alex\"]\n",
        "print(names)"
      ]
    },
    {
      "cell_type": "markdown",
      "id": "608bfe76-c55b-4136-a118-eeb23bf2a521",
      "metadata": {
        "tags": [],
        "id": "608bfe76-c55b-4136-a118-eeb23bf2a521"
      },
      "source": [
        "## Task 5\n",
        "\n",
        "Sort the list in ascending order and print it. (1 PT) "
      ]
    },
    {
      "cell_type": "code",
      "execution_count": null,
      "id": "5be543cb-1433-4982-8719-49bf59a6ad39",
      "metadata": {
        "id": "5be543cb-1433-4982-8719-49bf59a6ad39",
        "colab": {
          "base_uri": "https://localhost:8080/"
        },
        "outputId": "6d03f892-bf23-47ed-e01e-a96548e1fd75"
      },
      "outputs": [
        {
          "output_type": "stream",
          "name": "stdout",
          "text": [
            "['Alex', 'Alex', 'Joe', 'Patrick', 'Tom']\n"
          ]
        }
      ],
      "source": [
        "names.sort()\n",
        "print(names)"
      ]
    },
    {
      "cell_type": "markdown",
      "id": "98596172-7f6d-43e0-b5af-ff3fe82a2191",
      "metadata": {
        "tags": [],
        "id": "98596172-7f6d-43e0-b5af-ff3fe82a2191"
      },
      "source": [
        "## Task 6 \n",
        "\n",
        "Build a set from the names in Table 2 and print it. (1 PT) "
      ]
    },
    {
      "cell_type": "code",
      "execution_count": null,
      "id": "8af4b364-8338-4e21-ac47-41cd6e178f84",
      "metadata": {
        "id": "8af4b364-8338-4e21-ac47-41cd6e178f84",
        "colab": {
          "base_uri": "https://localhost:8080/"
        },
        "outputId": "9e514bfa-0a4b-4054-ccdd-a7b7e3dda089"
      },
      "outputs": [
        {
          "output_type": "stream",
          "name": "stdout",
          "text": [
            "{'Joe', 'Patrick', 'Alex', 'Tom'}\n"
          ]
        }
      ],
      "source": [
        "myset = {\"Alex\", \"Patrick\", \"Tom\", \"Joe\", \"Alex\"}\n",
        "print(myset)"
      ]
    },
    {
      "cell_type": "markdown",
      "id": "3f4a50e8-6aa0-4c1d-a1f4-e78fa9c7341f",
      "metadata": {
        "tags": [],
        "id": "3f4a50e8-6aa0-4c1d-a1f4-e78fa9c7341f"
      },
      "source": [
        "## Task 7\n",
        "\n",
        "Build a dictionary from the touchdowns data, calling it `td`, and print it. Use lists to store the values. Remember that dictionary keys must be unique. (1 PT) "
      ]
    },
    {
      "cell_type": "code",
      "execution_count": null,
      "id": "13025689-51ec-472c-a4aa-4a2bf1cefa3d",
      "metadata": {
        "id": "13025689-51ec-472c-a4aa-4a2bf1cefa3d",
        "colab": {
          "base_uri": "https://localhost:8080/"
        },
        "outputId": "6fa8e61a-cf46-4024-c98f-f422908a02b9"
      },
      "outputs": [
        {
          "output_type": "stream",
          "name": "stdout",
          "text": [
            "{'Alex': [2, 1], 'Patrick': 4, 'Tom': 1, 'Joe': 3}\n"
          ]
        },
        {
          "output_type": "execute_result",
          "data": {
            "text/plain": [
              "['Alex', 'Patrick', 'Tom', 'Joe']"
            ]
          },
          "metadata": {},
          "execution_count": 23
        }
      ],
      "source": [
        "td = {\n",
        "    \"Alex\":[2,1],\n",
        "    \"Patrick\":4, \n",
        "    \"Tom\":1,\n",
        "    \"Joe\":3,\n",
        "   }\n",
        "print(td)\n",
        "list(td)"
      ]
    },
    {
      "cell_type": "markdown",
      "id": "baca83a6-b99e-4bab-9d8b-9f337faed873",
      "metadata": {
        "tags": [],
        "id": "baca83a6-b99e-4bab-9d8b-9f337faed873"
      },
      "source": [
        "## Task 8\n",
        "\n",
        "Computer the sum of Alex's touchdowns using the appropriate built-in function."
      ]
    },
    {
      "cell_type": "code",
      "execution_count": null,
      "id": "3f5399fb-bf65-4c0b-b213-39028fa97aab",
      "metadata": {
        "id": "3f5399fb-bf65-4c0b-b213-39028fa97aab",
        "colab": {
          "base_uri": "https://localhost:8080/"
        },
        "outputId": "a937d0bf-5dd6-4058-e437-f3c6cf4481eb"
      },
      "outputs": [
        {
          "output_type": "execute_result",
          "data": {
            "text/plain": [
              "3"
            ]
          },
          "metadata": {},
          "execution_count": 37
        }
      ],
      "source": [
        "Alex = [2, 1]\n",
        "sum(Alex)"
      ]
    },
    {
      "cell_type": "markdown",
      "id": "e7464915-39e1-41f2-ae6b-619465279dfb",
      "metadata": {
        "tags": [],
        "id": "e7464915-39e1-41f2-ae6b-619465279dfb"
      },
      "source": [
        "## Task 9\n",
        "\n",
        "Get the keys from `td` and save them as a sorted list `list1`. Then get a set from `names` and save them as a sorted list called `list2`. Compare them with a boolean operator to see if they are equal. (2 PTS)"
      ]
    },
    {
      "cell_type": "code",
      "execution_count": null,
      "id": "498341c5-2288-4c06-a6d7-5a690ef3444e",
      "metadata": {
        "id": "498341c5-2288-4c06-a6d7-5a690ef3444e",
        "colab": {
          "base_uri": "https://localhost:8080/"
        },
        "outputId": "3c0297e7-5505-46ef-babe-40ae1ae34d05"
      },
      "outputs": [
        {
          "output_type": "stream",
          "name": "stdout",
          "text": [
            "['Alex', 'Joe', 'Patrick', 'Tom']\n",
            "['Alex', 'Alex', 'Joe', 'Patrick', 'Tom']\n"
          ]
        },
        {
          "output_type": "execute_result",
          "data": {
            "text/plain": [
              "False"
            ]
          },
          "metadata": {},
          "execution_count": 45
        }
      ],
      "source": [
        "list1 = list(td.keys())\n",
        "list1.sort()\n",
        "print(list1)\n",
        "list2 = names\n",
        "list2.sort()\n",
        "print(list2)\n",
        "list1 == list2"
      ]
    },
    {
      "cell_type": "code",
      "source": [],
      "metadata": {
        "id": "3TmTPOWKwXKx"
      },
      "id": "3TmTPOWKwXKx",
      "execution_count": null,
      "outputs": []
    }
  ],
  "metadata": {
    "kernelspec": {
      "display_name": "Python 3 (ipykernel)",
      "language": "python",
      "name": "python3"
    },
    "language_info": {
      "codemirror_mode": {
        "name": "ipython",
        "version": 3
      },
      "file_extension": ".py",
      "mimetype": "text/x-python",
      "name": "python",
      "nbconvert_exporter": "python",
      "pygments_lexer": "ipython3",
      "version": "3.8.3"
    },
    "colab": {
      "provenance": [],
      "include_colab_link": true
    }
  },
  "nbformat": 4,
  "nbformat_minor": 5
}