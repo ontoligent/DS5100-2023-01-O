{
 "cells": [
  {
   "cell_type": "markdown",
   "id": "41c3b3bc-84bb-4f1d-8a93-4a4778411f38",
   "metadata": {},
   "source": [
    "# Metadata\n",
    "\n",
    "```yaml\n",
    "Course:  DS 5100\n",
    "Module:  08 Python Testing\n",
    "Topic:   Unit Testing\n",
    "Author:  R.C. Alvarado\n",
    "Date:    30 June 2022\n",
    "```"
   ]
  },
  {
   "cell_type": "markdown",
   "id": "493ab4c3-8167-4748-a376-9c5ca5d7b5da",
   "metadata": {
    "jp-MarkdownHeadingCollapsed": true,
    "tags": []
   },
   "source": [
    "# Unit Testing\n",
    "\n",
    "Unit testing is a testing technique in which **individual modules are tested** to determine if there are any issues by the developer himself. \n",
    "\n",
    "It is concerned with **functional correctness** of the stand-alone modules.\n",
    "\n",
    "The main aim is to **isolate each unit** of the system to identify, analyze and fix the defects.\n",
    "\n",
    "These units are typicallly functions and methods."
   ]
  },
  {
   "cell_type": "markdown",
   "id": "a7adcb73-f891-4862-a922-5dc759a79e60",
   "metadata": {
    "tags": []
   },
   "source": [
    "# Benefits of Unit Testing\n",
    "\n",
    "Developers can work in a **predictable** way on developing code.\n",
    "\n",
    "Developers can **write their own unit tests**.\n",
    "\n",
    "You can get **a rapid response** for testing small changes\n",
    "\n",
    "Also:\n",
    "\n",
    "Reduces **defects in the newly developed features** or reduces bugs when changing the existing functionality.\n",
    "\n",
    "Reduces **cost of testing**, since defects are captured in very early phase.\n",
    "\n",
    "**Improves design** and allows better refactoring of code.\n",
    "\n",
    "Testing in Python is a huge topic and can come with a lot of complexity, but it doesn’t need to be hard. You can get started creating simple tests for your application in a few easy steps and then build on it from there."
   ]
  },
  {
   "cell_type": "markdown",
   "id": "fc78d6ab-a494-4e45-8c3c-6c4fbea11f37",
   "metadata": {
    "tags": []
   },
   "source": [
    "# The `unittest` Framework\n",
    "\n",
    "One of the popular unit testing frameworks is Unittest. It is works well and is easy to use.\n",
    "\n",
    "There are other tools, though -- here's [a comparison of 6 Python testing frameworks](https://www.softwaretestinghelp.com/python-testing-frameworks/)."
   ]
  },
  {
   "cell_type": "markdown",
   "id": "e94efacf-60f2-4d66-bdf9-f948669ee93d",
   "metadata": {
    "tags": []
   },
   "source": [
    "# The Basic Idea\n",
    "\n",
    "The Unittest framework provides you with **a bunch of `assert` methods**, which are essentially wrappers around Python's built-in `assert` function. \n",
    "\n",
    "The basic idea is to **write functions that test other functions** by using these assert methods **instead of peppering your code** with them.\n",
    "\n",
    "Unittest provides **many assert methods** -- see this [cheat sheet](https://kapeli.com/cheat_sheets/Python_unittest_Assertions.docset/Contents/Resources/Documents/index) for more.\n",
    "\n",
    "We will focus on three:\n",
    "* `assertTrue()`\n",
    "* `assertFalse()`\n",
    "* `assertEqual()`"
   ]
  },
  {
   "cell_type": "markdown",
   "id": "11704437-5034-4f45-abb4-9381fdaab181",
   "metadata": {},
   "source": [
    "# The Basic Pattern\n",
    "\n",
    "The Unittest framework works as follows:\n",
    "\n",
    "**Choose** on a method or class that you want to test.\n",
    "\n",
    "**Create a class** that is a subclass of `unittest.TestCase`.\n",
    "\n",
    "In that class **write methods** that are designed to test the behavior of methods in the code you want to test.\n",
    "\n",
    "  - These **test methods** focus on one behavior of one method (or function).\n",
    "  - There can be **many test methods** for each target method.\n",
    "  - Each test method name must be prefixed by **`test_`**.\n",
    "  - Tests are executing in alphabetical order, so name them in the order you want them executed.\n",
    "  - Each test makes use of an **assert method**. These methods typically compare **expected** with **actual** methods and return `False` if they don't match and `True` if they do.\n",
    "   - You always want tests to pass, so if you want to test if something breaks, you return `True` for a `False` condition.\n",
    "\n",
    "**Run** the script and see the results.\n",
    "\n",
    "**Update** the script as you create new methods or refactor existing ones."
   ]
  },
  {
   "cell_type": "markdown",
   "id": "9f82dd24-f854-4153-bd72-73fdae7889a9",
   "metadata": {
    "tags": []
   },
   "source": [
    "# Assert Methods"
   ]
  },
  {
   "cell_type": "markdown",
   "id": "de9efa29-d2e6-42ee-bfe7-0251e8617722",
   "metadata": {
    "tags": []
   },
   "source": [
    "## `.assertTrue()`\n",
    "\n",
    "### Negative Test Case \n",
    "\n",
    "Run `M08-02-script1.py`"
   ]
  },
  {
   "cell_type": "markdown",
   "id": "701faaed-ef46-4dd9-a77e-50f3ec80a875",
   "metadata": {},
   "source": [
    "```python\n",
    "class TestStringMethods(unittest.TestCase):\n",
    "\n",
    "    # test function\n",
    "    def test_negative(self):\n",
    "\n",
    "        testValue = False\n",
    "        \n",
    "        # error message in case if test case got failed\n",
    "        message = \"Test value is not true.\"\n",
    "        \n",
    "        # assertTrue() to check true of test value\n",
    "        self.assertTrue(testValue, message)\n",
    "\n",
    "if __name__ == '__main__':\n",
    "    unittest.main()\n",
    "```"
   ]
  },
  {
   "cell_type": "code",
   "execution_count": 1,
   "id": "2e2613d2-c167-4234-9b6d-71606fc7b78e",
   "metadata": {},
   "outputs": [
    {
     "name": "stdout",
     "output_type": "stream",
     "text": [
      "test_negative (__main__.TestStringMethods) ... FAIL\n",
      "\n",
      "======================================================================\n",
      "FAIL: test_negative (__main__.TestStringMethods)\n",
      "----------------------------------------------------------------------\n",
      "Traceback (most recent call last):\n",
      "  File \"M08-02-script1.py\", line 14, in test_negative\n",
      "    self.assertTrue(testValue, message)\n",
      "AssertionError: False is not true : Test value is not true.\n",
      "\n",
      "----------------------------------------------------------------------\n",
      "Ran 1 test in 0.000s\n",
      "\n",
      "FAILED (failures=1)\n"
     ]
    }
   ],
   "source": [
    "!python M08-02-script1.py"
   ]
  },
  {
   "cell_type": "markdown",
   "id": "7ef4cf66-1a3f-4324-9842-e83272816c54",
   "metadata": {
    "tags": []
   },
   "source": [
    "### Positive Test Case"
   ]
  },
  {
   "cell_type": "markdown",
   "id": "af5fb965-5ff6-4bd2-b9cf-525d0693a03b",
   "metadata": {},
   "source": [
    "```python\n",
    "import unittest\n",
    "\n",
    "class TestStringMethods(unittest.TestCase):\n",
    "    \n",
    "    # test function\n",
    "    def test_positive(self):\n",
    "        \n",
    "        testValue = True\n",
    "        \n",
    "        # error message in case if test case got failed\n",
    "        message = \"Test value is not true.\"\n",
    "        \n",
    "        # assertTrue() to check true of test value\n",
    "        self.assertTrue( testValue, message)\n",
    "\n",
    "if __name__ == '__main__':\n",
    "\tunittest.main()\n",
    "```"
   ]
  },
  {
   "cell_type": "code",
   "execution_count": 2,
   "id": "ab14d17a-4939-4d9e-8325-19cab566ec5b",
   "metadata": {},
   "outputs": [
    {
     "name": "stdout",
     "output_type": "stream",
     "text": [
      "test_positive (__main__.TestStringMethods) ... ok\n",
      "\n",
      "----------------------------------------------------------------------\n",
      "Ran 1 test in 0.000s\n",
      "\n",
      "OK\n"
     ]
    }
   ],
   "source": [
    "!python M08-02-script2.py"
   ]
  },
  {
   "cell_type": "markdown",
   "id": "e7ef1b5c-3276-43d7-88ca-885932acfadf",
   "metadata": {
    "tags": []
   },
   "source": [
    "## `.assertFalse()`"
   ]
  },
  {
   "cell_type": "markdown",
   "id": "4aea312c-4bf9-44ae-9165-3f0c99ab1ae0",
   "metadata": {
    "tags": []
   },
   "source": [
    "### Negative Test Case\n",
    "\n",
    "```python\n",
    "import unittest\n",
    "\n",
    "class TestStringMethods(unittest.TestCase):\n",
    "\t# test function\n",
    "\tdef test_negative(self):\n",
    "\t\ttestValue = True\n",
    "\t\t# error message in case if test case got failed\n",
    "\t\tmessage = \"Test value is not false.\"\n",
    "\t\t# assetFalse() to check test value as false\n",
    "\t\tself.assertFalse( testValue, message)\n",
    "\n",
    "if __name__ == '__main__':\n",
    "\tunittest.main()\n",
    "```"
   ]
  },
  {
   "cell_type": "code",
   "execution_count": 3,
   "id": "2782516f-e751-4353-8fa8-e3d1040f0955",
   "metadata": {},
   "outputs": [
    {
     "name": "stdout",
     "output_type": "stream",
     "text": [
      "F\n",
      "======================================================================\n",
      "FAIL: test_negative (__main__.TestStringMethods)\n",
      "----------------------------------------------------------------------\n",
      "Traceback (most recent call last):\n",
      "  File \"M08-02-script3.py\", line 10, in test_negative\n",
      "    self.assertFalse( testValue, message)\n",
      "AssertionError: True is not false : Test value is not false.\n",
      "\n",
      "----------------------------------------------------------------------\n",
      "Ran 1 test in 0.000s\n",
      "\n",
      "FAILED (failures=1)\n"
     ]
    }
   ],
   "source": [
    "!python M08-02-script3.py"
   ]
  },
  {
   "cell_type": "markdown",
   "id": "885ec00b-65ba-4300-bd4d-45af85165d08",
   "metadata": {
    "tags": []
   },
   "source": [
    "### Positive Test Case\n",
    "\n",
    "```python\n",
    "# unit test case\n",
    "import unittest\n",
    "\n",
    "class TestStringMethods(unittest.TestCase):\n",
    "\t# test function\n",
    "\tdef test_positive(self):\n",
    "\t\ttestValue = False\n",
    "\t\t# error message in case if test case got failed\n",
    "\t\tmessage = \"Test value is not false.\"\n",
    "\t\t# assertFalse() to check test value as false\n",
    "\t\tself.assertFalse( testValue, message)\n",
    "\n",
    "if __name__ == '__main__':\n",
    "\tunittest.main()\n",
    "```"
   ]
  },
  {
   "cell_type": "code",
   "execution_count": 4,
   "id": "079137be-db93-4482-9562-33bfc6aab1fb",
   "metadata": {},
   "outputs": [
    {
     "name": "stdout",
     "output_type": "stream",
     "text": [
      ".\n",
      "----------------------------------------------------------------------\n",
      "Ran 1 test in 0.000s\n",
      "\n",
      "OK\n"
     ]
    }
   ],
   "source": [
    "!python M08-02-script4.py"
   ]
  },
  {
   "cell_type": "markdown",
   "id": "878840a7-56d3-46a1-b56b-0f6b9fd7fe75",
   "metadata": {
    "tags": []
   },
   "source": [
    "## `.assertEqual()`\n",
    "\n",
    "Here is a case where we expect two values to be equal."
   ]
  },
  {
   "cell_type": "markdown",
   "id": "54f9c36f-cdd5-4d27-b199-13cea129f0b6",
   "metadata": {
    "tags": []
   },
   "source": [
    "### Negative Test Case\n",
    "\n",
    "```python\n",
    "# unit test case\n",
    "import unittest\n",
    "\n",
    "class TestStringMethods(unittest.TestCase):\n",
    "\t# test function to test equality of two value\n",
    "\tdef test_negative(self):\n",
    "\t\tfirstValue = \"geeks\"\n",
    "\t\tsecondValue = \"gfg\"\n",
    "\t\t# error message in case if test case got failed\n",
    "\t\tmessage = \"First value and second value are not equal !\"\n",
    "\t\t# assertEqual() to check equality of first & second value\n",
    "\t\tself.assertEqual(firstValue, secondValue, message)\n",
    "\n",
    "if __name__ == '__main__':\n",
    "\tunittest.main()\n",
    "```"
   ]
  },
  {
   "cell_type": "code",
   "execution_count": 5,
   "id": "857315d0-c454-4435-8375-bec9e5f3a397",
   "metadata": {},
   "outputs": [
    {
     "name": "stdout",
     "output_type": "stream",
     "text": [
      "F\n",
      "======================================================================\n",
      "FAIL: test_negative (__main__.TestStringMethods)\n",
      "----------------------------------------------------------------------\n",
      "Traceback (most recent call last):\n",
      "  File \"M08-02-script5.py\", line 12, in test_negative\n",
      "    self.assertEqual(firstValue, secondValue, message)\n",
      "AssertionError: 'geeks' != 'gfg'\n",
      "- geeks\n",
      "+ gfg\n",
      " : First value and second value are not equal !\n",
      "\n",
      "----------------------------------------------------------------------\n",
      "Ran 1 test in 0.001s\n",
      "\n",
      "FAILED (failures=1)\n"
     ]
    }
   ],
   "source": [
    "!python M08-02-script5.py"
   ]
  },
  {
   "cell_type": "markdown",
   "id": "504faa89-cf85-40f4-b8ec-bcde9d7bcd03",
   "metadata": {},
   "source": [
    "### Positive Test Case\n",
    "\n",
    "```python\n",
    "# unit test case\n",
    "import unittest\n",
    "\n",
    "class TestStringMethods(unittest.TestCase):\n",
    "\t# test function to test equality of two value\n",
    "\tdef test_positive(self):\n",
    "\t\tfirstValue = \"geeks\"\n",
    "\t\tsecondValue = \"geeks\"\n",
    "\t\t# error message in case if test case got failed\n",
    "\t\tmessage = \"First value and second value are not equal !\"\n",
    "\t\t# assertEqual() to check equality of first & second value\n",
    "\t\tself.assertEqual(firstValue, secondValue, message)\n",
    "\n",
    "if __name__ == '__main__':\n",
    "\tunittest.main(verbosity=2)\n",
    "```"
   ]
  },
  {
   "cell_type": "code",
   "execution_count": 6,
   "id": "75f417bf-e49d-404c-bfaa-3e54316fa6a6",
   "metadata": {},
   "outputs": [
    {
     "name": "stdout",
     "output_type": "stream",
     "text": [
      "test_positive (__main__.TestStringMethods) ... ok\n",
      "\n",
      "----------------------------------------------------------------------\n",
      "Ran 1 test in 0.000s\n",
      "\n",
      "OK\n"
     ]
    }
   ],
   "source": [
    "!python M08-02-script6.py"
   ]
  },
  {
   "cell_type": "markdown",
   "id": "3e63f04e-ed1a-4a16-8fe9-7fc394315e86",
   "metadata": {},
   "source": [
    "# Example with User-defined Function"
   ]
  },
  {
   "cell_type": "markdown",
   "id": "dadbd14d-0e76-4369-ae69-d5e6f358ca3f",
   "metadata": {},
   "source": [
    "**Function to test**\n",
    "\n",
    "```python\n",
    "def add_fish_to_aquarium(fish_list):\n",
    "    if len(fish_list) > 10:\n",
    "        raise ValueError(\"A maximum of 10 fish can be added to the aquarium\")\n",
    "    return {\"tank_a\": fish_list}\n",
    "\n",
    "import unittest\n",
    "```"
   ]
  },
  {
   "cell_type": "markdown",
   "id": "3159adfd-f572-4a63-9801-e33e779b902c",
   "metadata": {},
   "source": [
    "**Class to test the function**\n",
    "\n",
    "```python\n",
    "class TestAddFishToAquarium(unittest.TestCase):\n",
    "    \n",
    "    def test_add_fish_to_aquarium_success(self):\n",
    "        actual = add_fish_to_aquarium(fish_list=[\"shark\", \"tuna\"])\n",
    "        expected = {\"tank_a\": [\"shark\", \"tuna\"]}\n",
    "        self.assertEqual(actual, expected)\n",
    "\n",
    "    def test_add_fish_to_aquarium_exception(self):\n",
    "        too_many_fish = [\"shark\"] * 25\n",
    "        with self.assertRaises(ValueError) as exception_context:\n",
    "            add_fish_to_aquarium(fish_list=too_many_fish)\n",
    "        self.assertEqual(\n",
    "            str(exception_context.exception),\n",
    "            \"A maximum of 10 fish can be added to the aquarium\"\n",
    "        )\n",
    "\n",
    "if __name__ == '__main__':\n",
    "    unittest.main(verbosity=2)\n",
    "```"
   ]
  },
  {
   "cell_type": "code",
   "execution_count": 7,
   "id": "15f44d07-19e9-4403-b652-6fafe1b81ba9",
   "metadata": {},
   "outputs": [
    {
     "name": "stdout",
     "output_type": "stream",
     "text": [
      "test_add_fish_to_aquarium_exception (__main__.TestAddFishToAquarium) ... ok\n",
      "test_add_fish_to_aquarium_success (__main__.TestAddFishToAquarium) ... ok\n",
      "\n",
      "----------------------------------------------------------------------\n",
      "Ran 2 tests in 0.000s\n",
      "\n",
      "OK\n"
     ]
    }
   ],
   "source": [
    "!python M08-02-script7.py"
   ]
  },
  {
   "cell_type": "markdown",
   "id": "8111e077-e62c-4a70-8ef0-6d4b6c9fe5c3",
   "metadata": {
    "tags": []
   },
   "source": [
    "# Example with External Class\n",
    "\n",
    "We create a class called `Student` and save it in a local file called `student.py`."
   ]
  },
  {
   "cell_type": "markdown",
   "id": "f50d5e07-581f-4ea5-a192-d3064f698e40",
   "metadata": {},
   "source": [
    "```python\n",
    "class Student:\n",
    "    \n",
    "    # constructor\n",
    "    def __init__(self, name, courses=None):\n",
    "        self.name = name # string type\n",
    "        self.courses = [] if courses is None else courses # list of strings\n",
    "        self.num_courses = len(self.courses)\n",
    "        \n",
    "    # enroll in a course\n",
    "    def enroll_in_course(self, course_name): \n",
    "        self.courses.append(course_name)\n",
    "        self.num_courses += 1 # increment the number of courses\n",
    "```"
   ]
  },
  {
   "cell_type": "markdown",
   "id": "fb8597bd-e4f7-4267-a42d-ea850a070f6a",
   "metadata": {},
   "source": [
    "Then we create a companion test file for our class, saving it in a file called `student_test.py`."
   ]
  },
  {
   "cell_type": "markdown",
   "id": "e6404aa0-0537-44ba-bdef-96b4ca8c990f",
   "metadata": {},
   "source": [
    "```python\n",
    "from student import Student\n",
    "import unittest\n",
    "\n",
    "class EnrollInTestCase(unittest.TestCase): \n",
    "    \n",
    "    def test_is_incremented_correctly(self):\n",
    "        # test if enrollInCourse() method successfully increments the\n",
    "        # num_courses attribute of the Student object \n",
    "\n",
    "        # Create student instance, adding some courses\n",
    "        student1 = Student('Katherine', ['DS 5100'])\n",
    "        student1.enroll_in_course(\"CS 5050\")\n",
    "        student1.enroll_in_course(\"CS 5777\")\n",
    "        print(student1.courses)\n",
    "        print(student1.num_courses)\n",
    "        \n",
    "        # Test\n",
    "        expected = 3\n",
    "        # unittest.TestCase brings in the assertEqual() method\n",
    "        self.assertEqual(student1.num_courses, expected)\n",
    "        \n",
    "if __name__ == '__main__':\n",
    "    unittest.main(verbosity=2)\n",
    "```"
   ]
  },
  {
   "cell_type": "code",
   "execution_count": 13,
   "id": "2a642ed1-a1c3-490b-9227-a9ff0ec29a80",
   "metadata": {},
   "outputs": [
    {
     "name": "stdout",
     "output_type": "stream",
     "text": [
      "test_incremented_correctly (__main__.EnrollInCourseTest)\n",
      "Test if enroll_in_course() method successfully increments the ... ['DS 5100', 'CS 5050', 'CS 5777']\n",
      "3\n",
      "ok\n",
      "\n",
      "----------------------------------------------------------------------\n",
      "Ran 1 test in 0.000s\n",
      "\n",
      "OK\n"
     ]
    }
   ],
   "source": [
    "!python student_test.py"
   ]
  },
  {
   "cell_type": "markdown",
   "id": "37e2bc45-1b69-4dd0-9718-44975e64e819",
   "metadata": {},
   "source": [
    "The messages that `unittest` prints are error messages on Unix, so if we want to direct them to a file, we need to use `2>`. \n",
    "\n",
    "Notice how this command only shows the print messages contained in the program."
   ]
  },
  {
   "cell_type": "code",
   "execution_count": 14,
   "id": "6a565f93-fd62-41de-a3a7-299a6f89331c",
   "metadata": {},
   "outputs": [
    {
     "name": "stdout",
     "output_type": "stream",
     "text": [
      "['DS 5100', 'CS 5050', 'CS 5777']\n",
      "3\n"
     ]
    }
   ],
   "source": [
    "!python student_test.py 2> student_results.txt"
   ]
  },
  {
   "cell_type": "markdown",
   "id": "fce4d871-549f-4b29-bddb-b06cdc5ef5bb",
   "metadata": {},
   "source": [
    "This one, on the other hand, captures the print methods and only shows the errors."
   ]
  },
  {
   "cell_type": "code",
   "execution_count": 15,
   "id": "f2d2fb37-7e38-4ec1-b86e-c691d97ab02e",
   "metadata": {},
   "outputs": [
    {
     "name": "stdout",
     "output_type": "stream",
     "text": [
      "test_incremented_correctly (__main__.EnrollInCourseTest)\n",
      "Test if enroll_in_course() method successfully increments the ... ok\n",
      "\n",
      "----------------------------------------------------------------------\n",
      "Ran 1 test in 0.000s\n",
      "\n",
      "OK\n"
     ]
    }
   ],
   "source": [
    "!python student_test.py > student_results1.txt"
   ]
  },
  {
   "cell_type": "markdown",
   "id": "96a1ec1e-e59f-4661-875c-820a2b1be48c",
   "metadata": {
    "tags": []
   },
   "source": [
    "# Further Reading\n",
    "\n",
    "* [**unittest** — Unit testing framework (Official Docs)](https://python.readthedocs.io/en/stable/library/unittest.html?highlight=re#module-unittest)\n",
    "* [How To Use unittest to Write a Test Case for a Function in Python (Digital Ocean)](https://www.digitalocean.com/community/tutorials/how-to-use-unittest-to-write-a-test-case-for-a-function-in-python)\n",
    "* [A Cheat-sheet of Unittest Assert Methods](https://kapeli.com/cheat_sheets/Python_unittest_Assertions.docset/Contents/Resources/Documents/index)"
   ]
  },
  {
   "cell_type": "code",
   "execution_count": null,
   "id": "0167ed76-6325-4ce3-90ee-7db91394a7fb",
   "metadata": {},
   "outputs": [],
   "source": []
  }
 ],
 "metadata": {
  "kernelspec": {
   "display_name": "Python 3 (ipykernel)",
   "language": "python",
   "name": "python3"
  },
  "language_info": {
   "codemirror_mode": {
    "name": "ipython",
    "version": 3
   },
   "file_extension": ".py",
   "mimetype": "text/x-python",
   "name": "python",
   "nbconvert_exporter": "python",
   "pygments_lexer": "ipython3",
   "version": "3.8.3"
  },
  "vscode": {
   "interpreter": {
    "hash": "c3b963de08c47c3b6758389c5e0978ad73698a111eb508d4e16b558edb8f4cbf"
   }
  },
  "widgets": {
   "application/vnd.jupyter.widget-state+json": {
    "state": {},
    "version_major": 2,
    "version_minor": 0
   }
  }
 },
 "nbformat": 4,
 "nbformat_minor": 5
}
