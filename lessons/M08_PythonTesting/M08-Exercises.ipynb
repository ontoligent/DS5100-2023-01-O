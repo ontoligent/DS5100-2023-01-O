{
 "cells": [
  {
   "cell_type": "markdown",
   "id": "3a5a8c36-d0ca-483e-9f75-6f5dabdabd77",
   "metadata": {
    "slideshow": {
     "slide_type": "slide"
    }
   },
   "source": [
    "# M08 Exercises\n",
    "\n",
    "DS 5100 | Spring 2023"
   ]
  },
  {
   "cell_type": "markdown",
   "id": "5703a871-e449-4727-bf2f-3a9f69afb794",
   "metadata": {
    "slideshow": {
     "slide_type": "slide"
    }
   },
   "source": [
    "# Exercise 8.1\n",
    "\n",
    "Write a `try/except` statement to handle an exception. \n",
    "\n",
    "Verify it works properly."
   ]
  },
  {
   "cell_type": "code",
   "execution_count": 49,
   "id": "139e003c-daa3-4d45-ab4d-500017f8532f",
   "metadata": {
    "slideshow": {
     "slide_type": "subslide"
    },
    "tags": []
   },
   "outputs": [
    {
     "name": "stdout",
     "output_type": "stream",
     "text": [
      "caught an exception! division by zero\n"
     ]
    }
   ],
   "source": [
    "x = 5\n",
    "y = 0\n",
    "\n",
    "# 5/0\n",
    "\n",
    "try: \n",
    "    z = x / y\n",
    "    print('z=', z)\n",
    "except ZeroDivisionError as e:\n",
    "    print('Caught an exception!', e)"
   ]
  },
  {
   "cell_type": "markdown",
   "id": "2bfc7c76-b70e-4048-889e-fb1e5cba1bae",
   "metadata": {
    "slideshow": {
     "slide_type": "slide"
    }
   },
   "source": [
    "# Exercise 8.2\n",
    "\n",
    "Write an expression and include an `assert` statement to test it.  \n",
    "\n",
    "Run tests where the assert evaluates to True, False, showing the results in each condition."
   ]
  },
  {
   "cell_type": "code",
   "execution_count": 31,
   "id": "b27019c2-10f2-418f-90eb-36965151fa79",
   "metadata": {
    "slideshow": {
     "slide_type": "subslide"
    },
    "tags": []
   },
   "outputs": [],
   "source": [
    "x = True\n",
    "\n",
    "assert x, \"x should be True!\""
   ]
  },
  {
   "cell_type": "code",
   "execution_count": 3,
   "id": "0dd19e24-575b-44bc-9e30-31cff7ec2d67",
   "metadata": {
    "scrolled": true,
    "slideshow": {
     "slide_type": "-"
    },
    "tags": []
   },
   "outputs": [
    {
     "ename": "AssertionError",
     "evalue": "x should be True!",
     "output_type": "error",
     "traceback": [
      "\u001b[0;31m---------------------------------------------------------------------------\u001b[0m",
      "\u001b[0;31mAssertionError\u001b[0m                            Traceback (most recent call last)",
      "Input \u001b[0;32mIn [3]\u001b[0m, in \u001b[0;36m<cell line: 3>\u001b[0;34m()\u001b[0m\n\u001b[1;32m      1\u001b[0m x \u001b[38;5;241m=\u001b[39m \u001b[38;5;28;01mFalse\u001b[39;00m\n\u001b[0;32m----> 3\u001b[0m \u001b[38;5;28;01massert\u001b[39;00m x, \u001b[38;5;124m\"\u001b[39m\u001b[38;5;124mx should be True!\u001b[39m\u001b[38;5;124m\"\u001b[39m\n",
      "\u001b[0;31mAssertionError\u001b[0m: x should be True!"
     ]
    }
   ],
   "source": [
    "x = False\n",
    "\n",
    "assert x, \"x should be True!\""
   ]
  },
  {
   "cell_type": "markdown",
   "id": "890eadb0",
   "metadata": {
    "slideshow": {
     "slide_type": "slide"
    }
   },
   "source": [
    "# Exercise 8.3\n",
    "\n",
    "Write a function `area()` that s accepts the argument radius and calculates the area of a circle. \n",
    "\n",
    "Then write three tests using assert statements for the following conditions:\n",
    "\n",
    "* Assert that area(1) returns a float;\n",
    "* Assert that area(0) returns a value of 0;\n",
    "* Assert that area(5) is approximately equal to 78.5 (hint: `math.isclose(..., abs_tol=0.1)`)\n",
    "\n",
    "You can use also the `math` module to get `pi`."
   ]
  },
  {
   "cell_type": "code",
   "execution_count": 32,
   "id": "7a622ede",
   "metadata": {
    "slideshow": {
     "slide_type": "subslide"
    }
   },
   "outputs": [],
   "source": [
    "import math \n",
    "\n",
    "def area(radius):\n",
    "    \"\"\"Calculate the area of a circle based on the given radius.\"\"\"\n",
    "    return math.pi * radius**2"
   ]
  },
  {
   "cell_type": "code",
   "execution_count": 33,
   "id": "2e7eec87",
   "metadata": {
    "slideshow": {
     "slide_type": "fragment"
    }
   },
   "outputs": [],
   "source": [
    "assert isinstance(area(1), float), 'Test 1 failed!'\n",
    "assert area(0) == 0, 'Test 2 failed!'\n",
    "assert math.isclose(area(5), 78.5, abs_tol = 0.1), 'Test 3 failed!'"
   ]
  },
  {
   "cell_type": "markdown",
   "id": "a6648465-6b3c-4c89-bb4f-f708724867d6",
   "metadata": {
    "slideshow": {
     "slide_type": "slide"
    },
    "tags": []
   },
   "source": [
    "# Exercise 8.4\n",
    "\n",
    "Copy the files of `student.py` and `student_test.py` to your private repo and add a new method to it called `unenroll_in_course`.\n",
    "\n",
    "The method should check if the student is actually enrolled in the course first.\n",
    "\n",
    "Then write two new unittest methods that do the following:\n",
    "- `test_1` tests the method actually removes the course.\n",
    "- `test_2` tests to see if does not increment courses if the student was not enrolled in the course to begin with.\n",
    "\n",
    "Note that we are using `num_courses` as a counter when we could have used `len(set(self.courses))` to get the number of courses. This is just for demonstration purposes.\n",
    "\n",
    "Run the test script and see your results."
   ]
  },
  {
   "cell_type": "markdown",
   "id": "93b1ff25-49de-454a-bc36-ff3ba2b475d7",
   "metadata": {
    "slideshow": {
     "slide_type": "subslide"
    }
   },
   "source": [
    "```python\n",
    "class Student:\n",
    "    \n",
    "    def __init__(self, name, courses=None):\n",
    "        self.name = name # string type\n",
    "        self.courses = [] if courses is None else courses # list of strings\n",
    "        self.num_courses = len(self.courses)\n",
    "        \n",
    "    def enroll_in_course(self, course_name):\n",
    "        \"Enrolls the student in a course.\"\n",
    "        self.courses.append(course_name)\n",
    "        self.num_courses += 1 # increment the number of courses\n",
    "    \n",
    "    def unenroll_in_course(self, course_name):\n",
    "        \"Unenrolls the student from a course.\"\n",
    "        if course_name in self.courses:\n",
    "            self.courses.remove(course_name)\n",
    "            self.num_courses -= 1 # decrememt the number of courses\n",
    "        else:\n",
    "            print(\"Student was not enrolled in that course\")\n",
    "```\n"
   ]
  },
  {
   "cell_type": "markdown",
   "id": "da434ac7-44b2-48d2-8a67-e9c7f9025786",
   "metadata": {
    "slideshow": {
     "slide_type": "subslide"
    }
   },
   "source": [
    "```python\n",
    "from student import Student\n",
    "import unittest\n",
    "\n",
    "class EnrollInTestCase(unittest.TestCase): \n",
    "    \n",
    "    def test_is_numCoursincremented_correctly(self):\n",
    "\n",
    "        # Create student instance, adding some courses\n",
    "        student1 = Student('Katherine', ['DS 5100'])\n",
    "        student1.enroll_in_course(\"CS 5050\")\n",
    "        student1.enroll_in_course(\"CS 5777\")\n",
    "        print(student1.courses)\n",
    "        print(student1.num_courses)\n",
    "        \n",
    "        # Test\n",
    "        expected = 3\n",
    "        # unittest.TestCase brings in the assertEqual() method\n",
    "        self.assertEqual(student1.num_courses, expected)\n",
    "        \n",
    "    def test_1(self):\n",
    "        student1 = Student('Katherine', ['DS 5100'])\n",
    "        course = \"CS 5050\"\n",
    "        student1.enroll_in_course(course)\n",
    "        student1.unenroll_in_course(course)\n",
    "        self.assertFalse(course in student1.courses)\n",
    "\n",
    "    def test_2(self):\n",
    "        student1 = Student('Katherine', ['DS 5100'])\n",
    "        expected = len(student1.courses)\n",
    "        course = \"CS 5050\"\n",
    "        student1.unenroll_in_course(course)\n",
    "        actual = len(student1.courses)\n",
    "        self.assertEqual(actual, expected)\n",
    "        \n",
    "        \n",
    "if __name__ == '__main__':\n",
    "    unittest.main(verbosity=2)\n",
    "```"
   ]
  },
  {
   "cell_type": "code",
   "execution_count": 44,
   "id": "c46760a0-1464-46d3-a86f-011ff94ca6c1",
   "metadata": {
    "slideshow": {
     "slide_type": "subslide"
    }
   },
   "outputs": [],
   "source": [
    "!python student.py"
   ]
  },
  {
   "cell_type": "code",
   "execution_count": 61,
   "id": "9cffb8e6-dc6a-4a7c-9f04-4c84b9590ee0",
   "metadata": {
    "slideshow": {
     "slide_type": "-"
    }
   },
   "outputs": [
    {
     "name": "stdout",
     "output_type": "stream",
     "text": [
      "test_1 (__main__.EnrollInTestCase) ... ok\r\n",
      "test_2 (__main__.EnrollInTestCase) ... Student was not enrolled in that course\r\n",
      "ok\r\n",
      "test_is_numCoursincremented_correctly (__main__.EnrollInTestCase) ... ['DS 5100', 'CS 5050', 'CS 5777']\r\n",
      "3\r\n",
      "ok\r\n",
      "\r\n",
      "----------------------------------------------------------------------\r\n",
      "Ran 3 tests in 0.000s\r\n",
      "\r\n",
      "OK\r\n"
     ]
    }
   ],
   "source": [
    "!python student_test.py "
   ]
  },
  {
   "cell_type": "code",
   "execution_count": 63,
   "id": "66a29b72",
   "metadata": {},
   "outputs": [
    {
     "name": "stdout",
     "output_type": "stream",
     "text": [
      "Student was not enrolled in that course\n",
      "['DS 5100', 'CS 5050', 'CS 5777']\n",
      "3\n"
     ]
    }
   ],
   "source": [
    "!python student_test.py 2> test-results.txt"
   ]
  },
  {
   "cell_type": "code",
   "execution_count": null,
   "id": "12712411",
   "metadata": {
    "scrolled": true
   },
   "outputs": [
    {
     "name": "stdout",
     "output_type": "stream",
     "text": [
      "\u001b[?1h\u001b=\r",
      "test_1 (__main__.EnrollInTestCase) ... ok\r\n",
      "test_2 (__main__.EnrollInTestCase) ... ok\r\n",
      "test_is_numCoursincremented_correctly (__main__.EnrollInTestCase) ... ok\r\n",
      "\r\n",
      "----------------------------------------------------------------------\r\n",
      "Ran 3 tests in 0.000s\r\n",
      "\r\n",
      "OK\r\n",
      "\u001b[7mtest-results.txt (END)\u001b[m\u001b[K"
     ]
    }
   ],
   "source": [
    "!more test-results.txt"
   ]
  },
  {
   "cell_type": "markdown",
   "id": "5213e06a",
   "metadata": {
    "slideshow": {
     "slide_type": "slide"
    }
   },
   "source": [
    "# Exercise 8.5\n",
    "\n",
    "Create a class called `Car` and a class that inherits from this class called `Subaru`.\n",
    "\n",
    "For the `Car` class, add the following attributes and methods:\n",
    "- `body_type` which takes the values `suv`, `crossover`, `sedan`, `hatchback`, `sport`\n",
    "- `engine_type`: which takes the values `electric`, `gas`, `diesel`, `hybrid`\n",
    "- `__init__()`: which takes values for the two attributes\n",
    "- `describe_car()`: which returns a string with the body and engine types as `f\"{engine_type} {body_type}\"`\n",
    "\n",
    "The object should raise a `ValueError` **exception** if either of the values passed to the attributes are not in the specified lists of values.\n",
    "\n",
    "For the `Subaru` class, add the folliwing:\n",
    "- `year`: the four-number year of manufacture, e.g. $2023$\n",
    "- `model`: the specific model of the car, e.g. \"outback\" \n",
    "- `trim`: the special trim of the car, e.g. \"sport\"\n",
    "- `__init__()`: which takes values for the previous attributes and the `Car` attributes.\n",
    "- `describe()`: which returns a string with the year, model, and trim, and with the `Car` description in parentheses.\n",
    "\n",
    "Then create a new `Subaru` object and initialize it with the following values:\n",
    "- `body_type = 'crossover'`\n",
    "- `engine_type = 'gas'`\n",
    "- `year = '2022'`\n",
    "- `model = 'outback'`\n",
    "- `trim = 'sport'`\n",
    "\n",
    "Then call the describe method."
   ]
  },
  {
   "cell_type": "code",
   "execution_count": 28,
   "id": "a2f77632",
   "metadata": {
    "slideshow": {
     "slide_type": "subslide"
    }
   },
   "outputs": [],
   "source": [
    "class Car:\n",
    "    \n",
    "    body_types = [\"suv\", \"crossover\", \"sedan\", \"hatchback\", \"sport\"]\n",
    "    engine_types = [\"electric\", \"gas\", \"diesel\", \"hybrid\"]\n",
    "    \n",
    "    def __init__(self, body_type, engine_type):\n",
    "        if body_type not in self.body_types:\n",
    "            raise ValueError(\"Invalid body type.\")\n",
    "        if engine_type not in self.engine_types:\n",
    "            raise ValueError(\"Invalid engine type.\")\n",
    "        self.body_type = body_type\n",
    "        self.engine_type = engine_type\n",
    "        \n",
    "    def describe_car(self):\n",
    "        return f\"{self.engine_type} {self.body_type}\"\n",
    "        \n",
    "class Subaru(Car):\n",
    "    \n",
    "    def __init__(self, body_type, engine_type, year, model, trim=None):\n",
    "        self.year = year\n",
    "        self.model = model\n",
    "        self.trim = trim\n",
    "        Car.__init__(self, body_type, engine_type)\n",
    "        # super().__init__(body_type, engine_type) # Another option\n",
    "\n",
    "    def describe(self):\n",
    "        return f\"{self.year} {self.model} {self.trim} ({self.describe_car()})\"\n",
    "                     \n",
    "    "
   ]
  },
  {
   "cell_type": "code",
   "execution_count": 43,
   "id": "b767a3ee",
   "metadata": {
    "slideshow": {
     "slide_type": "subslide"
    }
   },
   "outputs": [],
   "source": [
    "my_args = dict(\n",
    "    body_type = 'crossover',\n",
    "    engine_type = 'gas',\n",
    "    year = '2022',\n",
    "    model = 'outback',\n",
    "    trim = 'sport'\n",
    ")\n",
    "my_car = Subaru(**my_args)"
   ]
  },
  {
   "cell_type": "code",
   "execution_count": 44,
   "id": "a46026bd",
   "metadata": {},
   "outputs": [
    {
     "data": {
      "text/plain": [
       "'2022 outback sport (gas crossover)'"
      ]
     },
     "execution_count": 44,
     "metadata": {},
     "output_type": "execute_result"
    }
   ],
   "source": [
    "my_car.describe()"
   ]
  },
  {
   "cell_type": "code",
   "execution_count": 45,
   "id": "88e2c3a2",
   "metadata": {},
   "outputs": [],
   "source": [
    "try:\n",
    "    my_car = Subaru(**my_args)\n",
    "except ValueError as e:\n",
    "    print(e)"
   ]
  },
  {
   "cell_type": "code",
   "execution_count": null,
   "id": "c0ea72b9",
   "metadata": {},
   "outputs": [],
   "source": []
  }
 ],
 "metadata": {
  "celltoolbar": "Slideshow",
  "kernelspec": {
   "display_name": "Python 3 (ipykernel)",
   "language": "python",
   "name": "python3"
  },
  "language_info": {
   "codemirror_mode": {
    "name": "ipython",
    "version": 3
   },
   "file_extension": ".py",
   "mimetype": "text/x-python",
   "name": "python",
   "nbconvert_exporter": "python",
   "pygments_lexer": "ipython3",
   "version": "3.8.16"
  },
  "latex_envs": {
   "LaTeX_envs_menu_present": true,
   "autoclose": false,
   "autocomplete": true,
   "bibliofile": "biblio.bib",
   "cite_by": "apalike",
   "current_citInitial": 1,
   "eqLabelWithNumbers": true,
   "eqNumInitial": 1,
   "hotkeys": {
    "equation": "Ctrl-E",
    "itemize": "Ctrl-I"
   },
   "labels_anchors": false,
   "latex_user_defs": false,
   "report_style_numbering": false,
   "user_envs_cfg": false
  },
  "toc": {
   "base_numbering": 1,
   "nav_menu": {},
   "number_sections": false,
   "sideBar": true,
   "skip_h1_title": false,
   "title_cell": "Table of Contents",
   "title_sidebar": "Contents",
   "toc_cell": false,
   "toc_position": {
    "height": "calc(100% - 180px)",
    "left": "10px",
    "top": "150px",
    "width": "165px"
   },
   "toc_section_display": true,
   "toc_window_display": false
  },
  "varInspector": {
   "cols": {
    "lenName": 16,
    "lenType": 16,
    "lenVar": 40
   },
   "kernels_config": {
    "python": {
     "delete_cmd_postfix": "",
     "delete_cmd_prefix": "del ",
     "library": "var_list.py",
     "varRefreshCmd": "print(var_dic_list())"
    },
    "r": {
     "delete_cmd_postfix": ") ",
     "delete_cmd_prefix": "rm(",
     "library": "var_list.r",
     "varRefreshCmd": "cat(var_dic_list()) "
    }
   },
   "types_to_exclude": [
    "module",
    "function",
    "builtin_function_or_method",
    "instance",
    "_Feature"
   ],
   "window_display": false
  },
  "vscode": {
   "interpreter": {
    "hash": "c3b963de08c47c3b6758389c5e0978ad73698a111eb508d4e16b558edb8f4cbf"
   }
  },
  "widgets": {
   "application/vnd.jupyter.widget-state+json": {
    "state": {},
    "version_major": 2,
    "version_minor": 0
   }
  }
 },
 "nbformat": 4,
 "nbformat_minor": 5
}
