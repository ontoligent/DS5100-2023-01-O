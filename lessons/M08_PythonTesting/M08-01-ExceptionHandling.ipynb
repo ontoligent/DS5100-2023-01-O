{
 "cells": [
  {
   "cell_type": "markdown",
   "metadata": {
    "tags": []
   },
   "source": [
    "# Metadata\n",
    "\n",
    "```yaml\n",
    "Course:   DS 5100\n",
    "Module:   08 Python Testing\n",
    "Topic:    Exception Handling\n",
    "Author:   R.C. Alvarado (adapted)\n",
    "Date:     30 June 2022\n",
    "```"
   ]
  },
  {
   "cell_type": "markdown",
   "metadata": {},
   "source": [
    "# Topics\n",
    "\n",
    "- errors\n",
    "- exceptions\n",
    "- try/except\n",
    "- assert\n",
    "- AssertionError\n",
    "- raise"
   ]
  },
  {
   "cell_type": "markdown",
   "metadata": {},
   "source": [
    "# Overview\n",
    "\n",
    "> All happy families are alike, but every unhappy family is unhappy in its own way.\\\n",
    "-- Leo Tolstoy, _Anna Karenina_, 1878.\n",
    "\n",
    "There are two ways that programs can succeed of fail:\n",
    "\n",
    "They can meet or not meet the motiving **requirements** for the code.\n",
    "  - Does it do what is is supposed to do?\n",
    "  - Does it add value to a process?\n",
    "  - Is it ethical? Does it do harm?\n",
    "\n",
    "They can **work or not work**:\n",
    "  - Does the run at all?\n",
    "  - Is the code brittle or buggy? \n",
    "  - Is it sensitive to contextual factors like bad user input or a bad database connection?\n",
    "  - Does the code work but produce incorrect outcomes?\n",
    "  \n",
    "These lead to **two practices**:\n",
    "* Strategic: **Project management**\n",
    "* Tactical: **Testing and debugging**\n",
    "\n",
    "Today, we will focus on some concepts and tools for the latter.\n",
    "* We want to know whether our code is **working or not**.\n",
    "* We want to know if our code is of a **high quality**.\n",
    "  "
   ]
  },
  {
   "cell_type": "markdown",
   "metadata": {},
   "source": [
    "**Approaches to quality**\n",
    "* Through good **design**\n",
    "* Throigh principled **testing**\n",
    "\n",
    "**Some design principles**\n",
    "* Favor the **simple over the complex**\n",
    "  * Don't confuse the easy with the simple!\n",
    "* Invest in **data design** to simplify algorithm design\n",
    "* Write **literate code**\n",
    "* Given a choice, use tools that are **documented** and have a **user community**\n",
    "* Many other things :-)\n",
    "\n",
    "**Some testing activities**\n",
    "* Syntax checking\n",
    "* Debugging\n",
    "* Ad hoc testing\n",
    "* Unit-testing\n",
    "* User testing\n",
    "\n",
    "**Some concepts**\n",
    "* Beware of **silent failures**\n",
    "* Testing for **the absence of bugs** is impossible\n",
    "  - Like Popper's concept of falsifiability"
   ]
  },
  {
   "cell_type": "markdown",
   "metadata": {},
   "source": [
    "# Tools and Concepts for Testing\n",
    "\n",
    "Programming languages offer many tools for testing.\n",
    "\n",
    "These include mechanisms to define and capture errors in code.\n",
    "\n",
    "We call these errors **exceptions**.\n",
    "- An exception is an event that occurs during the execution of a program that disrupts the normal flow of the program's instructions. \n",
    "\n",
    "We call we call dealing with these errors **exception handling**.\n",
    "- When a Python script encounters a code failure, it raises an exception. \n"
   ]
  },
  {
   "cell_type": "markdown",
   "metadata": {},
   "source": [
    "# Python's Tools\n",
    "\n",
    "**Exceptions**\n",
    "- A Python **object** that represents an error\n",
    "- Objects that classify kinds of errors\n",
    "- Coders can define these \n",
    "\n",
    "**Exception Handlers**\n",
    "- Control structures and functions to deal with exceptions\n",
    "- `try`/`except`\n",
    "- `raise`\n",
    "- `assert`\n",
    "\n",
    "**Unit Testing Frameworks**\n",
    "- Robot\n",
    "- PyTest\n",
    "- **Unittest** \n",
    "- DocTest\n",
    "- Nose2\n",
    "- Testify"
   ]
  },
  {
   "cell_type": "markdown",
   "metadata": {},
   "source": [
    "# Errors and Exceptions\n",
    "\n",
    "A common technical interview question: Explain the difference between an **error** and an **exception**.\n",
    "\n",
    "An **error** is a serious problem that a reasonable application should not try to catch.  \n",
    "An error will stop execution. It means the code if broken and needs to be rewritten.\n",
    "\n",
    "An **exception** is an issue that is expected or known to occur (e.g., division by zero).  \n",
    "Software must handle exceptions. For example, one bad row of data shouldn't bring down the application."
   ]
  },
  {
   "cell_type": "markdown",
   "metadata": {},
   "source": [
    "# Some Common Built-in Exceptions\n",
    "\n",
    "Python comes with a number of predefined exceptions.\n",
    "\n",
    "Libraries introduce new ones, too.\n",
    "\n",
    "They used in `raise` statement by the authors of programs when a possible error is anticipated.\n",
    "\n",
    "Here are some common examples."
   ]
  },
  {
   "cell_type": "markdown",
   "metadata": {},
   "source": [
    "## `ZeroDivisionError`"
   ]
  },
  {
   "cell_type": "code",
   "execution_count": 3,
   "metadata": {},
   "outputs": [
    {
     "ename": "ZeroDivisionError",
     "evalue": "division by zero",
     "output_type": "error",
     "traceback": [
      "\u001b[0;31m---------------------------------------------------------------------------\u001b[0m",
      "\u001b[0;31mZeroDivisionError\u001b[0m                         Traceback (most recent call last)",
      "Input \u001b[0;32mIn [3]\u001b[0m, in \u001b[0;36m<cell line: 1>\u001b[0;34m()\u001b[0m\n\u001b[0;32m----> 1\u001b[0m \u001b[38;5;241;43m3\u001b[39;49m\u001b[43m \u001b[49m\u001b[38;5;241;43m/\u001b[39;49m\u001b[43m \u001b[49m\u001b[38;5;241;43m0\u001b[39;49m\n",
      "\u001b[0;31mZeroDivisionError\u001b[0m: division by zero"
     ]
    }
   ],
   "source": [
    "3 / 0"
   ]
  },
  {
   "cell_type": "markdown",
   "metadata": {},
   "source": [
    "## `Syntax Error`"
   ]
  },
  {
   "cell_type": "code",
   "execution_count": 2,
   "metadata": {},
   "outputs": [
    {
     "ename": "SyntaxError",
     "evalue": "invalid syntax (3084529153.py, line 3)",
     "output_type": "error",
     "traceback": [
      "\u001b[0;36m  Input \u001b[0;32mIn [2]\u001b[0;36m\u001b[0m\n\u001b[0;31m    if x > 0\u001b[0m\n\u001b[0m            ^\u001b[0m\n\u001b[0;31mSyntaxError\u001b[0m\u001b[0;31m:\u001b[0m invalid syntax\n"
     ]
    }
   ],
   "source": [
    "# if-statement missing colon at end\n",
    "\n",
    "if x > 0\n",
    "  print(\"uh oh\")"
   ]
  },
  {
   "cell_type": "markdown",
   "metadata": {},
   "source": [
    "## `NameError`"
   ]
  },
  {
   "cell_type": "code",
   "execution_count": 3,
   "metadata": {},
   "outputs": [
    {
     "ename": "NameError",
     "evalue": "name 'x' is not defined",
     "output_type": "error",
     "traceback": [
      "\u001b[0;31m---------------------------------------------------------------------------\u001b[0m",
      "\u001b[0;31mNameError\u001b[0m                                 Traceback (most recent call last)",
      "Input \u001b[0;32mIn [3]\u001b[0m, in \u001b[0;36m<cell line: 3>\u001b[0;34m()\u001b[0m\n\u001b[1;32m      1\u001b[0m \u001b[38;5;66;03m# references an undefined variable\u001b[39;00m\n\u001b[0;32m----> 3\u001b[0m \u001b[38;5;28mprint\u001b[39m(\u001b[43mx\u001b[49m)\n",
      "\u001b[0;31mNameError\u001b[0m: name 'x' is not defined"
     ]
    }
   ],
   "source": [
    "# references an undefined variable\n",
    "\n",
    "print(x)"
   ]
  },
  {
   "cell_type": "markdown",
   "metadata": {},
   "source": [
    "## `IndexError`"
   ]
  },
  {
   "cell_type": "code",
   "execution_count": 4,
   "metadata": {},
   "outputs": [
    {
     "name": "stdout",
     "output_type": "stream",
     "text": [
      "0\n",
      "1\n",
      "2\n"
     ]
    },
    {
     "ename": "IndexError",
     "evalue": "list index out of range",
     "output_type": "error",
     "traceback": [
      "\u001b[0;31m---------------------------------------------------------------------------\u001b[0m",
      "\u001b[0;31mIndexError\u001b[0m                                Traceback (most recent call last)",
      "Input \u001b[0;32mIn [4]\u001b[0m, in \u001b[0;36m<cell line: 5>\u001b[0;34m()\u001b[0m\n\u001b[1;32m      3\u001b[0m lst \u001b[38;5;241m=\u001b[39m [\u001b[38;5;241m0\u001b[39m, \u001b[38;5;241m1\u001b[39m, \u001b[38;5;241m2\u001b[39m]\n\u001b[1;32m      5\u001b[0m \u001b[38;5;28;01mfor\u001b[39;00m i \u001b[38;5;129;01min\u001b[39;00m \u001b[38;5;28mrange\u001b[39m(\u001b[38;5;241m4\u001b[39m):\n\u001b[0;32m----> 6\u001b[0m     \u001b[38;5;28mprint\u001b[39m(\u001b[43mlst\u001b[49m\u001b[43m[\u001b[49m\u001b[43mi\u001b[49m\u001b[43m]\u001b[49m)\n",
      "\u001b[0;31mIndexError\u001b[0m: list index out of range"
     ]
    }
   ],
   "source": [
    "# loop goes off the end of the list\n",
    "\n",
    "lst = [0, 1, 2]\n",
    "\n",
    "for i in range(4):\n",
    "    print(lst[i])"
   ]
  },
  {
   "cell_type": "markdown",
   "metadata": {},
   "source": [
    "# Exception Handling with `try/except`\n",
    "\n",
    "We use `try/except` blocks to handle exceptions in our code.\n",
    "\n",
    "These blocks work as follows:\n",
    "* The `try` block will contain a statement. \n",
    "* If the statement fails, the the flow goes to the `except` block.\n",
    "* The exception block will have code to handle the error, rather than halting the program.\n",
    "\n",
    "The process is very similar to `if/then`:\n",
    "* **If** there is an **error**, **then** raise an **excpetion**.\n",
    "\n",
    "Multiple `except` statements may be given, to handle specific exceptions.  \n",
    "\n",
    "Below, we give a catch-all `except` for any kind of exception.\n",
    "\n",
    "An **excpetion** is a mistake that will halt the execution of code. \n",
    "* For example, trying to access a dictionary key that does not exit.\n",
    "* Or, a database connection fails. \n",
    "* Very often, execeptions are caused by an external dependency failing, such as another system or the user."
   ]
  },
  {
   "cell_type": "markdown",
   "metadata": {},
   "source": [
    "Let's try referencing a variable that doesn't exist with no exception handling."
   ]
  },
  {
   "cell_type": "code",
   "execution_count": 5,
   "metadata": {},
   "outputs": [
    {
     "ename": "NameError",
     "evalue": "name 'a' is not defined",
     "output_type": "error",
     "traceback": [
      "\u001b[0;31m---------------------------------------------------------------------------\u001b[0m",
      "\u001b[0;31mNameError\u001b[0m                                 Traceback (most recent call last)",
      "Input \u001b[0;32mIn [5]\u001b[0m, in \u001b[0;36m<cell line: 1>\u001b[0;34m()\u001b[0m\n\u001b[0;32m----> 1\u001b[0m \u001b[38;5;28mprint\u001b[39m(\u001b[43ma\u001b[49m)\n",
      "\u001b[0;31mNameError\u001b[0m: name 'a' is not defined"
     ]
    }
   ],
   "source": [
    "print(a)"
   ]
  },
  {
   "cell_type": "markdown",
   "metadata": {},
   "source": [
    "Now let's try referencing a variable that doesn't exist with a `try/except` block to handle the exception.    "
   ]
  },
  {
   "cell_type": "code",
   "execution_count": 6,
   "metadata": {},
   "outputs": [
    {
     "name": "stdout",
     "output_type": "stream",
     "text": [
      "caught an exception\n"
     ]
    }
   ],
   "source": [
    "try:\n",
    "    print(a)\n",
    "except:\n",
    "   print(\"caught an exception\")"
   ]
  },
  {
   "cell_type": "markdown",
   "metadata": {
    "tags": []
   },
   "source": [
    "# Assert Statements\n",
    "\n",
    "Another to catch errors before they happen is to test if computations turned out as expected.\n",
    "\n",
    "We use `assert` to verify an expression is True.  \n",
    "- if expression is True, nothing happens.\n",
    "- if expression is False, Python raises an `AssertionError` exception.\n",
    "\n",
    "Assert statements have the followinf syntax:  \n",
    "  \n",
    "```python\n",
    "assert Expression[, Arguments]\n",
    "```\n",
    "\n",
    "where `[, Arguments]` denotes optional arguments.  \n",
    "\n",
    "For example, let's say a program is expecting three arguments to be passed from the command line.    \n",
    "\n",
    "The variable `num_args` counts the arguments."
   ]
  },
  {
   "cell_type": "code",
   "execution_count": 7,
   "metadata": {},
   "outputs": [],
   "source": [
    "num_args = 3\n",
    "\n",
    "assert num_args == 3, \"number of arguments must be 3!\""
   ]
  },
  {
   "cell_type": "markdown",
   "metadata": {},
   "source": [
    "The `assert` evaluates to True, and things proceed normally without exception."
   ]
  },
  {
   "cell_type": "markdown",
   "metadata": {},
   "source": [
    "If we change `num_args = 4` this will throw an `AssertionError` with the provided message. \n",
    "\n",
    "The program then stops."
   ]
  },
  {
   "cell_type": "code",
   "execution_count": 8,
   "metadata": {},
   "outputs": [
    {
     "ename": "AssertionError",
     "evalue": "number of arguments must be 3!",
     "output_type": "error",
     "traceback": [
      "\u001b[0;31m---------------------------------------------------------------------------\u001b[0m",
      "\u001b[0;31mAssertionError\u001b[0m                            Traceback (most recent call last)",
      "Input \u001b[0;32mIn [8]\u001b[0m, in \u001b[0;36m<cell line: 3>\u001b[0;34m()\u001b[0m\n\u001b[1;32m      1\u001b[0m num_args \u001b[38;5;241m=\u001b[39m \u001b[38;5;241m4\u001b[39m\n\u001b[0;32m----> 3\u001b[0m \u001b[38;5;28;01massert\u001b[39;00m num_args \u001b[38;5;241m==\u001b[39m \u001b[38;5;241m3\u001b[39m, \u001b[38;5;124m\"\u001b[39m\u001b[38;5;124mnumber of arguments must be 3!\u001b[39m\u001b[38;5;124m\"\u001b[39m\n",
      "\u001b[0;31mAssertionError\u001b[0m: number of arguments must be 3!"
     ]
    }
   ],
   "source": [
    "num_args = 4\n",
    "\n",
    "assert num_args == 3, \"number of arguments must be 3!\""
   ]
  },
  {
   "cell_type": "markdown",
   "metadata": {},
   "source": [
    "If the `assert` is not given a message, it throws `AssertionError:`"
   ]
  },
  {
   "cell_type": "code",
   "execution_count": 9,
   "metadata": {},
   "outputs": [
    {
     "ename": "AssertionError",
     "evalue": "",
     "output_type": "error",
     "traceback": [
      "\u001b[0;31m---------------------------------------------------------------------------\u001b[0m",
      "\u001b[0;31mAssertionError\u001b[0m                            Traceback (most recent call last)",
      "Input \u001b[0;32mIn [9]\u001b[0m, in \u001b[0;36m<cell line: 3>\u001b[0;34m()\u001b[0m\n\u001b[1;32m      1\u001b[0m num_args \u001b[38;5;241m=\u001b[39m \u001b[38;5;241m4\u001b[39m\n\u001b[0;32m----> 3\u001b[0m \u001b[38;5;28;01massert\u001b[39;00m num_args \u001b[38;5;241m==\u001b[39m \u001b[38;5;241m3\u001b[39m\n",
      "\u001b[0;31mAssertionError\u001b[0m: "
     ]
    }
   ],
   "source": [
    "num_args = 4\n",
    "\n",
    "assert num_args == 3"
   ]
  },
  {
   "cell_type": "code",
   "execution_count": 10,
   "metadata": {},
   "outputs": [
    {
     "name": "stdout",
     "output_type": "stream",
     "text": [
      "Got an error\n"
     ]
    }
   ],
   "source": [
    "try:\n",
    "    assert num_args == 3\n",
    "except:\n",
    "    print(\"Got an error\")"
   ]
  },
  {
   "cell_type": "code",
   "execution_count": 11,
   "metadata": {},
   "outputs": [
    {
     "name": "stdout",
     "output_type": "stream",
     "text": [
      "Number of arguments must be 3!\n"
     ]
    }
   ],
   "source": [
    "try:\n",
    "    assert num_args == 3, \"Number of arguments must be 3!\"\n",
    "except AssertionError as e:\n",
    "    print(e)"
   ]
  },
  {
   "cell_type": "markdown",
   "metadata": {
    "tags": []
   },
   "source": [
    "# `raise()`\n",
    "\n",
    "Exceptions can be **raised**, too.\n",
    "\n",
    "Use this if you want to halt the program and let other code that is using this code handle it.|"
   ]
  },
  {
   "cell_type": "code",
   "execution_count": 12,
   "metadata": {},
   "outputs": [
    {
     "ename": "ZeroDivisionError",
     "evalue": "Hey, you can't divide by zero!",
     "output_type": "error",
     "traceback": [
      "\u001b[0;31m---------------------------------------------------------------------------\u001b[0m",
      "\u001b[0;31mZeroDivisionError\u001b[0m                         Traceback (most recent call last)",
      "Input \u001b[0;32mIn [12]\u001b[0m, in \u001b[0;36m<cell line: 1>\u001b[0;34m()\u001b[0m\n\u001b[1;32m      1\u001b[0m \u001b[38;5;28;01mtry\u001b[39;00m:\n\u001b[0;32m----> 2\u001b[0m     \u001b[38;5;241;43m10\u001b[39;49m\u001b[38;5;241;43m/\u001b[39;49m\u001b[38;5;241;43m0\u001b[39;49m\n\u001b[1;32m      3\u001b[0m \u001b[38;5;28;01mexcept\u001b[39;00m:\n",
      "\u001b[0;31mZeroDivisionError\u001b[0m: division by zero",
      "\nDuring handling of the above exception, another exception occurred:\n",
      "\u001b[0;31mZeroDivisionError\u001b[0m                         Traceback (most recent call last)",
      "Input \u001b[0;32mIn [12]\u001b[0m, in \u001b[0;36m<cell line: 1>\u001b[0;34m()\u001b[0m\n\u001b[1;32m      2\u001b[0m     \u001b[38;5;241m10\u001b[39m\u001b[38;5;241m/\u001b[39m\u001b[38;5;241m0\u001b[39m\n\u001b[1;32m      3\u001b[0m \u001b[38;5;28;01mexcept\u001b[39;00m:\n\u001b[0;32m----> 4\u001b[0m     \u001b[38;5;28;01mraise\u001b[39;00m \u001b[38;5;167;01mZeroDivisionError\u001b[39;00m(\u001b[38;5;124m\"\u001b[39m\u001b[38;5;124mHey, you can\u001b[39m\u001b[38;5;124m'\u001b[39m\u001b[38;5;124mt divide by zero!\u001b[39m\u001b[38;5;124m\"\u001b[39m)\n",
      "\u001b[0;31mZeroDivisionError\u001b[0m: Hey, you can't divide by zero!"
     ]
    }
   ],
   "source": [
    "try:\n",
    "    10/0\n",
    "except:\n",
    "    raise ZeroDivisionError(\"Hey, you can't divide by zero!\")"
   ]
  },
  {
   "cell_type": "code",
   "execution_count": 13,
   "metadata": {},
   "outputs": [
    {
     "ename": "IndexError",
     "evalue": "Bad Index",
     "output_type": "error",
     "traceback": [
      "\u001b[0;31m---------------------------------------------------------------------------\u001b[0m",
      "\u001b[0;31mIndexError\u001b[0m                                Traceback (most recent call last)",
      "Input \u001b[0;32mIn [13]\u001b[0m, in \u001b[0;36m<cell line: 1>\u001b[0;34m()\u001b[0m\n\u001b[0;32m----> 1\u001b[0m \u001b[38;5;28;01mraise\u001b[39;00m \u001b[38;5;167;01mIndexError\u001b[39;00m(\u001b[38;5;124m\"\u001b[39m\u001b[38;5;124mBad Index\u001b[39m\u001b[38;5;124m\"\u001b[39m)\n",
      "\u001b[0;31mIndexError\u001b[0m: Bad Index"
     ]
    }
   ],
   "source": [
    "raise IndexError(\"Bad Index\")"
   ]
  },
  {
   "cell_type": "markdown",
   "metadata": {
    "tags": []
   },
   "source": [
    "# Futher Reading\n",
    "* https://www.geeksforgeeks.org/errors-and-exceptions-in-python/\n",
    "* https://www.tutorialspoint.com/python/assertions_in_python.htm"
   ]
  },
  {
   "cell_type": "code",
   "execution_count": null,
   "metadata": {},
   "outputs": [],
   "source": []
  }
 ],
 "metadata": {
  "anaconda-cloud": {},
  "kernelspec": {
   "display_name": "Python 3 (ipykernel)",
   "language": "python",
   "name": "python3"
  },
  "language_info": {
   "codemirror_mode": {
    "name": "ipython",
    "version": 3
   },
   "file_extension": ".py",
   "mimetype": "text/x-python",
   "name": "python",
   "nbconvert_exporter": "python",
   "pygments_lexer": "ipython3",
   "version": "3.8.16"
  },
  "toc": {
   "base_numbering": 1,
   "nav_menu": {},
   "number_sections": true,
   "sideBar": true,
   "skip_h1_title": false,
   "title_cell": "Table of Contents",
   "title_sidebar": "Contents",
   "toc_cell": false,
   "toc_position": {},
   "toc_section_display": true,
   "toc_window_display": false
  },
  "varInspector": {
   "cols": {
    "lenName": 16,
    "lenType": 16,
    "lenVar": 40
   },
   "kernels_config": {
    "python": {
     "delete_cmd_postfix": "",
     "delete_cmd_prefix": "del ",
     "library": "var_list.py",
     "varRefreshCmd": "print(var_dic_list())"
    },
    "r": {
     "delete_cmd_postfix": ") ",
     "delete_cmd_prefix": "rm(",
     "library": "var_list.r",
     "varRefreshCmd": "cat(var_dic_list()) "
    }
   },
   "types_to_exclude": [
    "module",
    "function",
    "builtin_function_or_method",
    "instance",
    "_Feature"
   ],
   "window_display": false
  },
  "widgets": {
   "application/vnd.jupyter.widget-state+json": {
    "state": {},
    "version_major": 2,
    "version_minor": 0
   }
  }
 },
 "nbformat": 4,
 "nbformat_minor": 4
}
