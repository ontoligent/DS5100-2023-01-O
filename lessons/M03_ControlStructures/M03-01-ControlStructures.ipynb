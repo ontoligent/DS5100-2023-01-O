{
 "cells": [
  {
   "cell_type": "markdown",
   "metadata": {},
   "source": [
    "# Metadata\n",
    "\n",
    "```{yaml}\n",
    "Course:   DS 5100\n",
    "Module:   03 Controls Structures\n",
    "Topic:    Control Structures\n",
    "Author:   R.C. Alvarado\n",
    "Date:     22 June 2022\n",
    "```\n",
    "\n",
    "**Topics**:\n",
    "- conditional statements\n",
    "- if, else, elif\n",
    "- for-loop\n",
    "- while-loop\n",
    "- break\n",
    "- continue\n",
    "- iteration\n",
    "```\n",
    "\n",
    "# Introducing Control Structures\n",
    "\n",
    "Python includes structures to control the flow of a program:\n",
    "\n",
    "- `conditions` (if, else)\n",
    "- `loops`\n",
    "  - `while-loop`    \n",
    "  Execute statements while a condition is true\n",
    "  - `for-loop`    \n",
    "  Iterates over a iterable object (list, tuple, dict, set, string)\n",
    "  "
   ]
  },
  {
   "cell_type": "markdown",
   "metadata": {},
   "source": [
    "# Indentation\n",
    "\n",
    "This is where Python differs from most languages. To define control structures, \\\n",
    "and functional blocks of code in general, most languages use either characters like braces `{` and `}` or key words like `IF ... END IF`.\n",
    "\n",
    "Python uses tabs -- spaces, actually -- to signify logical blocks off code.\n",
    "\n",
    "It is therefore imperative to understand and get a feel for indentation. For more information, see [Lutz 2019, \"A Tale of Two Ifs.\"](https://learning.oreilly.com/library/view/learning-python-5th/9781449355722/ch10s03.html)"
   ]
  },
  {
   "cell_type": "markdown",
   "metadata": {},
   "source": [
    "# Conditions"
   ]
  },
  {
   "cell_type": "markdown",
   "metadata": {},
   "source": [
    "## `if` and `else` can be used for conditional processing."
   ]
  },
  {
   "cell_type": "code",
   "execution_count": null,
   "metadata": {},
   "outputs": [],
   "source": [
    "val = -2\n",
    "\n",
    "if val >=0:\n",
    "    print(val)\n",
    "else:\n",
    "    print(-val)"
   ]
  },
  {
   "cell_type": "markdown",
   "metadata": {},
   "source": [
    "## `elif`\n",
    "\n",
    "`elif` is reached when the previous statements are not."
   ]
  },
  {
   "cell_type": "code",
   "execution_count": null,
   "metadata": {},
   "outputs": [],
   "source": [
    "val = -2\n",
    "\n",
    "if -10 < val < -5:\n",
    "    print('bucket 1')\n",
    "if -5 <= val < -2:\n",
    "    print('bucket 2')\n",
    "elif val == -2:\n",
    "    print('bucket 3')"
   ]
  },
  {
   "cell_type": "markdown",
   "metadata": {},
   "source": [
    "## `else`\n",
    "\n",
    "`else` can be used as a catchall"
   ]
  },
  {
   "cell_type": "code",
   "execution_count": null,
   "metadata": {},
   "outputs": [],
   "source": [
    "val = 5\n",
    "\n",
    "if -10 < val < -5:\n",
    "    print('bucket 1')\n",
    "elif -5 <= val < -2:\n",
    "    print('bucket 2')\n",
    "elif val == -2:\n",
    "    print('bucket 3')\n",
    "else:\n",
    "    print('bucket 4')"
   ]
  },
  {
   "cell_type": "markdown",
   "metadata": {},
   "source": [
    "## `if` and `else` as one-liners"
   ]
  },
  {
   "cell_type": "code",
   "execution_count": 1,
   "metadata": {},
   "outputs": [
    {
     "name": "stdout",
     "output_type": "stream",
     "text": [
      "odd\n"
     ]
    }
   ],
   "source": [
    "x = 3\n",
    "print('odd') if x % 2 == 1 else print('even')"
   ]
  },
  {
   "cell_type": "markdown",
   "metadata": {},
   "source": [
    "Notice `==` for checking the condition  x % 2 == 1.\n",
    "\n",
    "both `if` and `else` are required. This breaks:"
   ]
  },
  {
   "cell_type": "code",
   "execution_count": 3,
   "metadata": {},
   "outputs": [
    {
     "ename": "SyntaxError",
     "evalue": "invalid syntax (471325368.py, line 1)",
     "output_type": "error",
     "traceback": [
      "\u001b[0;36m  Input \u001b[0;32mIn [3]\u001b[0;36m\u001b[0m\n\u001b[0;31m    print('odd') if x % 2 == 1\u001b[0m\n\u001b[0m                              ^\u001b[0m\n\u001b[0;31mSyntaxError\u001b[0m\u001b[0;31m:\u001b[0m invalid syntax\n"
     ]
    }
   ],
   "source": [
    "print('odd') if x % 2 == 1"
   ]
  },
  {
   "cell_type": "markdown",
   "metadata": {},
   "source": [
    "## Using multiple conditions\n",
    "\n",
    "If statements can be complex combinations of expressions. \n",
    "\n",
    "Use parentheses carefully, to keep order of operations correct."
   ]
  },
  {
   "cell_type": "code",
   "execution_count": 5,
   "metadata": {},
   "outputs": [
    {
     "name": "stdout",
     "output_type": "stream",
     "text": [
      "bucket 2\n"
     ]
    }
   ],
   "source": [
    "# correct\n",
    "\n",
    "val = 2\n",
    "\n",
    "if (-2 < val < 2) or (val > 10):\n",
    "    print('bucket 1')\n",
    "else:\n",
    "    print('bucket 2')"
   ]
  },
  {
   "cell_type": "code",
   "execution_count": 6,
   "metadata": {},
   "outputs": [
    {
     "name": "stdout",
     "output_type": "stream",
     "text": [
      "bucket 1\n"
     ]
    }
   ],
   "source": [
    "# incorrect - misplaced parenthesis\n",
    "\n",
    "if (-2 < val) < 2 or val > 10:\n",
    "    print('bucket 1')\n",
    "else:\n",
    "    print('bucket 2')"
   ]
  },
  {
   "cell_type": "markdown",
   "metadata": {},
   "source": [
    "and this is because True < 2, as True is cast to integer value 1"
   ]
  },
  {
   "cell_type": "markdown",
   "metadata": {},
   "source": [
    "this is not the desired result...but does it make sense?"
   ]
  },
  {
   "cell_type": "markdown",
   "metadata": {},
   "source": [
    "# Loops"
   ]
  },
  {
   "cell_type": "markdown",
   "metadata": {},
   "source": [
    "## `while`\n",
    "What does this print?"
   ]
  },
  {
   "cell_type": "code",
   "execution_count": null,
   "metadata": {},
   "outputs": [],
   "source": [
    "ix = 1\n",
    "while ix < 10:\n",
    "    ix = ix * 2\n",
    "print(ix)"
   ]
  },
  {
   "cell_type": "markdown",
   "metadata": {},
   "source": [
    "## `break` to exit the loop altogether\n",
    "\n",
    "sometimes you want to quit the loop early, if some condition is met.  \n",
    "uses `if-statement`"
   ]
  },
  {
   "cell_type": "code",
   "execution_count": null,
   "metadata": {},
   "outputs": [],
   "source": [
    "ix = 1\n",
    "while ix < 10:\n",
    "    ix = ix * 2\n",
    "    if ix == 4:\n",
    "        break\n",
    "print(ix)"
   ]
  },
  {
   "cell_type": "markdown",
   "metadata": {},
   "source": [
    "The `break` causes the loop to end early"
   ]
  },
  {
   "cell_type": "markdown",
   "metadata": {},
   "source": [
    "## `continue` to stop the current iteration\n",
    "\n",
    "sometimes you want to introduce skipping behavior in the loop.  \n",
    "uses `if-statement`"
   ]
  },
  {
   "cell_type": "code",
   "execution_count": null,
   "metadata": {},
   "outputs": [],
   "source": [
    "ix = 1\n",
    "while ix < 10:\n",
    "    ix = ix * 2\n",
    "    if ix == 4:\n",
    "        print('skipping 4...')\n",
    "        continue\n",
    "    print(ix)"
   ]
  },
  {
   "cell_type": "markdown",
   "metadata": {},
   "source": [
    "The `continue` causes the loop to skip printing 4"
   ]
  },
  {
   "cell_type": "markdown",
   "metadata": {},
   "source": [
    "## `for`   \n",
    "\n",
    "iterate over an iterable"
   ]
  },
  {
   "cell_type": "code",
   "execution_count": null,
   "metadata": {},
   "outputs": [],
   "source": [
    "cities = ['Charlottesville','New York','SF','BOS','LA']\n",
    "\n",
    "for city in cities:\n",
    "    city = city.lower()\n",
    "    print(city)"
   ]
  },
  {
   "cell_type": "markdown",
   "metadata": {},
   "source": [
    "quit early if `SF` reached, using **break**"
   ]
  },
  {
   "cell_type": "code",
   "execution_count": null,
   "metadata": {},
   "outputs": [],
   "source": [
    "cities = ['Charlottesville','New York','SF','BOS','LA']\n",
    "\n",
    "for city in cities:\n",
    "    if city == 'SF':\n",
    "        break\n",
    "    city = city.lower()\n",
    "    print(city)"
   ]
  },
  {
   "cell_type": "markdown",
   "metadata": {},
   "source": [
    "skip over `SF` if reached, using **continue**"
   ]
  },
  {
   "cell_type": "code",
   "execution_count": null,
   "metadata": {},
   "outputs": [],
   "source": [
    "cities = ['Charlottesville','New York','SF','BOS','LA']\n",
    "\n",
    "for city in cities:\n",
    "    if city == 'SF':\n",
    "        continue\n",
    "    city = city.lower()\n",
    "    print(city)"
   ]
  },
  {
   "cell_type": "markdown",
   "metadata": {},
   "source": [
    "# `while` vs `for`\n",
    "\n",
    "For loops are used to loop through a list of values or an operation in which the number of iterations is **known** in advance.\n",
    "\n",
    "While loops are when **you don't know** how many interations it will take -- you are depending on some condition to be met.\n",
    "\n",
    "It is possible for while loops to be unending, for example:\n",
    "\n",
    "```python\n",
    "while 1:\n",
    "    print(\"This is so annoying\")\n",
    "```"
   ]
  },
  {
   "cell_type": "code",
   "execution_count": null,
   "metadata": {},
   "outputs": [],
   "source": []
  }
 ],
 "metadata": {
  "anaconda-cloud": {},
  "kernelspec": {
   "display_name": "Python 3 (ipykernel)",
   "language": "python",
   "name": "python3"
  },
  "language_info": {
   "codemirror_mode": {
    "name": "ipython",
    "version": 3
   },
   "file_extension": ".py",
   "mimetype": "text/x-python",
   "name": "python",
   "nbconvert_exporter": "python",
   "pygments_lexer": "ipython3",
   "version": "3.8.3"
  },
  "widgets": {
   "application/vnd.jupyter.widget-state+json": {
    "state": {},
    "version_major": 2,
    "version_minor": 0
   }
  }
 },
 "nbformat": 4,
 "nbformat_minor": 4
}
