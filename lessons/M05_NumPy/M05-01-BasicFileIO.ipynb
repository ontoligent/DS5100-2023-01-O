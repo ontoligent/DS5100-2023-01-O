{
 "cells": [
  {
   "cell_type": "markdown",
   "id": "6d5f19f1-06e8-4961-9591-4a56227acf11",
   "metadata": {},
   "source": [
    "# Metadata\n",
    "\n",
    "```\n",
    "Course:   DS 5100\n",
    "Module:   05 Numpy (Numerical Python)\n",
    "Topic:    Basic File I/O in Python \n",
    "Author:   R.C. Alvarado\n",
    "Date:     26 June 2022 (revised 13 September 2022)\n",
    "```"
   ]
  },
  {
   "cell_type": "markdown",
   "id": "59bcf25a-fcea-4df4-aeba-cebb30500c23",
   "metadata": {},
   "source": [
    "**Objectives**\n",
    "- Demonstrate use of Python's `open()` function\n",
    "- Show pattern using loops, comprehensions, and string operations to import a CSV\n",
    "- Show how to parse an imported CSV into a 2D list\n",
    "- Show how to convert a 2D list into a 2D Numpy array\n",
    "- Describe the difficulties associated with this importing CSV files using basic Python"
   ]
  },
  {
   "cell_type": "markdown",
   "id": "a0602b57-8374-41ff-9c77-0bcc4ded8b87",
   "metadata": {},
   "source": [
    "# Open Files with `open()`"
   ]
  },
  {
   "cell_type": "markdown",
   "id": "634bed1e-da30-41d0-ac3a-8093707c761d",
   "metadata": {},
   "source": [
    "Let's open a sample CSV file, `biostats.csv`.\n",
    "\n",
    "* This has some biometric statistics for a group of office workers. \n",
    "* There are 18 records, recording Name, Sex, Age, Height, Weight \n",
    "* There is an initial header line.\n",
    "* This file was downloaded from https://people.sc.fsu.edu/~jburkardt/data/csv/csv.html and modified slightly."
   ]
  },
  {
   "cell_type": "code",
   "execution_count": 1,
   "id": "dcdbbc6e-66fb-474f-89b2-1bf4b5652aab",
   "metadata": {},
   "outputs": [],
   "source": [
    "src_file_name = \"./sample_data_files/biostats.csv\""
   ]
  },
  {
   "cell_type": "markdown",
   "id": "5283f5a2-8286-4814-b773-ed81b97a9fd4",
   "metadata": {},
   "source": [
    "We call the `open()` function and pass it two parameters:\n",
    "* The name of the file we want to open.\n",
    "* The mode in which the file is opened. It defaults to `r` which means open for reading in text\n",
    "mode. Other common values are:\n",
    "  * `w` for writing (truncating the file if it already exists)\n",
    "  * `x` for creating and writing to a new file \n",
    "  * `a` for appending\n",
    "\n",
    "The returns a file object whose type depends on the mode and\n",
    "through which the standard file operations such as reading and writing\n",
    "are performed. So, to read from the file, you need to have specified type `r` and to write you need to have specified `w`.\n",
    "\n",
    "The file object is an iterator.\n",
    "\n",
    "For more info, check out [the Python docs](https://docs.python.org/3/library/functions.html#open) or run `open?` from a code cell.\n",
    "\n",
    "Note, we sometimes call the file object a file \"handle.\"\n"
   ]
  },
  {
   "cell_type": "code",
   "execution_count": 2,
   "id": "034e8945-9b26-45f2-bd80-77440a982b55",
   "metadata": {},
   "outputs": [],
   "source": [
    "# open?"
   ]
  },
  {
   "cell_type": "code",
   "execution_count": 3,
   "id": "3babe54b-e182-44f6-9fe2-8205a618d2c9",
   "metadata": {},
   "outputs": [],
   "source": [
    "file_handle = open(src_file_name, 'r')"
   ]
  },
  {
   "cell_type": "markdown",
   "id": "cc7492cb-5d5e-49f2-9b3a-6b588128d4eb",
   "metadata": {},
   "source": [
    "`.read()` reads in the file as one long string."
   ]
  },
  {
   "cell_type": "code",
   "execution_count": 4,
   "id": "e8730935-85e1-48ab-8399-2cc97d4141e7",
   "metadata": {},
   "outputs": [],
   "source": [
    "file_as_big_string = file_handle.read()"
   ]
  },
  {
   "cell_type": "code",
   "execution_count": 5,
   "id": "6f86cbec-ed11-40eb-bf70-61fc90abb9e5",
   "metadata": {},
   "outputs": [
    {
     "data": {
      "text/plain": [
       "'\"Name\",     \"Sex\", \"Age\", \"Height (in)\", \"Weight (lbs)\"\\n\"Alex\",       \"M\",   41,       74,      170\\n\"Bert\",       \"M\",   42,       68,      166\\n\"Carl\",       \"M\",   32,       70,      155\\n\"Dave\",       \"M\",   39,       72,      167\\n\"Elly\",       \"F\",   30,       66,      124\\n\"Fran\",       \"F\",   33,       66,      115\\n\"Gwen\",       \"F\",   26,       64,      121\\n\"Hank\",       \"M\",   30,       71,      158\\n\"Ivan\",       \"M\",   53,       72,      175\\n\"Jake\",       \"M\",   32,       69,      143\\n\"Kate\",       \"F\",   47,       69,      139\\n\"Luke\",       \"M\",   34,       72,      163\\n\"Myra\",       \"F\",   23,       62,       98\\n\"Neil\",       \"M\",   36,       75,      160\\n\"Omar\",       \"M\",   38,       70,      145\\n\"Page\",       \"F\",   31,       67,      135\\n\"Quin\",       \"M\",   29,       71,      176\\n\"Ruth\",       \"F\",   28,       65,      131'"
      ]
     },
     "execution_count": 5,
     "metadata": {},
     "output_type": "execute_result"
    }
   ],
   "source": [
    "file_as_big_string[:1000]"
   ]
  },
  {
   "cell_type": "markdown",
   "id": "04b6e7fe-7920-4671-bc19-d1a501e86068",
   "metadata": {},
   "source": [
    "Since the file object is an iterator, we can't get the string again from the object."
   ]
  },
  {
   "cell_type": "code",
   "execution_count": 6,
   "id": "31c2d8e2-be29-4e85-8780-c046f7f449e3",
   "metadata": {},
   "outputs": [
    {
     "data": {
      "text/plain": [
       "''"
      ]
     },
     "execution_count": 6,
     "metadata": {},
     "output_type": "execute_result"
    }
   ],
   "source": [
    "file_as_big_string = file_handle.read() # Try reading from the handle again\n",
    "file_as_big_string[:1000] # Nothing there since the iterator is exhausted"
   ]
  },
  {
   "cell_type": "markdown",
   "id": "b36a4275-723c-4b56-9454-54187f695e4c",
   "metadata": {},
   "source": [
    "So, let's create a new handle, read in the contents again, and then parse our string by newlines using `.split(\"\\n\")`."
   ]
  },
  {
   "cell_type": "code",
   "execution_count": 7,
   "id": "e1f770a3-b11f-4d94-8661-a6d6db11b701",
   "metadata": {},
   "outputs": [
    {
     "data": {
      "text/plain": [
       "['\"Name\",     \"Sex\", \"Age\", \"Height (in)\", \"Weight (lbs)\"',\n",
       " '\"Alex\",       \"M\",   41,       74,      170',\n",
       " '\"Bert\",       \"M\",   42,       68,      166',\n",
       " '\"Carl\",       \"M\",   32,       70,      155',\n",
       " '\"Dave\",       \"M\",   39,       72,      167',\n",
       " '\"Elly\",       \"F\",   30,       66,      124',\n",
       " '\"Fran\",       \"F\",   33,       66,      115',\n",
       " '\"Gwen\",       \"F\",   26,       64,      121',\n",
       " '\"Hank\",       \"M\",   30,       71,      158',\n",
       " '\"Ivan\",       \"M\",   53,       72,      175',\n",
       " '\"Jake\",       \"M\",   32,       69,      143',\n",
       " '\"Kate\",       \"F\",   47,       69,      139',\n",
       " '\"Luke\",       \"M\",   34,       72,      163',\n",
       " '\"Myra\",       \"F\",   23,       62,       98',\n",
       " '\"Neil\",       \"M\",   36,       75,      160',\n",
       " '\"Omar\",       \"M\",   38,       70,      145',\n",
       " '\"Page\",       \"F\",   31,       67,      135',\n",
       " '\"Quin\",       \"M\",   29,       71,      176',\n",
       " '\"Ruth\",       \"F\",   28,       65,      131']"
      ]
     },
     "execution_count": 7,
     "metadata": {},
     "output_type": "execute_result"
    }
   ],
   "source": [
    "file_handle = open(\"./sample_data_files/biostats.csv\", 'r')\n",
    "file_as_big_string = file_handle.read()\n",
    "file_as_big_string.split(\"\\n\")"
   ]
  },
  {
   "cell_type": "markdown",
   "id": "8d5994a5-1f9e-435f-a504-4c2102e414be",
   "metadata": {},
   "source": [
    "A short-cut to this process is to call the `.readlines()` method, which returns a pre-made list of lines.\n",
    "\n",
    "Note that the newlines are preserved in this case."
   ]
  },
  {
   "cell_type": "code",
   "execution_count": 8,
   "id": "a2b1a76f-f141-4e02-9788-c377487507e3",
   "metadata": {},
   "outputs": [],
   "source": [
    "file_handle = open(src_file_name, 'r')\n",
    "file_as_list_of_strings = file_handle.readlines()"
   ]
  },
  {
   "cell_type": "code",
   "execution_count": 9,
   "id": "3ee53b60-72c2-4386-b81e-21a07a3880b9",
   "metadata": {},
   "outputs": [
    {
     "data": {
      "text/plain": [
       "['\"Name\",     \"Sex\", \"Age\", \"Height (in)\", \"Weight (lbs)\"\\n',\n",
       " '\"Alex\",       \"M\",   41,       74,      170\\n',\n",
       " '\"Bert\",       \"M\",   42,       68,      166\\n',\n",
       " '\"Carl\",       \"M\",   32,       70,      155\\n',\n",
       " '\"Dave\",       \"M\",   39,       72,      167\\n',\n",
       " '\"Elly\",       \"F\",   30,       66,      124\\n',\n",
       " '\"Fran\",       \"F\",   33,       66,      115\\n',\n",
       " '\"Gwen\",       \"F\",   26,       64,      121\\n',\n",
       " '\"Hank\",       \"M\",   30,       71,      158\\n',\n",
       " '\"Ivan\",       \"M\",   53,       72,      175\\n',\n",
       " '\"Jake\",       \"M\",   32,       69,      143\\n',\n",
       " '\"Kate\",       \"F\",   47,       69,      139\\n',\n",
       " '\"Luke\",       \"M\",   34,       72,      163\\n',\n",
       " '\"Myra\",       \"F\",   23,       62,       98\\n',\n",
       " '\"Neil\",       \"M\",   36,       75,      160\\n',\n",
       " '\"Omar\",       \"M\",   38,       70,      145\\n',\n",
       " '\"Page\",       \"F\",   31,       67,      135\\n',\n",
       " '\"Quin\",       \"M\",   29,       71,      176\\n',\n",
       " '\"Ruth\",       \"F\",   28,       65,      131']"
      ]
     },
     "execution_count": 9,
     "metadata": {},
     "output_type": "execute_result"
    }
   ],
   "source": [
    "file_as_list_of_strings"
   ]
  },
  {
   "cell_type": "markdown",
   "id": "7c8a26d4-e78b-4c17-a072-f3a6b6033c2c",
   "metadata": {},
   "source": [
    "File objects should be closed when you are done with them."
   ]
  },
  {
   "cell_type": "code",
   "execution_count": 10,
   "id": "84aa38ac-2bcd-473f-ab94-4e8e80b30d62",
   "metadata": {},
   "outputs": [],
   "source": [
    "file_handle.close()"
   ]
  },
  {
   "cell_type": "markdown",
   "id": "26e3d0f8-9411-4984-a3b1-878153a1eafa",
   "metadata": {},
   "source": [
    "# Use a `with` block to automatically open and close the file i/o object"
   ]
  },
  {
   "cell_type": "markdown",
   "id": "eb02bbb8-8935-40b0-9827-fb292c248219",
   "metadata": {},
   "source": [
    "There is a better way to handle objects that need to be closed.\n",
    "\n",
    "Other examples of such objects are database handles.\n",
    "\n",
    "`with` will automatically open and close the file handle."
   ]
  },
  {
   "cell_type": "code",
   "execution_count": 8,
   "id": "17f7e319-9594-42b5-a803-45a6a65cb0e8",
   "metadata": {},
   "outputs": [],
   "source": [
    "with open(src_file_name, 'r') as infile:\n",
    "    file_as_list = infile.readlines()"
   ]
  },
  {
   "cell_type": "code",
   "execution_count": 9,
   "id": "623f8ca8-c122-424c-b3d2-9c992f008201",
   "metadata": {},
   "outputs": [
    {
     "data": {
      "text/plain": [
       "['\"Name\",     \"Sex\", \"Age\", \"Height (in)\", \"Weight (lbs)\"\\n',\n",
       " '\"Alex\",       \"M\",   41,       74,      170\\n',\n",
       " '\"Bert\",       \"M\",   42,       68,      166\\n',\n",
       " '\"Carl\",       \"M\",   32,       70,      155\\n',\n",
       " '\"Dave\",       \"M\",   39,       72,      167\\n',\n",
       " '\"Elly\",       \"F\",   30,       66,      124\\n',\n",
       " '\"Fran\",       \"F\",   33,       66,      115\\n',\n",
       " '\"Gwen\",       \"F\",   26,       64,      121\\n',\n",
       " '\"Hank\",       \"M\",   30,       71,      158\\n',\n",
       " '\"Ivan\",       \"M\",   53,       72,      175\\n',\n",
       " '\"Jake\",       \"M\",   32,       69,      143\\n',\n",
       " '\"Kate\",       \"F\",   47,       69,      139\\n',\n",
       " '\"Luke\",       \"M\",   34,       72,      163\\n',\n",
       " '\"Myra\",       \"F\",   23,       62,       98\\n',\n",
       " '\"Neil\",       \"M\",   36,       75,      160\\n',\n",
       " '\"Omar\",       \"M\",   38,       70,      145\\n',\n",
       " '\"Page\",       \"F\",   31,       67,      135\\n',\n",
       " '\"Quin\",       \"M\",   29,       71,      176\\n',\n",
       " '\"Ruth\",       \"F\",   28,       65,      131']"
      ]
     },
     "execution_count": 9,
     "metadata": {},
     "output_type": "execute_result"
    }
   ],
   "source": [
    "file_as_list"
   ]
  },
  {
   "cell_type": "markdown",
   "id": "833ac88d-05c8-4f02-a982-611c92f1cf21",
   "metadata": {},
   "source": [
    "# Convert into a 2D list\n",
    "\n",
    "Let's covert our list of strings to a list of lists, the former being the rows of data table and the latter the cells."
   ]
  },
  {
   "cell_type": "code",
   "execution_count": 13,
   "id": "e18870a8-4900-499e-b374-069366a41765",
   "metadata": {},
   "outputs": [],
   "source": [
    "# %%time\n",
    "list_2d = []\n",
    "with open(src_file_name, 'r') as infile:\n",
    "    for line in infile.readlines():\n",
    "        row = line.rstrip().split(\",\") # Note the use of rstrip()\n",
    "        list_2d.append(row)"
   ]
  },
  {
   "cell_type": "code",
   "execution_count": 14,
   "id": "6dcd11e7-4c44-4fbb-8cde-caade96d7409",
   "metadata": {},
   "outputs": [
    {
     "data": {
      "text/plain": [
       "[['\"Name\"', '     \"Sex\"', ' \"Age\"', ' \"Height (in)\"', ' \"Weight (lbs)\"'],\n",
       " ['\"Alex\"', '       \"M\"', '   41', '       74', '      170'],\n",
       " ['\"Bert\"', '       \"M\"', '   42', '       68', '      166'],\n",
       " ['\"Carl\"', '       \"M\"', '   32', '       70', '      155'],\n",
       " ['\"Dave\"', '       \"M\"', '   39', '       72', '      167'],\n",
       " ['\"Elly\"', '       \"F\"', '   30', '       66', '      124'],\n",
       " ['\"Fran\"', '       \"F\"', '   33', '       66', '      115'],\n",
       " ['\"Gwen\"', '       \"F\"', '   26', '       64', '      121'],\n",
       " ['\"Hank\"', '       \"M\"', '   30', '       71', '      158'],\n",
       " ['\"Ivan\"', '       \"M\"', '   53', '       72', '      175'],\n",
       " ['\"Jake\"', '       \"M\"', '   32', '       69', '      143'],\n",
       " ['\"Kate\"', '       \"F\"', '   47', '       69', '      139'],\n",
       " ['\"Luke\"', '       \"M\"', '   34', '       72', '      163'],\n",
       " ['\"Myra\"', '       \"F\"', '   23', '       62', '       98'],\n",
       " ['\"Neil\"', '       \"M\"', '   36', '       75', '      160'],\n",
       " ['\"Omar\"', '       \"M\"', '   38', '       70', '      145'],\n",
       " ['\"Page\"', '       \"F\"', '   31', '       67', '      135'],\n",
       " ['\"Quin\"', '       \"M\"', '   29', '       71', '      176'],\n",
       " ['\"Ruth\"', '       \"F\"', '   28', '       65', '      131']]"
      ]
     },
     "execution_count": 14,
     "metadata": {},
     "output_type": "execute_result"
    }
   ],
   "source": [
    "list_2d"
   ]
  },
  {
   "cell_type": "markdown",
   "id": "9dd0e2c8-e3d2-417a-ae4a-ab9bfe6af694",
   "metadata": {},
   "source": [
    "Note that we now have do something with the column names and handle formating and casting each cell."
   ]
  },
  {
   "cell_type": "markdown",
   "id": "e3bb5ff8-e816-4312-8d78-ba5410c81914",
   "metadata": {},
   "source": [
    "# Using a list comprehension\n",
    "\n",
    "We can replace the entire code block above nested list comprehensions.\n",
    "\n",
    "Remember, you can put any expression into the first part of a comprehension, even another comprehension."
   ]
  },
  {
   "cell_type": "code",
   "execution_count": 102,
   "id": "9ace877a-5677-4d91-8036-230267838375",
   "metadata": {},
   "outputs": [],
   "source": [
    "list_2d = [[cell.strip() for cell in line.rstrip().replace('\"', '').split(\",\")] \n",
    "        for line in open(src_file_name, 'r').readlines()]"
   ]
  },
  {
   "cell_type": "code",
   "execution_count": 103,
   "id": "1f60616c-f016-40d7-b2d5-692d6da92f71",
   "metadata": {},
   "outputs": [
    {
     "data": {
      "text/plain": [
       "[['Name', 'Sex', 'Age', 'Height (in)', 'Weight (lbs)'],\n",
       " ['Alex', 'M', '41', '74', '170'],\n",
       " ['Bert', 'M', '42', '68', '166'],\n",
       " ['Carl', 'M', '32', '70', '155'],\n",
       " ['Dave', 'M', '39', '72', '167'],\n",
       " ['Elly', 'F', '30', '66', '124'],\n",
       " ['Fran', 'F', '33', '66', '115'],\n",
       " ['Gwen', 'F', '26', '64', '121'],\n",
       " ['Hank', 'M', '30', '71', '158'],\n",
       " ['Ivan', 'M', '53', '72', '175'],\n",
       " ['Jake', 'M', '32', '69', '143'],\n",
       " ['Kate', 'F', '47', '69', '139'],\n",
       " ['Luke', 'M', '34', '72', '163'],\n",
       " ['Myra', 'F', '23', '62', '98'],\n",
       " ['Neil', 'M', '36', '75', '160'],\n",
       " ['Omar', 'M', '38', '70', '145'],\n",
       " ['Page', 'F', '31', '67', '135'],\n",
       " ['Quin', 'M', '29', '71', '176'],\n",
       " ['Ruth', 'F', '28', '65', '131']]"
      ]
     },
     "execution_count": 103,
     "metadata": {},
     "output_type": "execute_result"
    }
   ],
   "source": [
    "list_2d"
   ]
  },
  {
   "cell_type": "markdown",
   "id": "322e6ccd-e2dc-48c2-a261-c167e5b7f1db",
   "metadata": {},
   "source": [
    "# Converting to Numpy"
   ]
  },
  {
   "cell_type": "code",
   "execution_count": 72,
   "id": "ffaaf758-7d66-47e3-a397-d23a9f95ccd9",
   "metadata": {},
   "outputs": [],
   "source": [
    "import numpy as np"
   ]
  },
  {
   "cell_type": "markdown",
   "id": "f79db19b-d2f3-4a99-89e5-f811d9a96d0d",
   "metadata": {},
   "source": [
    "Numpy arrays must be of the same data types, and it also has no concept of column names, so we remove this row from our data."
   ]
  },
  {
   "cell_type": "code",
   "execution_count": 73,
   "id": "2368fc64-4908-49a1-a325-9576fe00606d",
   "metadata": {},
   "outputs": [],
   "source": [
    "col_names = list_2d[0]"
   ]
  },
  {
   "cell_type": "code",
   "execution_count": 74,
   "id": "108585d4-a91f-4dcc-86b6-c9d87dc7f161",
   "metadata": {},
   "outputs": [
    {
     "data": {
      "text/plain": [
       "['Name', 'Sex', 'Age', 'Height (in)', 'Weight (lbs)']"
      ]
     },
     "execution_count": 74,
     "metadata": {},
     "output_type": "execute_result"
    }
   ],
   "source": [
    "col_names"
   ]
  },
  {
   "cell_type": "code",
   "execution_count": 75,
   "id": "a2464610-827a-419a-af6d-3d2e5132cc13",
   "metadata": {},
   "outputs": [],
   "source": [
    "np_matrix = np.array(list_2d[1:])"
   ]
  },
  {
   "cell_type": "code",
   "execution_count": 76,
   "id": "afb25312-b294-4b9e-9361-433638a5d8d3",
   "metadata": {},
   "outputs": [
    {
     "data": {
      "text/plain": [
       "array([['Alex', 'M', '41', '74', '170'],\n",
       "       ['Bert', 'M', '42', '68', '166'],\n",
       "       ['Carl', 'M', '32', '70', '155'],\n",
       "       ['Dave', 'M', '39', '72', '167'],\n",
       "       ['Elly', 'F', '30', '66', '124'],\n",
       "       ['Fran', 'F', '33', '66', '115'],\n",
       "       ['Gwen', 'F', '26', '64', '121'],\n",
       "       ['Hank', 'M', '30', '71', '158'],\n",
       "       ['Ivan', 'M', '53', '72', '175'],\n",
       "       ['Jake', 'M', '32', '69', '143'],\n",
       "       ['Kate', 'F', '47', '69', '139'],\n",
       "       ['Luke', 'M', '34', '72', '163'],\n",
       "       ['Myra', 'F', '23', '62', '98'],\n",
       "       ['Neil', 'M', '36', '75', '160'],\n",
       "       ['Omar', 'M', '38', '70', '145'],\n",
       "       ['Page', 'F', '31', '67', '135'],\n",
       "       ['Quin', 'M', '29', '71', '176'],\n",
       "       ['Ruth', 'F', '28', '65', '131']], dtype='<U4')"
      ]
     },
     "execution_count": 76,
     "metadata": {},
     "output_type": "execute_result"
    }
   ],
   "source": [
    "np_matrix"
   ]
  },
  {
   "cell_type": "markdown",
   "id": "f6dfd6b1-2612-462f-86d7-3d4b9720914c",
   "metadata": {},
   "source": [
    "Here we demonstrate slicing along both dimensions."
   ]
  },
  {
   "cell_type": "markdown",
   "id": "99daa723-ea3f-44c7-96b4-d83bbc0a991b",
   "metadata": {},
   "source": [
    "# Array Slices"
   ]
  },
  {
   "cell_type": "code",
   "execution_count": 48,
   "id": "f1057797-09cd-4067-bb47-7405126af1f9",
   "metadata": {},
   "outputs": [
    {
     "data": {
      "text/plain": [
       "array([['Alex', '       M'],\n",
       "       ['Bert', '       M']], dtype='<U9')"
      ]
     },
     "execution_count": 48,
     "metadata": {},
     "output_type": "execute_result"
    }
   ],
   "source": [
    "np_matrix[:2, :2]"
   ]
  },
  {
   "cell_type": "markdown",
   "id": "a4606ff8-e95c-4efa-a62a-95e50500fe45",
   "metadata": {},
   "source": [
    "# Converting Data Types\n",
    "\n",
    "Let's try to convert the data types of the numeric columns from strings to integers. One thing we might do is the following:"
   ]
  },
  {
   "cell_type": "code",
   "execution_count": 93,
   "id": "60bde14d-823e-41b0-b93d-12da8b51963f",
   "metadata": {},
   "outputs": [
    {
     "data": {
      "text/plain": [
       "array([[ 41,  74, 170],\n",
       "       [ 42,  68, 166],\n",
       "       [ 32,  70, 155],\n",
       "       [ 39,  72, 167],\n",
       "       [ 30,  66, 124],\n",
       "       [ 33,  66, 115],\n",
       "       [ 26,  64, 121],\n",
       "       [ 30,  71, 158],\n",
       "       [ 53,  72, 175],\n",
       "       [ 32,  69, 143],\n",
       "       [ 47,  69, 139],\n",
       "       [ 34,  72, 163],\n",
       "       [ 23,  62,  98],\n",
       "       [ 36,  75, 160],\n",
       "       [ 38,  70, 145],\n",
       "       [ 31,  67, 135],\n",
       "       [ 29,  71, 176],\n",
       "       [ 28,  65, 131]])"
      ]
     },
     "execution_count": 93,
     "metadata": {},
     "output_type": "execute_result"
    }
   ],
   "source": [
    "np_matrix[:, 2:5].astype(int)"
   ]
  },
  {
   "cell_type": "markdown",
   "id": "b3715ed0-0af8-4188-bc6f-010d90827e37",
   "metadata": {},
   "source": [
    "We see that the strings are converted to integers.\n",
    "\n",
    "So, let's try to save the conversion results to the original array:"
   ]
  },
  {
   "cell_type": "code",
   "execution_count": 94,
   "id": "3355e582-a7ca-4b57-889f-160fbda7f2a3",
   "metadata": {},
   "outputs": [],
   "source": [
    "np_matrix[:, 2:5] = np_matrix[:, 2:5].astype(int)"
   ]
  },
  {
   "cell_type": "code",
   "execution_count": 96,
   "id": "52ad16d2-44f9-4309-9379-e7553da346a2",
   "metadata": {},
   "outputs": [
    {
     "data": {
      "text/plain": [
       "array([['Alex', 'M', '41', '74', '170'],\n",
       "       ['Bert', 'M', '42', '68', '166'],\n",
       "       ['Carl', 'M', '32', '70', '155'],\n",
       "       ['Dave', 'M', '39', '72', '167'],\n",
       "       ['Elly', 'F', '30', '66', '124'],\n",
       "       ['Fran', 'F', '33', '66', '115'],\n",
       "       ['Gwen', 'F', '26', '64', '121'],\n",
       "       ['Hank', 'M', '30', '71', '158'],\n",
       "       ['Ivan', 'M', '53', '72', '175'],\n",
       "       ['Jake', 'M', '32', '69', '143'],\n",
       "       ['Kate', 'F', '47', '69', '139'],\n",
       "       ['Luke', 'M', '34', '72', '163'],\n",
       "       ['Myra', 'F', '23', '62', '98'],\n",
       "       ['Neil', 'M', '36', '75', '160'],\n",
       "       ['Omar', 'M', '38', '70', '145'],\n",
       "       ['Page', 'F', '31', '67', '135'],\n",
       "       ['Quin', 'M', '29', '71', '176'],\n",
       "       ['Ruth', 'F', '28', '65', '131']], dtype='<U4')"
      ]
     },
     "execution_count": 96,
     "metadata": {},
     "output_type": "execute_result"
    }
   ],
   "source": [
    "np_matrix"
   ]
  },
  {
   "cell_type": "markdown",
   "id": "dc6e2058-e622-45a6-aed3-b264f1f44bcf",
   "metadata": {},
   "source": [
    "What happened?"
   ]
  },
  {
   "cell_type": "markdown",
   "id": "99f96acd-36be-47f3-b952-a881ec7bcd38",
   "metadata": {
    "tags": []
   },
   "source": [
    "# Some Difficulties\n",
    "\n",
    "It is pretty easy to import CSV files this way, but there are many difficulties you are likely to encounter if you use this as your default pattern for importing data. Here are just a few:\n",
    "- **Not all sources are well-formed**. They may have delimitters that are complex to parse, and the the data themselve may be hard to parse.\n",
    "- **You have to keep the column names in a separate list or vector** and then associate them with the data if and when necessary.\n",
    "- **You have to convert each column vector into its appropriate data type yourself.** Or, you have to create separate 2D arrays for each collection of columns with a common data type. This process also invovles human inspection of the file, as opposed to have a program try to figure it out for you.\n",
    "\n",
    "For these reasons, other tools such as Pandas were created to make the work of a data scientist a bit easier and more productive."
   ]
  },
  {
   "cell_type": "code",
   "execution_count": null,
   "id": "81b2aeab-528a-4499-a085-27bace24b180",
   "metadata": {},
   "outputs": [],
   "source": []
  }
 ],
 "metadata": {
  "kernelspec": {
   "display_name": "Python 3 (ipykernel)",
   "language": "python",
   "name": "python3"
  },
  "language_info": {
   "codemirror_mode": {
    "name": "ipython",
    "version": 3
   },
   "file_extension": ".py",
   "mimetype": "text/x-python",
   "name": "python",
   "nbconvert_exporter": "python",
   "pygments_lexer": "ipython3",
   "version": "3.8.3"
  },
  "widgets": {
   "application/vnd.jupyter.widget-state+json": {
    "state": {},
    "version_major": 2,
    "version_minor": 0
   }
  }
 },
 "nbformat": 4,
 "nbformat_minor": 5
}
