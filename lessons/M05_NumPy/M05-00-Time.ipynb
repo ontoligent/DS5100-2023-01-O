{
 "cells": [
  {
   "cell_type": "markdown",
   "metadata": {},
   "source": [
    "# Metadata\n",
    "\n",
    "```yaml\n",
    "Course:   DS 5100\n",
    "Module:   05 NumPy\n",
    "Topic:    Python Timing Experiment\n",
    "Author:   R.C. Alvarado (adapted)\n",
    "Date:     26 June 2022 (revised 13 September 2022)\n",
    "```\n",
    "\n",
    "**Purpose**:\n",
    "* Show simple tools to determine execution time of a piece of code\n",
    "* Look at the `time` and `timeit` functions\n",
    "* Look at the magic command versions for Jupyter"
   ]
  },
  {
   "cell_type": "markdown",
   "metadata": {},
   "source": [
    "# Using `time`"
   ]
  },
  {
   "cell_type": "markdown",
   "metadata": {},
   "source": [
    "One way to get the runtime of a code block is to use the `time` module."
   ]
  },
  {
   "cell_type": "markdown",
   "metadata": {},
   "source": [
    "**About time**\n",
    "\n",
    "The `time` module provides a number of functions to get and compute time.\n",
    "\n",
    "The simplest function is `time()`, which just returns the number of seconds elapsed since the Epoch.\n",
    "\n",
    "The Epoch is `00:00:00 UTC` on 1 January 1970, excluding leapseconds.\n",
    "\n",
    "It corresponds roughly to when Unix was invented."
   ]
  },
  {
   "cell_type": "code",
   "execution_count": 1,
   "metadata": {},
   "outputs": [],
   "source": [
    "from time import time"
   ]
  },
  {
   "cell_type": "code",
   "execution_count": 2,
   "metadata": {
    "tags": []
   },
   "outputs": [
    {
     "name": "stdout",
     "output_type": "stream",
     "text": [
      "0 1 2 3 4 5 6 7 8 9 "
     ]
    }
   ],
   "source": [
    "t0 = time()\n",
    "\n",
    "for i in range(10):\n",
    "    print(i, end=' ')\n",
    "\n",
    "t1 = time()\n",
    "\n",
    "delta_t = t1 - t0"
   ]
  },
  {
   "cell_type": "code",
   "execution_count": 3,
   "metadata": {
    "tags": []
   },
   "outputs": [
    {
     "name": "stdout",
     "output_type": "stream",
     "text": [
      "t0 = 1663428793.540521\n",
      "t1 = 1663428793.541329\n",
      "runtime: 0.0008080005645751953\n"
     ]
    }
   ],
   "source": [
    "print('t0 =', t0)\n",
    "print('t1 =', t1)\n",
    "print('runtime:', delta_t)"
   ]
  },
  {
   "cell_type": "markdown",
   "metadata": {},
   "source": [
    "# Using `timeit`"
   ]
  },
  {
   "cell_type": "markdown",
   "metadata": {},
   "source": [
    "To get a better measure of runtime, we can use `timeit`, which measures timing across many runs.\n",
    "\n",
    "Note that `timeit()` will return the runtime across ALL runs. To get the mean runtime, you need to divide by the number of runs.\n",
    "\n",
    "`timeit()` works by evaluating code blocks written as strings."
   ]
  },
  {
   "cell_type": "code",
   "execution_count": 4,
   "metadata": {},
   "outputs": [],
   "source": [
    "from timeit import timeit\n",
    "  \n",
    "NUM_RUNS = 100"
   ]
  },
  {
   "cell_type": "markdown",
   "metadata": {},
   "source": [
    "Define code blocks to compare."
   ]
  },
  {
   "cell_type": "code",
   "execution_count": 5,
   "metadata": {},
   "outputs": [],
   "source": [
    "loop_code = ''' \n",
    "vals = []\n",
    "for i in range(1, 100001):\n",
    "    if i % 2 == 1:\n",
    "        i *= -1\n",
    "    vals.append(i)\n",
    "'''\n",
    "\n",
    "listcomp_code = ''' \n",
    "vals = [i*-1 for i in range(1,100001) if i % 2 == 1 ]\n",
    "'''"
   ]
  },
  {
   "cell_type": "markdown",
   "metadata": {},
   "source": [
    "Pass code block strings to timeit functions."
   ]
  },
  {
   "cell_type": "code",
   "execution_count": 6,
   "metadata": {},
   "outputs": [],
   "source": [
    "loop_mean_time = timeit(stmt = loop_code, number = NUM_RUNS) / NUM_RUNS\n",
    "listcomp_mean_time = timeit(stmt = listcomp_code, number = NUM_RUNS) / NUM_RUNS"
   ]
  },
  {
   "cell_type": "markdown",
   "metadata": {},
   "source": [
    "Print the results"
   ]
  },
  {
   "cell_type": "code",
   "execution_count": 7,
   "metadata": {},
   "outputs": [
    {
     "name": "stdout",
     "output_type": "stream",
     "text": [
      "loop = 0.011182495189999885\n",
      "comp = 0.00927148506000009\n",
      "loop/list = 1.2061169400190757\n",
      "list/loop = 0.8291070018336566\n"
     ]
    }
   ],
   "source": [
    "t_diff = loop_mean_time / listcomp_mean_time\n",
    "print('loop =', loop_mean_time)\n",
    "print('comp =', listcomp_mean_time)\n",
    "print('loop/list =', t_diff)\n",
    "print('list/loop =', 1/t_diff)"
   ]
  },
  {
   "cell_type": "markdown",
   "metadata": {},
   "source": [
    "# Using Magic \n",
    "\n",
    "Instead of calling `time` and `timeit` directly, we can use the  so-called magic commands.\n",
    "\n",
    "Magic commands are `%` or `%%` prefixed commands that work in Jupyter notebooks and other IPython environments.  \n",
    "\n",
    "`%` commands apply to **single lines**; they go at the beginning of the line.\n",
    "\n",
    "`%%` commands apply to **cell blocks**; they go at the top of the cell.\n",
    "\n",
    "Magic commands can take arguments. For more info, see \n",
    "* Chapter 3 in Wes McKinney's [_Python for Data Analysis_](https://learning.oreilly.com/library/view/python-for-data/9781449323592/ch03.html).\n",
    "* The [official documentation](https://ipython.readthedocs.io/en/stable/interactive/magics.html)\n",
    "\n",
    "\n",
    "Placing `%%timeit` or `%%time` at the top of a cell will appy these functions to the cell block.\n",
    "\n",
    "Placing `%timeit` or `%time` as the first item on a line of code will apply the to a single line.\n",
    "\n",
    "\n",
    "**Types of Time**\n",
    "\n",
    "* **Wall clock time** measures how much time has passed, as if you were looking at the clock on your wall. \n",
    "* **CPU time** refers to how many seconds the CPU was actually busy."
   ]
  },
  {
   "cell_type": "code",
   "execution_count": 8,
   "metadata": {},
   "outputs": [],
   "source": [
    "imax = 10000"
   ]
  },
  {
   "cell_type": "markdown",
   "metadata": {},
   "source": [
    "Using **time** to compare loop and comprehension"
   ]
  },
  {
   "cell_type": "code",
   "execution_count": 9,
   "metadata": {},
   "outputs": [
    {
     "name": "stdout",
     "output_type": "stream",
     "text": [
      "CPU times: user 1.69 ms, sys: 35 µs, total: 1.72 ms\n",
      "Wall time: 1.73 ms\n"
     ]
    }
   ],
   "source": [
    "%%time\n",
    "\n",
    "vals = []\n",
    "for i in range(1, imax+1):\n",
    "    if i % 2 == 1:\n",
    "        i *= -1\n",
    "    vals.append(i)"
   ]
  },
  {
   "cell_type": "code",
   "execution_count": 10,
   "metadata": {},
   "outputs": [
    {
     "name": "stdout",
     "output_type": "stream",
     "text": [
      "CPU times: user 940 µs, sys: 32 µs, total: 972 µs\n",
      "Wall time: 975 µs\n"
     ]
    }
   ],
   "source": [
    "%time vals = [i*-1 if i % 2 == 1 else i for i in range(1,imax+1)] "
   ]
  },
  {
   "cell_type": "markdown",
   "metadata": {},
   "source": [
    "Using **timeit** to compare loop and comprehension"
   ]
  },
  {
   "cell_type": "code",
   "execution_count": 21,
   "metadata": {},
   "outputs": [
    {
     "name": "stdout",
     "output_type": "stream",
     "text": [
      "1.08 ms ± 88 µs per loop (mean ± std. dev. of 7 runs, 1,000 loops each)\n"
     ]
    }
   ],
   "source": [
    "%%timeit\n",
    "\n",
    "vals = []\n",
    "imax = 10000\n",
    "for i in range(1, imax+1):\n",
    "    if i % 2 == 1:\n",
    "        i *= -1\n",
    "    vals.append(i)"
   ]
  },
  {
   "cell_type": "code",
   "execution_count": 22,
   "metadata": {},
   "outputs": [
    {
     "data": {
      "text/plain": [
       "[-1, 2, -3, 4, -5, 6, -7, 8, -9, 10]"
      ]
     },
     "execution_count": 22,
     "metadata": {},
     "output_type": "execute_result"
    }
   ],
   "source": [
    "vals[:10]"
   ]
  },
  {
   "cell_type": "code",
   "execution_count": 12,
   "metadata": {},
   "outputs": [
    {
     "name": "stdout",
     "output_type": "stream",
     "text": [
      "749 µs ± 3.32 µs per loop (mean ± std. dev. of 7 runs, 1,000 loops each)\n"
     ]
    }
   ],
   "source": [
    "%timeit vals = [i*-1 if i % 2 == 1 else i for i in range(1,imax+1)] "
   ]
  },
  {
   "cell_type": "code",
   "execution_count": null,
   "metadata": {},
   "outputs": [],
   "source": []
  }
 ],
 "metadata": {
  "kernelspec": {
   "display_name": "Python 3 (ipykernel)",
   "language": "python",
   "name": "python3"
  },
  "language_info": {
   "codemirror_mode": {
    "name": "ipython",
    "version": 3
   },
   "file_extension": ".py",
   "mimetype": "text/x-python",
   "name": "python",
   "nbconvert_exporter": "python",
   "pygments_lexer": "ipython3",
   "version": "3.8.16"
  },
  "toc": {
   "base_numbering": 1,
   "nav_menu": {},
   "number_sections": true,
   "sideBar": true,
   "skip_h1_title": false,
   "title_cell": "Table of Contents",
   "title_sidebar": "Contents",
   "toc_cell": false,
   "toc_position": {},
   "toc_section_display": true,
   "toc_window_display": false
  },
  "varInspector": {
   "cols": {
    "lenName": 16,
    "lenType": 16,
    "lenVar": 40
   },
   "kernels_config": {
    "python": {
     "delete_cmd_postfix": "",
     "delete_cmd_prefix": "del ",
     "library": "var_list.py",
     "varRefreshCmd": "print(var_dic_list())"
    },
    "r": {
     "delete_cmd_postfix": ") ",
     "delete_cmd_prefix": "rm(",
     "library": "var_list.r",
     "varRefreshCmd": "cat(var_dic_list()) "
    }
   },
   "types_to_exclude": [
    "module",
    "function",
    "builtin_function_or_method",
    "instance",
    "_Feature"
   ],
   "window_display": false
  },
  "widgets": {
   "application/vnd.jupyter.widget-state+json": {
    "state": {},
    "version_major": 2,
    "version_minor": 0
   }
  }
 },
 "nbformat": 4,
 "nbformat_minor": 4
}
