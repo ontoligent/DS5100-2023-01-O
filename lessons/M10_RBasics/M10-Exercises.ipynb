{
 "cells": [
  {
   "cell_type": "markdown",
   "id": "0dfce79a-9bb2-424d-9913-68d386deac8a",
   "metadata": {
    "jp-MarkdownHeadingCollapsed": true,
    "slideshow": {
     "slide_type": "slide"
    },
    "tags": []
   },
   "source": [
    "# M10 Exercises \n",
    "\n",
    "DS 5100 | Spring 2023"
   ]
  },
  {
   "cell_type": "markdown",
   "id": "14479fea-6632-4569-9ecd-179d8038ab39",
   "metadata": {
    "slideshow": {
     "slide_type": "slide"
    }
   },
   "source": [
    "# Exercise 10.1\n",
    "\n",
    "Write an R program to get the first 10 Fibonacci numbers."
   ]
  },
  {
   "cell_type": "code",
   "execution_count": 1,
   "id": "6f96c616",
   "metadata": {
    "jp-MarkdownHeadingCollapsed": true,
    "slideshow": {
     "slide_type": "subslide"
    },
    "tags": [],
    "vscode": {
     "languageId": "r"
    }
   },
   "outputs": [],
   "source": [
    "Fibonacci <- numeric(10)\n",
    "Fibonacci[1] <- Fibonacci[2] <- 1\n",
    "for (i in 3:10) {\n",
    "    Fibonacci[i] <- Fibonacci[i - 2] + Fibonacci[i - 1]\n",
    "}"
   ]
  },
  {
   "cell_type": "code",
   "execution_count": 2,
   "id": "f3982e35-0ffd-4b09-984a-9832c8ae965d",
   "metadata": {
    "jp-MarkdownHeadingCollapsed": true,
    "slideshow": {
     "slide_type": "subslide"
    },
    "tags": [],
    "vscode": {
     "languageId": "r"
    }
   },
   "outputs": [
    {
     "name": "stdout",
     "output_type": "stream",
     "text": [
      " [1]  1  1  2  3  5  8 13 21 34 55\n"
     ]
    }
   ],
   "source": [
    "print(Fibonacci)"
   ]
  },
  {
   "cell_type": "markdown",
   "id": "acd35b9c-a908-46b8-add5-42a98bb675dd",
   "metadata": {
    "slideshow": {
     "slide_type": "slide"
    }
   },
   "source": [
    "# Exercise 10.2\n",
    "\n",
    "Convert the previous code into a function that takes an argument of the length of the sequence.\n",
    "\n",
    "Instead of printing the results, just return the vector."
   ]
  },
  {
   "cell_type": "code",
   "execution_count": 12,
   "id": "b7c5f77e",
   "metadata": {
    "slideshow": {
     "slide_type": "subslide"
    },
    "vscode": {
     "languageId": "r"
    }
   },
   "outputs": [],
   "source": [
    "fibonacci <- function(n=10) {\n",
    "  Fibonacci <- numeric(n)\n",
    "  Fibonacci[1] <- Fibonacci[2] <- 1\n",
    "  for (i in 3:n) {\n",
    "      Fibonacci[i] <- Fibonacci[i - 2] + Fibonacci[i - 1]\n",
    "  }\n",
    "  return(Fibonacci)\n",
    "}"
   ]
  },
  {
   "cell_type": "code",
   "execution_count": 13,
   "id": "65f46dbf",
   "metadata": {
    "slideshow": {
     "slide_type": "subslide"
    },
    "vscode": {
     "languageId": "r"
    }
   },
   "outputs": [],
   "source": [
    "fib20 = fibonacci(20)"
   ]
  },
  {
   "cell_type": "code",
   "execution_count": 14,
   "id": "798b6928",
   "metadata": {
    "slideshow": {
     "slide_type": "subslide"
    },
    "vscode": {
     "languageId": "r"
    }
   },
   "outputs": [
    {
     "data": {
      "text/html": [
       "'numeric'"
      ],
      "text/latex": [
       "'numeric'"
      ],
      "text/markdown": [
       "'numeric'"
      ],
      "text/plain": [
       "[1] \"numeric\""
      ]
     },
     "metadata": {},
     "output_type": "display_data"
    }
   ],
   "source": [
    "class(fib20)"
   ]
  },
  {
   "cell_type": "code",
   "execution_count": 15,
   "id": "70b5a3db-c845-4142-be02-a280ca36edc6",
   "metadata": {
    "slideshow": {
     "slide_type": "subslide"
    },
    "vscode": {
     "languageId": "r"
    }
   },
   "outputs": [
    {
     "name": "stdout",
     "output_type": "stream",
     "text": [
      " [1]    1    1    2    3    5    8   13   21   34   55   89  144  233  377  610\n",
      "[16]  987 1597 2584 4181 6765\n"
     ]
    }
   ],
   "source": [
    "print(fib20)"
   ]
  },
  {
   "cell_type": "markdown",
   "id": "44fcbc2c-ec37-4909-ade5-1ae1933d1b36",
   "metadata": {
    "slideshow": {
     "slide_type": "slide"
    }
   },
   "source": [
    "# Exercise 10.3\n",
    "\n",
    "Write a function that takes a numeric $x$ and returns $1$ if $0 <= x <= 1$, else returns $0$.\n",
    "\n",
    "Hint: use `&` for \"and\""
   ]
  },
  {
   "cell_type": "code",
   "execution_count": 3,
   "id": "2ebe28cb-cbe6-4dc5-8bc3-ae572e0fbc36",
   "metadata": {
    "slideshow": {
     "slide_type": "subslide"
    },
    "vscode": {
     "languageId": "r"
    }
   },
   "outputs": [],
   "source": [
    "in_unit_interval <- function(x) { \n",
    "  if (x >= 0 & x <= 1) { \n",
    "    return(1) \n",
    "  } \n",
    "  else { \n",
    "    return(0) \n",
    "  } \n",
    "}"
   ]
  },
  {
   "cell_type": "markdown",
   "id": "66f0fbbc",
   "metadata": {
    "slideshow": {
     "slide_type": "subslide"
    }
   },
   "source": [
    "`&` and `&&` indicate logical AND and `|` and `||` indicate logical OR. The shorter form performs elementwise comparisons in much the same way as arithmetic operators. The longer form evaluates left to right examining only the first element of each vector. Evaluation proceeds only until the result is determined. The longer form is appropriate for programming control-flow and typically preferred in if clauses. [Source](https://stat.ethz.ch/R-manual/R-patched/library/base/html/Logic.html)."
   ]
  },
  {
   "cell_type": "markdown",
   "id": "5d577af4-8e8c-46c2-ad6a-af683d6090fc",
   "metadata": {
    "slideshow": {
     "slide_type": "slide"
    }
   },
   "source": [
    "# Exercise 10.4\n",
    "\n",
    "Apply the function to five values."
   ]
  },
  {
   "cell_type": "code",
   "execution_count": 5,
   "id": "b0d76eb9-500b-4daf-b576-e48c9e8a0305",
   "metadata": {
    "slideshow": {
     "slide_type": "subslide"
    },
    "vscode": {
     "languageId": "r"
    }
   },
   "outputs": [
    {
     "data": {
      "text/html": [
       "0"
      ],
      "text/latex": [
       "0"
      ],
      "text/markdown": [
       "0"
      ],
      "text/plain": [
       "[1] 0"
      ]
     },
     "metadata": {},
     "output_type": "display_data"
    },
    {
     "data": {
      "text/html": [
       "1"
      ],
      "text/latex": [
       "1"
      ],
      "text/markdown": [
       "1"
      ],
      "text/plain": [
       "[1] 1"
      ]
     },
     "metadata": {},
     "output_type": "display_data"
    },
    {
     "data": {
      "text/html": [
       "1"
      ],
      "text/latex": [
       "1"
      ],
      "text/markdown": [
       "1"
      ],
      "text/plain": [
       "[1] 1"
      ]
     },
     "metadata": {},
     "output_type": "display_data"
    },
    {
     "data": {
      "text/html": [
       "1"
      ],
      "text/latex": [
       "1"
      ],
      "text/markdown": [
       "1"
      ],
      "text/plain": [
       "[1] 1"
      ]
     },
     "metadata": {},
     "output_type": "display_data"
    },
    {
     "data": {
      "text/html": [
       "0"
      ],
      "text/latex": [
       "0"
      ],
      "text/markdown": [
       "0"
      ],
      "text/plain": [
       "[1] 0"
      ]
     },
     "metadata": {},
     "output_type": "display_data"
    }
   ],
   "source": [
    "in_unit_interval(-1) \n",
    "in_unit_interval(0) \n",
    "in_unit_interval(0.5)\n",
    "in_unit_interval(1) \n",
    "in_unit_interval(2)"
   ]
  },
  {
   "cell_type": "markdown",
   "id": "2a48a75d-dce0-429f-9f8d-ffd2e18bd2cf",
   "metadata": {
    "slideshow": {
     "slide_type": "slide"
    }
   },
   "source": [
    "# Exercise 10.5\n",
    "\n",
    "Write an R program to extract first 10 english letters in lower case and last 10 letters in upper case and extract letters between 22nd to 24th letters in upper case.\n",
    "\n",
    "Hint: R comes with `letters` and `LETTERS`, two vectors that contain what you think they do."
   ]
  },
  {
   "cell_type": "code",
   "execution_count": null,
   "id": "7801a8f1",
   "metadata": {},
   "outputs": [],
   "source": []
  },
  {
   "cell_type": "code",
   "execution_count": 9,
   "id": "5011dc68-8cdf-43a2-a20c-53ed2cea205d",
   "metadata": {
    "slideshow": {
     "slide_type": "subslide"
    },
    "vscode": {
     "languageId": "r"
    }
   },
   "outputs": [
    {
     "name": "stdout",
     "output_type": "stream",
     "text": [
      "[1] \"First 10 letters in lower case:\"\n",
      " [1] \"a\" \"b\" \"c\" \"d\" \"e\" \"f\" \"g\" \"h\" \"i\" \"j\"\n",
      "[1] \"Last 10 letters in upper case:\"\n",
      " [1] \"Q\" \"R\" \"S\" \"T\" \"U\" \"V\" \"W\" \"X\" \"Y\" \"Z\"\n",
      "[1] \"Letters between 22nd to 24th letters in upper case:\"\n",
      "[1] \"V\" \"W\" \"X\"\n"
     ]
    }
   ],
   "source": [
    "print(\"First 10 letters in lower case:\")\n",
    "t = head(letters, 10)\n",
    "print(t)\n",
    "print(\"Last 10 letters in upper case:\")\n",
    "t = tail(LETTERS, 10)\n",
    "print(t)\n",
    "print(\"Letters between 22nd to 24th letters in upper case:\")\n",
    "e = LETTERS[22:24]\n",
    "print(e)"
   ]
  },
  {
   "cell_type": "markdown",
   "id": "af72298b-0929-4a6e-8b09-e15df1d09f4b",
   "metadata": {
    "slideshow": {
     "slide_type": "slide"
    }
   },
   "source": [
    "# Exercise 10.6\n",
    "\n",
    "Write an R program to print the numbers from 1 to 100 and print \"Fizz\" for multiples of 3, print \"Buzz\" for multiples of 5, and print \"FizzBuzz\" for multiples of both."
   ]
  },
  {
   "cell_type": "code",
   "execution_count": 4,
   "id": "ded47bca-df6c-4481-aeed-9534950424ef",
   "metadata": {
    "slideshow": {
     "slide_type": "subslide"
    },
    "vscode": {
     "languageId": "r"
    }
   },
   "outputs": [
    {
     "name": "stdout",
     "output_type": "stream",
     "text": [
      "[1] 1\n",
      "[1] 2\n",
      "[1] \"Fizz\"\n",
      "[1] 4\n",
      "[1] \"Buzz\"\n",
      "[1] \"Fizz\"\n",
      "[1] 7\n",
      "[1] 8\n",
      "[1] \"Fizz\"\n",
      "[1] \"Buzz\"\n",
      "[1] 11\n",
      "[1] \"Fizz\"\n",
      "[1] 13\n",
      "[1] 14\n",
      "[1] \"15 FizzBuzz\"\n",
      "[1] 16\n",
      "[1] 17\n",
      "[1] \"Fizz\"\n",
      "[1] 19\n",
      "[1] \"Buzz\"\n",
      "[1] \"Fizz\"\n",
      "[1] 22\n",
      "[1] 23\n",
      "[1] \"Fizz\"\n",
      "[1] \"Buzz\"\n",
      "[1] 26\n",
      "[1] \"Fizz\"\n",
      "[1] 28\n",
      "[1] 29\n",
      "[1] \"30 FizzBuzz\"\n",
      "[1] 31\n",
      "[1] 32\n",
      "[1] \"Fizz\"\n",
      "[1] 34\n",
      "[1] \"Buzz\"\n",
      "[1] \"Fizz\"\n",
      "[1] 37\n",
      "[1] 38\n",
      "[1] \"Fizz\"\n",
      "[1] \"Buzz\"\n",
      "[1] 41\n",
      "[1] \"Fizz\"\n",
      "[1] 43\n",
      "[1] 44\n",
      "[1] \"45 FizzBuzz\"\n",
      "[1] 46\n",
      "[1] 47\n",
      "[1] \"Fizz\"\n",
      "[1] 49\n",
      "[1] \"Buzz\"\n",
      "[1] \"Fizz\"\n",
      "[1] 52\n",
      "[1] 53\n",
      "[1] \"Fizz\"\n",
      "[1] \"Buzz\"\n",
      "[1] 56\n",
      "[1] \"Fizz\"\n",
      "[1] 58\n",
      "[1] 59\n",
      "[1] \"60 FizzBuzz\"\n",
      "[1] 61\n",
      "[1] 62\n",
      "[1] \"Fizz\"\n",
      "[1] 64\n",
      "[1] \"Buzz\"\n",
      "[1] \"Fizz\"\n",
      "[1] 67\n",
      "[1] 68\n",
      "[1] \"Fizz\"\n",
      "[1] \"Buzz\"\n",
      "[1] 71\n",
      "[1] \"Fizz\"\n",
      "[1] 73\n",
      "[1] 74\n",
      "[1] \"75 FizzBuzz\"\n",
      "[1] 76\n",
      "[1] 77\n",
      "[1] \"Fizz\"\n",
      "[1] 79\n",
      "[1] \"Buzz\"\n",
      "[1] \"Fizz\"\n",
      "[1] 82\n",
      "[1] 83\n",
      "[1] \"Fizz\"\n",
      "[1] \"Buzz\"\n",
      "[1] 86\n",
      "[1] \"Fizz\"\n",
      "[1] 88\n",
      "[1] 89\n",
      "[1] \"90 FizzBuzz\"\n",
      "[1] 91\n",
      "[1] 92\n",
      "[1] \"Fizz\"\n",
      "[1] 94\n",
      "[1] \"Buzz\"\n",
      "[1] \"Fizz\"\n",
      "[1] 97\n",
      "[1] 98\n",
      "[1] \"Fizz\"\n",
      "[1] \"Buzz\"\n"
     ]
    }
   ],
   "source": [
    "for (n in 1:100) {\n",
    " if (n %% 3 == 0 && n %% 5 == 0) {\n",
    "     print(paste(n, \"FizzBuzz\"))\n",
    " }\n",
    " else if (n %% 3 == 0) {\n",
    "     print(\"Fizz\")\n",
    " }\n",
    " else if (n %% 5 == 0) {\n",
    "     print(\"Buzz\")\n",
    " }\n",
    " else print(n)\n",
    "}"
   ]
  },
  {
   "cell_type": "code",
   "execution_count": 35,
   "id": "1dd5bfb6",
   "metadata": {
    "scrolled": true,
    "slideshow": {
     "slide_type": "subslide"
    },
    "vscode": {
     "languageId": "r"
    }
   },
   "outputs": [
    {
     "name": "stdout",
     "output_type": "stream",
     "text": [
      "[1] \"1 \"\n",
      "[1] \"2 \"\n",
      "[1] \"3 Fizz\"\n",
      "[1] \"4 \"\n",
      "[1] \"5 Buzz\"\n",
      "[1] \"6 Fizz\"\n",
      "[1] \"7 \"\n",
      "[1] \"8 \"\n",
      "[1] \"9 Fizz\"\n",
      "[1] \"10 Buzz\"\n",
      "[1] \"11 \"\n",
      "[1] \"12 Fizz\"\n",
      "[1] \"13 \"\n",
      "[1] \"14 \"\n",
      "[1] \"15 FizzBuzz\"\n",
      "[1] \"16 \"\n",
      "[1] \"17 \"\n",
      "[1] \"18 Fizz\"\n",
      "[1] \"19 \"\n",
      "[1] \"20 Buzz\"\n",
      "[1] \"21 Fizz\"\n",
      "[1] \"22 \"\n",
      "[1] \"23 \"\n",
      "[1] \"24 Fizz\"\n",
      "[1] \"25 Buzz\"\n",
      "[1] \"26 \"\n",
      "[1] \"27 Fizz\"\n",
      "[1] \"28 \"\n",
      "[1] \"29 \"\n",
      "[1] \"30 FizzBuzz\"\n",
      "[1] \"31 \"\n",
      "[1] \"32 \"\n",
      "[1] \"33 Fizz\"\n",
      "[1] \"34 \"\n",
      "[1] \"35 Buzz\"\n",
      "[1] \"36 Fizz\"\n",
      "[1] \"37 \"\n",
      "[1] \"38 \"\n",
      "[1] \"39 Fizz\"\n",
      "[1] \"40 Buzz\"\n",
      "[1] \"41 \"\n",
      "[1] \"42 Fizz\"\n",
      "[1] \"43 \"\n",
      "[1] \"44 \"\n",
      "[1] \"45 FizzBuzz\"\n",
      "[1] \"46 \"\n",
      "[1] \"47 \"\n",
      "[1] \"48 Fizz\"\n",
      "[1] \"49 \"\n",
      "[1] \"50 Buzz\"\n",
      "[1] \"51 Fizz\"\n",
      "[1] \"52 \"\n",
      "[1] \"53 \"\n",
      "[1] \"54 Fizz\"\n",
      "[1] \"55 Buzz\"\n",
      "[1] \"56 \"\n",
      "[1] \"57 Fizz\"\n",
      "[1] \"58 \"\n",
      "[1] \"59 \"\n",
      "[1] \"60 FizzBuzz\"\n",
      "[1] \"61 \"\n",
      "[1] \"62 \"\n",
      "[1] \"63 Fizz\"\n",
      "[1] \"64 \"\n",
      "[1] \"65 Buzz\"\n",
      "[1] \"66 Fizz\"\n",
      "[1] \"67 \"\n",
      "[1] \"68 \"\n",
      "[1] \"69 Fizz\"\n",
      "[1] \"70 Buzz\"\n",
      "[1] \"71 \"\n",
      "[1] \"72 Fizz\"\n",
      "[1] \"73 \"\n",
      "[1] \"74 \"\n",
      "[1] \"75 FizzBuzz\"\n",
      "[1] \"76 \"\n",
      "[1] \"77 \"\n",
      "[1] \"78 Fizz\"\n",
      "[1] \"79 \"\n",
      "[1] \"80 Buzz\"\n",
      "[1] \"81 Fizz\"\n",
      "[1] \"82 \"\n",
      "[1] \"83 \"\n",
      "[1] \"84 Fizz\"\n",
      "[1] \"85 Buzz\"\n",
      "[1] \"86 \"\n",
      "[1] \"87 Fizz\"\n",
      "[1] \"88 \"\n",
      "[1] \"89 \"\n",
      "[1] \"90 FizzBuzz\"\n",
      "[1] \"91 \"\n",
      "[1] \"92 \"\n",
      "[1] \"93 Fizz\"\n",
      "[1] \"94 \"\n",
      "[1] \"95 Buzz\"\n",
      "[1] \"96 Fizz\"\n",
      "[1] \"97 \"\n",
      "[1] \"98 \"\n",
      "[1] \"99 Fizz\"\n",
      "[1] \"100 Buzz\"\n"
     ]
    }
   ],
   "source": [
    "for (n in 1:100) {\n",
    "    a <- ''\n",
    "    b <- ''\n",
    " if (n %% 3 == 0) {\n",
    "     a <- \"Fizz\"\n",
    " }\n",
    " if (n %% 5 == 0) {\n",
    "     b <- \"Buzz\"\n",
    " }\n",
    " print(paste(n, ' ', a, b, sep=''))\n",
    "}"
   ]
  },
  {
   "cell_type": "code",
   "execution_count": 32,
   "id": "61c830c1",
   "metadata": {},
   "outputs": [],
   "source": [
    "?paste"
   ]
  },
  {
   "cell_type": "markdown",
   "id": "d5ecf2b1-ecf8-4b1a-a0ed-9a3f64695feb",
   "metadata": {
    "slideshow": {
     "slide_type": "slide"
    }
   },
   "source": [
    "# Exercise 10.7\n",
    "\n",
    "Write an R program to get the unique elements of a given string and unique numbers of vector.\n",
    "\n",
    "Hint: use the `unique()` function."
   ]
  },
  {
   "cell_type": "code",
   "execution_count": 27,
   "id": "28a3503c-5561-4a8a-9c62-ef857c673782",
   "metadata": {
    "slideshow": {
     "slide_type": "skip"
    },
    "vscode": {
     "languageId": "r"
    }
   },
   "outputs": [
    {
     "name": "stdout",
     "output_type": "stream",
     "text": [
      "[1] \"Original vector(string)\"\n",
      "[1] \"The quick brown fox jumps over the lazy dog.\"\n",
      "[1] \"Unique elements of the said vector:\"\n",
      "[1] \"the quick brown fox jumps over the lazy dog.\"\n",
      "[1] \"Original vector(number)\"\n",
      "[1] 1 2 2 3 4 4 5 6\n",
      "[1] \"Unique elements of the said vector:\"\n",
      "[1] 1 2 3 4 5 6\n"
     ]
    }
   ],
   "source": [
    "# THIS IS INCORRECT\n",
    "str1 = \"The quick brown fox jumps over the lazy dog.\"\n",
    "print(\"Original vector(string)\")\n",
    "print(str1)\n",
    "print(\"Unique elements of the said vector:\")\n",
    "print(unique(tolower(str1))) # DOES NOT WORK \n",
    "\n",
    "nums = c(1, 2, 2, 3, 4, 4, 5, 6)\n",
    "print(\"Original vector(number)\")\n",
    "print(nums)\n",
    "print(\"Unique elements of the said vector:\")\n",
    "print(unique(nums))"
   ]
  },
  {
   "cell_type": "code",
   "execution_count": 40,
   "id": "489ab9b6",
   "metadata": {
    "slideshow": {
     "slide_type": "subslide"
    },
    "vscode": {
     "languageId": "r"
    }
   },
   "outputs": [
    {
     "data": {
      "text/html": [
       "<style>\n",
       ".list-inline {list-style: none; margin:0; padding: 0}\n",
       ".list-inline>li {display: inline-block}\n",
       ".list-inline>li:not(:last-child)::after {content: \"\\00b7\"; padding: 0 .5ex}\n",
       "</style>\n",
       "<ol class=list-inline><li>'the'</li><li>'quick'</li><li>'brown'</li><li>'fox'</li><li>'jumps'</li><li>'over'</li><li>'the'</li><li>'lazy'</li><li>'dog.'</li></ol>\n"
      ],
      "text/latex": [
       "\\begin{enumerate*}\n",
       "\\item 'the'\n",
       "\\item 'quick'\n",
       "\\item 'brown'\n",
       "\\item 'fox'\n",
       "\\item 'jumps'\n",
       "\\item 'over'\n",
       "\\item 'the'\n",
       "\\item 'lazy'\n",
       "\\item 'dog.'\n",
       "\\end{enumerate*}\n"
      ],
      "text/markdown": [
       "1. 'the'\n",
       "2. 'quick'\n",
       "3. 'brown'\n",
       "4. 'fox'\n",
       "5. 'jumps'\n",
       "6. 'over'\n",
       "7. 'the'\n",
       "8. 'lazy'\n",
       "9. 'dog.'\n",
       "\n",
       "\n"
      ],
      "text/plain": [
       "[1] \"the\"   \"quick\" \"brown\" \"fox\"   \"jumps\" \"over\"  \"the\"   \"lazy\"  \"dog.\" "
      ]
     },
     "metadata": {},
     "output_type": "display_data"
    },
    {
     "data": {
      "text/html": [
       "<style>\n",
       ".list-inline {list-style: none; margin:0; padding: 0}\n",
       ".list-inline>li {display: inline-block}\n",
       ".list-inline>li:not(:last-child)::after {content: \"\\00b7\"; padding: 0 .5ex}\n",
       "</style>\n",
       "<ol class=list-inline><li>'the'</li><li>'quick'</li><li>'brown'</li><li>'fox'</li><li>'jumps'</li><li>'over'</li><li>'lazy'</li><li>'dog.'</li></ol>\n"
      ],
      "text/latex": [
       "\\begin{enumerate*}\n",
       "\\item 'the'\n",
       "\\item 'quick'\n",
       "\\item 'brown'\n",
       "\\item 'fox'\n",
       "\\item 'jumps'\n",
       "\\item 'over'\n",
       "\\item 'lazy'\n",
       "\\item 'dog.'\n",
       "\\end{enumerate*}\n"
      ],
      "text/markdown": [
       "1. 'the'\n",
       "2. 'quick'\n",
       "3. 'brown'\n",
       "4. 'fox'\n",
       "5. 'jumps'\n",
       "6. 'over'\n",
       "7. 'lazy'\n",
       "8. 'dog.'\n",
       "\n",
       "\n"
      ],
      "text/plain": [
       "[1] \"the\"   \"quick\" \"brown\" \"fox\"   \"jumps\" \"over\"  \"lazy\"  \"dog.\" "
      ]
     },
     "metadata": {},
     "output_type": "display_data"
    }
   ],
   "source": [
    "str1 <- \"The quick brown fox jumps over the lazy dog.\"\n",
    "sv1 <- unlist(strsplit(tolower(str1), ' '))\n",
    "sv1\n",
    "unique(sv1)"
   ]
  },
  {
   "cell_type": "markdown",
   "id": "13ff0e88",
   "metadata": {
    "slideshow": {
     "slide_type": "-"
    }
   },
   "source": [
    "Note that `unlist()` converts a list into a vector. \n",
    "\n",
    "We use it because `unique()` wants a vector as an argument."
   ]
  },
  {
   "cell_type": "code",
   "execution_count": 41,
   "id": "5bc15892",
   "metadata": {
    "slideshow": {
     "slide_type": "subslide"
    },
    "vscode": {
     "languageId": "r"
    }
   },
   "outputs": [
    {
     "data": {
      "text/html": [
       "<style>\n",
       ".list-inline {list-style: none; margin:0; padding: 0}\n",
       ".list-inline>li {display: inline-block}\n",
       ".list-inline>li:not(:last-child)::after {content: \"\\00b7\"; padding: 0 .5ex}\n",
       "</style>\n",
       "<ol class=list-inline><li>1</li><li>2</li><li>2</li><li>3</li><li>4</li><li>4</li><li>5</li><li>6</li></ol>\n"
      ],
      "text/latex": [
       "\\begin{enumerate*}\n",
       "\\item 1\n",
       "\\item 2\n",
       "\\item 2\n",
       "\\item 3\n",
       "\\item 4\n",
       "\\item 4\n",
       "\\item 5\n",
       "\\item 6\n",
       "\\end{enumerate*}\n"
      ],
      "text/markdown": [
       "1. 1\n",
       "2. 2\n",
       "3. 2\n",
       "4. 3\n",
       "5. 4\n",
       "6. 4\n",
       "7. 5\n",
       "8. 6\n",
       "\n",
       "\n"
      ],
      "text/plain": [
       "[1] 1 2 2 3 4 4 5 6"
      ]
     },
     "metadata": {},
     "output_type": "display_data"
    },
    {
     "data": {
      "text/html": [
       "<style>\n",
       ".list-inline {list-style: none; margin:0; padding: 0}\n",
       ".list-inline>li {display: inline-block}\n",
       ".list-inline>li:not(:last-child)::after {content: \"\\00b7\"; padding: 0 .5ex}\n",
       "</style>\n",
       "<ol class=list-inline><li>1</li><li>2</li><li>3</li><li>4</li><li>5</li><li>6</li></ol>\n"
      ],
      "text/latex": [
       "\\begin{enumerate*}\n",
       "\\item 1\n",
       "\\item 2\n",
       "\\item 3\n",
       "\\item 4\n",
       "\\item 5\n",
       "\\item 6\n",
       "\\end{enumerate*}\n"
      ],
      "text/markdown": [
       "1. 1\n",
       "2. 2\n",
       "3. 3\n",
       "4. 4\n",
       "5. 5\n",
       "6. 6\n",
       "\n",
       "\n"
      ],
      "text/plain": [
       "[1] 1 2 3 4 5 6"
      ]
     },
     "metadata": {},
     "output_type": "display_data"
    }
   ],
   "source": [
    "nums = c(1, 2, 2, 3, 4, 4, 5, 6)\n",
    "nums\n",
    "unique(nums)"
   ]
  },
  {
   "cell_type": "markdown",
   "id": "77b2341c-d363-434a-b9ea-5d3e4354e11a",
   "metadata": {
    "slideshow": {
     "slide_type": "slide"
    }
   },
   "source": [
    "# Exercise 10.8\n",
    "\n",
    "Write an R program to find the maximum and the minimum value of a given vector.\n",
    "\n",
    "Hint: use the `max()` and `min()` functions."
   ]
  },
  {
   "cell_type": "code",
   "execution_count": 42,
   "id": "b7b759ea-fef8-46a3-b35c-678432e923d0",
   "metadata": {
    "slideshow": {
     "slide_type": "subslide"
    },
    "vscode": {
     "languageId": "r"
    }
   },
   "outputs": [
    {
     "name": "stdout",
     "output_type": "stream",
     "text": [
      "[1] \"Original vector:\"\n",
      "[1] 10 20 30 40 50 60\n",
      "[1] \"Maximum value of the said vector: 60\"\n",
      "[1] \"Minimum value of the said vector: 10\"\n"
     ]
    }
   ],
   "source": [
    "nums = c(10, 20, 30, 40, 50, 60)\n",
    "print('Original vector:')\n",
    "print(nums)   \n",
    "print(paste(\"Maximum value of the said vector:\",max(nums)))\n",
    "print(paste(\"Minimum value of the said vector:\",min(nums)))"
   ]
  },
  {
   "cell_type": "markdown",
   "id": "bb61e2a6-f8e5-40de-ae01-8eaae0cb1040",
   "metadata": {
    "slideshow": {
     "slide_type": "slide"
    }
   },
   "source": [
    "# Exercise 10.9\n",
    "\n",
    "Write an R program to create a sequence of numbers from 20 to 50 and find the mean of numbers from 20 to 60 and sum of numbers from 51 to 91.\n",
    "\n",
    "Hint: Use `seq()`, `mean()`, and `sum()`."
   ]
  },
  {
   "cell_type": "code",
   "execution_count": 10,
   "id": "57ea3c1f-9222-4b6e-af72-975d2016cc89",
   "metadata": {
    "scrolled": false,
    "slideshow": {
     "slide_type": "subslide"
    },
    "vscode": {
     "languageId": "r"
    }
   },
   "outputs": [
    {
     "name": "stdout",
     "output_type": "stream",
     "text": [
      "[1] \"Sequence of numbers from 20 to 50:\"\n",
      " [1] 20 21 22 23 24 25 26 27 28 29 30 31 32 33 34 35 36 37 38 39 40 41 42 43 44\n",
      "[26] 45 46 47 48 49 50\n",
      "[1] \"Mean of numbers from 20 to 60:\"\n",
      "[1] 40\n",
      "[1] \"Sum of numbers from 51 to 91:\"\n",
      "[1] 2911\n"
     ]
    }
   ],
   "source": [
    "print(\"Sequence of numbers from 20 to 50:\")\n",
    "print(seq(20,50))\n",
    "print(\"Mean of numbers from 20 to 60:\")\n",
    "print(mean(20:60))\n",
    "print(\"Sum of numbers from 51 to 91:\")\n",
    "print(sum(51:91))"
   ]
  },
  {
   "cell_type": "code",
   "execution_count": 49,
   "id": "945731e9",
   "metadata": {},
   "outputs": [
    {
     "data": {
      "text/html": [
       "<style>\n",
       ".list-inline {list-style: none; margin:0; padding: 0}\n",
       ".list-inline>li {display: inline-block}\n",
       ".list-inline>li:not(:last-child)::after {content: \"\\00b7\"; padding: 0 .5ex}\n",
       "</style>\n",
       "<ol class=list-inline><li>1</li><li>2</li><li>3</li><li>4</li><li>5</li></ol>\n"
      ],
      "text/latex": [
       "\\begin{enumerate*}\n",
       "\\item 1\n",
       "\\item 2\n",
       "\\item 3\n",
       "\\item 4\n",
       "\\item 5\n",
       "\\end{enumerate*}\n"
      ],
      "text/markdown": [
       "1. 1\n",
       "2. 2\n",
       "3. 3\n",
       "4. 4\n",
       "5. 5\n",
       "\n",
       "\n"
      ],
      "text/plain": [
       "[1] 1 2 3 4 5"
      ]
     },
     "metadata": {},
     "output_type": "display_data"
    },
    {
     "data": {
      "text/html": [
       "<style>\n",
       ".list-inline {list-style: none; margin:0; padding: 0}\n",
       ".list-inline>li {display: inline-block}\n",
       ".list-inline>li:not(:last-child)::after {content: \"\\00b7\"; padding: 0 .5ex}\n",
       "</style>\n",
       "<ol class=list-inline><li>6</li><li>7</li><li>8</li><li>9</li><li>10</li></ol>\n"
      ],
      "text/latex": [
       "\\begin{enumerate*}\n",
       "\\item 6\n",
       "\\item 7\n",
       "\\item 8\n",
       "\\item 9\n",
       "\\item 10\n",
       "\\end{enumerate*}\n"
      ],
      "text/markdown": [
       "1. 6\n",
       "2. 7\n",
       "3. 8\n",
       "4. 9\n",
       "5. 10\n",
       "\n",
       "\n"
      ],
      "text/plain": [
       "[1]  6  7  8  9 10"
      ]
     },
     "metadata": {},
     "output_type": "display_data"
    },
    {
     "data": {
      "text/html": [
       "40"
      ],
      "text/latex": [
       "40"
      ],
      "text/markdown": [
       "40"
      ],
      "text/plain": [
       "[1] 40"
      ]
     },
     "metadata": {},
     "output_type": "display_data"
    },
    {
     "data": {
      "text/html": [
       "861"
      ],
      "text/latex": [
       "861"
      ],
      "text/markdown": [
       "861"
      ],
      "text/plain": [
       "[1] 861"
      ]
     },
     "metadata": {},
     "output_type": "display_data"
    }
   ],
   "source": [
    "mean(seq(20,60))\n",
    "sum(seq(51:91))"
   ]
  },
  {
   "cell_type": "code",
   "execution_count": 50,
   "id": "33fdc22a",
   "metadata": {},
   "outputs": [
    {
     "data": {
      "text/html": [
       "<style>\n",
       ".list-inline {list-style: none; margin:0; padding: 0}\n",
       ".list-inline>li {display: inline-block}\n",
       ".list-inline>li:not(:last-child)::after {content: \"\\00b7\"; padding: 0 .5ex}\n",
       "</style>\n",
       "<ol class=list-inline><li>1</li><li>2</li><li>3</li><li>4</li><li>5</li></ol>\n"
      ],
      "text/latex": [
       "\\begin{enumerate*}\n",
       "\\item 1\n",
       "\\item 2\n",
       "\\item 3\n",
       "\\item 4\n",
       "\\item 5\n",
       "\\end{enumerate*}\n"
      ],
      "text/markdown": [
       "1. 1\n",
       "2. 2\n",
       "3. 3\n",
       "4. 4\n",
       "5. 5\n",
       "\n",
       "\n"
      ],
      "text/plain": [
       "[1] 1 2 3 4 5"
      ]
     },
     "metadata": {},
     "output_type": "display_data"
    },
    {
     "data": {
      "text/html": [
       "<style>\n",
       ".list-inline {list-style: none; margin:0; padding: 0}\n",
       ".list-inline>li {display: inline-block}\n",
       ".list-inline>li:not(:last-child)::after {content: \"\\00b7\"; padding: 0 .5ex}\n",
       "</style>\n",
       "<ol class=list-inline><li>6</li><li>7</li><li>8</li><li>9</li><li>10</li></ol>\n"
      ],
      "text/latex": [
       "\\begin{enumerate*}\n",
       "\\item 6\n",
       "\\item 7\n",
       "\\item 8\n",
       "\\item 9\n",
       "\\item 10\n",
       "\\end{enumerate*}\n"
      ],
      "text/markdown": [
       "1. 6\n",
       "2. 7\n",
       "3. 8\n",
       "4. 9\n",
       "5. 10\n",
       "\n",
       "\n"
      ],
      "text/plain": [
       "[1]  6  7  8  9 10"
      ]
     },
     "metadata": {},
     "output_type": "display_data"
    }
   ],
   "source": [
    "seq(6:10)\n",
    "seq(6,10)"
   ]
  },
  {
   "cell_type": "markdown",
   "id": "9f1ac6be-36be-46cd-a707-78d8db2109d7",
   "metadata": {
    "slideshow": {
     "slide_type": "slide"
    }
   },
   "source": [
    "# Exercise 10.10\n",
    "\n",
    "Write a R program to create a data frame from four given vectors."
   ]
  },
  {
   "cell_type": "code",
   "execution_count": null,
   "id": "23e9c9cc",
   "metadata": {
    "slideshow": {
     "slide_type": "subslide"
    },
    "vscode": {
     "languageId": "r"
    }
   },
   "outputs": [],
   "source": [
    "name = c('Anastasia', 'Dima', 'Katherine', 'James', 'Emily', 'Michael', 'Matthew', 'Laura', 'Kevin', 'Jonas')\n",
    "score = c(12.5, 9, 16.5, 12, 9, 20, 14.5, 13.5, 8, 19)\n",
    "attempts = c(1, 3, 2, 3, 2, 3, 1, 1, 2, 1)\n",
    "qualify = c('yes', 'no', 'yes', 'no', 'no', 'yes', 'yes', 'no', 'no', 'yes')"
   ]
  },
  {
   "cell_type": "code",
   "execution_count": 20,
   "id": "064243a6",
   "metadata": {
    "slideshow": {
     "slide_type": "-"
    },
    "vscode": {
     "languageId": "r"
    }
   },
   "outputs": [
    {
     "name": "stdout",
     "output_type": "stream",
     "text": [
      " [1] \"Anastasia\" \"Dima\"      \"Katherine\" \"James\"     \"Emily\"     \"Michael\"  \n",
      " [7] \"Matthew\"   \"Laura\"     \"Kevin\"     \"Jonas\"    \n"
     ]
    }
   ],
   "source": [
    "print(name)"
   ]
  },
  {
   "cell_type": "code",
   "execution_count": 21,
   "id": "e5076825",
   "metadata": {
    "slideshow": {
     "slide_type": "-"
    },
    "vscode": {
     "languageId": "r"
    }
   },
   "outputs": [
    {
     "name": "stdout",
     "output_type": "stream",
     "text": [
      " [1] 12.5  9.0 16.5 12.0  9.0 20.0 14.5 13.5  8.0 19.0\n"
     ]
    }
   ],
   "source": [
    "print(score)"
   ]
  },
  {
   "cell_type": "code",
   "execution_count": 22,
   "id": "b5ed124a",
   "metadata": {
    "slideshow": {
     "slide_type": "-"
    },
    "vscode": {
     "languageId": "r"
    }
   },
   "outputs": [
    {
     "name": "stdout",
     "output_type": "stream",
     "text": [
      " [1] 1 3 2 3 2 3 1 1 2 1\n"
     ]
    }
   ],
   "source": [
    "print(attempts)"
   ]
  },
  {
   "cell_type": "code",
   "execution_count": 23,
   "id": "3db7e5a7",
   "metadata": {
    "slideshow": {
     "slide_type": "-"
    },
    "vscode": {
     "languageId": "r"
    }
   },
   "outputs": [
    {
     "name": "stdout",
     "output_type": "stream",
     "text": [
      " [1] \"yes\" \"no\"  \"yes\" \"no\"  \"no\"  \"yes\" \"yes\" \"no\"  \"no\"  \"yes\"\n"
     ]
    }
   ],
   "source": [
    "print(qualify)"
   ]
  },
  {
   "cell_type": "code",
   "execution_count": 24,
   "id": "5ba83ee6-9c77-45ab-a722-158c79a4964e",
   "metadata": {
    "scrolled": false,
    "slideshow": {
     "slide_type": "-"
    },
    "vscode": {
     "languageId": "r"
    }
   },
   "outputs": [
    {
     "data": {
      "text/html": [
       "<table class=\"dataframe\">\n",
       "<caption>A data.frame: 10 × 4</caption>\n",
       "<thead>\n",
       "\t<tr><th scope=col>name</th><th scope=col>score</th><th scope=col>attempts</th><th scope=col>qualify</th></tr>\n",
       "\t<tr><th scope=col>&lt;chr&gt;</th><th scope=col>&lt;dbl&gt;</th><th scope=col>&lt;dbl&gt;</th><th scope=col>&lt;chr&gt;</th></tr>\n",
       "</thead>\n",
       "<tbody>\n",
       "\t<tr><td>Anastasia</td><td>12.5</td><td>1</td><td>yes</td></tr>\n",
       "\t<tr><td>Dima     </td><td> 9.0</td><td>3</td><td>no </td></tr>\n",
       "\t<tr><td>Katherine</td><td>16.5</td><td>2</td><td>yes</td></tr>\n",
       "\t<tr><td>James    </td><td>12.0</td><td>3</td><td>no </td></tr>\n",
       "\t<tr><td>Emily    </td><td> 9.0</td><td>2</td><td>no </td></tr>\n",
       "\t<tr><td>Michael  </td><td>20.0</td><td>3</td><td>yes</td></tr>\n",
       "\t<tr><td>Matthew  </td><td>14.5</td><td>1</td><td>yes</td></tr>\n",
       "\t<tr><td>Laura    </td><td>13.5</td><td>1</td><td>no </td></tr>\n",
       "\t<tr><td>Kevin    </td><td> 8.0</td><td>2</td><td>no </td></tr>\n",
       "\t<tr><td>Jonas    </td><td>19.0</td><td>1</td><td>yes</td></tr>\n",
       "</tbody>\n",
       "</table>\n"
      ],
      "text/latex": [
       "A data.frame: 10 × 4\n",
       "\\begin{tabular}{llll}\n",
       " name & score & attempts & qualify\\\\\n",
       " <chr> & <dbl> & <dbl> & <chr>\\\\\n",
       "\\hline\n",
       "\t Anastasia & 12.5 & 1 & yes\\\\\n",
       "\t Dima      &  9.0 & 3 & no \\\\\n",
       "\t Katherine & 16.5 & 2 & yes\\\\\n",
       "\t James     & 12.0 & 3 & no \\\\\n",
       "\t Emily     &  9.0 & 2 & no \\\\\n",
       "\t Michael   & 20.0 & 3 & yes\\\\\n",
       "\t Matthew   & 14.5 & 1 & yes\\\\\n",
       "\t Laura     & 13.5 & 1 & no \\\\\n",
       "\t Kevin     &  8.0 & 2 & no \\\\\n",
       "\t Jonas     & 19.0 & 1 & yes\\\\\n",
       "\\end{tabular}\n"
      ],
      "text/markdown": [
       "\n",
       "A data.frame: 10 × 4\n",
       "\n",
       "| name &lt;chr&gt; | score &lt;dbl&gt; | attempts &lt;dbl&gt; | qualify &lt;chr&gt; |\n",
       "|---|---|---|---|\n",
       "| Anastasia | 12.5 | 1 | yes |\n",
       "| Dima      |  9.0 | 3 | no  |\n",
       "| Katherine | 16.5 | 2 | yes |\n",
       "| James     | 12.0 | 3 | no  |\n",
       "| Emily     |  9.0 | 2 | no  |\n",
       "| Michael   | 20.0 | 3 | yes |\n",
       "| Matthew   | 14.5 | 1 | yes |\n",
       "| Laura     | 13.5 | 1 | no  |\n",
       "| Kevin     |  8.0 | 2 | no  |\n",
       "| Jonas     | 19.0 | 1 | yes |\n",
       "\n"
      ],
      "text/plain": [
       "   name      score attempts qualify\n",
       "1  Anastasia 12.5  1        yes    \n",
       "2  Dima       9.0  3        no     \n",
       "3  Katherine 16.5  2        yes    \n",
       "4  James     12.0  3        no     \n",
       "5  Emily      9.0  2        no     \n",
       "6  Michael   20.0  3        yes    \n",
       "7  Matthew   14.5  1        yes    \n",
       "8  Laura     13.5  1        no     \n",
       "9  Kevin      8.0  2        no     \n",
       "10 Jonas     19.0  1        yes    "
      ]
     },
     "metadata": {},
     "output_type": "display_data"
    }
   ],
   "source": [
    "df = data.frame(name, score, attempts, qualify)  \n",
    "df"
   ]
  },
  {
   "cell_type": "code",
   "execution_count": 25,
   "id": "79731789",
   "metadata": {
    "vscode": {
     "languageId": "r"
    }
   },
   "outputs": [
    {
     "name": "stdout",
     "output_type": "stream",
     "text": [
      "        name score attempts qualify\n",
      "1  Anastasia  12.5        1     yes\n",
      "2       Dima   9.0        3      no\n",
      "3  Katherine  16.5        2     yes\n",
      "4      James  12.0        3      no\n",
      "5      Emily   9.0        2      no\n",
      "6    Michael  20.0        3     yes\n",
      "7    Matthew  14.5        1     yes\n",
      "8      Laura  13.5        1      no\n",
      "9      Kevin   8.0        2      no\n",
      "10     Jonas  19.0        1     yes\n"
     ]
    }
   ],
   "source": [
    "print(df)"
   ]
  },
  {
   "cell_type": "markdown",
   "id": "095e8d4d-6d8b-4c99-99a4-414c778c54f3",
   "metadata": {
    "slideshow": {
     "slide_type": "slide"
    }
   },
   "source": [
    "# Exercise 10.11\n",
    "\n",
    "Write a R program to extract 3rd and 5th rows with 1st and 3rd columns from the built in `airquality` data frame."
   ]
  },
  {
   "cell_type": "code",
   "execution_count": 26,
   "id": "fd9be43e-6e85-4673-a43f-dc84d15dca01",
   "metadata": {
    "slideshow": {
     "slide_type": "subslide"
    },
    "vscode": {
     "languageId": "r"
    }
   },
   "outputs": [
    {
     "data": {
      "text/html": [
       "<table class=\"dataframe\">\n",
       "<caption>A data.frame: 6 × 6</caption>\n",
       "<thead>\n",
       "\t<tr><th></th><th scope=col>Ozone</th><th scope=col>Solar.R</th><th scope=col>Wind</th><th scope=col>Temp</th><th scope=col>Month</th><th scope=col>Day</th></tr>\n",
       "\t<tr><th></th><th scope=col>&lt;int&gt;</th><th scope=col>&lt;int&gt;</th><th scope=col>&lt;dbl&gt;</th><th scope=col>&lt;int&gt;</th><th scope=col>&lt;int&gt;</th><th scope=col>&lt;int&gt;</th></tr>\n",
       "</thead>\n",
       "<tbody>\n",
       "\t<tr><th scope=row>1</th><td>41</td><td>190</td><td> 7.4</td><td>67</td><td>5</td><td>1</td></tr>\n",
       "\t<tr><th scope=row>2</th><td>36</td><td>118</td><td> 8.0</td><td>72</td><td>5</td><td>2</td></tr>\n",
       "\t<tr><th scope=row>3</th><td>12</td><td>149</td><td>12.6</td><td>74</td><td>5</td><td>3</td></tr>\n",
       "\t<tr><th scope=row>4</th><td>18</td><td>313</td><td>11.5</td><td>62</td><td>5</td><td>4</td></tr>\n",
       "\t<tr><th scope=row>5</th><td>NA</td><td> NA</td><td>14.3</td><td>56</td><td>5</td><td>5</td></tr>\n",
       "\t<tr><th scope=row>6</th><td>28</td><td> NA</td><td>14.9</td><td>66</td><td>5</td><td>6</td></tr>\n",
       "</tbody>\n",
       "</table>\n"
      ],
      "text/latex": [
       "A data.frame: 6 × 6\n",
       "\\begin{tabular}{r|llllll}\n",
       "  & Ozone & Solar.R & Wind & Temp & Month & Day\\\\\n",
       "  & <int> & <int> & <dbl> & <int> & <int> & <int>\\\\\n",
       "\\hline\n",
       "\t1 & 41 & 190 &  7.4 & 67 & 5 & 1\\\\\n",
       "\t2 & 36 & 118 &  8.0 & 72 & 5 & 2\\\\\n",
       "\t3 & 12 & 149 & 12.6 & 74 & 5 & 3\\\\\n",
       "\t4 & 18 & 313 & 11.5 & 62 & 5 & 4\\\\\n",
       "\t5 & NA &  NA & 14.3 & 56 & 5 & 5\\\\\n",
       "\t6 & 28 &  NA & 14.9 & 66 & 5 & 6\\\\\n",
       "\\end{tabular}\n"
      ],
      "text/markdown": [
       "\n",
       "A data.frame: 6 × 6\n",
       "\n",
       "| <!--/--> | Ozone &lt;int&gt; | Solar.R &lt;int&gt; | Wind &lt;dbl&gt; | Temp &lt;int&gt; | Month &lt;int&gt; | Day &lt;int&gt; |\n",
       "|---|---|---|---|---|---|---|\n",
       "| 1 | 41 | 190 |  7.4 | 67 | 5 | 1 |\n",
       "| 2 | 36 | 118 |  8.0 | 72 | 5 | 2 |\n",
       "| 3 | 12 | 149 | 12.6 | 74 | 5 | 3 |\n",
       "| 4 | 18 | 313 | 11.5 | 62 | 5 | 4 |\n",
       "| 5 | NA |  NA | 14.3 | 56 | 5 | 5 |\n",
       "| 6 | 28 |  NA | 14.9 | 66 | 5 | 6 |\n",
       "\n"
      ],
      "text/plain": [
       "  Ozone Solar.R Wind Temp Month Day\n",
       "1 41    190      7.4 67   5     1  \n",
       "2 36    118      8.0 72   5     2  \n",
       "3 12    149     12.6 74   5     3  \n",
       "4 18    313     11.5 62   5     4  \n",
       "5 NA     NA     14.3 56   5     5  \n",
       "6 28     NA     14.9 66   5     6  "
      ]
     },
     "metadata": {},
     "output_type": "display_data"
    }
   ],
   "source": [
    "head(airquality)"
   ]
  },
  {
   "cell_type": "markdown",
   "id": "9210701c-82fc-491a-8a0e-6ff266b0ea33",
   "metadata": {
    "slideshow": {
     "slide_type": "-"
    }
   },
   "source": [
    "Extract 3rd and 5th rows with 1st and 3rd columns:"
   ]
  },
  {
   "cell_type": "code",
   "execution_count": 27,
   "id": "bb362be3-6380-4f4c-96b1-c150b80e4508",
   "metadata": {
    "slideshow": {
     "slide_type": "-"
    },
    "vscode": {
     "languageId": "r"
    }
   },
   "outputs": [
    {
     "data": {
      "text/html": [
       "<table class=\"dataframe\">\n",
       "<caption>A data.frame: 2 × 2</caption>\n",
       "<thead>\n",
       "\t<tr><th></th><th scope=col>Ozone</th><th scope=col>Wind</th></tr>\n",
       "\t<tr><th></th><th scope=col>&lt;int&gt;</th><th scope=col>&lt;dbl&gt;</th></tr>\n",
       "</thead>\n",
       "<tbody>\n",
       "\t<tr><th scope=row>3</th><td>12</td><td>12.6</td></tr>\n",
       "\t<tr><th scope=row>5</th><td>NA</td><td>14.3</td></tr>\n",
       "</tbody>\n",
       "</table>\n"
      ],
      "text/latex": [
       "A data.frame: 2 × 2\n",
       "\\begin{tabular}{r|ll}\n",
       "  & Ozone & Wind\\\\\n",
       "  & <int> & <dbl>\\\\\n",
       "\\hline\n",
       "\t3 & 12 & 12.6\\\\\n",
       "\t5 & NA & 14.3\\\\\n",
       "\\end{tabular}\n"
      ],
      "text/markdown": [
       "\n",
       "A data.frame: 2 × 2\n",
       "\n",
       "| <!--/--> | Ozone &lt;int&gt; | Wind &lt;dbl&gt; |\n",
       "|---|---|---|\n",
       "| 3 | 12 | 12.6 |\n",
       "| 5 | NA | 14.3 |\n",
       "\n"
      ],
      "text/plain": [
       "  Ozone Wind\n",
       "3 12    12.6\n",
       "5 NA    14.3"
      ]
     },
     "metadata": {},
     "output_type": "display_data"
    }
   ],
   "source": [
    "airquality[c(3,5), c(1,3)]"
   ]
  },
  {
   "cell_type": "markdown",
   "id": "fe5f6566",
   "metadata": {
    "slideshow": {
     "slide_type": "slide"
    }
   },
   "source": [
    "# Exercise 10.12\n",
    "\n",
    "Use the built-in data frame `mtcars` and create a plot to compare `mpg`, `cyl` (number of cylinders), and `hp` (horsepower)."
   ]
  },
  {
   "cell_type": "code",
   "execution_count": 51,
   "id": "1c5ded4d",
   "metadata": {
    "scrolled": true,
    "slideshow": {
     "slide_type": "subslide"
    },
    "vscode": {
     "languageId": "r"
    }
   },
   "outputs": [
    {
     "data": {
      "image/png": "[encoded data removed]",
      "text/plain": [
       "plot without title"
      ]
     },
     "metadata": {
      "image/png": {
       "height": 420,
       "width": 420
      }
     },
     "output_type": "display_data"
    }
   ],
   "source": [
    "plot(mtcars[, c('hp', 'cyl', 'mpg')])"
   ]
  },
  {
   "cell_type": "code",
   "execution_count": 45,
   "id": "30acb4a3",
   "metadata": {
    "slideshow": {
     "slide_type": "skip"
    },
    "vscode": {
     "languageId": "r"
    }
   },
   "outputs": [
    {
     "data": {
      "text/html": [
       "<table class=\"dataframe\">\n",
       "<caption>A data.frame: 32 × 11</caption>\n",
       "<thead>\n",
       "\t<tr><th></th><th scope=col>mpg</th><th scope=col>cyl</th><th scope=col>disp</th><th scope=col>hp</th><th scope=col>drat</th><th scope=col>wt</th><th scope=col>qsec</th><th scope=col>vs</th><th scope=col>am</th><th scope=col>gear</th><th scope=col>carb</th></tr>\n",
       "\t<tr><th></th><th scope=col>&lt;dbl&gt;</th><th scope=col>&lt;dbl&gt;</th><th scope=col>&lt;dbl&gt;</th><th scope=col>&lt;dbl&gt;</th><th scope=col>&lt;dbl&gt;</th><th scope=col>&lt;dbl&gt;</th><th scope=col>&lt;dbl&gt;</th><th scope=col>&lt;dbl&gt;</th><th scope=col>&lt;dbl&gt;</th><th scope=col>&lt;dbl&gt;</th><th scope=col>&lt;dbl&gt;</th></tr>\n",
       "</thead>\n",
       "<tbody>\n",
       "\t<tr><th scope=row>Mazda RX4</th><td>21.0</td><td>6</td><td>160.0</td><td>110</td><td>3.90</td><td>2.620</td><td>16.46</td><td>0</td><td>1</td><td>4</td><td>4</td></tr>\n",
       "\t<tr><th scope=row>Mazda RX4 Wag</th><td>21.0</td><td>6</td><td>160.0</td><td>110</td><td>3.90</td><td>2.875</td><td>17.02</td><td>0</td><td>1</td><td>4</td><td>4</td></tr>\n",
       "\t<tr><th scope=row>Datsun 710</th><td>22.8</td><td>4</td><td>108.0</td><td> 93</td><td>3.85</td><td>2.320</td><td>18.61</td><td>1</td><td>1</td><td>4</td><td>1</td></tr>\n",
       "\t<tr><th scope=row>Hornet 4 Drive</th><td>21.4</td><td>6</td><td>258.0</td><td>110</td><td>3.08</td><td>3.215</td><td>19.44</td><td>1</td><td>0</td><td>3</td><td>1</td></tr>\n",
       "\t<tr><th scope=row>Hornet Sportabout</th><td>18.7</td><td>8</td><td>360.0</td><td>175</td><td>3.15</td><td>3.440</td><td>17.02</td><td>0</td><td>0</td><td>3</td><td>2</td></tr>\n",
       "\t<tr><th scope=row>Valiant</th><td>18.1</td><td>6</td><td>225.0</td><td>105</td><td>2.76</td><td>3.460</td><td>20.22</td><td>1</td><td>0</td><td>3</td><td>1</td></tr>\n",
       "\t<tr><th scope=row>Duster 360</th><td>14.3</td><td>8</td><td>360.0</td><td>245</td><td>3.21</td><td>3.570</td><td>15.84</td><td>0</td><td>0</td><td>3</td><td>4</td></tr>\n",
       "\t<tr><th scope=row>Merc 240D</th><td>24.4</td><td>4</td><td>146.7</td><td> 62</td><td>3.69</td><td>3.190</td><td>20.00</td><td>1</td><td>0</td><td>4</td><td>2</td></tr>\n",
       "\t<tr><th scope=row>Merc 230</th><td>22.8</td><td>4</td><td>140.8</td><td> 95</td><td>3.92</td><td>3.150</td><td>22.90</td><td>1</td><td>0</td><td>4</td><td>2</td></tr>\n",
       "\t<tr><th scope=row>Merc 280</th><td>19.2</td><td>6</td><td>167.6</td><td>123</td><td>3.92</td><td>3.440</td><td>18.30</td><td>1</td><td>0</td><td>4</td><td>4</td></tr>\n",
       "\t<tr><th scope=row>Merc 280C</th><td>17.8</td><td>6</td><td>167.6</td><td>123</td><td>3.92</td><td>3.440</td><td>18.90</td><td>1</td><td>0</td><td>4</td><td>4</td></tr>\n",
       "\t<tr><th scope=row>Merc 450SE</th><td>16.4</td><td>8</td><td>275.8</td><td>180</td><td>3.07</td><td>4.070</td><td>17.40</td><td>0</td><td>0</td><td>3</td><td>3</td></tr>\n",
       "\t<tr><th scope=row>Merc 450SL</th><td>17.3</td><td>8</td><td>275.8</td><td>180</td><td>3.07</td><td>3.730</td><td>17.60</td><td>0</td><td>0</td><td>3</td><td>3</td></tr>\n",
       "\t<tr><th scope=row>Merc 450SLC</th><td>15.2</td><td>8</td><td>275.8</td><td>180</td><td>3.07</td><td>3.780</td><td>18.00</td><td>0</td><td>0</td><td>3</td><td>3</td></tr>\n",
       "\t<tr><th scope=row>Cadillac Fleetwood</th><td>10.4</td><td>8</td><td>472.0</td><td>205</td><td>2.93</td><td>5.250</td><td>17.98</td><td>0</td><td>0</td><td>3</td><td>4</td></tr>\n",
       "\t<tr><th scope=row>Lincoln Continental</th><td>10.4</td><td>8</td><td>460.0</td><td>215</td><td>3.00</td><td>5.424</td><td>17.82</td><td>0</td><td>0</td><td>3</td><td>4</td></tr>\n",
       "\t<tr><th scope=row>Chrysler Imperial</th><td>14.7</td><td>8</td><td>440.0</td><td>230</td><td>3.23</td><td>5.345</td><td>17.42</td><td>0</td><td>0</td><td>3</td><td>4</td></tr>\n",
       "\t<tr><th scope=row>Fiat 128</th><td>32.4</td><td>4</td><td> 78.7</td><td> 66</td><td>4.08</td><td>2.200</td><td>19.47</td><td>1</td><td>1</td><td>4</td><td>1</td></tr>\n",
       "\t<tr><th scope=row>Honda Civic</th><td>30.4</td><td>4</td><td> 75.7</td><td> 52</td><td>4.93</td><td>1.615</td><td>18.52</td><td>1</td><td>1</td><td>4</td><td>2</td></tr>\n",
       "\t<tr><th scope=row>Toyota Corolla</th><td>33.9</td><td>4</td><td> 71.1</td><td> 65</td><td>4.22</td><td>1.835</td><td>19.90</td><td>1</td><td>1</td><td>4</td><td>1</td></tr>\n",
       "\t<tr><th scope=row>Toyota Corona</th><td>21.5</td><td>4</td><td>120.1</td><td> 97</td><td>3.70</td><td>2.465</td><td>20.01</td><td>1</td><td>0</td><td>3</td><td>1</td></tr>\n",
       "\t<tr><th scope=row>Dodge Challenger</th><td>15.5</td><td>8</td><td>318.0</td><td>150</td><td>2.76</td><td>3.520</td><td>16.87</td><td>0</td><td>0</td><td>3</td><td>2</td></tr>\n",
       "\t<tr><th scope=row>AMC Javelin</th><td>15.2</td><td>8</td><td>304.0</td><td>150</td><td>3.15</td><td>3.435</td><td>17.30</td><td>0</td><td>0</td><td>3</td><td>2</td></tr>\n",
       "\t<tr><th scope=row>Camaro Z28</th><td>13.3</td><td>8</td><td>350.0</td><td>245</td><td>3.73</td><td>3.840</td><td>15.41</td><td>0</td><td>0</td><td>3</td><td>4</td></tr>\n",
       "\t<tr><th scope=row>Pontiac Firebird</th><td>19.2</td><td>8</td><td>400.0</td><td>175</td><td>3.08</td><td>3.845</td><td>17.05</td><td>0</td><td>0</td><td>3</td><td>2</td></tr>\n",
       "\t<tr><th scope=row>Fiat X1-9</th><td>27.3</td><td>4</td><td> 79.0</td><td> 66</td><td>4.08</td><td>1.935</td><td>18.90</td><td>1</td><td>1</td><td>4</td><td>1</td></tr>\n",
       "\t<tr><th scope=row>Porsche 914-2</th><td>26.0</td><td>4</td><td>120.3</td><td> 91</td><td>4.43</td><td>2.140</td><td>16.70</td><td>0</td><td>1</td><td>5</td><td>2</td></tr>\n",
       "\t<tr><th scope=row>Lotus Europa</th><td>30.4</td><td>4</td><td> 95.1</td><td>113</td><td>3.77</td><td>1.513</td><td>16.90</td><td>1</td><td>1</td><td>5</td><td>2</td></tr>\n",
       "\t<tr><th scope=row>Ford Pantera L</th><td>15.8</td><td>8</td><td>351.0</td><td>264</td><td>4.22</td><td>3.170</td><td>14.50</td><td>0</td><td>1</td><td>5</td><td>4</td></tr>\n",
       "\t<tr><th scope=row>Ferrari Dino</th><td>19.7</td><td>6</td><td>145.0</td><td>175</td><td>3.62</td><td>2.770</td><td>15.50</td><td>0</td><td>1</td><td>5</td><td>6</td></tr>\n",
       "\t<tr><th scope=row>Maserati Bora</th><td>15.0</td><td>8</td><td>301.0</td><td>335</td><td>3.54</td><td>3.570</td><td>14.60</td><td>0</td><td>1</td><td>5</td><td>8</td></tr>\n",
       "\t<tr><th scope=row>Volvo 142E</th><td>21.4</td><td>4</td><td>121.0</td><td>109</td><td>4.11</td><td>2.780</td><td>18.60</td><td>1</td><td>1</td><td>4</td><td>2</td></tr>\n",
       "</tbody>\n",
       "</table>\n"
      ],
      "text/latex": [
       "A data.frame: 32 × 11\n",
       "\\begin{tabular}{r|lllllllllll}\n",
       "  & mpg & cyl & disp & hp & drat & wt & qsec & vs & am & gear & carb\\\\\n",
       "  & <dbl> & <dbl> & <dbl> & <dbl> & <dbl> & <dbl> & <dbl> & <dbl> & <dbl> & <dbl> & <dbl>\\\\\n",
       "\\hline\n",
       "\tMazda RX4 & 21.0 & 6 & 160.0 & 110 & 3.90 & 2.620 & 16.46 & 0 & 1 & 4 & 4\\\\\n",
       "\tMazda RX4 Wag & 21.0 & 6 & 160.0 & 110 & 3.90 & 2.875 & 17.02 & 0 & 1 & 4 & 4\\\\\n",
       "\tDatsun 710 & 22.8 & 4 & 108.0 &  93 & 3.85 & 2.320 & 18.61 & 1 & 1 & 4 & 1\\\\\n",
       "\tHornet 4 Drive & 21.4 & 6 & 258.0 & 110 & 3.08 & 3.215 & 19.44 & 1 & 0 & 3 & 1\\\\\n",
       "\tHornet Sportabout & 18.7 & 8 & 360.0 & 175 & 3.15 & 3.440 & 17.02 & 0 & 0 & 3 & 2\\\\\n",
       "\tValiant & 18.1 & 6 & 225.0 & 105 & 2.76 & 3.460 & 20.22 & 1 & 0 & 3 & 1\\\\\n",
       "\tDuster 360 & 14.3 & 8 & 360.0 & 245 & 3.21 & 3.570 & 15.84 & 0 & 0 & 3 & 4\\\\\n",
       "\tMerc 240D & 24.4 & 4 & 146.7 &  62 & 3.69 & 3.190 & 20.00 & 1 & 0 & 4 & 2\\\\\n",
       "\tMerc 230 & 22.8 & 4 & 140.8 &  95 & 3.92 & 3.150 & 22.90 & 1 & 0 & 4 & 2\\\\\n",
       "\tMerc 280 & 19.2 & 6 & 167.6 & 123 & 3.92 & 3.440 & 18.30 & 1 & 0 & 4 & 4\\\\\n",
       "\tMerc 280C & 17.8 & 6 & 167.6 & 123 & 3.92 & 3.440 & 18.90 & 1 & 0 & 4 & 4\\\\\n",
       "\tMerc 450SE & 16.4 & 8 & 275.8 & 180 & 3.07 & 4.070 & 17.40 & 0 & 0 & 3 & 3\\\\\n",
       "\tMerc 450SL & 17.3 & 8 & 275.8 & 180 & 3.07 & 3.730 & 17.60 & 0 & 0 & 3 & 3\\\\\n",
       "\tMerc 450SLC & 15.2 & 8 & 275.8 & 180 & 3.07 & 3.780 & 18.00 & 0 & 0 & 3 & 3\\\\\n",
       "\tCadillac Fleetwood & 10.4 & 8 & 472.0 & 205 & 2.93 & 5.250 & 17.98 & 0 & 0 & 3 & 4\\\\\n",
       "\tLincoln Continental & 10.4 & 8 & 460.0 & 215 & 3.00 & 5.424 & 17.82 & 0 & 0 & 3 & 4\\\\\n",
       "\tChrysler Imperial & 14.7 & 8 & 440.0 & 230 & 3.23 & 5.345 & 17.42 & 0 & 0 & 3 & 4\\\\\n",
       "\tFiat 128 & 32.4 & 4 &  78.7 &  66 & 4.08 & 2.200 & 19.47 & 1 & 1 & 4 & 1\\\\\n",
       "\tHonda Civic & 30.4 & 4 &  75.7 &  52 & 4.93 & 1.615 & 18.52 & 1 & 1 & 4 & 2\\\\\n",
       "\tToyota Corolla & 33.9 & 4 &  71.1 &  65 & 4.22 & 1.835 & 19.90 & 1 & 1 & 4 & 1\\\\\n",
       "\tToyota Corona & 21.5 & 4 & 120.1 &  97 & 3.70 & 2.465 & 20.01 & 1 & 0 & 3 & 1\\\\\n",
       "\tDodge Challenger & 15.5 & 8 & 318.0 & 150 & 2.76 & 3.520 & 16.87 & 0 & 0 & 3 & 2\\\\\n",
       "\tAMC Javelin & 15.2 & 8 & 304.0 & 150 & 3.15 & 3.435 & 17.30 & 0 & 0 & 3 & 2\\\\\n",
       "\tCamaro Z28 & 13.3 & 8 & 350.0 & 245 & 3.73 & 3.840 & 15.41 & 0 & 0 & 3 & 4\\\\\n",
       "\tPontiac Firebird & 19.2 & 8 & 400.0 & 175 & 3.08 & 3.845 & 17.05 & 0 & 0 & 3 & 2\\\\\n",
       "\tFiat X1-9 & 27.3 & 4 &  79.0 &  66 & 4.08 & 1.935 & 18.90 & 1 & 1 & 4 & 1\\\\\n",
       "\tPorsche 914-2 & 26.0 & 4 & 120.3 &  91 & 4.43 & 2.140 & 16.70 & 0 & 1 & 5 & 2\\\\\n",
       "\tLotus Europa & 30.4 & 4 &  95.1 & 113 & 3.77 & 1.513 & 16.90 & 1 & 1 & 5 & 2\\\\\n",
       "\tFord Pantera L & 15.8 & 8 & 351.0 & 264 & 4.22 & 3.170 & 14.50 & 0 & 1 & 5 & 4\\\\\n",
       "\tFerrari Dino & 19.7 & 6 & 145.0 & 175 & 3.62 & 2.770 & 15.50 & 0 & 1 & 5 & 6\\\\\n",
       "\tMaserati Bora & 15.0 & 8 & 301.0 & 335 & 3.54 & 3.570 & 14.60 & 0 & 1 & 5 & 8\\\\\n",
       "\tVolvo 142E & 21.4 & 4 & 121.0 & 109 & 4.11 & 2.780 & 18.60 & 1 & 1 & 4 & 2\\\\\n",
       "\\end{tabular}\n"
      ],
      "text/markdown": [
       "\n",
       "A data.frame: 32 × 11\n",
       "\n",
       "| <!--/--> | mpg &lt;dbl&gt; | cyl &lt;dbl&gt; | disp &lt;dbl&gt; | hp &lt;dbl&gt; | drat &lt;dbl&gt; | wt &lt;dbl&gt; | qsec &lt;dbl&gt; | vs &lt;dbl&gt; | am &lt;dbl&gt; | gear &lt;dbl&gt; | carb &lt;dbl&gt; |\n",
       "|---|---|---|---|---|---|---|---|---|---|---|---|\n",
       "| Mazda RX4 | 21.0 | 6 | 160.0 | 110 | 3.90 | 2.620 | 16.46 | 0 | 1 | 4 | 4 |\n",
       "| Mazda RX4 Wag | 21.0 | 6 | 160.0 | 110 | 3.90 | 2.875 | 17.02 | 0 | 1 | 4 | 4 |\n",
       "| Datsun 710 | 22.8 | 4 | 108.0 |  93 | 3.85 | 2.320 | 18.61 | 1 | 1 | 4 | 1 |\n",
       "| Hornet 4 Drive | 21.4 | 6 | 258.0 | 110 | 3.08 | 3.215 | 19.44 | 1 | 0 | 3 | 1 |\n",
       "| Hornet Sportabout | 18.7 | 8 | 360.0 | 175 | 3.15 | 3.440 | 17.02 | 0 | 0 | 3 | 2 |\n",
       "| Valiant | 18.1 | 6 | 225.0 | 105 | 2.76 | 3.460 | 20.22 | 1 | 0 | 3 | 1 |\n",
       "| Duster 360 | 14.3 | 8 | 360.0 | 245 | 3.21 | 3.570 | 15.84 | 0 | 0 | 3 | 4 |\n",
       "| Merc 240D | 24.4 | 4 | 146.7 |  62 | 3.69 | 3.190 | 20.00 | 1 | 0 | 4 | 2 |\n",
       "| Merc 230 | 22.8 | 4 | 140.8 |  95 | 3.92 | 3.150 | 22.90 | 1 | 0 | 4 | 2 |\n",
       "| Merc 280 | 19.2 | 6 | 167.6 | 123 | 3.92 | 3.440 | 18.30 | 1 | 0 | 4 | 4 |\n",
       "| Merc 280C | 17.8 | 6 | 167.6 | 123 | 3.92 | 3.440 | 18.90 | 1 | 0 | 4 | 4 |\n",
       "| Merc 450SE | 16.4 | 8 | 275.8 | 180 | 3.07 | 4.070 | 17.40 | 0 | 0 | 3 | 3 |\n",
       "| Merc 450SL | 17.3 | 8 | 275.8 | 180 | 3.07 | 3.730 | 17.60 | 0 | 0 | 3 | 3 |\n",
       "| Merc 450SLC | 15.2 | 8 | 275.8 | 180 | 3.07 | 3.780 | 18.00 | 0 | 0 | 3 | 3 |\n",
       "| Cadillac Fleetwood | 10.4 | 8 | 472.0 | 205 | 2.93 | 5.250 | 17.98 | 0 | 0 | 3 | 4 |\n",
       "| Lincoln Continental | 10.4 | 8 | 460.0 | 215 | 3.00 | 5.424 | 17.82 | 0 | 0 | 3 | 4 |\n",
       "| Chrysler Imperial | 14.7 | 8 | 440.0 | 230 | 3.23 | 5.345 | 17.42 | 0 | 0 | 3 | 4 |\n",
       "| Fiat 128 | 32.4 | 4 |  78.7 |  66 | 4.08 | 2.200 | 19.47 | 1 | 1 | 4 | 1 |\n",
       "| Honda Civic | 30.4 | 4 |  75.7 |  52 | 4.93 | 1.615 | 18.52 | 1 | 1 | 4 | 2 |\n",
       "| Toyota Corolla | 33.9 | 4 |  71.1 |  65 | 4.22 | 1.835 | 19.90 | 1 | 1 | 4 | 1 |\n",
       "| Toyota Corona | 21.5 | 4 | 120.1 |  97 | 3.70 | 2.465 | 20.01 | 1 | 0 | 3 | 1 |\n",
       "| Dodge Challenger | 15.5 | 8 | 318.0 | 150 | 2.76 | 3.520 | 16.87 | 0 | 0 | 3 | 2 |\n",
       "| AMC Javelin | 15.2 | 8 | 304.0 | 150 | 3.15 | 3.435 | 17.30 | 0 | 0 | 3 | 2 |\n",
       "| Camaro Z28 | 13.3 | 8 | 350.0 | 245 | 3.73 | 3.840 | 15.41 | 0 | 0 | 3 | 4 |\n",
       "| Pontiac Firebird | 19.2 | 8 | 400.0 | 175 | 3.08 | 3.845 | 17.05 | 0 | 0 | 3 | 2 |\n",
       "| Fiat X1-9 | 27.3 | 4 |  79.0 |  66 | 4.08 | 1.935 | 18.90 | 1 | 1 | 4 | 1 |\n",
       "| Porsche 914-2 | 26.0 | 4 | 120.3 |  91 | 4.43 | 2.140 | 16.70 | 0 | 1 | 5 | 2 |\n",
       "| Lotus Europa | 30.4 | 4 |  95.1 | 113 | 3.77 | 1.513 | 16.90 | 1 | 1 | 5 | 2 |\n",
       "| Ford Pantera L | 15.8 | 8 | 351.0 | 264 | 4.22 | 3.170 | 14.50 | 0 | 1 | 5 | 4 |\n",
       "| Ferrari Dino | 19.7 | 6 | 145.0 | 175 | 3.62 | 2.770 | 15.50 | 0 | 1 | 5 | 6 |\n",
       "| Maserati Bora | 15.0 | 8 | 301.0 | 335 | 3.54 | 3.570 | 14.60 | 0 | 1 | 5 | 8 |\n",
       "| Volvo 142E | 21.4 | 4 | 121.0 | 109 | 4.11 | 2.780 | 18.60 | 1 | 1 | 4 | 2 |\n",
       "\n"
      ],
      "text/plain": [
       "                    mpg  cyl disp  hp  drat wt    qsec  vs am gear carb\n",
       "Mazda RX4           21.0 6   160.0 110 3.90 2.620 16.46 0  1  4    4   \n",
       "Mazda RX4 Wag       21.0 6   160.0 110 3.90 2.875 17.02 0  1  4    4   \n",
       "Datsun 710          22.8 4   108.0  93 3.85 2.320 18.61 1  1  4    1   \n",
       "Hornet 4 Drive      21.4 6   258.0 110 3.08 3.215 19.44 1  0  3    1   \n",
       "Hornet Sportabout   18.7 8   360.0 175 3.15 3.440 17.02 0  0  3    2   \n",
       "Valiant             18.1 6   225.0 105 2.76 3.460 20.22 1  0  3    1   \n",
       "Duster 360          14.3 8   360.0 245 3.21 3.570 15.84 0  0  3    4   \n",
       "Merc 240D           24.4 4   146.7  62 3.69 3.190 20.00 1  0  4    2   \n",
       "Merc 230            22.8 4   140.8  95 3.92 3.150 22.90 1  0  4    2   \n",
       "Merc 280            19.2 6   167.6 123 3.92 3.440 18.30 1  0  4    4   \n",
       "Merc 280C           17.8 6   167.6 123 3.92 3.440 18.90 1  0  4    4   \n",
       "Merc 450SE          16.4 8   275.8 180 3.07 4.070 17.40 0  0  3    3   \n",
       "Merc 450SL          17.3 8   275.8 180 3.07 3.730 17.60 0  0  3    3   \n",
       "Merc 450SLC         15.2 8   275.8 180 3.07 3.780 18.00 0  0  3    3   \n",
       "Cadillac Fleetwood  10.4 8   472.0 205 2.93 5.250 17.98 0  0  3    4   \n",
       "Lincoln Continental 10.4 8   460.0 215 3.00 5.424 17.82 0  0  3    4   \n",
       "Chrysler Imperial   14.7 8   440.0 230 3.23 5.345 17.42 0  0  3    4   \n",
       "Fiat 128            32.4 4    78.7  66 4.08 2.200 19.47 1  1  4    1   \n",
       "Honda Civic         30.4 4    75.7  52 4.93 1.615 18.52 1  1  4    2   \n",
       "Toyota Corolla      33.9 4    71.1  65 4.22 1.835 19.90 1  1  4    1   \n",
       "Toyota Corona       21.5 4   120.1  97 3.70 2.465 20.01 1  0  3    1   \n",
       "Dodge Challenger    15.5 8   318.0 150 2.76 3.520 16.87 0  0  3    2   \n",
       "AMC Javelin         15.2 8   304.0 150 3.15 3.435 17.30 0  0  3    2   \n",
       "Camaro Z28          13.3 8   350.0 245 3.73 3.840 15.41 0  0  3    4   \n",
       "Pontiac Firebird    19.2 8   400.0 175 3.08 3.845 17.05 0  0  3    2   \n",
       "Fiat X1-9           27.3 4    79.0  66 4.08 1.935 18.90 1  1  4    1   \n",
       "Porsche 914-2       26.0 4   120.3  91 4.43 2.140 16.70 0  1  5    2   \n",
       "Lotus Europa        30.4 4    95.1 113 3.77 1.513 16.90 1  1  5    2   \n",
       "Ford Pantera L      15.8 8   351.0 264 4.22 3.170 14.50 0  1  5    4   \n",
       "Ferrari Dino        19.7 6   145.0 175 3.62 2.770 15.50 0  1  5    6   \n",
       "Maserati Bora       15.0 8   301.0 335 3.54 3.570 14.60 0  1  5    8   \n",
       "Volvo 142E          21.4 4   121.0 109 4.11 2.780 18.60 1  1  4    2   "
      ]
     },
     "metadata": {},
     "output_type": "display_data"
    }
   ],
   "source": [
    "mtcars"
   ]
  },
  {
   "cell_type": "markdown",
   "id": "c7df0634",
   "metadata": {
    "slideshow": {
     "slide_type": "slide"
    },
    "vscode": {
     "languageId": "r"
    }
   },
   "source": [
    "# Demos"
   ]
  },
  {
   "cell_type": "markdown",
   "id": "bd067c9b",
   "metadata": {},
   "source": [
    "## Demo 1\n",
    "\n",
    "See the difference between local and global variables in R.\n"
   ]
  },
  {
   "cell_type": "code",
   "execution_count": 91,
   "id": "1bcfc1f1",
   "metadata": {
    "slideshow": {
     "slide_type": "subslide"
    }
   },
   "outputs": [],
   "source": [
    "x0 = 1 # A global by virtue of location in script \n",
    "\n",
    "f0 <- function() print(paste('Global x0 =', x0))\n",
    "                       \n",
    "f1 <- function() {\n",
    "    x1 <- 10    # A local by virtue of location in function\n",
    "    print(paste('Local x1 =', x1))\n",
    "}\n",
    "\n",
    "f2 <- function() {\n",
    "    x2 <<- 20  # A global by virtue of special assignment\n",
    "    print(paste('Global x2 =', x2))\n",
    "}"
   ]
  },
  {
   "cell_type": "code",
   "execution_count": 88,
   "id": "830d96a2",
   "metadata": {
    "slideshow": {
     "slide_type": "subslide"
    }
   },
   "outputs": [
    {
     "name": "stdout",
     "output_type": "stream",
     "text": [
      "[1] \"Global x0 = 1\"\n"
     ]
    }
   ],
   "source": [
    "f0()"
   ]
  },
  {
   "cell_type": "code",
   "execution_count": 89,
   "id": "8bfd3467",
   "metadata": {
    "scrolled": true,
    "slideshow": {
     "slide_type": "subslide"
    }
   },
   "outputs": [
    {
     "name": "stdout",
     "output_type": "stream",
     "text": [
      "[1] \"Local x1 = 10\"\n"
     ]
    },
    {
     "ename": "ERROR",
     "evalue": "Error in eval(expr, envir, enclos): object 'x1' not found\n",
     "output_type": "error",
     "traceback": [
      "Error in eval(expr, envir, enclos): object 'x1' not found\nTraceback:\n"
     ]
    }
   ],
   "source": [
    "f1()\n",
    "x1"
   ]
  },
  {
   "cell_type": "code",
   "execution_count": 90,
   "id": "a6e9c12f",
   "metadata": {
    "slideshow": {
     "slide_type": "subslide"
    }
   },
   "outputs": [
    {
     "name": "stdout",
     "output_type": "stream",
     "text": [
      "[1] \"Global x2 = 20\"\n"
     ]
    },
    {
     "data": {
      "text/html": [
       "20"
      ],
      "text/latex": [
       "20"
      ],
      "text/markdown": [
       "20"
      ],
      "text/plain": [
       "[1] 20"
      ]
     },
     "metadata": {},
     "output_type": "display_data"
    }
   ],
   "source": [
    "f2()\n",
    "x2"
   ]
  }
 ],
 "metadata": {
  "celltoolbar": "Slideshow",
  "jupytext": {
   "cell_metadata_filter": "-all",
   "main_language": "python",
   "notebook_metadata_filter": "-all"
  },
  "kernelspec": {
   "display_name": "R",
   "language": "R",
   "name": "ir"
  },
  "language_info": {
   "codemirror_mode": "r",
   "file_extension": ".r",
   "mimetype": "text/x-r-source",
   "name": "R",
   "pygments_lexer": "r",
   "version": "4.0.2"
  },
  "latex_envs": {
   "LaTeX_envs_menu_present": true,
   "autoclose": false,
   "autocomplete": true,
   "bibliofile": "biblio.bib",
   "cite_by": "apalike",
   "current_citInitial": 1,
   "eqLabelWithNumbers": true,
   "eqNumInitial": 1,
   "hotkeys": {
    "equation": "Ctrl-E",
    "itemize": "Ctrl-I"
   },
   "labels_anchors": false,
   "latex_user_defs": false,
   "report_style_numbering": false,
   "user_envs_cfg": false
  },
  "toc": {
   "base_numbering": 1,
   "nav_menu": {},
   "number_sections": false,
   "sideBar": true,
   "skip_h1_title": false,
   "title_cell": "Table of Contents",
   "title_sidebar": "Contents",
   "toc_cell": false,
   "toc_position": {},
   "toc_section_display": true,
   "toc_window_display": false
  },
  "varInspector": {
   "cols": {
    "lenName": 16,
    "lenType": 16,
    "lenVar": 40
   },
   "kernels_config": {
    "python": {
     "delete_cmd_postfix": "",
     "delete_cmd_prefix": "del ",
     "library": "var_list.py",
     "varRefreshCmd": "print(var_dic_list())"
    },
    "r": {
     "delete_cmd_postfix": ") ",
     "delete_cmd_prefix": "rm(",
     "library": "var_list.r",
     "varRefreshCmd": "cat(var_dic_list()) "
    }
   },
   "types_to_exclude": [
    "module",
    "function",
    "builtin_function_or_method",
    "instance",
    "_Feature"
   ],
   "window_display": false
  },
  "widgets": {
   "application/vnd.jupyter.widget-state+json": {
    "state": {},
    "version_major": 2,
    "version_minor": 0
   }
  }
 },
 "nbformat": 4,
 "nbformat_minor": 5
}
