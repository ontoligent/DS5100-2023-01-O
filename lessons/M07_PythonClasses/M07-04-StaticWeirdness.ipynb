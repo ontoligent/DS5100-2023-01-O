{
 "cells": [
  {
   "cell_type": "markdown",
   "id": "67cbe731-e871-461c-9973-bf5c7c687a33",
   "metadata": {
    "tags": []
   },
   "source": [
    "#  Metatdata\n",
    "\n",
    "```{yaml}\n",
    "Course:   DS 5100\n",
    "Module:   07 Python Classes\n",
    "Topic:    Understanding Static Attributes\n",
    "Author:   R.C. Alvarado\n",
    "Date:     11 October 2022 (revised)\n",
    "```\n",
    "\n",
    "Purpose: To demonstrate how class and instance attributes are related to each other."
   ]
  },
  {
   "cell_type": "markdown",
   "id": "433f504a-647a-48af-8087-05f34e1fff8f",
   "metadata": {},
   "source": [
    "# A Simple Example"
   ]
  },
  {
   "cell_type": "markdown",
   "id": "1e2e6bab-c38a-4b61-95f0-a4b60f45599a",
   "metadata": {},
   "source": [
    "We define a class with one attribute."
   ]
  },
  {
   "cell_type": "code",
   "execution_count": 76,
   "id": "0adfeb45-2531-43bd-a656-db7bcd3d2f82",
   "metadata": {},
   "outputs": [],
   "source": [
    "class Foo(): x = 1"
   ]
  },
  {
   "cell_type": "markdown",
   "id": "d04e1123-c012-445f-ab78-36ceaeb6a669",
   "metadata": {},
   "source": [
    "We create an instance of the class."
   ]
  },
  {
   "cell_type": "code",
   "execution_count": 77,
   "id": "5391018f-c69b-4f06-b00e-8dce989563ea",
   "metadata": {},
   "outputs": [],
   "source": [
    "foo1 = Foo()"
   ]
  },
  {
   "cell_type": "markdown",
   "id": "9d3fc772-e0d0-4138-a74b-fa014717a008",
   "metadata": {},
   "source": [
    "We demonstrate that the class defines the value for the instance."
   ]
  },
  {
   "cell_type": "code",
   "execution_count": 78,
   "id": "619c0d97-b96e-4a17-8abd-1f1b809a76c9",
   "metadata": {},
   "outputs": [
    {
     "data": {
      "text/plain": [
       "(1, 1)"
      ]
     },
     "execution_count": 78,
     "metadata": {},
     "output_type": "execute_result"
    }
   ],
   "source": [
    "foo1.x, Foo.x"
   ]
  },
  {
   "cell_type": "markdown",
   "id": "bf5a74a2-5e18-4b3e-93e4-85d84bc59ca2",
   "metadata": {},
   "source": [
    "We demonstrate that the instance changes if the class does."
   ]
  },
  {
   "cell_type": "code",
   "execution_count": 79,
   "id": "648336e4-d0cf-40be-a1eb-8aca4bd7515b",
   "metadata": {},
   "outputs": [],
   "source": [
    "Foo.x = 2"
   ]
  },
  {
   "cell_type": "code",
   "execution_count": 80,
   "id": "a94b132a-bb08-463c-82f4-d74f720616d7",
   "metadata": {},
   "outputs": [
    {
     "data": {
      "text/plain": [
       "(2, 2)"
      ]
     },
     "execution_count": 80,
     "metadata": {},
     "output_type": "execute_result"
    }
   ],
   "source": [
    "foo1.x, Foo.x"
   ]
  },
  {
   "cell_type": "markdown",
   "id": "42314e83-f98f-4062-83fd-ee76aa0ad18c",
   "metadata": {},
   "source": [
    "Now we override the class attribute with the local. \n",
    "\n",
    "This is similar to how we can override a global with a local."
   ]
  },
  {
   "cell_type": "code",
   "execution_count": 81,
   "id": "7d21209d-42b1-46fc-b5cb-254786872c5a",
   "metadata": {},
   "outputs": [],
   "source": [
    "foo1.x = 3"
   ]
  },
  {
   "cell_type": "code",
   "execution_count": 82,
   "id": "6de539fb-a220-497d-ae49-1698d949e0f1",
   "metadata": {},
   "outputs": [
    {
     "data": {
      "text/plain": [
       "(3, 2)"
      ]
     },
     "execution_count": 82,
     "metadata": {},
     "output_type": "execute_result"
    }
   ],
   "source": [
    "foo1.x, Foo.x"
   ]
  },
  {
   "cell_type": "markdown",
   "id": "c7c87ee6-85eb-4af4-9d2c-03c750f89aad",
   "metadata": {},
   "source": [
    "We demonstrate that the instance attribute is now unaffected by the global."
   ]
  },
  {
   "cell_type": "code",
   "execution_count": 83,
   "id": "4661b5cf-f24c-4e8f-8c0d-38992701cd17",
   "metadata": {},
   "outputs": [],
   "source": [
    "Foo.x = 4"
   ]
  },
  {
   "cell_type": "code",
   "execution_count": 9,
   "id": "894e3922-4605-430c-a59b-df8bae144bd8",
   "metadata": {},
   "outputs": [
    {
     "data": {
      "text/plain": [
       "(3, 4)"
      ]
     },
     "execution_count": 9,
     "metadata": {},
     "output_type": "execute_result"
    }
   ],
   "source": [
    "foo1.x, Foo.x"
   ]
  },
  {
   "cell_type": "markdown",
   "id": "950649d4-1715-4102-9dc1-fedf0507f203",
   "metadata": {},
   "source": [
    "# A Cool Trick\n",
    "\n",
    "You can define an empty class and add attributes as you go."
   ]
  },
  {
   "cell_type": "code",
   "execution_count": 85,
   "id": "34e02f5a-cf02-40c5-b606-cdab435c4a90",
   "metadata": {},
   "outputs": [],
   "source": [
    "class Bar:\n",
    "    pass"
   ]
  },
  {
   "cell_type": "code",
   "execution_count": 86,
   "id": "7e99bab6-3d6a-47d7-b423-21dc032c37bd",
   "metadata": {},
   "outputs": [],
   "source": [
    "bar1 = Bar()"
   ]
  },
  {
   "cell_type": "code",
   "execution_count": 88,
   "id": "25a3e174-2e8f-4d4a-8ba1-435f768b8070",
   "metadata": {},
   "outputs": [],
   "source": [
    "bar1.x = 1"
   ]
  },
  {
   "cell_type": "code",
   "execution_count": 89,
   "id": "e05b2852-6475-44de-8aab-f98e671a832b",
   "metadata": {},
   "outputs": [
    {
     "data": {
      "text/plain": [
       "1"
      ]
     },
     "execution_count": 89,
     "metadata": {},
     "output_type": "execute_result"
    }
   ],
   "source": [
    "bar1.x"
   ]
  },
  {
   "cell_type": "markdown",
   "id": "a3f2c524-fbad-4759-9f96-8c754f57cbd0",
   "metadata": {},
   "source": [
    "Since we defined an instance attribute, the class remains unchanged.\n",
    "\n",
    "So, this will throw an error:"
   ]
  },
  {
   "cell_type": "code",
   "execution_count": 90,
   "id": "e1d5ef57-b6e0-4f22-92c9-e9cf6896b578",
   "metadata": {},
   "outputs": [
    {
     "ename": "AttributeError",
     "evalue": "type object 'Bar' has no attribute 'x'",
     "output_type": "error",
     "traceback": [
      "\u001b[0;31m---------------------------------------------------------------------------\u001b[0m",
      "\u001b[0;31mAttributeError\u001b[0m                            Traceback (most recent call last)",
      "Input \u001b[0;32mIn [90]\u001b[0m, in \u001b[0;36m<cell line: 1>\u001b[0;34m()\u001b[0m\n\u001b[0;32m----> 1\u001b[0m \u001b[43mBar\u001b[49m\u001b[38;5;241;43m.\u001b[39;49m\u001b[43mx\u001b[49m\n",
      "\u001b[0;31mAttributeError\u001b[0m: type object 'Bar' has no attribute 'x'"
     ]
    }
   ],
   "source": [
    "Bar.x"
   ]
  },
  {
   "cell_type": "markdown",
   "id": "d7b50377-549a-4f41-a985-182c2a78659d",
   "metadata": {},
   "source": [
    "We define another instance, but this time we add an attribute to the class."
   ]
  },
  {
   "cell_type": "code",
   "execution_count": 91,
   "id": "48e5f9ed-ab18-4bd2-b394-3b9c99912a13",
   "metadata": {},
   "outputs": [],
   "source": [
    "bar2 = Bar()"
   ]
  },
  {
   "cell_type": "code",
   "execution_count": 92,
   "id": "a78a3156-8ab0-4f4b-927d-8d1caf13dc23",
   "metadata": {},
   "outputs": [],
   "source": [
    "Bar.x = 2"
   ]
  },
  {
   "cell_type": "markdown",
   "id": "5a6e8e5b-3258-452b-b027-3da40bf15e47",
   "metadata": {},
   "source": [
    "Notice how the instance has the new attribute, even though it was added to the class after the instance was created."
   ]
  },
  {
   "cell_type": "code",
   "execution_count": 93,
   "id": "6b935a88-053e-40c6-a356-ebaf6c89988e",
   "metadata": {},
   "outputs": [
    {
     "data": {
      "text/plain": [
       "(2, 2)"
      ]
     },
     "execution_count": 93,
     "metadata": {},
     "output_type": "execute_result"
    }
   ],
   "source": [
    "bar2.x, Bar.x"
   ]
  },
  {
   "cell_type": "markdown",
   "id": "6304a783-0194-42f2-8496-639ffa303103",
   "metadata": {},
   "source": [
    "# Mutable Statics\n",
    "\n",
    "There is an interesting gotcha regarding static attributes in Python.\n",
    "\n",
    "Lists and other mutable data structures can be static and yet have their values modified by instances.\n",
    "\n",
    "This is kind of weird."
   ]
  },
  {
   "cell_type": "markdown",
   "id": "54f14719-a4ca-4a87-bb14-65cfe6e0b768",
   "metadata": {},
   "source": [
    "To demonstrate, we define a class with two instance variables, one a scalar and one a list.\n",
    "\n",
    "We define a method to alter the value of each."
   ]
  },
  {
   "cell_type": "code",
   "execution_count": 96,
   "id": "3df3e234-0759-4ee8-8d6d-e9ac6b74b8e1",
   "metadata": {
    "tags": []
   },
   "outputs": [],
   "source": [
    "class WithStatic():\n",
    "    \n",
    "    foo = 0  # The value is NOT affected by instances\n",
    "    bar = [] # The values ARE afftected by instances\n",
    "    \n",
    "    def add_one(self):\n",
    "        self.foo += 1       # This does NOT affect the static attribute\n",
    "        self.bar.append(1)  # This DOES affect the static attribute, only its values\n",
    "        \n",
    "    def replace_bar(self, new_list = []):\n",
    "        self.bar = new_list # This replaces the list itself"
   ]
  },
  {
   "cell_type": "markdown",
   "id": "0bae5d8f-9661-475b-95ff-e84de12d4ffd",
   "metadata": {},
   "source": [
    "We define a function to compare an instance and its class to see how static attributes are affected by instances.\n",
    "\n",
    "Notice the `getattr()` method -- this allows you to get the value of an attribute using a literal value for the attribute name."
   ]
  },
  {
   "cell_type": "code",
   "execution_count": 97,
   "id": "d23a6528-6598-4cfc-9cec-0acccbae17c2",
   "metadata": {},
   "outputs": [],
   "source": [
    "def my_test (my_class, my_instance, my_vars=[]):\n",
    "    for my_var in my_vars:\n",
    "        i = getattr(my_instance, my_var)\n",
    "        c = getattr(my_class, my_var)\n",
    "        print(f'i.{my_var} =', i)\n",
    "        print(f'c.{my_var} =', c)\n",
    "    print()"
   ]
  },
  {
   "cell_type": "markdown",
   "id": "c86d9f47-515f-456e-b77f-4702b61123e9",
   "metadata": {},
   "source": [
    "We define an instance and compare the values."
   ]
  },
  {
   "cell_type": "code",
   "execution_count": 98,
   "id": "ff29c505-6db7-4714-98f0-8149695b8660",
   "metadata": {},
   "outputs": [],
   "source": [
    "with_static1 = WithStatic()"
   ]
  },
  {
   "cell_type": "code",
   "execution_count": 99,
   "id": "cdf4e638-c35a-4906-9682-453ff6729c67",
   "metadata": {},
   "outputs": [
    {
     "name": "stdout",
     "output_type": "stream",
     "text": [
      "i.foo = 0\n",
      "c.foo = 0\n",
      "i.bar = []\n",
      "c.bar = []\n",
      "\n"
     ]
    }
   ],
   "source": [
    "my_test(WithStatic, with_static1, ['foo', 'bar'])"
   ]
  },
  {
   "cell_type": "markdown",
   "id": "122f8e94-3b25-4d87-a1f2-cbf129a05935",
   "metadata": {},
   "source": [
    "Now we increment the attributes and see the results."
   ]
  },
  {
   "cell_type": "code",
   "execution_count": 100,
   "id": "7d2eec08-9b75-413d-8808-4f32974a9b46",
   "metadata": {},
   "outputs": [],
   "source": [
    "with_static1.add_one()"
   ]
  },
  {
   "cell_type": "markdown",
   "id": "8aca103e-3064-413f-9ad4-e79ebea512d8",
   "metadata": {},
   "source": [
    "The method does disconnect the instance `foo` from the class `foo`.\n",
    "\n",
    "But it does not disconnect the instance `bar` from the class `bar`."
   ]
  },
  {
   "cell_type": "code",
   "execution_count": 101,
   "id": "75138723-7564-4919-bc0a-2dcde098d57c",
   "metadata": {},
   "outputs": [
    {
     "name": "stdout",
     "output_type": "stream",
     "text": [
      "i.foo = 1\n",
      "c.foo = 0\n",
      "i.bar = [1]\n",
      "c.bar = [1]\n",
      "\n"
     ]
    }
   ],
   "source": [
    "my_test(WithStatic, with_static1, ['foo', 'bar'])"
   ]
  },
  {
   "cell_type": "markdown",
   "id": "53ed7b42-53ba-4929-bfcd-3dc3fa4c667e",
   "metadata": {},
   "source": [
    "We do it again to drive the point home."
   ]
  },
  {
   "cell_type": "code",
   "execution_count": 68,
   "id": "9b64eeb2-35d4-4b38-b81c-19c125a2a092",
   "metadata": {},
   "outputs": [],
   "source": [
    "with_static1.add_one()"
   ]
  },
  {
   "cell_type": "code",
   "execution_count": 69,
   "id": "fa017c43-d6c3-4eda-8d21-9061805c3978",
   "metadata": {},
   "outputs": [
    {
     "name": "stdout",
     "output_type": "stream",
     "text": [
      "i.foo = 2\n",
      "c.foo = 0\n",
      "i.bar = [1, 1]\n",
      "c.bar = [1, 1]\n",
      "\n"
     ]
    }
   ],
   "source": [
    "my_test(WithStatic, with_static1, ['foo', 'bar'])"
   ]
  },
  {
   "cell_type": "markdown",
   "id": "88dc7959-b1bf-4a78-9eaa-f8db62c5094f",
   "metadata": {},
   "source": [
    "Now, let's replace list itself in the instance."
   ]
  },
  {
   "cell_type": "code",
   "execution_count": 103,
   "id": "c4cfd652-c859-41a2-87d1-e0ba7586c640",
   "metadata": {},
   "outputs": [],
   "source": [
    "with_static1.replace_bar()"
   ]
  },
  {
   "cell_type": "code",
   "execution_count": 104,
   "id": "84d6cbca-44f9-4de5-b211-cd9359de861e",
   "metadata": {},
   "outputs": [
    {
     "name": "stdout",
     "output_type": "stream",
     "text": [
      "i.foo = 2\n",
      "c.foo = 0\n",
      "i.bar = [1]\n",
      "c.bar = [1]\n",
      "\n",
      "i.foo = 3\n",
      "c.foo = 0\n",
      "i.bar = [1, 1]\n",
      "c.bar = [1]\n",
      "\n",
      "i.foo = 4\n",
      "c.foo = 0\n",
      "i.bar = [1, 1, 1]\n",
      "c.bar = [1]\n",
      "\n",
      "i.foo = 5\n",
      "c.foo = 0\n",
      "i.bar = [1, 1, 1, 1]\n",
      "c.bar = [1]\n",
      "\n",
      "i.foo = 6\n",
      "c.foo = 0\n",
      "i.bar = [1, 1, 1, 1, 1]\n",
      "c.bar = [1]\n",
      "\n"
     ]
    }
   ],
   "source": [
    "for i in range(5):\n",
    "    with_static1.add_one()\n",
    "    my_test(WithStatic, with_static1, ['foo', 'bar'])"
   ]
  },
  {
   "cell_type": "markdown",
   "id": "a66a3b9f-b138-4d4c-bd2a-0803cf0f62f4",
   "metadata": {},
   "source": [
    "We define a second instance."
   ]
  },
  {
   "cell_type": "code",
   "execution_count": 72,
   "id": "f1c1f91c-10ee-488c-8920-c59a8ad8db7a",
   "metadata": {},
   "outputs": [],
   "source": [
    "with_static2 = WithStatic()"
   ]
  },
  {
   "cell_type": "markdown",
   "id": "75d05d05-b331-4e5f-b085-d31ea7a4306f",
   "metadata": {},
   "source": [
    "The new instance has the original value of `foo`.\n",
    "\n",
    "However, it starts of with the modified value of `bar` before it was replaced."
   ]
  },
  {
   "cell_type": "code",
   "execution_count": 73,
   "id": "6730d099-209f-4e3b-b212-0139e87eb042",
   "metadata": {},
   "outputs": [
    {
     "name": "stdout",
     "output_type": "stream",
     "text": [
      "i.foo = 0\n",
      "c.foo = 0\n",
      "i.bar = [1, 1]\n",
      "c.bar = [1, 1]\n",
      "\n"
     ]
    }
   ],
   "source": [
    "my_test(WithStatic, with_static2, ['foo', 'bar'])"
   ]
  },
  {
   "cell_type": "markdown",
   "id": "dee319ea-dd01-4bd2-9f41-5b9db39f2dd1",
   "metadata": {},
   "source": [
    "We do it a few more times to drive the point home."
   ]
  },
  {
   "cell_type": "code",
   "execution_count": 74,
   "id": "069f7015-3d8f-4ec9-9814-22b60abb27a5",
   "metadata": {},
   "outputs": [
    {
     "name": "stdout",
     "output_type": "stream",
     "text": [
      "i.foo = 1\n",
      "c.foo = 0\n",
      "i.bar = [1, 1, 1]\n",
      "c.bar = [1, 1, 1]\n",
      "\n",
      "\n",
      "i.foo = 2\n",
      "c.foo = 0\n",
      "i.bar = [1, 1, 1, 1]\n",
      "c.bar = [1, 1, 1, 1]\n",
      "\n",
      "\n",
      "i.foo = 3\n",
      "c.foo = 0\n",
      "i.bar = [1, 1, 1, 1, 1]\n",
      "c.bar = [1, 1, 1, 1, 1]\n",
      "\n",
      "\n",
      "i.foo = 4\n",
      "c.foo = 0\n",
      "i.bar = [1, 1, 1, 1, 1, 1]\n",
      "c.bar = [1, 1, 1, 1, 1, 1]\n",
      "\n",
      "\n",
      "i.foo = 5\n",
      "c.foo = 0\n",
      "i.bar = [1, 1, 1, 1, 1, 1, 1]\n",
      "c.bar = [1, 1, 1, 1, 1, 1, 1]\n",
      "\n",
      "\n"
     ]
    }
   ],
   "source": [
    "for i in range(5):\n",
    "    with_static2.add_one()\n",
    "    my_test(WithStatic, with_static2, ['foo', 'bar'])\n",
    "    print()"
   ]
  }
 ],
 "metadata": {
  "kernelspec": {
   "display_name": "Python 3 (ipykernel)",
   "language": "python",
   "name": "python3"
  },
  "language_info": {
   "codemirror_mode": {
    "name": "ipython",
    "version": 3
   },
   "file_extension": ".py",
   "mimetype": "text/x-python",
   "name": "python",
   "nbconvert_exporter": "python",
   "pygments_lexer": "ipython3",
   "version": "3.8.3"
  },
  "widgets": {
   "application/vnd.jupyter.widget-state+json": {
    "state": {},
    "version_major": 2,
    "version_minor": 0
   }
  }
 },
 "nbformat": 4,
 "nbformat_minor": 5
}
