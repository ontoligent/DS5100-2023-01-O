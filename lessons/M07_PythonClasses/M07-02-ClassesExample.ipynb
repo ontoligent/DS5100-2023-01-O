{
 "cells": [
  {
   "cell_type": "markdown",
   "id": "28713ad8-93a9-47cd-a963-86727fa1dfb7",
   "metadata": {},
   "source": [
    "# Metadata\n",
    "\n",
    "```\n",
    "Course:  DS 5100\n",
    "Module:  07 Python Classes\n",
    "Topic:   Classes Example\n",
    "Author:  R.C. Alvarado\n",
    "Date:    29 June 2022\n",
    "```"
   ]
  },
  {
   "cell_type": "markdown",
   "id": "2aa04593-ead3-4794-b3a8-b2cc98a3df1f",
   "metadata": {},
   "source": [
    "# Set Up"
   ]
  },
  {
   "cell_type": "code",
   "execution_count": 1,
   "id": "88d01055-44f3-4885-bf03-9eb1e9dc8dec",
   "metadata": {},
   "outputs": [],
   "source": [
    "import pandas as pd\n",
    "import numpy as np"
   ]
  },
  {
   "cell_type": "markdown",
   "id": "76954013-2657-44db-b649-52936aaecff3",
   "metadata": {},
   "source": [
    "# Method 1: Nothing Special\n",
    "\n",
    "We define a set of functions that work in a sequence, where the return value of one is the argument of the other."
   ]
  },
  {
   "cell_type": "markdown",
   "id": "0a5e76df-81cf-47a9-8821-011a3b81af7c",
   "metadata": {},
   "source": [
    "## Define Functions"
   ]
  },
  {
   "cell_type": "code",
   "execution_count": 2,
   "id": "ae6844eb-cbc3-418b-b2bf-5278240a1c7b",
   "metadata": {},
   "outputs": [],
   "source": [
    "def create_die(weights):\n",
    "    n_sides = len(weights)\n",
    "    my_probs = [i/sum(weights) for i in weights]\n",
    "    my_die = pd.DataFrame({\n",
    "        'side': range(1, n_sides + 1),\n",
    "        'weights': my_probs\n",
    "    })\n",
    "    return my_die\n",
    "\n",
    "def roll_dice(my_die, n_rolls=1):\n",
    "    results = []\n",
    "    for i in range(n_rolls):\n",
    "        result = my_die.side.sample(weights=my_die.weights).values[0]\n",
    "        results.append(result)\n",
    "    return pd.Series(results)\n",
    "\n",
    "def plot_results(my_results):\n",
    "    my_results.value_counts().sort_index().plot.bar();"
   ]
  },
  {
   "cell_type": "markdown",
   "id": "a908582e-31ec-4ac5-b936-855930227edd",
   "metadata": {},
   "source": [
    "## Create Instances"
   ]
  },
  {
   "cell_type": "code",
   "execution_count": 3,
   "id": "a31b416e-8bb6-4f23-bcaf-cb68da3aaad7",
   "metadata": {},
   "outputs": [],
   "source": [
    "n_rolls = 10"
   ]
  },
  {
   "cell_type": "code",
   "execution_count": 4,
   "id": "e329ccbb-c8f0-4e05-bcea-7af623b02d26",
   "metadata": {},
   "outputs": [
    {
     "data": {
      "image/png": "[encoded data removed]",
      "text/plain": [
       "<Figure size 432x288 with 1 Axes>"
      ]
     },
     "metadata": {
      "needs_background": "light"
     },
     "output_type": "display_data"
    }
   ],
   "source": [
    "fair_die = create_die([1,1,1,1,1,1,1])\n",
    "fair_results = roll_dice(fair_die, n_rolls)\n",
    "plot_results(fair_results)"
   ]
  },
  {
   "cell_type": "code",
   "execution_count": 5,
   "id": "ae83c0f5-95c3-43dd-b54f-e3a703233c46",
   "metadata": {},
   "outputs": [
    {
     "data": {
      "image/png": "[encoded data removed]",
      "text/plain": [
       "<Figure size 432x288 with 1 Axes>"
      ]
     },
     "metadata": {
      "needs_background": "light"
     },
     "output_type": "display_data"
    }
   ],
   "source": [
    "unfair_die = create_die([1,1,1,1,1,5])\n",
    "unfair_results = roll_dice(unfair_die, n_rolls)\n",
    "plot_results(unfair_results)"
   ]
  },
  {
   "cell_type": "markdown",
   "id": "db978aaf-9431-45bc-b4b0-058a049cd8b8",
   "metadata": {
    "tags": []
   },
   "source": [
    "## Doing it all at once"
   ]
  },
  {
   "cell_type": "code",
   "execution_count": 6,
   "id": "8682f1dd-3a1d-4808-b448-8ef0db3d2324",
   "metadata": {},
   "outputs": [],
   "source": [
    "def do_it_all(weights):\n",
    "    plot_results(roll_dice(create_die(weights), n_rolls))"
   ]
  },
  {
   "cell_type": "code",
   "execution_count": 7,
   "id": "12bf414e-cfeb-4762-b07b-a1348b7d426a",
   "metadata": {},
   "outputs": [
    {
     "data": {
      "image/png": "[encoded data removed]",
      "text/plain": [
       "<Figure size 432x288 with 1 Axes>"
      ]
     },
     "metadata": {
      "needs_background": "light"
     },
     "output_type": "display_data"
    }
   ],
   "source": [
    "do_it_all(roll_dice(create_die([1,1,1,1,1,10]), n_rolls))"
   ]
  },
  {
   "cell_type": "markdown",
   "id": "e007dc56-74d9-4cec-874a-8c21aef180f4",
   "metadata": {
    "tags": []
   },
   "source": [
    "# Method 2: With Globals"
   ]
  },
  {
   "cell_type": "markdown",
   "id": "73c3d0e8-f25c-41cc-b4ff-382bcea1cfcb",
   "metadata": {},
   "source": [
    "## Define a Shared Data Structure\n",
    "\n",
    "We create a dictionary called `config` to store our instance data."
   ]
  },
  {
   "cell_type": "code",
   "execution_count": 8,
   "id": "7146ca71-c7b6-44d9-bb20-12bae41b8893",
   "metadata": {},
   "outputs": [],
   "source": [
    "config = {} # We expect this to have the same keys\n",
    "n_rolls2 = 10"
   ]
  },
  {
   "cell_type": "markdown",
   "id": "df068ad5-091c-45b3-a88d-9112e8c84ca4",
   "metadata": {},
   "source": [
    "## Define Methods "
   ]
  },
  {
   "cell_type": "code",
   "execution_count": 9,
   "id": "c9821289-220c-42ec-834a-aa05c122021c",
   "metadata": {},
   "outputs": [],
   "source": [
    "def create_die2(die_id):\n",
    "    global config\n",
    "    config[die_id]['die'] = None\n",
    "    weights = config[die_id]['weights']\n",
    "    n_sides = len(weights)\n",
    "    my_probs = [i/sum(weights) for i in weights]\n",
    "    config[die_id]['die'] = pd.DataFrame({\n",
    "        'side': range(1, n_sides + 1),\n",
    "        'weights': my_probs\n",
    "    })\n",
    "\n",
    "def roll_dice2(die_id):\n",
    "    global config\n",
    "    global n_rolls2\n",
    "    config[die_id]['results'] = None\n",
    "    my_die = config[die_id]['die']\n",
    "    results = []\n",
    "    for i in range(n_rolls2):\n",
    "        result = my_die.side.sample(weights=my_die.weights).values[0]\n",
    "        results.append(result)\n",
    "    config[die_id]['results'] = pd.Series(results)\n",
    "\n",
    "def plot_results2(die_id):\n",
    "    global config\n",
    "    my_results = config[die_id]['results']\n",
    "    my_results.value_counts().sort_index().plot.bar();\n",
    "\n",
    "def do_it_all2(die_id):\n",
    "    global config\n",
    "    global n_rolls2\n",
    "    print(\"Die ID:\", die_id)\n",
    "    print(\"Weights:\", config[die_id]['weights'])\n",
    "    print(\"Rolls:\", n_rolls2)\n",
    "    create_die2(die_id)\n",
    "    roll_dice2(die_id)\n",
    "    plot_results2(die_id)"
   ]
  },
  {
   "cell_type": "markdown",
   "id": "897e8658-4dc7-4a33-a68a-193b75609692",
   "metadata": {},
   "source": [
    "## Populate Config"
   ]
  },
  {
   "cell_type": "markdown",
   "id": "57c46df0-8bb0-4270-b187-5d1e3ee109d7",
   "metadata": {},
   "source": [
    "We populate our configuration config with some instances."
   ]
  },
  {
   "cell_type": "code",
   "execution_count": 10,
   "id": "6127f371-8e8b-4b74-a7cd-ca60822199c2",
   "metadata": {},
   "outputs": [],
   "source": [
    "config = {\n",
    "    'fair': {\n",
    "        'weights': [1,1,1,1,1,1]\n",
    "    },\n",
    "    'unfair': {\n",
    "        'weights': [1,1,1,1,10,100],\n",
    "    }\n",
    "}"
   ]
  },
  {
   "cell_type": "markdown",
   "id": "33ebd910-1133-4d92-bc97-b73cc1a59224",
   "metadata": {},
   "source": [
    "## Call Main Function"
   ]
  },
  {
   "cell_type": "code",
   "execution_count": 11,
   "id": "c3ba4eeb-ad3c-411f-8df0-deff1118f7ba",
   "metadata": {},
   "outputs": [
    {
     "name": "stdout",
     "output_type": "stream",
     "text": [
      "Die ID: fair\n",
      "Weights: [1, 1, 1, 1, 1, 1]\n",
      "Rolls: 10\n"
     ]
    },
    {
     "data": {
      "image/png": "[encoded data removed]",
      "text/plain": [
       "<Figure size 432x288 with 1 Axes>"
      ]
     },
     "metadata": {
      "needs_background": "light"
     },
     "output_type": "display_data"
    }
   ],
   "source": [
    "do_it_all2('fair')"
   ]
  },
  {
   "cell_type": "code",
   "execution_count": 12,
   "id": "028071f6-c4ec-4d7c-976b-1b8088782f55",
   "metadata": {},
   "outputs": [
    {
     "name": "stdout",
     "output_type": "stream",
     "text": [
      "Die ID: unfair\n",
      "Weights: [1, 1, 1, 1, 10, 100]\n",
      "Rolls: 10\n"
     ]
    },
    {
     "data": {
      "image/png": "[encoded data removed]",
      "text/plain": [
       "<Figure size 432x288 with 1 Axes>"
      ]
     },
     "metadata": {
      "needs_background": "light"
     },
     "output_type": "display_data"
    }
   ],
   "source": [
    "do_it_all2('unfair')"
   ]
  },
  {
   "cell_type": "code",
   "execution_count": 13,
   "id": "befb714f-d236-4718-be2d-37d154343216",
   "metadata": {},
   "outputs": [
    {
     "name": "stdout",
     "output_type": "stream",
     "text": [
      "Die ID: unfair\n",
      "Weights: [1, 1, 1, 1, 10, 100]\n",
      "Rolls: 1000\n"
     ]
    },
    {
     "data": {
      "image/png": "[encoded data removed]",
      "text/plain": [
       "<Figure size 432x288 with 1 Axes>"
      ]
     },
     "metadata": {
      "needs_background": "light"
     },
     "output_type": "display_data"
    }
   ],
   "source": [
    "n_rolls2 = 1000 # We change this, but it will affect all uses of the functions until we change it.\n",
    "do_it_all2('unfair')"
   ]
  },
  {
   "cell_type": "markdown",
   "id": "a00811bb-c7d3-45f9-9436-9af80266fcaa",
   "metadata": {},
   "source": [
    "# Method 3: As Class\n",
    "\n",
    "Define a class that contains the config data structure and all the functions as attributes and methods."
   ]
  },
  {
   "cell_type": "code",
   "execution_count": 14,
   "id": "b2b4a1c8-e729-42df-b5ce-8e0619a8db9a",
   "metadata": {},
   "outputs": [],
   "source": [
    "class DieGame():\n",
    "    \n",
    "    n_rolls = 10\n",
    "    weights = [1,1,1,1,1,1]\n",
    "    \n",
    "    def __init__(self):\n",
    "        return None\n",
    "        \n",
    "    def create_die(self):\n",
    "        self.n_sides = len(self.weights)\n",
    "        self.my_probs = [i/sum(self.weights) for i in self.weights]\n",
    "        self.die = pd.DataFrame({\n",
    "            'side': range(1, self.n_sides + 1),\n",
    "            'weights': self.my_probs\n",
    "        })\n",
    "    \n",
    "    def roll_die(self):\n",
    "        results = []\n",
    "        for i in range(self.n_rolls):\n",
    "            result = self.die.side.sample(weights=self.die.weights).values[0]\n",
    "            results.append(result)\n",
    "        self.results = pd.Series(results)        \n",
    "        \n",
    "    def plot_results(self):\n",
    "        prob_model = pd.Series({i+1:round(p, 2) for i, p in enumerate(self.my_probs)})\n",
    "        print(\"Sides:\", self.n_sides)\n",
    "        print(\"Model:\")\n",
    "        print(prob_model)\n",
    "        print(\"Rolls:\", self.n_rolls)\n",
    "        self.results.value_counts().sort_index().plot.bar(rot=0);\n",
    "        \n",
    "    # We add another method because it's so easy :-)\n",
    "    def plot_probs(self):\n",
    "        pd.Series(self.my_probs).plot.pie(title=\"Die Model\")\n",
    "        \n",
    "    def do_it_all(self):\n",
    "        self.create_die()\n",
    "        self.roll_die()\n",
    "        self.plot_results()\n"
   ]
  },
  {
   "cell_type": "code",
   "execution_count": 15,
   "id": "f2402314-c498-415e-b9da-f86fec6d8225",
   "metadata": {},
   "outputs": [
    {
     "name": "stdout",
     "output_type": "stream",
     "text": [
      "Sides: 6\n",
      "Model:\n",
      "1    0.17\n",
      "2    0.17\n",
      "3    0.17\n",
      "4    0.17\n",
      "5    0.17\n",
      "6    0.17\n",
      "dtype: float64\n",
      "Rolls: 100\n"
     ]
    },
    {
     "data": {
      "image/png": "[encoded data removed]",
      "text/plain": [
       "<Figure size 432x288 with 1 Axes>"
      ]
     },
     "metadata": {
      "needs_background": "light"
     },
     "output_type": "display_data"
    }
   ],
   "source": [
    "game_1 = DieGame()\n",
    "game_1.n_rolls = 100\n",
    "game_1.do_it_all()"
   ]
  },
  {
   "cell_type": "code",
   "execution_count": 16,
   "id": "4b539101-0e15-413f-b8f1-9320683fc64d",
   "metadata": {},
   "outputs": [
    {
     "data": {
      "image/png": "[encoded data removed]",
      "text/plain": [
       "<Figure size 432x288 with 1 Axes>"
      ]
     },
     "metadata": {},
     "output_type": "display_data"
    }
   ],
   "source": [
    "game_1.plot_probs()"
   ]
  },
  {
   "cell_type": "code",
   "execution_count": 17,
   "id": "f7ec94d5-667e-45fe-a62a-5488ed347379",
   "metadata": {},
   "outputs": [
    {
     "name": "stdout",
     "output_type": "stream",
     "text": [
      "Sides: 6\n",
      "Model:\n",
      "1    0.04\n",
      "2    0.04\n",
      "3    0.04\n",
      "4    0.18\n",
      "5    0.36\n",
      "6    0.36\n",
      "dtype: float64\n",
      "Rolls: 100\n"
     ]
    },
    {
     "data": {
      "image/png": "[encoded data removed]",
      "text/plain": [
       "<Figure size 432x288 with 1 Axes>"
      ]
     },
     "metadata": {
      "needs_background": "light"
     },
     "output_type": "display_data"
    }
   ],
   "source": [
    "game_2 = DieGame()\n",
    "game_2.n_rolls = 100\n",
    "game_2.weights = [1,1,1,5,10,10]\n",
    "game_2.do_it_all()"
   ]
  },
  {
   "cell_type": "code",
   "execution_count": 18,
   "id": "1753fc27-87f8-4c58-9f3c-a28b0b400e81",
   "metadata": {},
   "outputs": [
    {
     "data": {
      "image/png": "[encoded data removed]",
      "text/plain": [
       "<Figure size 432x288 with 1 Axes>"
      ]
     },
     "metadata": {},
     "output_type": "display_data"
    }
   ],
   "source": [
    "game_2.plot_probs()"
   ]
  },
  {
   "cell_type": "markdown",
   "id": "43bd4401-a6a2-4441-b5af-826e211b2487",
   "metadata": {},
   "source": [
    "# Conclusions\n",
    "\n",
    "The OOP approach handles scoping issues as well as data management.\n",
    "\n",
    "Notice how the dictionary is replaced by the object.\n",
    "\n",
    "Not only does it provide a place to store the data, it also provides a schema for it:\n",
    "* You don't need to remember what keys to put in the `data` dictionary of method 2. The object specifies them.\n",
    "\n",
    "Notice also that we don't pass arguments to the object as we do with functions (although we can). \n",
    "\n",
    "We assign values to attributes directly.\n",
    "\n",
    "**Can you think of any other advantages or disadvantages?**"
   ]
  },
  {
   "cell_type": "code",
   "execution_count": null,
   "id": "1735d5f4-1bb7-4f7b-a205-6f4b5dc34161",
   "metadata": {},
   "outputs": [],
   "source": []
  }
 ],
 "metadata": {
  "kernelspec": {
   "display_name": "Python 3 (ipykernel)",
   "language": "python",
   "name": "python3"
  },
  "language_info": {
   "codemirror_mode": {
    "name": "ipython",
    "version": 3
   },
   "file_extension": ".py",
   "mimetype": "text/x-python",
   "name": "python",
   "nbconvert_exporter": "python",
   "pygments_lexer": "ipython3",
   "version": "3.8.16"
  },
  "widgets": {
   "application/vnd.jupyter.widget-state+json": {
    "state": {},
    "version_major": 2,
    "version_minor": 0
   }
  }
 },
 "nbformat": 4,
 "nbformat_minor": 5
}
