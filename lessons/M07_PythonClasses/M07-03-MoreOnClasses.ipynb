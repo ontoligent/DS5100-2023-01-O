{
 "cells": [
  {
   "cell_type": "markdown",
   "id": "8786d81d-132c-4919-a974-f73a343360e5",
   "metadata": {},
   "source": [
    "# Metadata\n",
    "\n",
    "```\n",
    "Course:   DS 5100\n",
    "Module:   07 Python Classes\n",
    "Topic:    More About Classes\n",
    "Author:   R.C. Alvarado\n",
    "Date:     30 June 2022\n",
    "```"
   ]
  },
  {
   "cell_type": "markdown",
   "id": "d836fa15-4822-43be-96e2-3cfa1be3ec3d",
   "metadata": {
    "tags": []
   },
   "source": [
    "# Fun Facts about Python Classes\n",
    "\n",
    "* You can put more than one class in a file.\n",
    "* You can put your classes in a .py file and import them into your other scripts.\n",
    "* Class names are usuall CamelCase, but not instances\n",
    "* When saving to a file:\n",
    "  - If only one class, use a lower case name of the class\n",
    "  - If more than one, use a package name, one that stands for the logical group the classes belong to"
   ]
  },
  {
   "cell_type": "markdown",
   "id": "2a5c9b29-200a-44ce-a46d-0defb93f19ab",
   "metadata": {},
   "source": [
    "# Anatomy of a Python Class"
   ]
  },
  {
   "cell_type": "code",
   "execution_count": 1,
   "id": "7fdca263-1b22-4a22-bb96-bf4145deafe7",
   "metadata": {},
   "outputs": [],
   "source": [
    "# Import class dependencies here\n",
    "import pandas as pd\n",
    "import numpy as np\n",
    "import re\n",
    "import requests\n",
    "from lxml import etree\n",
    "\n",
    "# Use CamelCase to name your class\n",
    "class MyClass(object): # Optionally pass ancestor classes to use inheritance\n",
    "    \"\"\"\n",
    "    Extensive docstring describing structure and function of class.\n",
    "    \"\"\"\n",
    "    \n",
    "    # Class attributes go here with initial values if applicable\n",
    "    att1 = True \n",
    "    att2 = 'Foo'\n",
    "    _private_att = 'Bar' # A variable that is meant to be internally only; not intended to accessed by users\n",
    "    \n",
    "    # Object initializer; called when an instance of the class is created\n",
    "    def __init__(self):\n",
    "        pass\n",
    "    \n",
    "    # Methods that share state via the self variable\n",
    "    def get_something(self):\n",
    "        pass\n",
    "    \n",
    "    # Name your methods consistently -- prefix with verbs\n",
    "    def put_something(self):\n",
    "        pass\n",
    "    \n",
    "    def do_something(self):\n",
    "        pass\n",
    "\n",
    "    def show_something(self):\n",
    "        pass\n",
    "\n",
    "    # A private method\n",
    "    def _private_method(self): \n",
    "        pass\n",
    "    \n",
    "    def do_something_else(self):\n",
    "        # Use private method\n",
    "        self._private_method()\n",
    "    \n",
    "    # A static method\n",
    "    def static_method():\n",
    "        pass\n"
   ]
  },
  {
   "cell_type": "markdown",
   "id": "294335ea-91b4-413a-a6fa-fa36db8f25bb",
   "metadata": {},
   "source": [
    "# Privacy\n",
    "\n",
    "Users are free to access private attributes and methods, but they not shown in the help docs."
   ]
  },
  {
   "cell_type": "code",
   "execution_count": 2,
   "id": "e3c00ba6-debe-4068-9b58-7f929b9fc78f",
   "metadata": {},
   "outputs": [
    {
     "name": "stdout",
     "output_type": "stream",
     "text": [
      "Help on class MyClass in module __main__:\n",
      "\n",
      "class MyClass(builtins.object)\n",
      " |  Extensive docstring describing structure and function of class.\n",
      " |  \n",
      " |  Methods defined here:\n",
      " |  \n",
      " |  __init__(self)\n",
      " |      Initialize self.  See help(type(self)) for accurate signature.\n",
      " |  \n",
      " |  do_something(self)\n",
      " |  \n",
      " |  do_something_else(self)\n",
      " |  \n",
      " |  get_something(self)\n",
      " |      # Methods that share state via the self variable\n",
      " |  \n",
      " |  put_something(self)\n",
      " |      # Name your methods consistently -- prefix with verbs\n",
      " |  \n",
      " |  show_something(self)\n",
      " |  \n",
      " |  static_method()\n",
      " |      # A static method\n",
      " |  \n",
      " |  ----------------------------------------------------------------------\n",
      " |  Data descriptors defined here:\n",
      " |  \n",
      " |  __dict__\n",
      " |      dictionary for instance variables (if defined)\n",
      " |  \n",
      " |  __weakref__\n",
      " |      list of weak references to the object (if defined)\n",
      " |  \n",
      " |  ----------------------------------------------------------------------\n",
      " |  Data and other attributes defined here:\n",
      " |  \n",
      " |  att1 = True\n",
      " |  \n",
      " |  att2 = 'Foo'\n",
      "\n"
     ]
    }
   ],
   "source": [
    "help(MyClass)"
   ]
  },
  {
   "cell_type": "markdown",
   "id": "bdc77135-b8fc-4728-84a1-0f6e7a37ab6d",
   "metadata": {},
   "source": [
    "# Static Classes\n",
    "\n",
    "Static classes don't need to be instantiated.\n",
    "\n",
    "They can be used to store a collection of stand-alone helper functions as methods.\n",
    "\n",
    "Note the absence of `self` ..."
   ]
  },
  {
   "cell_type": "code",
   "execution_count": 3,
   "id": "aeb7b3e8-15ea-4b99-8555-74ffac519993",
   "metadata": {},
   "outputs": [],
   "source": [
    "class StaticClass():\n",
    "\n",
    "    def add_these(*nums):\n",
    "        sum = 0\n",
    "        for num in nums: sum += num\n",
    "        return sum\n",
    "    \n",
    "    def square_me(x):\n",
    "        return x**2"
   ]
  },
  {
   "cell_type": "code",
   "execution_count": 4,
   "id": "1c65e2af-fa16-4ffb-b24b-a809c49a2b6e",
   "metadata": {},
   "outputs": [
    {
     "data": {
      "text/plain": [
       "12"
      ]
     },
     "execution_count": 4,
     "metadata": {},
     "output_type": "execute_result"
    }
   ],
   "source": [
    "StaticClass.add_these(1,5,6)"
   ]
  },
  {
   "cell_type": "code",
   "execution_count": 5,
   "id": "54f112dc-a8b3-496d-927f-7e535bc06df6",
   "metadata": {},
   "outputs": [
    {
     "data": {
      "text/plain": [
       "25"
      ]
     },
     "execution_count": 5,
     "metadata": {},
     "output_type": "execute_result"
    }
   ],
   "source": [
    "StaticClass.square_me(5)"
   ]
  },
  {
   "cell_type": "markdown",
   "id": "94c14871-7646-488f-97e9-5a6f4ebd9543",
   "metadata": {},
   "source": [
    "This won't work ..."
   ]
  },
  {
   "cell_type": "code",
   "execution_count": 6,
   "id": "eb34f1f1-b639-49b0-9155-647c8ce3f7c7",
   "metadata": {},
   "outputs": [],
   "source": [
    "sc = StaticClass()"
   ]
  },
  {
   "cell_type": "code",
   "execution_count": 7,
   "id": "df77b5d3-4dc8-4758-9ba3-b9dc22ac1380",
   "metadata": {},
   "outputs": [
    {
     "ename": "TypeError",
     "evalue": "square_me() takes 1 positional argument but 2 were given",
     "output_type": "error",
     "traceback": [
      "\u001b[0;31m---------------------------------------------------------------------------\u001b[0m",
      "\u001b[0;31mTypeError\u001b[0m                                 Traceback (most recent call last)",
      "Input \u001b[0;32mIn [7]\u001b[0m, in \u001b[0;36m<cell line: 1>\u001b[0;34m()\u001b[0m\n\u001b[0;32m----> 1\u001b[0m \u001b[43msc\u001b[49m\u001b[38;5;241;43m.\u001b[39;49m\u001b[43msquare_me\u001b[49m\u001b[43m(\u001b[49m\u001b[38;5;241;43m10\u001b[39;49m\u001b[43m)\u001b[49m\n",
      "\u001b[0;31mTypeError\u001b[0m: square_me() takes 1 positional argument but 2 were given"
     ]
    }
   ],
   "source": [
    "sc.square_me(10)"
   ]
  },
  {
   "cell_type": "markdown",
   "id": "aa539a54-e57c-4942-b853-582d60754d87",
   "metadata": {},
   "source": [
    "# Importing Your Own Classes"
   ]
  },
  {
   "cell_type": "code",
   "execution_count": 8,
   "id": "a4e4fb28-1b04-4f87-89c7-f299e7f33705",
   "metadata": {},
   "outputs": [],
   "source": [
    "from diegame import DieGame"
   ]
  },
  {
   "cell_type": "code",
   "execution_count": 9,
   "id": "56f26055-7c0d-4451-90aa-d3af76a058f6",
   "metadata": {},
   "outputs": [
    {
     "name": "stdout",
     "output_type": "stream",
     "text": [
      "Sides: 6\n",
      "Model:\n",
      "1    0.17\n",
      "2    0.17\n",
      "3    0.17\n",
      "4    0.17\n",
      "5    0.17\n",
      "6    0.17\n",
      "dtype: float64\n",
      "Rolls: 100\n"
     ]
    },
    {
     "data": {
      "image/png": "[encoded data removed]",
      "text/plain": [
       "<Figure size 432x288 with 1 Axes>"
      ]
     },
     "metadata": {
      "needs_background": "light"
     },
     "output_type": "display_data"
    }
   ],
   "source": [
    "game_1 = DieGame()\n",
    "game_1.n_rolls = 100\n",
    "game_1.do_it_all()"
   ]
  },
  {
   "cell_type": "code",
   "execution_count": null,
   "id": "518efff5-b3ca-4f7f-b59c-b6b0bf514a90",
   "metadata": {},
   "outputs": [],
   "source": []
  }
 ],
 "metadata": {
  "kernelspec": {
   "display_name": "Python 3 (ipykernel)",
   "language": "python",
   "name": "python3"
  },
  "language_info": {
   "codemirror_mode": {
    "name": "ipython",
    "version": 3
   },
   "file_extension": ".py",
   "mimetype": "text/x-python",
   "name": "python",
   "nbconvert_exporter": "python",
   "pygments_lexer": "ipython3",
   "version": "3.8.16"
  },
  "widgets": {
   "application/vnd.jupyter.widget-state+json": {
    "state": {},
    "version_major": 2,
    "version_minor": 0
   }
  }
 },
 "nbformat": 4,
 "nbformat_minor": 5
}
