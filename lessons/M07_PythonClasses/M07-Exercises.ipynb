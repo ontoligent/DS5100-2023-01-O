{
 "cells": [
  {
   "cell_type": "markdown",
   "id": "6ce58a3d-c0bd-4253-8756-bdfc8a2708b2",
   "metadata": {
    "slideshow": {
     "slide_type": "slide"
    }
   },
   "source": [
    "# M07 Exercises\n",
    "\n",
    "DS 5100 | Spring 2022"
   ]
  },
  {
   "cell_type": "markdown",
   "id": "4449dc56-9bae-4bdf-ad57-97484c16916b",
   "metadata": {
    "slideshow": {
     "slide_type": "slide"
    }
   },
   "source": [
    "# Exercise 7.1\n",
    "\n",
    "Create your own class with the following:\n",
    "- a docstring\n",
    "- a static attribute\n",
    "- an `__init__` function that takes one required argument and sets an instance attribute to that value\n",
    "- a method that operates on the two attributes and prints the result"
   ]
  },
  {
   "cell_type": "code",
   "execution_count": 49,
   "id": "d87d6425-7d09-499b-8777-317ba08ff17a",
   "metadata": {
    "slideshow": {
     "slide_type": "subslide"
    }
   },
   "outputs": [],
   "source": [
    "class MyClass():\n",
    "    \"\"\"This a class I've written for a class I am taking :-)\"\"\"\n",
    "    \n",
    "    att1 = \"foo\"\n",
    "    \n",
    "    def __init__(self, att2):\n",
    "        self.att2 = att2\n",
    "        \n",
    "    def add(self):\n",
    "        self.msg = self.att1 + ' ' + self.att2\n",
    "        print(self.msg)"
   ]
  },
  {
   "cell_type": "markdown",
   "id": "e53406c5-5af0-41c7-b4e0-281b7dee48a9",
   "metadata": {
    "slideshow": {
     "slide_type": "slide"
    }
   },
   "source": [
    "# Exercise 7.2\n",
    "\n",
    "Now that you've defined your class, create an object by passing the argument required by `__init__`.\n",
    "\n",
    "Use `object.attribute` to show the two attributes.\n",
    "\n",
    "Then call the method."
   ]
  },
  {
   "cell_type": "code",
   "execution_count": 52,
   "id": "e943c67f-5fc0-4d38-94a2-e85eef5a8b18",
   "metadata": {
    "slideshow": {
     "slide_type": "subslide"
    }
   },
   "outputs": [],
   "source": [
    "obj_1 = MyClass(\"This is not a pipe\")"
   ]
  },
  {
   "cell_type": "code",
   "execution_count": 53,
   "id": "aa03b0a4-d87e-4cb0-8242-cbc3a9553670",
   "metadata": {
    "slideshow": {
     "slide_type": "-"
    }
   },
   "outputs": [
    {
     "data": {
      "text/plain": [
       "('foo', 'This is not a pipe')"
      ]
     },
     "execution_count": 53,
     "metadata": {},
     "output_type": "execute_result"
    }
   ],
   "source": [
    "obj_1.att1, obj_1.att2"
   ]
  },
  {
   "cell_type": "code",
   "execution_count": 54,
   "id": "89c26e0b-f710-486c-b044-50887f9d1eaa",
   "metadata": {
    "slideshow": {
     "slide_type": "-"
    }
   },
   "outputs": [
    {
     "name": "stdout",
     "output_type": "stream",
     "text": [
      "foo This is not a pipe\n"
     ]
    }
   ],
   "source": [
    "obj_1.add()"
   ]
  },
  {
   "cell_type": "markdown",
   "id": "99274ed3",
   "metadata": {
    "slideshow": {
     "slide_type": "slide"
    }
   },
   "source": [
    "# Exercise 7.3\n",
    "\n",
    "Create a class called `Student` that contains a student's grades for a given class.\n",
    "* It should store the grades as a Pandas **Series** of type `float`, with the index being the assignment name.\n",
    "* It should have an initialization method that takes the student's full name and user ID.\n",
    "* It should have a method to add an assignment with its grade to the Series object.\n",
    "  * Hint: to add a new observation (row) to a Series, you can do this: `foo.loc['new_key'] = new_value`\n",
    "* It should also have a method to plot the student's grades as a bar chart.\n",
    "  * The plot should have a title stating the student's name, and ID in parentheses.\n",
    "  "
   ]
  },
  {
   "cell_type": "code",
   "execution_count": 77,
   "id": "4596f8b6-7d84-4964-83af-784bcc7680b8",
   "metadata": {
    "slideshow": {
     "slide_type": "subslide"
    }
   },
   "outputs": [],
   "source": [
    "import pandas as pd\n",
    "\n",
    "class Student:\n",
    "    \n",
    "    def __init__(self, name, id): \n",
    "        self.name = name\n",
    "        self.id = id\n",
    "        self.grades = pd.Series(dtype=float)\n",
    "    \n",
    "    def add_grade(self, assignment, grade):\n",
    "        self.grades.loc[assignment] = grade\n",
    "    \n",
    "    def show_grades(self):\n",
    "        self.grades.plot.bar(title=f\"Grades for {self.name} ({self.id})\")\n",
    "    "
   ]
  },
  {
   "cell_type": "markdown",
   "id": "2718ff7f-7881-4c39-9f5d-a709fe09a094",
   "metadata": {
    "slideshow": {
     "slide_type": "slide"
    }
   },
   "source": [
    "# Exercise 7.3a\n",
    "Create three instances, each with four grades.\n",
    "* Use HW01, HW02, HW03, and HW04 as assignment names.\n",
    "* Call the plot method for each."
   ]
  },
  {
   "cell_type": "code",
   "execution_count": 78,
   "id": "8a88200a-921d-4929-a2d9-2550384735c1",
   "metadata": {
    "slideshow": {
     "slide_type": "subslide"
    }
   },
   "outputs": [],
   "source": [
    "student1 = Student(\"Quetzil Castaneda\", 'qc4x')"
   ]
  },
  {
   "cell_type": "code",
   "execution_count": 79,
   "id": "f6fca679-0a6b-4aeb-bb72-53a88c945ac7",
   "metadata": {
    "slideshow": {
     "slide_type": "-"
    }
   },
   "outputs": [],
   "source": [
    "student1.add_grade(\"HW01\", 100)\n",
    "student1.add_grade(\"HW02\", 95)\n",
    "student1.add_grade(\"HW03\", 91)\n",
    "student1.add_grade(\"HW04\", 98)"
   ]
  },
  {
   "cell_type": "code",
   "execution_count": 62,
   "id": "adcddc06-456d-47d6-b644-eddb49e73b72",
   "metadata": {
    "slideshow": {
     "slide_type": "-"
    }
   },
   "outputs": [
    {
     "data": {
      "image/png": "[encoded data removed]",
      "text/plain": [
       "<Figure size 432x288 with 1 Axes>"
      ]
     },
     "metadata": {
      "needs_background": "light"
     },
     "output_type": "display_data"
    }
   ],
   "source": [
    "student1.show_grades()"
   ]
  },
  {
   "cell_type": "markdown",
   "id": "8593668f-5ab4-450e-910c-07751d3eee51",
   "metadata": {
    "slideshow": {
     "slide_type": "slide"
    }
   },
   "source": [
    "# Exercise 7.4\n",
    "\n",
    "The fictitious global e-commerce and cloud computing juggernaut UVAWS offers cloud computing as a service with a range of server options. You will define and use with a class that instantiates a cloud server. Define a class with these requirements:\n",
    "\n",
    "- Name: `V3`\n",
    "- Attributes:\n",
    "  - `instance_size` a string representing one of `small`, `medium` , and `large`\n",
    "  - `num_vcpus`     an integer representing the number of virtual CPUs.\n",
    "  - `memory`        an integer representing the number of GBs.\n",
    "  - `disk_space`    a float representing the number of TBs.\n",
    "- Methods (with parameters):  \n",
    "  - `add_disk_space(amt_to_add)`. This adds disk space to the current disk space. \n",
    "    - `amt_to_add` will be a float.\n",
    "  - `has_enough_disk_space(amt_required)` this checks if the amount required is available. \n",
    "    - `amt_required` will be a float. \n",
    "    - Use natural language to print an appropriate response while also returning a boolean value. \n",
    "  - `__init__()` That sets all of the attributes above."
   ]
  },
  {
   "cell_type": "code",
   "execution_count": 63,
   "id": "1540d036",
   "metadata": {
    "slideshow": {
     "slide_type": "subslide"
    }
   },
   "outputs": [],
   "source": [
    "class V3():\n",
    "    \n",
    "    def __init__(self, instance_size, num_vcpus, memory, disk_space):\n",
    "        self.instance_size = instance_size\n",
    "        self.num_vcpus = num_vcpus\n",
    "        self.memory = memory\n",
    "        self.disk_space = disk_space\n",
    "        \n",
    "    def add_disk_space(self, amt_to_add):\n",
    "        self.disk_space += amt_to_add\n",
    "        \n",
    "    def has_enough_disk_space(self, amt_required):\n",
    "        if self.disk_space >= amt_required:\n",
    "            print(\"You have enough disk space!\")\n",
    "            return True\n",
    "        else:\n",
    "            print(\"You don't have enough disk space!\")\n",
    "            return False"
   ]
  },
  {
   "cell_type": "markdown",
   "id": "0ab57926-8473-4d65-8d03-76093786fdc3",
   "metadata": {
    "slideshow": {
     "slide_type": "slide"
    }
   },
   "source": [
    "# Exercise 7.5\n",
    "\n",
    "Instantiate a V3 object with these attribute values:\n",
    "```python\n",
    "instance_size: 'large'\n",
    "num_vcpus:     32\n",
    "memory:        256\n",
    "disk_space:    1.\n",
    "```\n",
    "\n",
    "Then:\n",
    "1. Add $2.0$ TB disk space to the instance.\n",
    "2. Display the updated disk space using dot operator to display the attribute.\n",
    "3. See if the instance has enough disk space, using a request of $10.0$ TB."
   ]
  },
  {
   "cell_type": "code",
   "execution_count": 82,
   "id": "9e9c2861",
   "metadata": {
    "slideshow": {
     "slide_type": "subslide"
    }
   },
   "outputs": [],
   "source": [
    "my_v3 = V3('large', 32, 256, 1.)\n",
    "my_v3.add_disk_space(2.)"
   ]
  },
  {
   "cell_type": "code",
   "execution_count": 83,
   "id": "e7c4016d",
   "metadata": {
    "slideshow": {
     "slide_type": "subslide"
    }
   },
   "outputs": [
    {
     "data": {
      "text/plain": [
       "3.0"
      ]
     },
     "execution_count": 83,
     "metadata": {},
     "output_type": "execute_result"
    }
   ],
   "source": [
    "my_v3.disk_space"
   ]
  },
  {
   "cell_type": "code",
   "execution_count": 81,
   "id": "8b474564",
   "metadata": {},
   "outputs": [
    {
     "name": "stdout",
     "output_type": "stream",
     "text": [
      "You don't have enough disk space!\n"
     ]
    },
    {
     "data": {
      "text/plain": [
       "False"
      ]
     },
     "execution_count": 81,
     "metadata": {},
     "output_type": "execute_result"
    }
   ],
   "source": [
    "my_v3.has_enough_disk_space(10.)"
   ]
  },
  {
   "cell_type": "markdown",
   "id": "11ccca98-284e-468f-bb95-3ae9824ad389",
   "metadata": {
    "slideshow": {
     "slide_type": "slide"
    }
   },
   "source": [
    "# Exercise 7.6\n",
    "\n",
    "Write a Python class named Circle constructed by a radius\\\n",
    "and two methods which will compute the area and the perimeter of the circle. "
   ]
  },
  {
   "cell_type": "code",
   "execution_count": 91,
   "id": "850d0424-c4e2-45cd-af29-236b5b2ddf4b",
   "metadata": {
    "lines_to_next_cell": 1,
    "slideshow": {
     "slide_type": "subslide"
    }
   },
   "outputs": [],
   "source": [
    "class Circle():\n",
    "    \n",
    "    PI = 3.14\n",
    "    \n",
    "    def __init__(self, r):\n",
    "        self.radius = r\n",
    "\n",
    "    def area(self):\n",
    "        return self.radius**2 * self.PI\n",
    "    \n",
    "    def perimeter(self):\n",
    "        return 2 * self.radius * self.PI"
   ]
  },
  {
   "cell_type": "code",
   "execution_count": 92,
   "id": "795da0bd",
   "metadata": {},
   "outputs": [],
   "source": [
    "my_circle = Circle(8)"
   ]
  },
  {
   "cell_type": "code",
   "execution_count": 93,
   "id": "6316b08e",
   "metadata": {},
   "outputs": [
    {
     "data": {
      "text/plain": [
       "200.96"
      ]
     },
     "execution_count": 93,
     "metadata": {},
     "output_type": "execute_result"
    }
   ],
   "source": [
    "my_circle.area()"
   ]
  },
  {
   "cell_type": "code",
   "execution_count": 94,
   "id": "f1bceb90-d67e-4c62-8bfc-b73c9bdc90dd",
   "metadata": {},
   "outputs": [
    {
     "data": {
      "text/plain": [
       "50.24"
      ]
     },
     "execution_count": 94,
     "metadata": {},
     "output_type": "execute_result"
    }
   ],
   "source": [
    "my_circle.perimeter()"
   ]
  },
  {
   "cell_type": "markdown",
   "id": "4c433fc3",
   "metadata": {
    "slideshow": {
     "slide_type": "slide"
    }
   },
   "source": [
    "# Exercise 7.7\n",
    "\n",
    "Write a Python class named Rectangle constructed by a length and width and a method which will compute the area of a rectangle. "
   ]
  },
  {
   "cell_type": "code",
   "execution_count": 95,
   "id": "55fd4694",
   "metadata": {
    "slideshow": {
     "slide_type": "subslide"
    }
   },
   "outputs": [],
   "source": [
    "class Rectangle():\n",
    "    \n",
    "    def __init__(self, l, w):\n",
    "        self.length = l\n",
    "        self.width  = w\n",
    "\n",
    "    def rectangle_area(self):\n",
    "        return self.length * self.width"
   ]
  },
  {
   "cell_type": "code",
   "execution_count": 96,
   "id": "d64e6fd4",
   "metadata": {},
   "outputs": [],
   "source": [
    "newRectangle = Rectangle(12, 10)"
   ]
  },
  {
   "cell_type": "code",
   "execution_count": 97,
   "id": "f6318861",
   "metadata": {},
   "outputs": [
    {
     "data": {
      "text/plain": [
       "120"
      ]
     },
     "execution_count": 97,
     "metadata": {},
     "output_type": "execute_result"
    }
   ],
   "source": [
    "newRectangle.rectangle_area()"
   ]
  },
  {
   "cell_type": "markdown",
   "id": "38899fcd",
   "metadata": {
    "slideshow": {
     "slide_type": "slide"
    }
   },
   "source": [
    "# Exercisse 7.8\n",
    "\n",
    "Write a class `Geometry` with a static method to compute the area of a rectangle. \n",
    "\n",
    "Call the method with length as $10$ and width as $15$."
   ]
  },
  {
   "cell_type": "code",
   "execution_count": 98,
   "id": "160e51f2",
   "metadata": {
    "slideshow": {
     "slide_type": "subslide"
    }
   },
   "outputs": [],
   "source": [
    "class Geometry():\n",
    "    \n",
    "    def get_rectangle_area(l, w):\n",
    "        return l * w"
   ]
  },
  {
   "cell_type": "code",
   "execution_count": 99,
   "id": "7034352f",
   "metadata": {},
   "outputs": [
    {
     "data": {
      "text/plain": [
       "150"
      ]
     },
     "execution_count": 99,
     "metadata": {},
     "output_type": "execute_result"
    }
   ],
   "source": [
    "Geometry.get_rectangle_area(10, 15)"
   ]
  }
 ],
 "metadata": {
  "celltoolbar": "Slideshow",
  "kernelspec": {
   "display_name": "Python 3 (ipykernel)",
   "language": "python",
   "name": "python3"
  },
  "language_info": {
   "codemirror_mode": {
    "name": "ipython",
    "version": 3
   },
   "file_extension": ".py",
   "mimetype": "text/x-python",
   "name": "python",
   "nbconvert_exporter": "python",
   "pygments_lexer": "ipython3",
   "version": "3.8.16"
  },
  "latex_envs": {
   "LaTeX_envs_menu_present": true,
   "autoclose": false,
   "autocomplete": true,
   "bibliofile": "biblio.bib",
   "cite_by": "apalike",
   "current_citInitial": 1,
   "eqLabelWithNumbers": true,
   "eqNumInitial": 1,
   "hotkeys": {
    "equation": "Ctrl-E",
    "itemize": "Ctrl-I"
   },
   "labels_anchors": false,
   "latex_user_defs": false,
   "report_style_numbering": false,
   "user_envs_cfg": false
  },
  "toc": {
   "base_numbering": 1,
   "nav_menu": {},
   "number_sections": false,
   "sideBar": true,
   "skip_h1_title": false,
   "title_cell": "Table of Contents",
   "title_sidebar": "Contents",
   "toc_cell": false,
   "toc_position": {
    "height": "calc(100% - 180px)",
    "left": "10px",
    "top": "150px",
    "width": "349.091px"
   },
   "toc_section_display": true,
   "toc_window_display": false
  },
  "varInspector": {
   "cols": {
    "lenName": 16,
    "lenType": 16,
    "lenVar": 40
   },
   "kernels_config": {
    "python": {
     "delete_cmd_postfix": "",
     "delete_cmd_prefix": "del ",
     "library": "var_list.py",
     "varRefreshCmd": "print(var_dic_list())"
    },
    "r": {
     "delete_cmd_postfix": ") ",
     "delete_cmd_prefix": "rm(",
     "library": "var_list.r",
     "varRefreshCmd": "cat(var_dic_list()) "
    }
   },
   "types_to_exclude": [
    "module",
    "function",
    "builtin_function_or_method",
    "instance",
    "_Feature"
   ],
   "window_display": false
  },
  "vscode": {
   "interpreter": {
    "hash": "7d51c6d3927dc7a9466529ab449932690ed5cca642cd86ae76d101052af6cc05"
   }
  },
  "widgets": {
   "application/vnd.jupyter.widget-state+json": {
    "state": {},
    "version_major": 2,
    "version_minor": 0
   }
  }
 },
 "nbformat": 4,
 "nbformat_minor": 5
}
