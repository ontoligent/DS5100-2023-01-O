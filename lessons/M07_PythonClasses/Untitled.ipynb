{
 "cells": [
  {
   "cell_type": "code",
   "execution_count": 1,
   "id": "9cfc0c00-fadd-44e9-844a-9b150798c721",
   "metadata": {},
   "outputs": [],
   "source": [
    "from diegame import DieGame"
   ]
  },
  {
   "cell_type": "code",
   "execution_count": 2,
   "id": "41450056-251e-4876-93a2-80e7d489717b",
   "metadata": {},
   "outputs": [],
   "source": [
    "dg1 = DieGame()\n",
    "dg2 = DieGame()"
   ]
  },
  {
   "cell_type": "code",
   "execution_count": 3,
   "id": "c5afa016-0c58-42e5-9071-b75d2fd5277a",
   "metadata": {},
   "outputs": [],
   "source": [
    "def check_values():\n",
    "    print('n_rolls:', dg1.n_rolls, dg2.n_rolls, DieGame.n_rolls, sep='\\n\\t')\n",
    "    print('weights:', dg1.weights, dg2.weights, DieGame.weights, sep='\\n\\t')"
   ]
  },
  {
   "cell_type": "code",
   "execution_count": 4,
   "id": "368936b0-155e-491b-9ea9-8eff39314a7b",
   "metadata": {},
   "outputs": [],
   "source": [
    "dg1.n_rolls = 20"
   ]
  },
  {
   "cell_type": "code",
   "execution_count": 5,
   "id": "7965b259-570d-41dc-b990-c06df29ea73f",
   "metadata": {},
   "outputs": [],
   "source": [
    "dg1.weights = [1, 10, 1, 1, 1, 1]"
   ]
  },
  {
   "cell_type": "code",
   "execution_count": 11,
   "id": "30a64acb-7ccc-4033-97a7-306bc1894ddc",
   "metadata": {},
   "outputs": [],
   "source": [
    "dg2.weights.append(1) # Also alters the static because this is not an assignment"
   ]
  },
  {
   "cell_type": "code",
   "execution_count": 9,
   "id": "b4138d63-05ac-4092-8e5a-df9e4f5c56a2",
   "metadata": {},
   "outputs": [],
   "source": [
    "DieGame.n_rolls = 50"
   ]
  },
  {
   "cell_type": "code",
   "execution_count": 10,
   "id": "6da593da-1fd5-4480-8280-41a7069b4bd2",
   "metadata": {},
   "outputs": [
    {
     "name": "stdout",
     "output_type": "stream",
     "text": [
      "n_rolls:\n",
      "\t20\n",
      "\t50\n",
      "\t50\n",
      "weights:\n",
      "\t[1, 10, 1, 1, 1, 1]\n",
      "\t[1, 1, 1, 1, 1, 1, 1]\n",
      "\t[1, 1, 1, 1, 1, 1, 1]\n"
     ]
    }
   ],
   "source": [
    "check_values()"
   ]
  }
 ],
 "metadata": {
  "kernelspec": {
   "display_name": "Python 3 (ipykernel)",
   "language": "python",
   "name": "python3"
  },
  "language_info": {
   "codemirror_mode": {
    "name": "ipython",
    "version": 3
   },
   "file_extension": ".py",
   "mimetype": "text/x-python",
   "name": "python",
   "nbconvert_exporter": "python",
   "pygments_lexer": "ipython3",
   "version": "3.8.3"
  },
  "widgets": {
   "application/vnd.jupyter.widget-state+json": {
    "state": {},
    "version_major": 2,
    "version_minor": 0
   }
  }
 },
 "nbformat": 4,
 "nbformat_minor": 5
}
