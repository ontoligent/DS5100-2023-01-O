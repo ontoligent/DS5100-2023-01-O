{
 "cells": [
  {
   "cell_type": "markdown",
   "id": "f60fd822-d184-4931-9ab2-26d60c6d362c",
   "metadata": {
    "tags": []
   },
   "source": [
    "# Metadata \n",
    "\n",
    "```\n",
    "Course:   DS 5100\n",
    "Module:   02 Python Basics\n",
    "Topic:    Python Strings\n",
    "Author:   R.C. Alvarado\n",
    "Date:     21 July 2022\n",
    "```"
   ]
  },
  {
   "cell_type": "markdown",
   "id": "495460ca-44e9-4f16-aa4d-b40cc0b44134",
   "metadata": {},
   "source": [
    "# Data Structures\n",
    "\n",
    "In contrast to primitive data types, data structures organize types into structures that have certain properties, such as **order**, **mutability**, and **addressing scheme**, e.g. by index."
   ]
  },
  {
   "cell_type": "markdown",
   "id": "18f574bb-0db7-40ac-9c0e-fb507024e171",
   "metadata": {
    "tags": []
   },
   "source": [
    "# Lists\n",
    "\n",
    "A list is an ordered sequence of items. \n",
    "\n",
    "Each element of a list is associated with an integer that represents the order in which the element appears.\n",
    "\n",
    "Lists are indexed with **brackets** `[]`. \n",
    "\n",
    "List elements are accessed by providing their order number in the brackets.\n",
    "\n",
    "Lists are **mutable**, meaning you can modify them after they have been created.\n",
    "\n",
    "They can contain mixed types."
   ]
  },
  {
   "cell_type": "markdown",
   "id": "518c5585-c5a7-4b26-92b7-e401908f2421",
   "metadata": {
    "tags": []
   },
   "source": [
    "## Constructing \n",
    "\n",
    "They can be **constructed** in several ways:"
   ]
  },
  {
   "cell_type": "code",
   "execution_count": null,
   "id": "3f062d71-f2b7-4cab-96da-f27f4edd9fad",
   "metadata": {},
   "outputs": [],
   "source": [
    "list1 = []\n",
    "list2 = list()\n",
    "list3 = \"some string\".split()\n",
    "numbers = [1,2,3,4] "
   ]
  },
  {
   "cell_type": "markdown",
   "id": "055206a8-4683-4903-8f2b-1d746c667d54",
   "metadata": {
    "tags": []
   },
   "source": [
    "## Indexing"
   ]
  },
  {
   "cell_type": "markdown",
   "id": "54d4571c-e4ac-404c-90fd-270e5e2fe42a",
   "metadata": {},
   "source": [
    "**Zero-based indexing**  \n",
    "\n",
    "Python uses xzero-based indexing, which means for a collection `mylist`\n",
    "\n",
    "`mylist[0]` references the first element  \n",
    "`mylist[1]` references the second element, etc\n",
    "\n",
    "For any iterable object of length *N*:  \n",
    "`mylist[:n]` will return the first *n* elements from index *0* to *n-1*  \n",
    "`mylist[-n:]` will return the last *n* elements from index *N-n* to *N-1*"
   ]
  },
  {
   "cell_type": "code",
   "execution_count": null,
   "id": "9634cd89-fcdd-4e13-b953-17ec6d7e8feb",
   "metadata": {},
   "outputs": [],
   "source": [
    "numbers[0] # Access first element (output: 1)"
   ]
  },
  {
   "cell_type": "code",
   "execution_count": null,
   "id": "721d2f80-c371-4a75-85ca-410b986c0f75",
   "metadata": {},
   "outputs": [],
   "source": [
    "numbers[0] + numbers[3] # doing arithmetic with the values (output: 5)"
   ]
  },
  {
   "cell_type": "code",
   "execution_count": null,
   "id": "113521f2-8e9d-4b5f-ae5c-a170b6c09ee7",
   "metadata": {},
   "outputs": [],
   "source": [
    "numbers[len(numbers)]"
   ]
  },
  {
   "cell_type": "markdown",
   "id": "ed32ea76-4431-407f-a7ea-a2a774cf8722",
   "metadata": {
    "tags": []
   },
   "source": [
    "## Slicing"
   ]
  },
  {
   "cell_type": "code",
   "execution_count": null,
   "id": "0eae24c3-6af0-45c7-a2df-7b0297c2e274",
   "metadata": {},
   "outputs": [],
   "source": [
    "numbers[0:2] # Output: [1, 2]"
   ]
  },
  {
   "cell_type": "code",
   "execution_count": null,
   "id": "f7b45918-72a5-4100-99cb-1bb35746d4ca",
   "metadata": {},
   "outputs": [],
   "source": [
    "numbers[1:3] # Output: [2, 3]"
   ]
  },
  {
   "cell_type": "code",
   "execution_count": null,
   "id": "c5b9ac35-862d-4c8b-8466-17165ff26a03",
   "metadata": {},
   "outputs": [],
   "source": [
    "len(numbers) # use len() function to find the size. Output: 4"
   ]
  },
  {
   "cell_type": "code",
   "execution_count": null,
   "id": "0c3a816c-8c1e-44e6-a404-ab3258d45977",
   "metadata": {},
   "outputs": [],
   "source": [
    "numbers[2:]  # Output: [3, 4]"
   ]
  },
  {
   "cell_type": "markdown",
   "id": "8b8b02f8-932a-42f9-91d2-f6f2741f6de8",
   "metadata": {
    "tags": []
   },
   "source": [
    "## Multiply lists by a scalar\n",
    "\n",
    "A scalar is a single value number."
   ]
  },
  {
   "cell_type": "code",
   "execution_count": null,
   "id": "11796cce-2ca8-4663-9485-f549f57839a9",
   "metadata": {},
   "outputs": [],
   "source": [
    "numbers * 2"
   ]
  },
  {
   "cell_type": "markdown",
   "id": "cfae8f09-d591-4c5e-8047-4dd449e3aa82",
   "metadata": {},
   "source": [
    "## Concatenate lists with `+`"
   ]
  },
  {
   "cell_type": "code",
   "execution_count": null,
   "id": "8b489944-e470-4290-99c2-e96f61c5e77a",
   "metadata": {},
   "outputs": [],
   "source": [
    "numbers2 = [30, 40, 50]"
   ]
  },
  {
   "cell_type": "code",
   "execution_count": null,
   "id": "273e0866-6b23-4f3e-af0a-70a0ca0e4184",
   "metadata": {},
   "outputs": [],
   "source": [
    "numbers + numbers2 # concatenate two lists"
   ]
  },
  {
   "cell_type": "markdown",
   "id": "fdca7e30-19de-4bf8-8864-d63f4170be25",
   "metadata": {},
   "source": [
    "## Lists can mix types"
   ]
  },
  {
   "cell_type": "code",
   "execution_count": null,
   "id": "17b45df0-66aa-489b-adea-968aa5b9bf0b",
   "metadata": {},
   "outputs": [],
   "source": [
    "myList = ['coconuts', 777, 7.25, 'Sir Robin', 80.0, True]"
   ]
  },
  {
   "cell_type": "code",
   "execution_count": null,
   "id": "2a87c943-0787-46bb-a5b5-b154af5de805",
   "metadata": {},
   "outputs": [],
   "source": [
    "myList"
   ]
  },
  {
   "cell_type": "markdown",
   "id": "a1eb1801-b619-44b8-8fea-f2e320e5a825",
   "metadata": {},
   "source": [
    "**What happens if we multiply a list with strings?**"
   ]
  },
  {
   "cell_type": "code",
   "execution_count": null,
   "id": "ce38d67c-b371-4101-b1af-3bc47e0c3f7b",
   "metadata": {},
   "outputs": [],
   "source": [
    "# myList * 2"
   ]
  },
  {
   "cell_type": "markdown",
   "id": "1e72be7f-06cd-40f0-9453-36bd4960f38b",
   "metadata": {
    "tags": []
   },
   "source": [
    "## Lists can be nested"
   ]
  },
  {
   "cell_type": "code",
   "execution_count": null,
   "id": "6b455e9c-00ee-42a0-ae74-57e39a6d4b49",
   "metadata": {},
   "outputs": [],
   "source": [
    "names = ['Darrell', 'Clayton', ['Billie', 'Arthur'], 'Samantha']\n",
    "names[2] # returns a *list*\n",
    "names[0] # returns a *string*"
   ]
  },
  {
   "cell_type": "markdown",
   "id": "4910108d-74da-4cf3-a6dd-9bb3650051b6",
   "metadata": {},
   "source": [
    "cannot subset into a float, will break"
   ]
  },
  {
   "cell_type": "code",
   "execution_count": null,
   "id": "5b747898-453c-4fba-8c0f-02b97ef0e963",
   "metadata": {},
   "outputs": [],
   "source": [
    "names[2][0]"
   ]
  },
  {
   "cell_type": "markdown",
   "id": "1a013303-a5ae-4a14-a60d-04740bbbd3d7",
   "metadata": {},
   "source": [
    "## Lists can concatenated with `+`"
   ]
  },
  {
   "cell_type": "code",
   "execution_count": null,
   "id": "6913a76e-2806-4fb7-a23b-37207760e055",
   "metadata": {},
   "outputs": [],
   "source": [
    "variables = ['x1', 'x2', 'x3']\n",
    "response = ['y']"
   ]
  },
  {
   "cell_type": "code",
   "execution_count": null,
   "id": "ff7bf069-26cf-48fc-991d-5ad7ca10fb79",
   "metadata": {},
   "outputs": [],
   "source": [
    "variables + response"
   ]
  },
  {
   "cell_type": "markdown",
   "id": "38732195-9987-4845-8ef1-8154bcced82d",
   "metadata": {
    "tags": []
   },
   "source": [
    "# Dictionaries `dict` \n",
    "\n",
    "Like a hash table. \n",
    "\n",
    "Has key-value pairs.\n",
    "\n",
    "Elements are indexed using brackets `[]` (like lists).\n",
    "\n",
    "But they are constructed used braces `{}`.\n",
    "\n",
    "Key names are unique. If you re-use a key, you overwrite its value.\n",
    "\n",
    "Keys don't have to be strings -- they can be numbers or tuples or expressions that evaluate to one of these."
   ]
  },
  {
   "cell_type": "markdown",
   "id": "d0760dc2-ae63-4ab7-805c-d4ba6cfd143e",
   "metadata": {},
   "source": [
    "## Constructing"
   ]
  },
  {
   "cell_type": "code",
   "execution_count": null,
   "id": "3c40a687-9635-42e9-9590-6e5b608fe16d",
   "metadata": {},
   "outputs": [],
   "source": [
    "dict1 = {\n",
    "    'a': 1,\n",
    "    'b': 2,\n",
    "    'c': 3\n",
    "}"
   ]
  },
  {
   "cell_type": "code",
   "execution_count": null,
   "id": "5a41a0f9-3a07-4c48-8702-7e66110abd19",
   "metadata": {},
   "outputs": [],
   "source": [
    "dict2 = dict(x=55, y=29, z=99) # Note the absence of quotes around keys"
   ]
  },
  {
   "cell_type": "code",
   "execution_count": null,
   "id": "928109fa-925a-4dff-a090-476dc5f3cbec",
   "metadata": {},
   "outputs": [],
   "source": [
    "dict2"
   ]
  },
  {
   "cell_type": "code",
   "execution_count": null,
   "id": "d6bc0b2d-34ab-46c4-9057-40649ead16cb",
   "metadata": {},
   "outputs": [],
   "source": [
    "dict3 = {'A': 'foo', 99: 'bar', (1,2): 'baz'}"
   ]
  },
  {
   "cell_type": "code",
   "execution_count": null,
   "id": "0489d1f9-be2e-4d39-b30f-f15f00b5e919",
   "metadata": {},
   "outputs": [],
   "source": [
    "dict3"
   ]
  },
  {
   "cell_type": "markdown",
   "id": "624cd83e-4b7b-4bc0-9c76-d33bd40a1633",
   "metadata": {},
   "source": [
    "## Retrieve a value\n",
    "\n",
    "Just write a key as the *index*."
   ]
  },
  {
   "cell_type": "code",
   "execution_count": null,
   "id": "39bc8222-fe71-490f-8b53-fa1352221948",
   "metadata": {},
   "outputs": [],
   "source": [
    "phonelist = {'Tom':123, 'Bob':456, 'Sam':897}"
   ]
  },
  {
   "cell_type": "code",
   "execution_count": null,
   "id": "12ca56b5-2bb4-4482-9002-3449b6e68f04",
   "metadata": {},
   "outputs": [],
   "source": [
    "phonelist['Bob']"
   ]
  },
  {
   "cell_type": "markdown",
   "id": "21f76a54-54b4-4937-a262-c89d9cd936bf",
   "metadata": {},
   "source": [
    "## Print list of keys, values, or both\n",
    "\n",
    "Use the `.keys()`, `.values()', or `.items()` methods.\n",
    "\n",
    "Keys are not sorted. For example, they are not ordered in order in which they were added."
   ]
  },
  {
   "cell_type": "code",
   "execution_count": null,
   "id": "47ed6e92-2c4c-4f3c-8435-7e27a191ccab",
   "metadata": {},
   "outputs": [],
   "source": [
    "phonelist.keys() # Returns a list"
   ]
  },
  {
   "cell_type": "code",
   "execution_count": null,
   "id": "ae19e277-e929-46ad-ab27-2715a05243a7",
   "metadata": {},
   "outputs": [],
   "source": [
    "phonelist.values() # Returns a list"
   ]
  },
  {
   "cell_type": "code",
   "execution_count": null,
   "id": "292b5fee-68db-42b6-af5e-7c4ef14c384a",
   "metadata": {},
   "outputs": [],
   "source": [
    "phonelist.items() # Returns a list of tuples"
   ]
  },
  {
   "cell_type": "code",
   "execution_count": null,
   "id": "fa4bb854-314e-4226-af57-379ac722c0e8",
   "metadata": {},
   "outputs": [],
   "source": [
    "phonelist # note the data returned is not the same as the data entered"
   ]
  },
  {
   "cell_type": "markdown",
   "id": "e1c90780-7058-4623-a1a1-c5301f5771c6",
   "metadata": {
    "tags": []
   },
   "source": [
    "# Tuples\n",
    "\n",
    "A tuple is like a list but with one big difference: **a tuple is an immutable object!**\n",
    "\n",
    "You can't change a tuple once it's created.\n",
    "\n",
    "A tuple can contain any number of elements of any datatype.\n",
    "\n",
    "Accessed with brackets `[]` but constructed with parentheses `()`."
   ]
  },
  {
   "cell_type": "code",
   "execution_count": null,
   "id": "d8683806-f03c-4663-86e6-e1345ee4f53c",
   "metadata": {},
   "outputs": [],
   "source": [
    "numbers"
   ]
  },
  {
   "cell_type": "markdown",
   "id": "59eb44f3-ff39-4285-a980-9a29eea56387",
   "metadata": {
    "tags": []
   },
   "source": [
    "## Constructing\n",
    "\n",
    "Created with comma-separated values, with or without parenthesis.\n"
   ]
  },
  {
   "cell_type": "code",
   "execution_count": null,
   "id": "378ed89f-0e0b-4408-ad48-b1e5d56c0c48",
   "metadata": {},
   "outputs": [],
   "source": [
    "letters = 'a', 'b', 'c', 'd'"
   ]
  },
  {
   "cell_type": "code",
   "execution_count": null,
   "id": "626c8760-4ced-490b-8a99-58b087ec9563",
   "metadata": {},
   "outputs": [],
   "source": [
    "letters"
   ]
  },
  {
   "cell_type": "code",
   "execution_count": null,
   "id": "2f2d72be-39d5-4495-8ac3-1f8aa18c28b6",
   "metadata": {},
   "outputs": [],
   "source": [
    "numbers = (1,2,3,4) # numbers 1,2,3,4 stored in a tuple"
   ]
  },
  {
   "cell_type": "markdown",
   "id": "5559a519-ed9f-4ba1-b9cb-2014b4265f3f",
   "metadata": {},
   "source": [
    "A single valued tuple must include a comma `,`, e.g."
   ]
  },
  {
   "cell_type": "code",
   "execution_count": null,
   "id": "fd0488fa-7a8a-464c-ad0a-7bc6b328ca69",
   "metadata": {},
   "outputs": [],
   "source": [
    "tuple0 = (29)"
   ]
  },
  {
   "cell_type": "code",
   "execution_count": null,
   "id": "01420088-8f1b-480b-9961-109fb168100e",
   "metadata": {},
   "outputs": [],
   "source": [
    "tuple0, type(tuple0)"
   ]
  },
  {
   "cell_type": "code",
   "execution_count": null,
   "id": "d975e57a-4598-433e-ac5d-f0a3b67dd77c",
   "metadata": {},
   "outputs": [],
   "source": [
    "tuple1 = (29,)"
   ]
  },
  {
   "cell_type": "code",
   "execution_count": null,
   "id": "f31b8940-ff95-4b99-a5cf-b7cb6d7fb0b9",
   "metadata": {},
   "outputs": [],
   "source": [
    "tuple1, type(tuple1)"
   ]
  },
  {
   "cell_type": "code",
   "execution_count": null,
   "id": "3ccc6107-adf9-4310-87a8-5c101481c253",
   "metadata": {},
   "outputs": [],
   "source": [
    "len(numbers)"
   ]
  },
  {
   "cell_type": "code",
   "execution_count": null,
   "id": "6698b95f-979e-45f4-a22a-421fb9519083",
   "metadata": {
    "jp-MarkdownHeadingCollapsed": true,
    "tags": []
   },
   "outputs": [],
   "source": [
    "numbers[0] = 5 # Trying to assign a new value 5 to the first position"
   ]
  },
  {
   "cell_type": "markdown",
   "id": "7ac8c7fc-9b22-4d08-9fd7-246cad70b649",
   "metadata": {
    "tags": []
   },
   "source": [
    "# Common functions and methods to all sequences\n",
    "\n",
    "```\n",
    "len()\n",
    "in\n",
    "+ \n",
    "*\n",
    "```"
   ]
  },
  {
   "cell_type": "code",
   "execution_count": null,
   "id": "ebc407b8-41f4-4fc4-9225-6cfa5bc6e953",
   "metadata": {},
   "outputs": [],
   "source": [
    "[1, 3] * 8"
   ]
  },
  {
   "cell_type": "code",
   "execution_count": null,
   "id": "ceed3a1b-7d04-4f9e-8679-d7f18287f3c6",
   "metadata": {},
   "outputs": [],
   "source": [
    "(1, 3) * 8"
   ]
  },
  {
   "cell_type": "markdown",
   "id": "8eb49046-abfc-4a29-8c15-24a2a2f25e85",
   "metadata": {
    "tags": []
   },
   "source": [
    "## Membership with `in`\n",
    "\n",
    "Returns a boolean."
   ]
  },
  {
   "cell_type": "code",
   "execution_count": null,
   "id": "ffda4677-405a-4479-81fe-0b274f0cf640",
   "metadata": {},
   "outputs": [],
   "source": [
    "'Sam' in phonelist"
   ]
  },
  {
   "cell_type": "markdown",
   "id": "d0bfdd0f-d38c-4121-b8fd-f3e3400af809",
   "metadata": {},
   "source": [
    "# Sets\n",
    "\n",
    "A `set` is an unordered collection of unique objects.\n",
    "\n",
    "They are subject to set operations."
   ]
  },
  {
   "cell_type": "code",
   "execution_count": null,
   "id": "e67e33ff-7f03-4b99-a95e-fad0c80a04c3",
   "metadata": {},
   "outputs": [],
   "source": [
    "peanuts = {'snoopy','snoopy','woodstock'}"
   ]
  },
  {
   "cell_type": "code",
   "execution_count": null,
   "id": "197eebed-71a9-4a89-8dbf-3dd2d73a29ac",
   "metadata": {},
   "outputs": [],
   "source": [
    "peanuts"
   ]
  },
  {
   "cell_type": "markdown",
   "id": "7c1bbeda-d23d-4b87-83a9-d3f843953419",
   "metadata": {},
   "source": [
    "Note the set is deduped\n",
    "\n",
    "Since sets are unordered, they don't have an index. This will break:"
   ]
  },
  {
   "cell_type": "code",
   "execution_count": null,
   "id": "65370579-21be-4623-9c45-f37bccee907a",
   "metadata": {},
   "outputs": [],
   "source": [
    "peanuts[0]"
   ]
  },
  {
   "cell_type": "code",
   "execution_count": null,
   "id": "685ebf06-7e74-42bc-b49b-f1c3f5272aa8",
   "metadata": {},
   "outputs": [],
   "source": [
    "for peanut in peanuts:\n",
    "    print(peanut)"
   ]
  },
  {
   "cell_type": "markdown",
   "id": "dbde2ea0-9891-4dc7-953a-39db86deb82a",
   "metadata": {},
   "source": [
    "**Check if a value is in the set using `in`**"
   ]
  },
  {
   "cell_type": "code",
   "execution_count": null,
   "id": "72495cad-a5c9-44b4-a023-4ee45086053e",
   "metadata": {},
   "outputs": [],
   "source": [
    "'snoopy' in peanuts"
   ]
  },
  {
   "cell_type": "markdown",
   "id": "34e5ace8-9af9-4589-b0c3-f800905e4f40",
   "metadata": {},
   "source": [
    "Combine two sets"
   ]
  },
  {
   "cell_type": "code",
   "execution_count": null,
   "id": "0f99fdee-7f2c-4822-b236-01fd6bb00726",
   "metadata": {},
   "outputs": [],
   "source": [
    "set1 = {'python','R'}\n",
    "set2 = {'R','SQL'}"
   ]
  },
  {
   "cell_type": "markdown",
   "id": "e2752287-76ed-45f3-addf-516266f519ea",
   "metadata": {},
   "source": [
    "This fails:"
   ]
  },
  {
   "cell_type": "code",
   "execution_count": null,
   "id": "7a962b44-b939-4b07-9266-458a1d6868c6",
   "metadata": {},
   "outputs": [],
   "source": [
    "set1 + set2"
   ]
  },
  {
   "cell_type": "markdown",
   "id": "8030ff7a-51f1-4487-acad-cef38ac030b7",
   "metadata": {},
   "source": [
    "This succeeds:"
   ]
  },
  {
   "cell_type": "code",
   "execution_count": null,
   "id": "3b941371-1958-42ff-9c87-48777ded63d8",
   "metadata": {},
   "outputs": [],
   "source": [
    "set1.union(set2)"
   ]
  },
  {
   "cell_type": "markdown",
   "id": "8f17e6aa-4155-4c63-a411-239d54273f42",
   "metadata": {},
   "source": [
    "Get the set intersection"
   ]
  },
  {
   "cell_type": "code",
   "execution_count": null,
   "id": "3b5f2b4e-06f8-48e5-a222-5344c5e489b1",
   "metadata": {},
   "outputs": [],
   "source": [
    "set1.intersection(set2)"
   ]
  },
  {
   "cell_type": "markdown",
   "id": "2237ecae-9123-4151-ab14-63451d556aad",
   "metadata": {
    "tags": []
   },
   "source": [
    "# Ranges\n",
    "\n",
    "A range is a sequence of integers, from `start` to `stop` by `step`.\n",
    "- The `start` point is zero by default.  \n",
    "- The `step` is one by default.  \n",
    "- The `stop` point is NOT included.  "
   ]
  },
  {
   "cell_type": "markdown",
   "id": "7a3faa4d-b8d2-4d15-a23c-74fa656cd86c",
   "metadata": {},
   "source": [
    "Ranges can be assigned to a variable."
   ]
  },
  {
   "cell_type": "code",
   "execution_count": null,
   "id": "60e92444-c947-4e06-890f-69098dc3ac52",
   "metadata": {},
   "outputs": [],
   "source": [
    "rng = range(5)"
   ]
  },
  {
   "cell_type": "markdown",
   "id": "68f9fc31-e4d4-435b-864b-3ffc8be02709",
   "metadata": {},
   "source": [
    "More often, ranges are used in iterations, which we will cover later."
   ]
  },
  {
   "cell_type": "code",
   "execution_count": null,
   "id": "1a2cc0db-3167-423e-b391-fa0a0a3eb1e7",
   "metadata": {},
   "outputs": [],
   "source": [
    "for rn in rng:\n",
    "    print(rn)"
   ]
  },
  {
   "cell_type": "markdown",
   "id": "0cc0d38e-7e61-4e20-b991-b7bae5a36c90",
   "metadata": {},
   "source": [
    "another range:"
   ]
  },
  {
   "cell_type": "code",
   "execution_count": null,
   "id": "54b9d3ca-7e6f-4531-b514-10750087322c",
   "metadata": {},
   "outputs": [],
   "source": [
    "rangy = range(1, 11, 2)\n",
    "for rn in rangy:\n",
    "    print(rn)"
   ]
  },
  {
   "cell_type": "markdown",
   "id": "d286be41-b11f-4975-b89f-8c875fa39236",
   "metadata": {
    "tags": []
   },
   "source": [
    "# Collections and `defaultdict`\n",
    "\n",
    "Very often you will want to build a dictionary from some data source, and add keys as they appear. The default `dict` type in Python, however, requires that the key exists before you can mutate it. The `defaultdict` type in the `collections` module solves this problem. Here's an example."
   ]
  },
  {
   "cell_type": "code",
   "execution_count": 2,
   "id": "3d7360d9-7302-4315-a1d2-8537e5ea7a9b",
   "metadata": {},
   "outputs": [],
   "source": [
    "source_data = \"\"\"\n",
    "Lorem Ipsum is simply dummy text of the printing and typesetting industry. \n",
    "Lorem Ipsum has been the industry's standard dummy text ever since the 1500s, \n",
    "when an unknown printer took a galley of type and scrambled it to make a type \n",
    "specimen book. It has survived not only five centuries, but also the leap \n",
    "into electronic typesetting, remaining essentially unchanged. It was \n",
    "popularised in the 1960s with the release of Letraset sheets containing \n",
    "Lorem Ipsum passages, and more recently with desktop publishing software \n",
    "like Aldus PageMaker including versions of Lorem Ipsum.\n",
    "\"\"\"[1:-1].split()"
   ]
  },
  {
   "cell_type": "code",
   "execution_count": 4,
   "id": "4d914c43-3d41-47c0-8d88-29caca20fe36",
   "metadata": {},
   "outputs": [],
   "source": [
    "# source_data"
   ]
  },
  {
   "cell_type": "markdown",
   "id": "3dfd023f-b8eb-4532-9de9-220f22a99bec",
   "metadata": {},
   "source": [
    "## Try with `dict`"
   ]
  },
  {
   "cell_type": "code",
   "execution_count": null,
   "id": "34a64814-7429-4f1d-bd51-08ce36be8f1a",
   "metadata": {},
   "outputs": [],
   "source": [
    "words = {}\n",
    "for word in source_data:\n",
    "    words[word] += 1"
   ]
  },
  {
   "cell_type": "markdown",
   "id": "6b1d83bd-4085-4dcf-9517-70bb93b9155c",
   "metadata": {},
   "source": [
    "## Use `try` and `except`"
   ]
  },
  {
   "cell_type": "code",
   "execution_count": null,
   "id": "e1e041db-c531-4c7b-8717-3eec1e0d06a3",
   "metadata": {},
   "outputs": [],
   "source": [
    "for word in source_data:\n",
    "    try:\n",
    "        words[word] += 1\n",
    "    except KeyError:\n",
    "        words[word] = 1"
   ]
  },
  {
   "cell_type": "code",
   "execution_count": null,
   "id": "4c840feb-b577-4b4c-a836-649cd5dd6b19",
   "metadata": {},
   "outputs": [],
   "source": [
    "words"
   ]
  },
  {
   "cell_type": "markdown",
   "id": "febcaae9-8d57-476c-bab9-51e7193018ad",
   "metadata": {},
   "source": [
    "## Or use `.get()`"
   ]
  },
  {
   "cell_type": "code",
   "execution_count": null,
   "id": "4a4543b8-bee1-4e10-a991-d3eac4530a91",
   "metadata": {},
   "outputs": [],
   "source": [
    "for word in source_data:\n",
    "    words[word] = words.get(word, 0) + 1"
   ]
  },
  {
   "cell_type": "markdown",
   "id": "71fe41b1-4333-442d-9193-b31f78ce7f42",
   "metadata": {},
   "source": [
    "## Use `collections.defaultdict`"
   ]
  },
  {
   "cell_type": "code",
   "execution_count": null,
   "id": "db4b75b2-6343-4813-8836-7fc1d3f8a3fb",
   "metadata": {},
   "outputs": [],
   "source": [
    "from collections import defaultdict"
   ]
  },
  {
   "cell_type": "code",
   "execution_count": null,
   "id": "fbdfb35d-227c-4866-ae12-8558b3e6aefa",
   "metadata": {},
   "outputs": [],
   "source": [
    "words2 = defaultdict(int) # Not the type must be set"
   ]
  },
  {
   "cell_type": "code",
   "execution_count": null,
   "id": "eb76ba39-7ad8-4473-ab0f-804afb18550a",
   "metadata": {},
   "outputs": [],
   "source": [
    "for word in source_data:\n",
    "    words2[word] += 1"
   ]
  },
  {
   "cell_type": "code",
   "execution_count": null,
   "id": "6c886610-45b7-4554-9b50-30263735a203",
   "metadata": {},
   "outputs": [],
   "source": [
    "words2"
   ]
  },
  {
   "cell_type": "code",
   "execution_count": null,
   "id": "3d89216e-f6d6-4e6d-b3d8-407eda4b339b",
   "metadata": {},
   "outputs": [],
   "source": []
  }
 ],
 "metadata": {
  "kernelspec": {
   "display_name": "Python 3 (ipykernel)",
   "language": "python",
   "name": "python3"
  },
  "language_info": {
   "codemirror_mode": {
    "name": "ipython",
    "version": 3
   },
   "file_extension": ".py",
   "mimetype": "text/x-python",
   "name": "python",
   "nbconvert_exporter": "python",
   "pygments_lexer": "ipython3",
   "version": "3.8.3"
  },
  "vscode": {
   "interpreter": {
    "hash": "c3b963de08c47c3b6758389c5e0978ad73698a111eb508d4e16b558edb8f4cbf"
   }
  },
  "widgets": {
   "application/vnd.jupyter.widget-state+json": {
    "state": {},
    "version_major": 2,
    "version_minor": 0
   }
  }
 },
 "nbformat": 4,
 "nbformat_minor": 5
}
