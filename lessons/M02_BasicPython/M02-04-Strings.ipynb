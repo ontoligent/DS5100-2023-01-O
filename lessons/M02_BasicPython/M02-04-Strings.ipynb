{
 "cells": [
  {
   "cell_type": "markdown",
   "id": "e41e2ac4-a6d3-49a4-91c9-3baa1ad2dba7",
   "metadata": {
    "jp-MarkdownHeadingCollapsed": true,
    "tags": []
   },
   "source": [
    "# Metadata \n",
    "\n",
    "```\n",
    "Course:   DS 5100\n",
    "Module:   02 Python Basics\n",
    "Topic:    Python Strings\n",
    "Author:   R.C. Alvarado\n",
    "Date:     21 July 2022\n",
    "```"
   ]
  },
  {
   "cell_type": "markdown",
   "id": "fd567605-278e-4f53-80a7-c4fcb3e6d57d",
   "metadata": {
    "jp-MarkdownHeadingCollapsed": true,
    "tags": []
   },
   "source": [
    "# Kinds of quotes \n",
    "\n",
    "Strings are signified by quotes. \n",
    "\n",
    "Single and double quotes are identical in function.\n",
    "\n",
    "They must be \"straight quotes\" though -- cutting and pasting from a Word document with smart quotes won't work."
   ]
  },
  {
   "cell_type": "code",
   "execution_count": null,
   "id": "c4c756c1-6cc8-4df2-8d2e-1b8f8704f22b",
   "metadata": {},
   "outputs": [],
   "source": [
    "'hello world!' == \"hello world!\""
   ]
  },
  {
   "cell_type": "markdown",
   "id": "4e88e4dd-682d-4a24-ab28-c8b4b6248b4b",
   "metadata": {},
   "source": [
    "## Quote prefixes"
   ]
  },
  {
   "cell_type": "markdown",
   "id": "7d3e000d-7c1b-4a18-a07a-f85168d470bc",
   "metadata": {
    "tags": []
   },
   "source": [
    "### `r` strings\n",
    "\n",
    "Prefixing a string causes escape characters to be uninterpreted."
   ]
  },
  {
   "cell_type": "code",
   "execution_count": null,
   "id": "0e3dc313-0c31-4255-ac38-611086d10df6",
   "metadata": {},
   "outputs": [],
   "source": [
    "print(\"Sentence one.\\nSentence two.\")"
   ]
  },
  {
   "cell_type": "code",
   "execution_count": null,
   "id": "c4ed76bb-ec2b-41d5-b8ea-dbb751050ea9",
   "metadata": {},
   "outputs": [],
   "source": [
    "print(r\"Sentence one.\\nSentence two.\")"
   ]
  },
  {
   "cell_type": "markdown",
   "id": "199ea896-0926-4f2d-88a0-90bfff06c811",
   "metadata": {
    "tags": []
   },
   "source": [
    "### `f` strings\n",
    "\n",
    "Prefixing a string with `f` allows variable interpolation -- inplace evaluation of variables in strings."
   ]
  },
  {
   "cell_type": "code",
   "execution_count": null,
   "id": "0d9779e6-856b-4336-a676-e1418df18f5d",
   "metadata": {},
   "outputs": [],
   "source": [
    "ppl = 'knights'\n",
    "greeting = 'Ni'"
   ]
  },
  {
   "cell_type": "code",
   "execution_count": null,
   "id": "7dd1d9ad-76ff-48e0-83c4-eb7d43854d50",
   "metadata": {},
   "outputs": [],
   "source": [
    "print(f'We are the {ppl} who say {greeting}!') # Output: We are the knights who say Ni!"
   ]
  },
  {
   "cell_type": "markdown",
   "id": "e55769c6-0316-4135-b447-88b92be4273d",
   "metadata": {},
   "source": [
    "The brackets and characters within them (called format fields)\n",
    "are replaced with the passed objects."
   ]
  },
  {
   "cell_type": "code",
   "execution_count": null,
   "id": "3851db20-649c-4b8f-844f-8f580b8c1465",
   "metadata": {},
   "outputs": [],
   "source": [
    "print(b\"This is a sentence.\")"
   ]
  },
  {
   "cell_type": "code",
   "execution_count": null,
   "id": "d5011335-3627-4565-b735-7de18cb02aae",
   "metadata": {},
   "outputs": [],
   "source": [
    "print(\"This is a sentence.\")"
   ]
  },
  {
   "cell_type": "markdown",
   "id": "8ee65e4a-7ae1-465d-af74-07f73c56c7e4",
   "metadata": {
    "tags": []
   },
   "source": [
    "# Printing `print()`\n",
    "\n",
    "Python uses a print function."
   ]
  },
  {
   "cell_type": "code",
   "execution_count": null,
   "id": "03437f96-39b2-4174-83dc-b8b0bd5284b7",
   "metadata": {},
   "outputs": [],
   "source": [
    "print(\"This is a simple print statement\")"
   ]
  },
  {
   "cell_type": "markdown",
   "id": "5b650b2a-ca70-4ba2-bcd0-b179dafb919b",
   "metadata": {
    "tags": []
   },
   "source": [
    "Python supports special \"escape characters\" in strings that produce effects when printed. \n",
    "\n",
    "```\n",
    "\\\\     Backslash (\\)\n",
    "\\'     Single quote (')\n",
    "\\\"     Double quote (\")\n",
    "\\n     ASCII Linefeed, aka new line\n",
    "```\n",
    "\n",
    "Note that these are not unique to Python. They are part of almost all languages."
   ]
  },
  {
   "cell_type": "code",
   "execution_count": null,
   "id": "ea6d7397-a1fd-4043-81e3-e1e8bd07dfe1",
   "metadata": {},
   "outputs": [],
   "source": [
    "# Tab character ( \\t )\n",
    "print(\"Hello,\\tWorld! (With a tab character)\")"
   ]
  },
  {
   "cell_type": "code",
   "execution_count": null,
   "id": "1de59aa9-8853-4ad8-8624-ec23697f7001",
   "metadata": {},
   "outputs": [],
   "source": [
    "# Inserting a new line (line feed) character ( \\n )\n",
    "print(\"Line one\\nLine two, with newline character\")"
   ]
  },
  {
   "cell_type": "code",
   "execution_count": null,
   "id": "d53a2f80-196a-484e-a5b5-22c6f634dc32",
   "metadata": {},
   "outputs": [],
   "source": [
    "# Concatenation in strings: \n",
    "# Use plus sign ( + ) to concatenate the parts of the string\n",
    "print(\"Concatenation,\" + \"\\t\" + \"in strings with tab in middle\")"
   ]
  },
  {
   "cell_type": "code",
   "execution_count": null,
   "id": "ab873a2d-a2da-450c-9986-7dd50bada995",
   "metadata": {},
   "outputs": [],
   "source": [
    "# If you wanted to print special characters\n",
    "# Printing quotes\n",
    "print('Printing \"quotes\" within a string') # mixing single and double quotes"
   ]
  },
  {
   "cell_type": "code",
   "execution_count": null,
   "id": "5db3e2fe-c590-42f5-8a16-b2bd895dadbf",
   "metadata": {},
   "outputs": [],
   "source": [
    "# What if you needed to print special characters like (\\) or (') or (\")\n",
    "print('If I want to print \\'single quotes\\' in a string, use backslash!')\n",
    "print(\"If I want to print \\\"double quotes\\\" in a string, use backslash!\")\n",
    "print('If I want to print \\\\the backslash\\\\ in a string, also use backslash!')"
   ]
  },
  {
   "cell_type": "markdown",
   "id": "8aad5d2e-5f2e-4cdc-a82b-65f5c6c8a0a3",
   "metadata": {},
   "source": [
    "The print function puts spaces between strings and a newline at the end, but you can change that: "
   ]
  },
  {
   "cell_type": "code",
   "execution_count": null,
   "id": "e829f8c9-9868-4009-9b97-1dd6dcb9f434",
   "metadata": {},
   "outputs": [],
   "source": [
    "print(\"This\", \"is\", \"a\", \"sentence\")"
   ]
  },
  {
   "cell_type": "code",
   "execution_count": null,
   "id": "884caf24-d7a7-4572-827b-cecfde5cd651",
   "metadata": {},
   "outputs": [],
   "source": [
    "print(\"This\", \"is\", \"a\", \"sentence\", sep=\"--\")"
   ]
  },
  {
   "cell_type": "code",
   "execution_count": null,
   "id": "74dbff9b-51c9-4fc6-ad23-8ab2639d32bd",
   "metadata": {},
   "outputs": [],
   "source": [
    "print(\"This\", \"is\", \"a\", \"sentence\")\n",
    "print(\"This\", \"is\", \"a\", \"sentence\")"
   ]
  },
  {
   "cell_type": "code",
   "execution_count": null,
   "id": "dcfa5f12-52c6-4abe-975d-d793f4cd4711",
   "metadata": {},
   "outputs": [],
   "source": [
    "print(\"This\", \"is\", \"a\", \"sentence\", end=\" | \")\n",
    "print(\"This\", \"is\", \"a\", \"sentence\")"
   ]
  },
  {
   "cell_type": "markdown",
   "id": "c5669569-5072-42dc-8108-170cb5dbf2e3",
   "metadata": {
    "tags": []
   },
   "source": [
    "# Commnets\n",
    "\n",
    "Comments are lines of code that aren't read by the interpreter.\n",
    "\n",
    "They are used to explain blocks of code, or to remove code from execution when debugging."
   ]
  },
  {
   "cell_type": "code",
   "execution_count": null,
   "id": "23e4269a-0ab4-46f7-a438-84317933cd40",
   "metadata": {},
   "outputs": [],
   "source": [
    "# This is single-line comment"
   ]
  },
  {
   "cell_type": "markdown",
   "id": "c2aa238d-95c5-431d-8b30-dd53a81f928c",
   "metadata": {},
   "source": [
    "These following are multiline strings that can serve as comments:"
   ]
  },
  {
   "cell_type": "code",
   "execution_count": null,
   "id": "1f0efec2-1856-436c-b886-bf2b5960b9c5",
   "metadata": {},
   "outputs": [],
   "source": [
    "'''\n",
    "This is an\n",
    "example of\n",
    "a multi-line\n",
    "comment: single quotes\n",
    "'''"
   ]
  },
  {
   "cell_type": "code",
   "execution_count": null,
   "id": "75145696-a4d6-47fa-9ffd-4fdfb7e61296",
   "metadata": {},
   "outputs": [],
   "source": [
    "\"\"\"\n",
    "Here is another\n",
    "example of\n",
    "a multi-line\n",
    "comment: double quotes\n",
    "\"\"\""
   ]
  },
  {
   "cell_type": "markdown",
   "id": "5da1e489-1e6f-48ee-b891-0fc1477cf76d",
   "metadata": {},
   "source": [
    "Note that multiline comments also evaluate as values."
   ]
  },
  {
   "cell_type": "markdown",
   "id": "764282c0-ba9b-4f39-92ed-463f97e7581e",
   "metadata": {},
   "source": [
    "# Run-time User Input"
   ]
  },
  {
   "cell_type": "code",
   "execution_count": null,
   "id": "f8427479-7065-49c1-8bcf-5b5f128fb7dd",
   "metadata": {},
   "outputs": [],
   "source": [
    "answer = input(\"What is your name? \")\n",
    "print(\"Hello, \" + answer + \"!\")"
   ]
  },
  {
   "cell_type": "markdown",
   "id": "151e7721-97a9-43cd-9071-22ecbe0efc64",
   "metadata": {
    "tags": []
   },
   "source": [
    "# Some String Functions"
   ]
  },
  {
   "cell_type": "code",
   "execution_count": null,
   "id": "84275054-d0b5-4efe-8b1b-52b348737f77",
   "metadata": {
    "jp-MarkdownHeadingCollapsed": true,
    "tags": []
   },
   "outputs": [],
   "source": [
    "Built-in string methods and functions.\n",
    "\n",
    "See [Common String Operations](https://docs.python.org/3/library/string.html) for more info."
   ]
  },
  {
   "cell_type": "markdown",
   "id": "490ea9ff-1225-40ac-bcc8-7dc7f2bd8f3d",
   "metadata": {
    "tags": []
   },
   "source": [
    "## `.lower()`, `.upper()`"
   ]
  },
  {
   "cell_type": "code",
   "execution_count": null,
   "id": "90d9c88f-f29b-414c-a013-79065b8135d9",
   "metadata": {
    "tags": []
   },
   "outputs": [],
   "source": [
    "'BOB'.lower().upper()"
   ]
  },
  {
   "cell_type": "markdown",
   "id": "3b8271d0-10e2-40b9-ba08-3c44f81fe30f",
   "metadata": {
    "tags": []
   },
   "source": [
    "## `.split()` \n",
    "\n",
    "Parase a string based on a delimiter, which defaults to whitespace.\n",
    "\n",
    "NOTE: This does *not* use regular expressions.\n",
    "\n",
    "This returns a list.\n"
   ]
  },
  {
   "cell_type": "code",
   "execution_count": null,
   "id": "d0d6df04-be47-4581-ad19-62db40f0f689",
   "metadata": {},
   "outputs": [],
   "source": [
    "montyPythonQuote = 'are.you.suggesting.coconuts.migrate'"
   ]
  },
  {
   "cell_type": "code",
   "execution_count": null,
   "id": "b8ddf58f-1de0-4bbd-9872-60e5f9a1be25",
   "metadata": {},
   "outputs": [],
   "source": [
    "'are.you.suggesting.coconuts.migrate'.split('.')"
   ]
  },
  {
   "cell_type": "code",
   "execution_count": null,
   "id": "5e673d1a-0c13-4360-896e-a3349d0ffb10",
   "metadata": {},
   "outputs": [],
   "source": [
    "montyPythonQuote"
   ]
  },
  {
   "cell_type": "code",
   "execution_count": null,
   "id": "14d19853-c990-4101-b204-4261be885d72",
   "metadata": {},
   "outputs": [],
   "source": [
    "montyPythonQuote.split('.') # split by the '.' delimiter. Result: a list!"
   ]
  },
  {
   "cell_type": "markdown",
   "id": "a0336557-af29-49bd-adbb-0b9e833f97a5",
   "metadata": {},
   "source": [
    "## `.strip()`, `.rstrip()`, `lstrip()` Strip methods\n",
    "\n",
    "Strip out extra whitespace using strip(), rstrip() and lstrip() functions"
   ]
  },
  {
   "cell_type": "markdown",
   "id": "354079cf-2713-4c12-8bec-8e523ab7343d",
   "metadata": {
    "tags": []
   },
   "source": [
    "`.strip()` removes white space from anywhere\\\n",
    "`.rstrip()` only removes white space from the right-hand-side of the string\\\n",
    "`.lstrip()` only removes white space from the left-hand-side of the string"
   ]
  },
  {
   "cell_type": "code",
   "execution_count": null,
   "id": "bc7c4ab0-21ec-4f2d-8334-88df9bd02a1b",
   "metadata": {},
   "outputs": [],
   "source": [
    "str1 = '  hello, world!'    # white space at the beginning\n",
    "str2 = '  hello, world!  '  # white space at both ends\n",
    "str3 = 'hello, world!  '    # white space at the end"
   ]
  },
  {
   "cell_type": "code",
   "execution_count": null,
   "id": "c507d2a2-6b16-4e4d-827e-f201d6b07303",
   "metadata": {},
   "outputs": [],
   "source": [
    "str1, str2, str3"
   ]
  },
  {
   "cell_type": "code",
   "execution_count": null,
   "id": "af68bded-7dd9-4a1c-a9f8-0b2453dc9213",
   "metadata": {},
   "outputs": [],
   "source": [
    "str1.lstrip(), str1.rstrip()"
   ]
  },
  {
   "cell_type": "code",
   "execution_count": null,
   "id": "70d0e0c9-b994-4f1d-873f-2dd57b23a988",
   "metadata": {},
   "outputs": [],
   "source": [
    "str2.strip(), str2.rstrip()"
   ]
  },
  {
   "cell_type": "code",
   "execution_count": null,
   "id": "366d59d0-e6db-4aa1-8be9-11e1c3c65405",
   "metadata": {},
   "outputs": [],
   "source": [
    "str2.lstrip(), str3.rstrip()"
   ]
  },
  {
   "cell_type": "code",
   "execution_count": null,
   "id": "4c33464b-8db8-4828-a770-cc0594f37225",
   "metadata": {},
   "outputs": [],
   "source": [
    "status.startswith('a')"
   ]
  },
  {
   "cell_type": "code",
   "execution_count": null,
   "id": "c827d30d-1c31-435b-af85-fb3b0e120e06",
   "metadata": {},
   "outputs": [],
   "source": [
    "status.endswith('s')"
   ]
  },
  {
   "cell_type": "markdown",
   "id": "c07d9911-f4a4-4d87-98f8-6b5f733f12d7",
   "metadata": {
    "tags": []
   },
   "source": [
    "## `.replace()`"
   ]
  },
  {
   "cell_type": "code",
   "execution_count": null,
   "id": "884e6997-fc78-4b3a-b6c3-8b5e1a13b0cd",
   "metadata": {},
   "outputs": [],
   "source": [
    "\"latina\".replace(\"a\", \"x\")"
   ]
  },
  {
   "cell_type": "markdown",
   "id": "664fcd83-acbe-4f70-a802-3b98b57aebdc",
   "metadata": {
    "tags": []
   },
   "source": [
    "## `.format()`  \n",
    "\n",
    "Variable values can be embedding in strings using the `format()` function.  \n",
    "Place {} in the string in order from left to right. followed by `.format(var1, var2, ...`)`"
   ]
  },
  {
   "cell_type": "code",
   "execution_count": null,
   "id": "c6e1ec0b-2d43-41da-af37-19d2eda1e485",
   "metadata": {},
   "outputs": [],
   "source": [
    "epoch = 20\n",
    "loss = 1.55\n",
    "\n",
    "print('Epoch: {}, loss: {}'.format(epoch, loss))"
   ]
  },
  {
   "cell_type": "markdown",
   "id": "a0e36720-0323-4485-bed6-c2bfdfbd9567",
   "metadata": {},
   "source": [
    "This breaks, as three variables are required based on number of {}"
   ]
  },
  {
   "cell_type": "code",
   "execution_count": null,
   "id": "d8f238ee-525a-4199-bcaa-a61e6a08313e",
   "metadata": {},
   "outputs": [],
   "source": [
    "print('Epoch: {}, loop: {}, loss: {}'.format(epoch, loss))"
   ]
  },
  {
   "cell_type": "markdown",
   "id": "d395bc8c-4f6a-4865-910c-4c5a3e1e8d1b",
   "metadata": {},
   "source": [
    "## `.zfill()`\n",
    "Basic usage of the str.zfill() method\n",
    "(pads a numeric string on the left with zeros)\n",
    "It understands about plus and minus signs"
   ]
  },
  {
   "cell_type": "code",
   "execution_count": null,
   "id": "2f9d3cc8-9917-42db-82f7-d343b00fffd1",
   "metadata": {},
   "outputs": [],
   "source": [
    "print('12'.zfill(5))       # Output: 00012\n",
    "print('-3.14'.zfill(7))    # Output: -003.14\n",
    "print('3.141592'.zfill(5)) # Output: 3.141592"
   ]
  },
  {
   "cell_type": "markdown",
   "id": "e6a561c3-e965-40a4-b927-08de18c047ac",
   "metadata": {},
   "source": [
    "# Strings are Lists\n",
    "\n",
    "Actually, they are list-like. \n",
    "\n",
    "Here are some functions applicable to strings because they are lists."
   ]
  },
  {
   "cell_type": "markdown",
   "id": "2379b061-42ad-498d-8902-2308929de25b",
   "metadata": {
    "tags": []
   },
   "source": [
    "## `len()` Length\n",
    "\n",
    "This is built-in length funciton tells us how many characters in the string. \n",
    "\n",
    "It also applys to any list-like object, including strings, lists, dicts, sets, and dataframes."
   ]
  },
  {
   "cell_type": "code",
   "execution_count": null,
   "id": "61d313b3-cd70-4cb3-a180-3acd2516eb8b",
   "metadata": {},
   "outputs": [],
   "source": [
    "len?"
   ]
  },
  {
   "cell_type": "code",
   "execution_count": null,
   "id": "965d8177-d451-4864-bea2-958f5f0d5091",
   "metadata": {},
   "outputs": [],
   "source": [
    "my_new_tring = 'This is a string'"
   ]
  },
  {
   "cell_type": "code",
   "execution_count": null,
   "id": "30dbed83-b726-4707-9393-8994eb84ed5e",
   "metadata": {},
   "outputs": [],
   "source": [
    "len(my_new_tring)"
   ]
  },
  {
   "cell_type": "markdown",
   "id": "f565734e-2421-4a0c-b8ae-fd5be56a72bb",
   "metadata": {},
   "source": [
    "### Indexing\n",
    "\n",
    "Since strings are sequences in Python, each character of the string has a \n",
    "unique position that can be indexed.\n",
    "\n",
    "Indexes are indicated by suffixed brackets, e.g. `foo[]`"
   ]
  },
  {
   "cell_type": "code",
   "execution_count": null,
   "id": "663910a2-a8c3-4b89-bb72-ca2665346ab9",
   "metadata": {},
   "outputs": [],
   "source": [
    "my_new_tring[0] # displays the first character of the string\n",
    "            # first position is position zero. Will display 'h'"
   ]
  },
  {
   "cell_type": "code",
   "execution_count": null,
   "id": "f0cb11b2-0bda-41f2-a041-621b188b0844",
   "metadata": {},
   "outputs": [],
   "source": [
    "my_new_tring[-1] # displays the last character. Negatives count backwords."
   ]
  },
  {
   "cell_type": "markdown",
   "id": "3278ed87-b2aa-46bd-9a51-490865ca4087",
   "metadata": {},
   "source": [
    "### Slicing\n",
    "\n",
    "We can used the colon to 'slice' strings (and lists)"
   ]
  },
  {
   "cell_type": "code",
   "execution_count": null,
   "id": "e10318e8-a052-4831-86a1-b13077f2623b",
   "metadata": {},
   "outputs": [],
   "source": [
    "my_new_tring[0:4] # First four characters (index positions 0-3)"
   ]
  },
  {
   "cell_type": "code",
   "execution_count": null,
   "id": "caa791c2-aa9c-4308-aee6-9bc85f70740e",
   "metadata": {},
   "outputs": [],
   "source": [
    "my_new_tring[:4]  # Beginning (0) to (n-1) position"
   ]
  },
  {
   "cell_type": "code",
   "execution_count": null,
   "id": "24cfe8f6-4b7d-4039-ae43-8231d6533817",
   "metadata": {},
   "outputs": [],
   "source": [
    "my_new_tring[4:]  # Fifth character and onwards until the end of the string"
   ]
  },
  {
   "cell_type": "markdown",
   "id": "053a71d5-1828-4d69-b17a-995361ccec74",
   "metadata": {},
   "source": [
    "it is NOT possible to reassign elements of a string. Python strings are **immutable**."
   ]
  },
  {
   "cell_type": "code",
   "execution_count": null,
   "id": "7ad3fb90-d06a-4fcc-8da3-adeb52dc3319",
   "metadata": {},
   "outputs": [],
   "source": [
    "status = 'success'\n",
    "status[0] = 't'"
   ]
  },
  {
   "cell_type": "markdown",
   "id": "08547ee8-1f26-4b30-bbf8-b1862786a64d",
   "metadata": {},
   "source": [
    "Add strings and handle pathing"
   ]
  }
 ],
 "metadata": {
  "kernelspec": {
   "display_name": "Python 3 (ipykernel)",
   "language": "python",
   "name": "python3"
  },
  "language_info": {
   "codemirror_mode": {
    "name": "ipython",
    "version": 3
   },
   "file_extension": ".py",
   "mimetype": "text/x-python",
   "name": "python",
   "nbconvert_exporter": "python",
   "pygments_lexer": "ipython3",
   "version": "3.8.3"
  },
  "vscode": {
   "interpreter": {
    "hash": "c3b963de08c47c3b6758389c5e0978ad73698a111eb508d4e16b558edb8f4cbf"
   }
  },
  "widgets": {
   "application/vnd.jupyter.widget-state+json": {
    "state": {},
    "version_major": 2,
    "version_minor": 0
   }
  }
 },
 "nbformat": 4,
 "nbformat_minor": 5
}
