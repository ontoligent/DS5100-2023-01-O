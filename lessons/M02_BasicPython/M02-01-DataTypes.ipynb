{
 "cells": [
  {
   "cell_type": "markdown",
   "id": "15d910f9-fcf1-476e-9b2b-2d2be1b163c8",
   "metadata": {},
   "source": [
    "# Metadata\n",
    "\n",
    "```\n",
    "Course:   DS 5100\n",
    "Module:   02 Python Basics\n",
    "Topic:    Python Types, Operators, and Expressions\n",
    "Date:     21 June 2022\n",
    "Author:   R.C. Alvarado\n",
    "```"
   ]
  },
  {
   "cell_type": "markdown",
   "id": "a23d581a-8f3e-4b6f-825c-c3659c0a297a",
   "metadata": {
    "tags": []
   },
   "source": [
    "# Python Data Types"
   ]
  },
  {
   "cell_type": "markdown",
   "id": "e9cd449e-33d8-4e1d-86c3-7e254e630d12",
   "metadata": {},
   "source": [
    "We declare a number of variables with different value types.\n",
    "\n",
    "By 'type' we mean object type. \n",
    "\n",
    "Data types and data structures are both types of object.\n",
    "\n",
    "Data types are created by the way they are written or as keywords ...\n",
    "\n",
    "Here is a series of literal values (called **literals**):"
   ]
  },
  {
   "cell_type": "code",
   "execution_count": null,
   "id": "4c1a3ca1",
   "metadata": {},
   "outputs": [],
   "source": []
  },
  {
   "cell_type": "markdown",
   "id": "9a1b919c-bdc4-4f9e-9ea7-0cde15083979",
   "metadata": {},
   "source": [
    "**Integers**"
   ]
  },
  {
   "cell_type": "code",
   "execution_count": null,
   "id": "5dd0cacb-4542-40e1-b1a1-e6c1f3456db8",
   "metadata": {},
   "outputs": [],
   "source": [
    "10"
   ]
  },
  {
   "cell_type": "markdown",
   "id": "f350c77f-debb-421f-b705-1bd6ed1f7f78",
   "metadata": {},
   "source": [
    "**Floats (decimals)**"
   ]
  },
  {
   "cell_type": "code",
   "execution_count": null,
   "id": "fc3466e7-cae9-47a0-b804-d9060e7633ac",
   "metadata": {},
   "outputs": [],
   "source": [
    "3.14 "
   ]
  },
  {
   "cell_type": "markdown",
   "id": "60404469-996e-4e04-9322-fa35a5d94df2",
   "metadata": {},
   "source": [
    "**Strings**\n",
    "\n",
    "Type of quote does not matter, but they must be straight quotes, not \"smart quotes\" that some word processors use.\n",
    "\n",
    "Note that there is no explicit **character** type as in Java and other languages."
   ]
  },
  {
   "cell_type": "code",
   "execution_count": null,
   "id": "e08f8440-235d-4858-848f-99392156614e",
   "metadata": {},
   "outputs": [],
   "source": [
    "\"foo\" "
   ]
  },
  {
   "cell_type": "code",
   "execution_count": null,
   "id": "6557d2ec-601a-44eb-a8ea-0babcbfcb433",
   "metadata": {},
   "outputs": [],
   "source": [
    "'foo'"
   ]
  },
  {
   "cell_type": "markdown",
   "id": "863f8631-bac9-4910-82d3-9aae14f9d701",
   "metadata": {},
   "source": [
    "**Boolean**"
   ]
  },
  {
   "cell_type": "code",
   "execution_count": null,
   "id": "4dfcf37d-8d71-4bd5-a4c5-426329e1e9c6",
   "metadata": {},
   "outputs": [],
   "source": [
    "True, False"
   ]
  },
  {
   "cell_type": "markdown",
   "id": "a5ea14d6-5c7c-4ba8-8732-169aca58266d",
   "metadata": {},
   "source": [
    "**Nothing**\n",
    "\n",
    "It evaluates to nothing!"
   ]
  },
  {
   "cell_type": "code",
   "execution_count": null,
   "id": "09225ee2-f76d-4014-9ffa-b6da7d2aaaf2",
   "metadata": {},
   "outputs": [],
   "source": [
    "None"
   ]
  },
  {
   "cell_type": "code",
   "execution_count": null,
   "id": "c79557e1-4164-4705-9447-b9af1b44d65e",
   "metadata": {},
   "outputs": [],
   "source": [
    "print(None)"
   ]
  },
  {
   "cell_type": "markdown",
   "id": "9dbf6b45-1b20-4216-9d65-e1c719c7a9ec",
   "metadata": {},
   "source": [
    "**Complex**\n",
    "\n",
    "For the physicists and signal processors."
   ]
  },
  {
   "cell_type": "code",
   "execution_count": null,
   "id": "e9e1a547-6ce5-4be1-a637-7e7b5732ecd6",
   "metadata": {},
   "outputs": [],
   "source": [
    "5+0j"
   ]
  },
  {
   "cell_type": "markdown",
   "id": "aa616ca6-9bd3-4010-810e-1c3b45ecc62b",
   "metadata": {},
   "source": [
    "# Getting the type of a value"
   ]
  },
  {
   "cell_type": "markdown",
   "id": "8ff73240-9925-4066-bb3a-be265a2932c4",
   "metadata": {},
   "source": [
    "You can always find out what kind of type you are working with by calling the `type()` function."
   ]
  },
  {
   "cell_type": "code",
   "execution_count": null,
   "id": "238afb0e-29ff-44d9-b9ce-ff783e1386f4",
   "metadata": {},
   "outputs": [],
   "source": [
    "print(type(3.14))\n",
    "print(type(\"foo\"))\n",
    "print(type('foo'))\n",
    "print(type(True))\n",
    "print(type(None))"
   ]
  },
  {
   "cell_type": "markdown",
   "id": "05fa2362-e8eb-46aa-b152-c4c764bd1a14",
   "metadata": {},
   "source": [
    "# Assignment"
   ]
  },
  {
   "cell_type": "markdown",
   "id": "a9e4a8de-a0db-4b1c-b0f9-29036ec73547",
   "metadata": {
    "tags": []
   },
   "source": [
    "Data are assigned to **variables** using the assignment **operator** `=`.\n",
    "\n",
    "The variable is always on the **left**, the value assigned to it on the **right**.\n",
    "\n",
    "This is not the same as mathemtical equality.\n",
    "\n",
    "Variables are assigned types **dynamically**. \n",
    "\n",
    "This is in contrast to static typing, where you have define variables by asserting what kind of data values they can hold.\n",
    "\n",
    "Python figures out what type of data is being set to the variable and implicitly stores that info."
   ]
  },
  {
   "cell_type": "code",
   "execution_count": null,
   "id": "db9633a2-103e-4310-80c6-b3b96153dbe4",
   "metadata": {},
   "outputs": [],
   "source": [
    "integerEx = 8\n",
    "longIntEx = 22000000000000000000000\n",
    "floatEx = 2.2\n",
    "stringEx = \"Hello\"\n",
    "booleanEx = True\n",
    "noneEx = None"
   ]
  },
  {
   "cell_type": "markdown",
   "id": "5bb72964-a031-4301-8ac8-4f3270c8efaa",
   "metadata": {},
   "source": [
    "**Note that `type()` returns the type of the value that a variable holds, not the type \"variable\"."
   ]
  },
  {
   "cell_type": "code",
   "execution_count": null,
   "id": "b745bc19-21b6-4833-89c2-4e368a247bac",
   "metadata": {},
   "outputs": [],
   "source": [
    "print(type(integerEx))"
   ]
  },
  {
   "cell_type": "markdown",
   "id": "8ab2d51e-9fac-4151-846b-60f9e383bc3a",
   "metadata": {},
   "source": [
    "# Deleting variables with `del()`"
   ]
  },
  {
   "cell_type": "code",
   "execution_count": null,
   "id": "9dbf9fc6-7944-4299-9fd0-217f290a6902",
   "metadata": {},
   "outputs": [],
   "source": [
    "x = 101.25"
   ]
  },
  {
   "cell_type": "code",
   "execution_count": null,
   "id": "02acc388-72bc-41f1-bf05-645f6b55c1ad",
   "metadata": {},
   "outputs": [],
   "source": [
    "x"
   ]
  },
  {
   "cell_type": "code",
   "execution_count": null,
   "id": "cd1550a5-777b-4b82-8f44-c8cd9b95b9cb",
   "metadata": {},
   "outputs": [],
   "source": [
    "del(x)  # delete the variable x"
   ]
  },
  {
   "cell_type": "code",
   "execution_count": null,
   "id": "d4181af3-d232-4749-abe8-b271ea295052",
   "metadata": {},
   "outputs": [],
   "source": [
    "x"
   ]
  },
  {
   "cell_type": "markdown",
   "id": "8af27ebd-a200-447c-be16-24600e3b2928",
   "metadata": {},
   "source": [
    "You can't delete values!"
   ]
  },
  {
   "cell_type": "code",
   "execution_count": null,
   "id": "6e87dca3-1e4b-4083-9ed9-1396517d4310",
   "metadata": {},
   "outputs": [],
   "source": [
    "del(\"foo\")"
   ]
  },
  {
   "cell_type": "markdown",
   "id": "8daf6de3-421d-4658-9dd5-ad001097c4ec",
   "metadata": {
    "tags": []
   },
   "source": [
    "# Get Object Indenity with `id()`\n",
    "\n",
    "This function returns the identity of an object. \n",
    "\n",
    "The identity is a number that is guaranteed to be unique and constant for this object during its lifetime (during the program session).\n",
    "\n",
    "You can think of it as the address of the object in memory."
   ]
  },
  {
   "cell_type": "code",
   "execution_count": null,
   "id": "afead607-3c0d-41f0-ad1a-9104d8dd61f2",
   "metadata": {},
   "outputs": [],
   "source": [
    "print(id(integerEx))"
   ]
  },
  {
   "cell_type": "markdown",
   "id": "8bbebc65-7751-4ecf-9ca3-4a78d23876d0",
   "metadata": {},
   "source": [
    "# Convert Types with Casting Functions\n",
    "\n",
    "It is possible to convert between types (when it makes sense to do so).\n",
    "\n",
    "Sometimes conversions are \"lossy\" -- you lose information in the process"
   ]
  },
  {
   "cell_type": "markdown",
   "id": "083a4cbd-3b0a-47b1-bd3e-414c451ff544",
   "metadata": {
    "tags": []
   },
   "source": [
    "## `int()` "
   ]
  },
  {
   "cell_type": "code",
   "execution_count": null,
   "id": "461dfa4e-a87a-4fc2-b2f7-48d45c47d978",
   "metadata": {},
   "outputs": [],
   "source": [
    "int?"
   ]
  },
  {
   "cell_type": "markdown",
   "id": "b8e30df1-f96b-4a29-922a-957d766dbc5a",
   "metadata": {
    "tags": []
   },
   "source": [
    "**Float to Int**"
   ]
  },
  {
   "cell_type": "code",
   "execution_count": null,
   "id": "cc4abe5e-c486-45f7-82f3-801b76642f2a",
   "metadata": {},
   "outputs": [],
   "source": [
    "val = 3.8\n",
    "print(val, type(val))"
   ]
  },
  {
   "cell_type": "code",
   "execution_count": null,
   "id": "0eb9601b-d4f5-4e7e-aa83-89c6825f994a",
   "metadata": {},
   "outputs": [],
   "source": [
    "val_int = int(val)\n",
    "print(val_int, type(val_int))"
   ]
  },
  {
   "cell_type": "markdown",
   "id": "6a58dcbd-3e1f-4910-8c44-d45aa6b0ddc3",
   "metadata": {
    "tags": []
   },
   "source": [
    "**String to Float**"
   ]
  },
  {
   "cell_type": "code",
   "execution_count": null,
   "id": "54cfe26d-31aa-4e4c-8dbe-d5105599a304",
   "metadata": {},
   "outputs": [],
   "source": [
    "val = '3.8'\n",
    "print(val, type(val))"
   ]
  },
  {
   "cell_type": "code",
   "execution_count": null,
   "id": "1d5f9c6c-9589-4ae7-a618-e7d7ceef3433",
   "metadata": {},
   "outputs": [],
   "source": [
    "val_int = float(val)\n",
    "print(val_int, type(val_int))"
   ]
  },
  {
   "cell_type": "markdown",
   "id": "42eb2683-b083-439a-b3ce-a864e030d045",
   "metadata": {},
   "source": [
    "**Converting string decimal to integer will fail:**"
   ]
  },
  {
   "cell_type": "code",
   "execution_count": null,
   "id": "a72888db-3a93-4bbb-88b5-1e564e228793",
   "metadata": {},
   "outputs": [],
   "source": [
    "val = '3.8'\n",
    "print(val, type(val))"
   ]
  },
  {
   "cell_type": "code",
   "execution_count": null,
   "id": "2e3303e8-12b8-4ade-8506-455fddfad3ef",
   "metadata": {},
   "outputs": [],
   "source": [
    "val_int = int(val)\n",
    "print(val_int, type(val_int))"
   ]
  },
  {
   "cell_type": "markdown",
   "id": "3cc59f5c-eedc-4eab-9ab8-2fda16f7cdb3",
   "metadata": {},
   "source": [
    "## `ord()`"
   ]
  },
  {
   "cell_type": "markdown",
   "id": "262de037-dee6-4321-aedc-8fff289ab51a",
   "metadata": {},
   "source": [
    "**Converting a character to it's code point**"
   ]
  },
  {
   "cell_type": "code",
   "execution_count": null,
   "id": "e88f3d8b-195b-437e-9f94-10e13d3a89ac",
   "metadata": {},
   "outputs": [],
   "source": [
    "ord?"
   ]
  },
  {
   "cell_type": "code",
   "execution_count": null,
   "id": "55cf6cf4-c35a-4da2-a975-0bae21e8ce1e",
   "metadata": {},
   "outputs": [],
   "source": [
    "ord('a'), ord('A')"
   ]
  },
  {
   "cell_type": "markdown",
   "id": "8554d010-0b55-461e-a7e4-98ee72a8cd6c",
   "metadata": {
    "tags": []
   },
   "source": [
    "# Operators\n",
    "\n",
    "If variables are **nouns**, and values **meanings**, then operators are **verbs**.\n",
    "\n",
    "In effect, they are **elementary functions** that are expressed in sequential syntax.\n",
    "\n",
    "`a + b` could have been expressed as `add(a, b)`.\n",
    "\n",
    "Basically, **each data type is associated with a set of operators** that allow you to manipulate the data in way that makes sense for its type. Numeric data types are subject to mathematical operations, booleans to logical ones, and so forth.\n",
    "\n",
    "There are also **operations appropriate to structures**. For example, list-like things have membership.\n",
    "\n",
    "The relationship between types and operators is a microcosm of the relationship betweed data structures and algorithms. **Data structures imply algorithms and algorithms assume data structures.**\n",
    "\n",
    "The w3schools site has [a good summary](https://www.w3schools.com/python/python_operators.asp).\n",
    "\n",
    "Here are some you may not have seen."
   ]
  },
  {
   "cell_type": "markdown",
   "id": "d8118280-7cb1-4cc9-92be-aa8586c9758f",
   "metadata": {},
   "source": [
    "## Arithmetic Operators"
   ]
  },
  {
   "cell_type": "markdown",
   "id": "f6a76f49-dffa-419a-bfe7-bb63128ad4b6",
   "metadata": {},
   "source": [
    "### floor division `//`"
   ]
  },
  {
   "cell_type": "code",
   "execution_count": null,
   "id": "48056760-7c8e-40a0-95e3-88e629aa784f",
   "metadata": {},
   "outputs": [],
   "source": [
    "5 // 2"
   ]
  },
  {
   "cell_type": "code",
   "execution_count": null,
   "id": "5ee780ff-55df-4c2c-9be6-b6ae7ab0806f",
   "metadata": {},
   "outputs": [],
   "source": [
    "-5 // 2"
   ]
  },
  {
   "cell_type": "code",
   "execution_count": null,
   "id": "25f21b59-2797-4c42-96c9-3ea52e8148ac",
   "metadata": {},
   "outputs": [],
   "source": [
    "5.5 // 2"
   ]
  },
  {
   "cell_type": "markdown",
   "id": "8c63e7d3-91e9-4ffc-a26f-c51d5e15f504",
   "metadata": {},
   "source": [
    "### modulus `%`\n",
    "\n",
    "Returns the remainder"
   ]
  },
  {
   "cell_type": "code",
   "execution_count": null,
   "id": "07298bd4-29c6-45cc-affc-9ef19bcf2ece",
   "metadata": {},
   "outputs": [],
   "source": [
    "5 % 2"
   ]
  },
  {
   "cell_type": "markdown",
   "id": "c24d80bb-e2e7-4e3d-a61b-3a5ef6a49d23",
   "metadata": {},
   "source": [
    "odd integers % 2 = 1  \n",
    "even integers % 2 = 0"
   ]
  },
  {
   "cell_type": "markdown",
   "id": "67a09bed-43b4-4c75-9b9a-abc82d3154de",
   "metadata": {},
   "source": [
    "Look at this ... "
   ]
  },
  {
   "cell_type": "code",
   "execution_count": null,
   "id": "6d3cd36d-c434-4284-813d-16d5f784b6b7",
   "metadata": {},
   "outputs": [],
   "source": [
    "5.5 / 2, 5.5 // 2, 5.5 % 2"
   ]
  },
  {
   "cell_type": "markdown",
   "id": "e48edda7-54f7-4f8f-ad31-4fcd08df00af",
   "metadata": {
    "tags": []
   },
   "source": [
    "### exponentiation `**`"
   ]
  },
  {
   "cell_type": "code",
   "execution_count": null,
   "id": "ababdccb-e208-46eb-a36f-ef65feddb978",
   "metadata": {},
   "outputs": [],
   "source": [
    "5**3"
   ]
  },
  {
   "cell_type": "markdown",
   "id": "69cf10e0-6b50-4ce5-a03d-c3a952a156da",
   "metadata": {
    "tags": []
   },
   "source": [
    "## String Operators"
   ]
  },
  {
   "cell_type": "markdown",
   "id": "dc79c3bf-1e1d-4ae4-ab91-3660ef2a2435",
   "metadata": {},
   "source": [
    "### concatenation `+`\n",
    "\n",
    "The plus sign is an **ovderloaded** operator in Python."
   ]
  },
  {
   "cell_type": "code",
   "execution_count": null,
   "id": "ad4c7af8-2e22-42fb-99ef-243d3fd3b251",
   "metadata": {},
   "outputs": [],
   "source": [
    "my2ndString = myString + ' Goodbye, world!'"
   ]
  },
  {
   "cell_type": "code",
   "execution_count": null,
   "id": "4e9bbc83-3cb1-4f82-b338-c2a165371eef",
   "metadata": {},
   "outputs": [],
   "source": [
    "my2ndString"
   ]
  },
  {
   "cell_type": "markdown",
   "id": "27b5507a-7eb9-4d0d-8a03-714cbc305188",
   "metadata": {},
   "source": [
    "### repetition `*`"
   ]
  },
  {
   "cell_type": "code",
   "execution_count": null,
   "id": "788d9339-6a08-4082-9d46-a92fd73148f9",
   "metadata": {},
   "outputs": [],
   "source": [
    "myString*2                     "
   ]
  },
  {
   "cell_type": "code",
   "execution_count": null,
   "id": "8dec3432-384b-4a2b-ac97-480bcc52485c",
   "metadata": {},
   "outputs": [],
   "source": [
    "myString * 5"
   ]
  },
  {
   "cell_type": "code",
   "execution_count": null,
   "id": "4bb48349-ebfc-4df6-ba03-3958f6975522",
   "metadata": {},
   "outputs": [],
   "source": [
    "bart_S1E3 = 'I will not skateboard in the halls'"
   ]
  },
  {
   "cell_type": "code",
   "execution_count": null,
   "id": "e099f60d-8fb5-4ee3-80dc-cf7bd72ce8c0",
   "metadata": {},
   "outputs": [],
   "source": [
    "print((bart_S1E3 + '\\n') * 5)"
   ]
  },
  {
   "cell_type": "code",
   "execution_count": null,
   "id": "172f9eba-6b70-45a5-85a5-765d7fde077d",
   "metadata": {},
   "outputs": [],
   "source": [
    "print('-' * 80)"
   ]
  },
  {
   "cell_type": "markdown",
   "id": "30e3e92c-8f04-45b5-b289-c34c63008e29",
   "metadata": {},
   "source": [
    "[See them all](https://simpsonswiki.com/wiki/List_of_chalkboard_gags) :-)"
   ]
  },
  {
   "cell_type": "markdown",
   "id": "13296c65-0dcc-4189-867f-a4df37f2fc79",
   "metadata": {
    "tags": []
   },
   "source": [
    "## Assignment Operator `=`\n",
    "\n",
    "We've used this already, but it too is an operator."
   ]
  },
  {
   "cell_type": "code",
   "execution_count": null,
   "id": "0b835ab3-90dd-4f5e-a8c4-faa13f7a3cf2",
   "metadata": {},
   "outputs": [],
   "source": [
    "epoch = 20\n",
    "print('epoch:', epoch)"
   ]
  },
  {
   "cell_type": "markdown",
   "id": "dd3b0fc3-6ec6-4ec8-879f-5f4ab413ddd9",
   "metadata": {
    "tags": []
   },
   "source": [
    "## Comparison Operators\n",
    "\n",
    "Comparisons are questions.\n",
    "\n",
    "They return a boolean value. "
   ]
  },
  {
   "cell_type": "markdown",
   "id": "809f6d35-bc2b-459d-acd8-3b54ffab289a",
   "metadata": {
    "tags": []
   },
   "source": [
    "### equality `==`"
   ]
  },
  {
   "cell_type": "code",
   "execution_count": null,
   "id": "a2aa388f-f1d1-4c5a-ad60-fce643587e77",
   "metadata": {},
   "outputs": [],
   "source": [
    "0 == (10 % 5)"
   ]
  },
  {
   "cell_type": "code",
   "execution_count": null,
   "id": "4f7e30e9-aa68-401e-ae17-8c49620bdb7f",
   "metadata": {},
   "outputs": [],
   "source": [
    "'Boo' == 'Hoo'"
   ]
  },
  {
   "cell_type": "markdown",
   "id": "3ceb8d46-577a-4919-81a5-dea53dc3deea",
   "metadata": {},
   "source": [
    "Can we compare strings"
   ]
  },
  {
   "cell_type": "code",
   "execution_count": null,
   "id": "d480d7af-0175-4613-b342-08ec3909c1d3",
   "metadata": {},
   "outputs": [],
   "source": [
    "'A' < 'B'"
   ]
  },
  {
   "cell_type": "code",
   "execution_count": null,
   "id": "70b4328e-2b0f-4607-b02a-49da0db4a2a7",
   "metadata": {},
   "outputs": [],
   "source": [
    "ord('A'), ord('B')"
   ]
  },
  {
   "cell_type": "markdown",
   "id": "b3718ab1-47b5-4853-be5f-bd52cbef8245",
   "metadata": {},
   "source": [
    "### inequality `!=`"
   ]
  },
  {
   "cell_type": "code",
   "execution_count": null,
   "id": "7dea88ef-22ff-4d9b-a6ca-52440b7b7537",
   "metadata": {},
   "outputs": [],
   "source": [
    "5/9 != 0.5555"
   ]
  },
  {
   "cell_type": "markdown",
   "id": "01b6a351-ddfc-4d9e-91a7-f851537cd359",
   "metadata": {
    "tags": []
   },
   "source": [
    "## Logical Operators\n",
    "\n",
    "Python uses words where other languages will use other symbols.\n",
    "\n",
    "### Conjunctions `and`, `or`, `not`\n",
    "\n",
    "Note the we group comparisons with parentheses."
   ]
  },
  {
   "cell_type": "code",
   "execution_count": null,
   "id": "0268adf2-b798-4905-a2d6-b88a8490adfe",
   "metadata": {},
   "outputs": [],
   "source": [
    "x = 10\n",
    "\n",
    "(x % 10 == 0) or (x < -1)"
   ]
  },
  {
   "cell_type": "code",
   "execution_count": null,
   "id": "31fb55f6-6a82-4237-99eb-db08b37ae8c8",
   "metadata": {},
   "outputs": [],
   "source": [
    "(x % 10 == 0) and (x < -1)"
   ]
  },
  {
   "cell_type": "code",
   "execution_count": null,
   "id": "9c8d80a4-0050-4ba6-b168-18aaea50539e",
   "metadata": {},
   "outputs": [],
   "source": [
    "not x == 5"
   ]
  },
  {
   "cell_type": "markdown",
   "id": "b44371fd-006b-4a0b-a4b8-9350a2dac005",
   "metadata": {},
   "source": [
    "### Identity `is`\n",
    "\n",
    "The `is` keyword is used to test if two variables refer to the same object.\n",
    "\n",
    "The test returns `True` if the two objects are the same object.\n",
    "\n",
    "The test returns False if they are not the same object, even if the two objects are 100% equal.\n",
    "\n",
    "Use the `==` operator to test if two variables are equal.\n",
    "\n",
    "-- from [W3Schools on Identity Operators](https://www.w3schools.com/python/gloss_python_identity_operators.asp)"
   ]
  },
  {
   "cell_type": "markdown",
   "id": "a20cf149-c9b6-4f1e-bc53-c82f1d2393a6",
   "metadata": {},
   "source": [
    "`is`"
   ]
  },
  {
   "cell_type": "code",
   "execution_count": null,
   "id": "77f4dc00-6f38-4708-8c5d-35caaed85c7a",
   "metadata": {},
   "outputs": [],
   "source": [
    "x = 'fail'"
   ]
  },
  {
   "cell_type": "code",
   "execution_count": null,
   "id": "b41de78b-3382-4376-a352-b705983c8ff5",
   "metadata": {},
   "outputs": [],
   "source": [
    "x is 'fail'"
   ]
  },
  {
   "cell_type": "markdown",
   "id": "5f1b048d-705f-4a72-a71e-b29524b6751b",
   "metadata": {},
   "source": [
    "`is not`"
   ]
  },
  {
   "cell_type": "code",
   "execution_count": null,
   "id": "2acd4ea2-ef33-41e5-bdac-3658d51074ec",
   "metadata": {},
   "outputs": [],
   "source": [
    "x is not 'fail'"
   ]
  },
  {
   "cell_type": "code",
   "execution_count": null,
   "id": "a7d3f8d4-b09a-4e84-9a82-0f74d17b90aa",
   "metadata": {},
   "outputs": [],
   "source": [
    "x = 'foo'\n",
    "y = 'foo'\n",
    "x is y"
   ]
  },
  {
   "cell_type": "code",
   "execution_count": null,
   "id": "0df4af33-c99e-45f1-b8ad-1ef1cc89ec70",
   "metadata": {},
   "outputs": [],
   "source": [
    "x = ['a']\n",
    "y = ['a']\n",
    "x is y"
   ]
  },
  {
   "cell_type": "markdown",
   "id": "a65019ed-1a50-4eba-a570-8d73f1185058",
   "metadata": {
    "tags": []
   },
   "source": [
    "### Negation `not`"
   ]
  },
  {
   "cell_type": "code",
   "execution_count": null,
   "id": "cbcd8540-d517-441a-875b-19976ccc42eb",
   "metadata": {},
   "outputs": [],
   "source": [
    "not True, not False, not 0, not 1, not 1000, not None"
   ]
  },
  {
   "cell_type": "markdown",
   "id": "8fe630f9-2920-4cd7-9046-4af36d726074",
   "metadata": {
    "tags": []
   },
   "source": [
    "# Unary Operators\n",
    "\n",
    "Python offers a short-cut for most operators. When updating a variable with an operation to that variable, such as:\n",
    "```python\n",
    "my_var = my_var + 1  # Incrementing\n",
    "```\n",
    "\n",
    "You can do this:\n",
    "```python\n",
    "my_var += 1\n",
    "```\n"
   ]
  },
  {
   "cell_type": "markdown",
   "id": "67e2a0c4-56e7-4c64-a72e-30d7451396b8",
   "metadata": {},
   "source": [
    "Python supports many operators this way. Here are some:\n",
    "```python\n",
    "a -= a\n",
    "a \\= a\n",
    "a \\\\= a\n",
    "a %= a\n",
    "a *= a\n",
    "a **= a\n",
    "```"
   ]
  },
  {
   "cell_type": "markdown",
   "id": "5a3c309b-583a-4e22-bbdb-4c10332fc7b1",
   "metadata": {},
   "source": [
    "# Expressions\n",
    "\n",
    "Variables, literal values, and operators are the building blocks of ebxpressions.\n",
    "\n",
    "For example, the following combines three operators and four variables:"
   ]
  },
  {
   "cell_type": "code",
   "execution_count": null,
   "id": "e6137ca1-55e5-49fd-8c74-9540ea81ded1",
   "metadata": {},
   "outputs": [],
   "source": [
    "1 + 2 * 3 / 2"
   ]
  },
  {
   "cell_type": "markdown",
   "id": "175b7e9a-768c-47be-8bf7-761b8e34d252",
   "metadata": {},
   "source": [
    "Python employs **operator precedence** when evaluating expressions:\n",
    "\n",
    "```\n",
    "P – Parentheses\n",
    "E – Exponentiation\n",
    "M – Multiplication\n",
    "D – Division\n",
    "A – Addition\n",
    "S – Subtraction\n",
    "```"
   ]
  },
  {
   "cell_type": "markdown",
   "id": "0492f014-ec92-456e-aaba-2aceb8337004",
   "metadata": {},
   "source": [
    "You can use parentheses to group them to force the order of operations you want:"
   ]
  },
  {
   "cell_type": "code",
   "execution_count": null,
   "id": "7947ec25-90e7-4ef5-8df8-520c25f2f588",
   "metadata": {},
   "outputs": [],
   "source": [
    "(1 + 2) * (3 / 2)"
   ]
  },
  {
   "cell_type": "markdown",
   "id": "94a3fd00-4541-4e66-8e47-9efeb1efed4a",
   "metadata": {},
   "source": [
    "Variables and literal values can be combined:"
   ]
  },
  {
   "cell_type": "code",
   "execution_count": null,
   "id": "29aa1c26-d51e-4098-8622-8597f0333fb4",
   "metadata": {},
   "outputs": [],
   "source": [
    "y = 5\n",
    "m = 2.5\n",
    "b = 10"
   ]
  },
  {
   "cell_type": "code",
   "execution_count": null,
   "id": "b3abdfd2-f22e-471b-b31b-b811940b3826",
   "metadata": {},
   "outputs": [],
   "source": [
    "y = m * 10 + b\n",
    "y"
   ]
  },
  {
   "cell_type": "code",
   "execution_count": null,
   "id": "15558ba0-e862-45db-81da-87c0b63d55ec",
   "metadata": {},
   "outputs": [],
   "source": [
    "y = m * 5 + b\n",
    "y"
   ]
  },
  {
   "cell_type": "markdown",
   "id": "aad1adb9-2749-4088-b491-4ea63c9f298e",
   "metadata": {},
   "source": [
    "Expresssion can be very complex."
   ]
  },
  {
   "cell_type": "markdown",
   "id": "780c128b-c5cb-45bb-94cd-b92e6bf7edd1",
   "metadata": {},
   "source": [
    "Expressions evaluate to a value, just as single variables do. \n",
    "\n",
    "Therefore, they can be put anywhere a value is accepted."
   ]
  },
  {
   "cell_type": "code",
   "execution_count": null,
   "id": "a9339628-7748-4c7c-ba5c-587fe3eda79a",
   "metadata": {},
   "outputs": [],
   "source": [
    "int((y + 10) ** 8)"
   ]
  },
  {
   "cell_type": "code",
   "execution_count": null,
   "id": "2b2028bd-94a2-4f3f-adae-e4beacc1c7ee",
   "metadata": {},
   "outputs": [],
   "source": []
  }
 ],
 "metadata": {
  "kernelspec": {
   "display_name": "Python 3 (ipykernel)",
   "language": "python",
   "name": "python3"
  },
  "language_info": {
   "codemirror_mode": {
    "name": "ipython",
    "version": 3
   },
   "file_extension": ".py",
   "mimetype": "text/x-python",
   "name": "python",
   "nbconvert_exporter": "python",
   "pygments_lexer": "ipython3",
   "version": "3.8.3"
  },
  "vscode": {
   "interpreter": {
    "hash": "c3b963de08c47c3b6758389c5e0978ad73698a111eb508d4e16b558edb8f4cbf"
   }
  },
  "widgets": {
   "application/vnd.jupyter.widget-state+json": {
    "state": {},
    "version_major": 2,
    "version_minor": 0
   }
  }
 },
 "nbformat": 4,
 "nbformat_minor": 5
}
