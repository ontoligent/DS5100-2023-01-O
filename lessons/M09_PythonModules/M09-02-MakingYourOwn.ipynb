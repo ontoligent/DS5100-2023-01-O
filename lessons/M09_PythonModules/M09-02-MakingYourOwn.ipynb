{
 "cells": [
  {
   "cell_type": "markdown",
   "id": "962c5d24-1777-4d33-945a-4e862793acdb",
   "metadata": {
    "tags": []
   },
   "source": [
    "# Metadata\n",
    "\n",
    "```yaml\n",
    "Course:  DS 5100\n",
    "Module:  09 Python Packages\n",
    "Topic:   Building Your Own Package\n",
    "Author:  R.C. Alvarado\n",
    "Date:    10 July 2022\n",
    "```\n",
    "Source: [Making a Python Package](https://python-packaging-tutorial.readthedocs.io/en/latest/setup_py.html)"
   ]
  },
  {
   "cell_type": "markdown",
   "id": "073af9c4-93d2-43f5-a29d-875d4d27341f",
   "metadata": {},
   "source": [
    "# Building Your Own Package"
   ]
  },
  {
   "cell_type": "markdown",
   "id": "c19b7cc8-d327-4979-9880-42e2507379f0",
   "metadata": {},
   "source": [
    "# Some Examples\n",
    "* Scikit Learn: [Repo](https://github.com/scikit-learn/scikit-learn) | [Site](https://scikit-learn.org/stable/) (Structure models code)\n",
    "* NLTK [Repo](https://github.com/nltk/nltk) | [Site](https://www.nltk.org/) (Structure models spaghetti)\n",
    "* SpaCy [Repo](https://github.com/explosion/spaCy) | [Site (API)](https://spacy.io/api) (Structure kinda models code)\n",
    "* https://github.com/ontoligent/mazo\n",
    "* https://github.com/ontoligent-design/polo2"
   ]
  },
  {
   "cell_type": "markdown",
   "id": "8442042c-ebe3-4df2-865b-7c67b68b7858",
   "metadata": {},
   "source": [
    "# Why Build a Package?\n",
    "\n",
    "You package code in order to add it to your python system for general use, and to share it with others.\n",
    "\n",
    "It's easy to do. There are a bunch of nifty tools that help you build, install and\n",
    "distribute packages.\n",
    "\n",
    "It's also just good to have well organized code. This applies to how to organize your programs internally, and externally as files and directories."
   ]
  },
  {
   "cell_type": "markdown",
   "id": "d59176d9-b353-48b4-986d-260b33e982e3",
   "metadata": {},
   "source": [
    "# What is a Package?\n",
    "\n",
    "Again: **A collection of modules** (python files) along with:\n",
    "* the **documentation**\n",
    "* the **tests**\n",
    "* any **top-level scripts**\n",
    "* any **data files** required\n",
    "* instructions and scripts to **build and install** it"
   ]
  },
  {
   "cell_type": "markdown",
   "id": "b53b1f6c-eb41-4a0b-b7b0-eb9cd2099d15",
   "metadata": {},
   "source": [
    "# What does it mean to build your Package?\n",
    "\n",
    "To build your own package, you of course need some Python files you want to deploy.\n",
    "\n",
    "Then you create the following:\n",
    "1.  Create the basic package structure, such as `EXAMPLE 3` above.\n",
    "2.  Write a `setup.py` using a package tool (see below).\n",
    "\n",
    "```bash\n",
    "# EXAMPLE 3\n",
    "src\n",
    "    a_package_dir\n",
    "        __init__.py\n",
    "        module_a.py\n",
    "tests\n",
    "    ...\n",
    "setup.py # Or pyproject.toml \n",
    "```"
   ]
  },
  {
   "cell_type": "markdown",
   "id": "c0348d14-ab9c-4b4b-a04d-dca2cdbbd31c",
   "metadata": {
    "tags": []
   },
   "source": [
    "# About `setup.py`\n",
    "\n",
    "Your `setup.py` file describes your package, and tells the packaging tool how to package, build, and install it.\n",
    "\n",
    "It is Python code, so you can add anything custom you need to it.\n",
    "\n",
    "In the simple case, it is basically a configuration files with keys and values.\n",
    "\n",
    "What does `setup.py` contain?\n",
    "\n",
    "-   Version & package metadata\n",
    "-   List of packages to include\n",
    "-   List of other files to include\n",
    "-   List of dependencies\n",
    "-   List of extensions to be compiled\n",
    "\n",
    "**About `pyproject.toml`**\n",
    "\n",
    "For a lot reasons that beyond the scope of this document, `setup.py` is being superceded by the use of `pyproject.toml` files to store setup configuration information. However, for now we're going to stick to the old school approach."
   ]
  },
  {
   "cell_type": "markdown",
   "id": "da309f5d-e966-44cc-a992-5278beb24823",
   "metadata": {
    "tags": []
   },
   "source": [
    "# Example Setup Files"
   ]
  },
  {
   "cell_type": "markdown",
   "id": "94e75c78-f6c7-4b67-bbdc-e692c48d32ae",
   "metadata": {
    "jp-MarkdownHeadingCollapsed": true,
    "tags": []
   },
   "source": [
    "## Example 1\n",
    "\n",
    "```python\n",
    "from distutils.core import setup\n",
    "\n",
    "setup(name='mypkg',\n",
    "      version='1.0',\n",
    "      \n",
    "      # list folders, not files\n",
    "      packages=['mypkg', 'mypkg.subpkg'], # Include packages in the project\n",
    "      install_requires=['click'],         # Required libraries\n",
    ")\n",
    "```"
   ]
  },
  {
   "cell_type": "markdown",
   "id": "2c1e1569-b83a-4c87-a1ff-e7d04f26e3cb",
   "metadata": {
    "tags": []
   },
   "source": [
    "## Example 2\n",
    "\n",
    "```python\n",
    "from setuptools import setup, find_packages\n",
    "\n",
    "setup(\n",
    "    name='MyPackageName',\n",
    "    version='1.0.0',\n",
    "    url='https://github.com/mypackage.git',\n",
    "    author='Author Name',\n",
    "    author_email='author@gmail.com',\n",
    "    description='Description of my package',\n",
    "    packages=find_packages(),    \n",
    "    install_requires=['numpy >= 1.11.1', 'matplotlib >= 1.5.1'],\n",
    ")\n",
    "```"
   ]
  },
  {
   "cell_type": "markdown",
   "id": "32958986-39b1-42fb-b5f3-08cd8b17fadb",
   "metadata": {
    "tags": []
   },
   "source": [
    "## Example 3\n",
    "\n",
    "```python\n",
    "from setuptools import setup\n",
    "\n",
    "setup(\n",
    "    name = 'PackageName',\n",
    "    version = '0.1.0',\n",
    "    author = 'An Awesome Coder',\n",
    "    author_email = 'aac@example.com',\n",
    "    packages = ['package_name', 'package_name.test'],\n",
    "    scripts = ['bin/script1','bin/script2'],\n",
    "    url = 'http://pypi.python.org/pypi/PackageName/',\n",
    "    license = 'LICENSE.txt',\n",
    "    description = 'An awesome package that does something',\n",
    "    long_description = open('README.txt').read(),\n",
    "    install_requires = [\n",
    "        \"Django >= 1.1.1\",\n",
    "        \"pytest\",\n",
    "    ],\n",
    ")\n",
    "```"
   ]
  },
  {
   "cell_type": "markdown",
   "id": "f2087b4c-5c8e-4e41-8c80-8b5a494d8252",
   "metadata": {},
   "source": [
    "# A Summary of Keys\n",
    "\n",
    "As mentioned about, the main content of basic setup files is configuraton information. The keys that you should include in your projects are the following:\n",
    "\n",
    "* **name**: A string of the package name as title, not a filename. \n",
    "* **version**: A string of the version number expression, typically using the `MAJOR.MINOR.PATCH` pattern. See [Semantic Versioning](https://semver.org/) for more information. \n",
    "* **author**: A string with the creator's name.\n",
    "* **author_email**: A string with the creator's email address. \n",
    "* **packages**: A list of strings of package directories in the project.\n",
    "* **url**: A string of the URL to the code repo.\n",
    "* **license**: A string of the license file name.\n",
    "* **description**: A string with a short blurb of the project.\n",
    "* **long_description**: A link to a longer description. Can do something like `open('README.txt').read()`.\n",
    "* **install_requires**: A list of strings of external libraries that the project requires.\n"
   ]
  },
  {
   "cell_type": "markdown",
   "id": "01ad861b-c549-42a7-92e8-4062e73c85ed",
   "metadata": {
    "tags": []
   },
   "source": [
    "## Python packaging tools\n",
    "\n",
    "In writing `setup.py`, you need to use a packaging tool. Notice that we've imported the `setuptools` library.\n",
    "* The package tool `distutils` is included with Python, but it is not recommended.\n",
    "* Instead, use `setuptools`, a third party tool that extends `distutils` and is used in most modern Python installations."
   ]
  },
  {
   "cell_type": "markdown",
   "id": "33607ee8-d1f9-4a3f-9b07-31913167fc11",
   "metadata": {},
   "source": [
    "## Summary of fields"
   ]
  },
  {
   "cell_type": "markdown",
   "id": "2ba88d1e-8ac4-4043-9a3f-e70532af85f4",
   "metadata": {
    "tags": []
   },
   "source": [
    "# Quick Demo\n",
    "\n",
    "So, let's look at a simple package.\n",
    "\n",
    "Source: [Minimal Structure (python-packaging)](https://python-packaging.readthedocs.io/en/latest/minimal.html)"
   ]
  },
  {
   "cell_type": "markdown",
   "id": "7cc183a6-4c4e-482f-a772-f79a5de1995c",
   "metadata": {},
   "source": [
    "## Directory \n",
    "\n",
    "Here is our directory structure:"
   ]
  },
  {
   "cell_type": "code",
   "execution_count": 10,
   "id": "ec280f1a-db21-45f4-a84f-a221cafd172a",
   "metadata": {},
   "outputs": [
    {
     "name": "stdout",
     "output_type": "stream",
     "text": [
      "total 8\n",
      "drwxr-xr-x@ 4 rca2t1  staff  128 Jul 10 22:53 \u001b[34mfunniest\u001b[m\u001b[m\n",
      "drwxr-xr-x@ 6 rca2t1  staff  192 Jul 10 22:57 \u001b[34mfunniest.egg-info\u001b[m\u001b[m\n",
      "-rw-r--r--@ 1 rca2t1  staff  301 Jul 10 22:56 setup.py\n",
      "\n",
      "demo_package3//funniest:\n",
      "total 16\n",
      "-rw-r--r--@ 1 rca2t1  staff   26 Jul 10 22:54 __init__.py\n",
      "-rw-r--r--@ 1 rca2t1  staff  145 Jul 10 22:54 funniest.py\n",
      "\n",
      "demo_package3//funniest.egg-info:\n",
      "total 32\n",
      "-rw-r--r--@ 1 rca2t1  staff  239 Jul 10 22:57 PKG-INFO\n",
      "-rw-r--r--@ 1 rca2t1  staff  178 Jul 10 22:57 SOURCES.txt\n",
      "-rw-r--r--@ 1 rca2t1  staff    1 Jul 10 22:57 dependency_links.txt\n",
      "-rw-r--r--@ 1 rca2t1  staff    9 Jul 10 22:57 top_level.txt\n"
     ]
    }
   ],
   "source": [
    "!ls -lR demo_package3/"
   ]
  },
  {
   "cell_type": "markdown",
   "id": "db316131-a303-4c4a-8b25-2edde746bdcc",
   "metadata": {},
   "source": [
    "## Setup file\n",
    "\n",
    "Here is what out `setup.py` file has inside:"
   ]
  },
  {
   "cell_type": "code",
   "execution_count": 9,
   "id": "f8111450-58a6-48cf-b228-965ab22db17a",
   "metadata": {},
   "outputs": [
    {
     "name": "stdout",
     "output_type": "stream",
     "text": [
      "from setuptools import setup\n",
      "\n",
      "setup(name='funniest',\n",
      "      version='0.1',\n",
      "      description='The funniest joke in the world',\n",
      "      url='http://github.com/storborg/funniest',\n",
      "      author='Flying Circus',\n",
      "      author_email='flyingcircus@example.com',\n",
      "      license='MIT',\n",
      "      packages=['funniest'])\n"
     ]
    }
   ],
   "source": [
    "print(open('demo_package3/setup.py', 'r').read())"
   ]
  },
  {
   "cell_type": "markdown",
   "id": "fd73fd89-0457-456b-ad10-659bcd8f8580",
   "metadata": {},
   "source": [
    "## `__init__.py`"
   ]
  },
  {
   "cell_type": "code",
   "execution_count": 11,
   "id": "f26ee4a6-6e9e-460e-b4b3-1e266b386010",
   "metadata": {},
   "outputs": [
    {
     "name": "stdout",
     "output_type": "stream",
     "text": [
      "from .funniest import joke\n"
     ]
    }
   ],
   "source": [
    "print(open('demo_package3/funniest/__init__.py', 'r').read())"
   ]
  },
  {
   "cell_type": "markdown",
   "id": "144e6b9b-2db2-49eb-8aa0-a3903d73cedd",
   "metadata": {},
   "source": [
    "## `funniest.py`"
   ]
  },
  {
   "cell_type": "code",
   "execution_count": 12,
   "id": "b9ad61c1-c9b4-462e-838c-1f71cef3e115",
   "metadata": {},
   "outputs": [
    {
     "name": "stdout",
     "output_type": "stream",
     "text": [
      "def joke():\n",
      "    return (u'Wenn ist das Nunst\\u00fcck git und Slotermeyer? Ja! ... '\n",
      "            u'Beiherhund das Oder die Flipperwaldt gersput.')\n"
     ]
    }
   ],
   "source": [
    "print(open('demo_package3/funniest/funniest.py', 'r').read())"
   ]
  },
  {
   "cell_type": "markdown",
   "id": "c7176ce9-e4e0-4b79-ae08-4547d5993098",
   "metadata": {},
   "source": [
    "## Install"
   ]
  },
  {
   "cell_type": "code",
   "execution_count": 13,
   "id": "5430f2d6-746b-415f-9cb7-689706609f75",
   "metadata": {},
   "outputs": [
    {
     "name": "stdout",
     "output_type": "stream",
     "text": [
      "Processing /Users/rca2t1/Dropbox/Courses/DS/DS5100/DS5100-2022-06-R/repo/lessons/M14_PythonModules/demo_package3\n",
      "\u001b[33m  DEPRECATION: A future pip version will change local packages to be built in-place without first copying to a temporary directory. We recommend you use --use-feature=in-tree-build to test your packages with this new behavior before it becomes the default.\n",
      "   pip 21.3 will remove support for this functionality. You can find discussion regarding this at https://github.com/pypa/pip/issues/7555.\u001b[0m\n",
      "Building wheels for collected packages: funniest\n",
      "  Building wheel for funniest (setup.py) ... \u001b[?25ldone\n",
      "\u001b[?25h  Created wheel for funniest: filename=funniest-0.1-py3-none-any.whl size=1525 sha256=1ac3cd6b09e1b20bd27d7dbadbbeecd2119339f29c449b236069d2462f0b7ddd\n",
      "  Stored in directory: /private/var/folders/14/rnyfspnx2q131jp_752t9fc80000gn/T/pip-ephem-wheel-cache-4finqw7y/wheels/50/ce/a8/4df1614d59b5274097882ca75fe195d3960d51ad4796512fd3\n",
      "Successfully built funniest\n",
      "Installing collected packages: funniest\n",
      "  Attempting uninstall: funniest\n",
      "    Found existing installation: funniest 0.1\n",
      "    Uninstalling funniest-0.1:\n",
      "      Successfully uninstalled funniest-0.1\n",
      "Successfully installed funniest-0.1\n"
     ]
    }
   ],
   "source": [
    "!cd demo_package3/; pip install ."
   ]
  },
  {
   "cell_type": "markdown",
   "id": "70344dbb-9b73-438c-a932-51a058278563",
   "metadata": {
    "tags": []
   },
   "source": [
    "## Try it out"
   ]
  },
  {
   "cell_type": "code",
   "execution_count": 14,
   "id": "0010a338-daee-4535-bab0-26bfe8f4535f",
   "metadata": {},
   "outputs": [],
   "source": [
    "from funniest import joke"
   ]
  },
  {
   "cell_type": "code",
   "execution_count": 15,
   "id": "3020e987-4169-4ea3-a1ef-c3b722b63e09",
   "metadata": {},
   "outputs": [
    {
     "data": {
      "text/plain": [
       "'Wenn ist das Nunstück git und Slotermeyer? Ja! ... Beiherhund das Oder die Flipperwaldt gersput.'"
      ]
     },
     "execution_count": 15,
     "metadata": {},
     "output_type": "execute_result"
    }
   ],
   "source": [
    "joke()"
   ]
  },
  {
   "cell_type": "markdown",
   "id": "5fe9671f-3320-4eae-9317-2a70e5dc3f90",
   "metadata": {
    "jp-MarkdownHeadingCollapsed": true,
    "tags": [],
    "toc-hr-collapsed": true
   },
   "source": [
    "# Many Ways to Install\n",
    "\n",
    "**Running `setup.py` directly with python**\n",
    "\n",
    "```bash\n",
    "python setup.py sdist   # Builds a source distribution as tar archie\n",
    "python setup.py build   # Builds from source\n",
    "python setup.py install # Installs to Python\n",
    "python setup.py develop # Installs in develop mode (changes are immediately reflected)\n",
    "```\n",
    "\n",
    "**Using `pip`**\n",
    "\n",
    "```bash\n",
    "pip install .    # Installs to Python\n",
    "pip install -e . # To create symlink, so you can keep working on the code (develop mode)\n",
    "```"
   ]
  },
  {
   "cell_type": "markdown",
   "id": "f87398f5-7ff8-4436-a256-094fe47cf72a",
   "metadata": {},
   "source": [
    "# Testing Code\n",
    "\n",
    "As you work, you will want to write tests and put them somewhere. You have options:\n",
    "\n",
    "* If your package and test code are small and self contained, put the tests in with the package, e.g. `package/test`.\n",
    "* If the tests are large or complex, or require reading/writing files, or significant sample data, put your tests outside the package.\n",
    "\n",
    "See [Where to Put Tests?](http://pythonchb.github.io/PythonTopics/where_to_put_tests.html)."
   ]
  },
  {
   "cell_type": "markdown",
   "id": "22f763ae-6e29-4f15-abde-6e045e034d16",
   "metadata": {
    "tags": []
   },
   "source": [
    "# A More Complex Package Structure\n",
    "\n",
    "    package_name/\n",
    "        bin/\n",
    "        CHANGES.txt\n",
    "        docs/\n",
    "        LICENSE.txt\n",
    "        MANIFEST.in\n",
    "        README.txt\n",
    "        setup.py\n",
    "        package_name/\n",
    "              __init__.py\n",
    "              module1.py\n",
    "              module2.py\n",
    "              test/\n",
    "                  __init__.py\n",
    "                  test_module1.py\n",
    "                  test_module2.py\n",
    "\n",
    "`CHANGES.txt`: log of changes with each\n",
    "release\n",
    "\n",
    "`LICENSE.txt`: text of the license you\n",
    "choose (do choose one!)\n",
    "\n",
    "`MANIFEST.in`: description of what\n",
    "non-code files to include\n",
    "\n",
    "`README.txt`: description of the\n",
    "package should be written in ReST or Markdown (for PyPi):\n",
    "\n",
    "`setup.py`: the script for\n",
    "building/installing package.\n",
    "\n",
    "`bin/`: This is where you put top-level\n",
    "scripts\n",
    "\n",
    "( some folks use `scripts` )\n",
    "\n",
    "`docs/`: the documentation\n",
    "\n",
    "`package_name/`: The main package this\n",
    "is where the code goes.\n",
    "\n",
    "`test/`: your unit tests. Options here:"
   ]
  },
  {
   "cell_type": "markdown",
   "id": "3c3ee205",
   "metadata": {},
   "source": [
    "# More Info\n",
    "https://packaging.python.org/en/latest/overview/"
   ]
  }
 ],
 "metadata": {
  "jupytext": {
   "cell_metadata_filter": "-all",
   "main_language": "python",
   "notebook_metadata_filter": "-all"
  },
  "kernelspec": {
   "display_name": "Python 3 (ipykernel)",
   "language": "python",
   "name": "python3"
  },
  "language_info": {
   "codemirror_mode": {
    "name": "ipython",
    "version": 3
   },
   "file_extension": ".py",
   "mimetype": "text/x-python",
   "name": "python",
   "nbconvert_exporter": "python",
   "pygments_lexer": "ipython3",
   "version": "3.8.16"
  },
  "vscode": {
   "interpreter": {
    "hash": "c3b963de08c47c3b6758389c5e0978ad73698a111eb508d4e16b558edb8f4cbf"
   }
  },
  "widgets": {
   "application/vnd.jupyter.widget-state+json": {
    "state": {},
    "version_major": 2,
    "version_minor": 0
   }
  }
 },
 "nbformat": 4,
 "nbformat_minor": 5
}
