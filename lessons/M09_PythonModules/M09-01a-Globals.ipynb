{
 "cells": [
  {
   "cell_type": "markdown",
   "id": "26274c97-521a-45ff-a94f-3f79c2144db2",
   "metadata": {},
   "source": [
    "# Metadata\n",
    "\n",
    "```yaml\n",
    "Course:  DS 5100\n",
    "Module:  09 Python Modules\n",
    "Topic:   More on Classes and Globals\n",
    "Author:  R.C. Alvarado\n",
    "Date:    09 July 2022\n",
    "```"
   ]
  },
  {
   "cell_type": "markdown",
   "id": "3d3dbdfa-0154-46dc-9291-38472f9e57f3",
   "metadata": {
    "tags": []
   },
   "source": [
    "# Class and Globals\n",
    "\n",
    "We experiment to see if classes can see the globals of their surrounding environment.\n",
    "\n",
    "We already know that functions can."
   ]
  },
  {
   "cell_type": "code",
   "execution_count": 1,
   "id": "6af98745-e7ff-48b7-a356-f1882e14842c",
   "metadata": {},
   "outputs": [],
   "source": [
    "class Test:\n",
    "    \n",
    "    # x has not been declared within the class \n",
    "    # or any of its methods\n",
    "    \n",
    "    def static_test():\n",
    "        print(x)\n",
    "        \n",
    "    def method_test(self):\n",
    "        print(x)"
   ]
  },
  {
   "cell_type": "code",
   "execution_count": 2,
   "id": "d0a20c81-0418-4d40-9c10-d62f7a31f20b",
   "metadata": {},
   "outputs": [],
   "source": [
    "x = 5"
   ]
  },
  {
   "cell_type": "code",
   "execution_count": 3,
   "id": "4b6746ae-ebd7-4c4c-9642-56a5bee866f3",
   "metadata": {},
   "outputs": [
    {
     "name": "stdout",
     "output_type": "stream",
     "text": [
      "5\n"
     ]
    }
   ],
   "source": [
    "try:\n",
    "    Test.static_test()\n",
    "except NameError as e:\n",
    "    print(e)"
   ]
  },
  {
   "cell_type": "code",
   "execution_count": 4,
   "id": "2a2af1a3-72f0-41a4-8c0e-500021c2e6d8",
   "metadata": {},
   "outputs": [],
   "source": [
    "t = Test()"
   ]
  },
  {
   "cell_type": "code",
   "execution_count": 5,
   "id": "2d902ed5-0d0c-4362-8292-221f6d2f628a",
   "metadata": {},
   "outputs": [
    {
     "name": "stdout",
     "output_type": "stream",
     "text": [
      "5\n"
     ]
    }
   ],
   "source": [
    "try:\n",
    "    t.method_test()\n",
    "except NameError as e:\n",
    "    print(e)"
   ]
  },
  {
   "cell_type": "markdown",
   "id": "60fd9a24-0926-4eae-b0a6-f2eb5a3e586b",
   "metadata": {
    "tags": []
   },
   "source": [
    "So, global variables are **also visible within classes**.\n",
    "\n",
    "The class can see the globals, even though `x` was defined after the class definition.\n",
    "\n",
    "So, **the class learns about its environment when it is called**, not defined.\n",
    "\n",
    "But what about imported classes and functions?"
   ]
  },
  {
   "cell_type": "markdown",
   "id": "389b8b8f-8a07-4fd5-b1d7-17246f35cc6d",
   "metadata": {
    "tags": []
   },
   "source": [
    "# Try with Imports\n",
    "\n",
    "We import the file `test.py`, which contains this code:\n",
    "\n",
    "```python\n",
    "y = 15\n",
    "\n",
    "def imported_function_test():\n",
    "    print(x)\n",
    "\n",
    "def imported_function_test_y():\n",
    "    print(y)\n",
    "    \n",
    "class ImportedTest:\n",
    "    \n",
    "    def imported_static_test():\n",
    "        print(x)\n",
    "    \n",
    "    def imported_method_test(self):\n",
    "        print(x)\n",
    "        \n",
    "    def imported_static_test_y():\n",
    "        print(y)\n",
    "    \n",
    "    def imported_method_test_y(self):\n",
    "        print(y)\n",
    "```"
   ]
  },
  {
   "cell_type": "code",
   "execution_count": 6,
   "id": "da2dfd56-7224-4b8b-9955-1662276f979c",
   "metadata": {},
   "outputs": [],
   "source": [
    "from test import *"
   ]
  },
  {
   "cell_type": "markdown",
   "id": "05283902-5c7e-4e7f-b128-7b05e3e55f69",
   "metadata": {},
   "source": [
    "## Imported Function"
   ]
  },
  {
   "cell_type": "code",
   "execution_count": 7,
   "id": "8b404af4-4c64-42bf-abad-b10635ca2310",
   "metadata": {},
   "outputs": [
    {
     "name": "stdout",
     "output_type": "stream",
     "text": [
      "name 'x' is not defined\n"
     ]
    }
   ],
   "source": [
    "try:\n",
    "    imported_function_test()\n",
    "except NameError as e:\n",
    "    print(e)"
   ]
  },
  {
   "cell_type": "code",
   "execution_count": 8,
   "id": "d49f3a14-448a-480f-9240-44f1b4431efe",
   "metadata": {},
   "outputs": [
    {
     "name": "stdout",
     "output_type": "stream",
     "text": [
      "15\n"
     ]
    }
   ],
   "source": [
    "try:\n",
    "    imported_function_test_y()\n",
    "except NameError as e:\n",
    "    print(e)"
   ]
  },
  {
   "cell_type": "markdown",
   "id": "bd5d1f47-e2e0-46bc-93f5-32e61408bc1c",
   "metadata": {},
   "source": [
    "## Imported Static Method"
   ]
  },
  {
   "cell_type": "code",
   "execution_count": 9,
   "id": "b0322490-3f99-4f5e-b212-ff5b8bab49a7",
   "metadata": {},
   "outputs": [
    {
     "name": "stdout",
     "output_type": "stream",
     "text": [
      "name 'x' is not defined\n"
     ]
    }
   ],
   "source": [
    "try:\n",
    "    ImportedTest.imported_static_test()\n",
    "except NameError as e:\n",
    "    print(e)"
   ]
  },
  {
   "cell_type": "code",
   "execution_count": 10,
   "id": "395a5d9b-b9e0-4dd9-b917-88ed9b91eab6",
   "metadata": {},
   "outputs": [
    {
     "name": "stdout",
     "output_type": "stream",
     "text": [
      "15\n"
     ]
    }
   ],
   "source": [
    "try:\n",
    "    ImportedTest.imported_static_test_y()\n",
    "except NameError as e:\n",
    "    print(e)"
   ]
  },
  {
   "cell_type": "markdown",
   "id": "dbc719e3-9b5a-4dca-b5d3-8e6f8205be57",
   "metadata": {},
   "source": [
    "## Imported Instance Method"
   ]
  },
  {
   "cell_type": "code",
   "execution_count": 11,
   "id": "6e123347-6e92-4bfb-830c-2bcdf7fd9ba5",
   "metadata": {},
   "outputs": [],
   "source": [
    "t2 = ImportedTest()"
   ]
  },
  {
   "cell_type": "code",
   "execution_count": 12,
   "id": "4de6e013-76c3-4364-891f-4bc1dbe68802",
   "metadata": {},
   "outputs": [
    {
     "name": "stdout",
     "output_type": "stream",
     "text": [
      "name 'x' is not defined\n"
     ]
    }
   ],
   "source": [
    "try:\n",
    "    t2.imported_method_test()\n",
    "except NameError as e:\n",
    "    print(e)"
   ]
  },
  {
   "cell_type": "code",
   "execution_count": 13,
   "id": "0a8d92fa-ca1a-4420-ad4d-680559759726",
   "metadata": {},
   "outputs": [
    {
     "name": "stdout",
     "output_type": "stream",
     "text": [
      "15\n"
     ]
    }
   ],
   "source": [
    "try:\n",
    "    t2.imported_method_test_y()\n",
    "except NameError as e:\n",
    "    print(e)"
   ]
  }
 ],
 "metadata": {
  "kernelspec": {
   "display_name": "Python 3 (ipykernel)",
   "language": "python",
   "name": "python3"
  },
  "language_info": {
   "codemirror_mode": {
    "name": "ipython",
    "version": 3
   },
   "file_extension": ".py",
   "mimetype": "text/x-python",
   "name": "python",
   "nbconvert_exporter": "python",
   "pygments_lexer": "ipython3",
   "version": "3.8.16"
  },
  "vscode": {
   "interpreter": {
    "hash": "c3b963de08c47c3b6758389c5e0978ad73698a111eb508d4e16b558edb8f4cbf"
   }
  },
  "widgets": {
   "application/vnd.jupyter.widget-state+json": {
    "state": {},
    "version_major": 2,
    "version_minor": 0
   }
  }
 },
 "nbformat": 4,
 "nbformat_minor": 5
}
