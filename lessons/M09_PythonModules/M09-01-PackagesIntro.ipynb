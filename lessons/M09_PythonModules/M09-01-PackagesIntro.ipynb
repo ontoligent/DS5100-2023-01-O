{
 "cells": [
  {
   "cell_type": "markdown",
   "id": "46d6d14d",
   "metadata": {},
   "source": [
    "# Metadata\n",
    "\n",
    "```yaml\n",
    "Course:  DS 5100\n",
    "Module:  09 Python Packages\n",
    "Topic:   Packages, Modules, and Imports \n",
    "Author:  R.C. Alvarado\n",
    "Date:    10 July 2022\n",
    "```\n",
    "Source: [Making a Python Package\n",
    "](https://python-packaging-tutorial.readthedocs.io/en/latest/setup_py.html)"
   ]
  },
  {
   "cell_type": "markdown",
   "id": "36c23302-4655-4444-a6a9-7e466703cb57",
   "metadata": {
    "tags": []
   },
   "source": [
    "# Packages, modules, and imports"
   ]
  },
  {
   "cell_type": "markdown",
   "id": "5ddc5b38-2215-4afa-ac31-462da6386602",
   "metadata": {},
   "source": [
    "# Modules\n",
    "\n",
    "In Python, a **module** can be a file containing Python definitions and statements. \n",
    "\n",
    "The file name is the module name with the suffix `.py` appended. \n",
    "\n",
    "Inside the file, the module’s name is available as the value of the global variable `__name__`. \n",
    "\n",
    "For instance, let's say we have a file called `fibo.py` with the following code:\n",
    "\n",
    "```python\n",
    "# Fibonacci numbers module\n",
    "\n",
    "def fib(n):    # write Fibonacci series up to n\n",
    "    a, b = 0, 1\n",
    "    while a < n:\n",
    "        print(a, end=' ')\n",
    "        a, b = b, a+b\n",
    "    print()\n",
    "\n",
    "def fib2(n):   # return Fibonacci series up to n\n",
    "    a, b = 0, 1\n",
    "    result = []\n",
    "    while a < n:\n",
    "        result.append(a)\n",
    "        a, b = b, a+b\n",
    "    return result\n",
    "```\n",
    "\n",
    "We can import it into this notebook and get it's filename."
   ]
  },
  {
   "cell_type": "code",
   "execution_count": 24,
   "id": "5b068393-3327-4007-812b-8496b11c55e1",
   "metadata": {},
   "outputs": [],
   "source": [
    "import fibo"
   ]
  },
  {
   "cell_type": "code",
   "execution_count": 25,
   "id": "b30c6dc4-0224-4f5e-80d7-512f673198ae",
   "metadata": {},
   "outputs": [
    {
     "data": {
      "text/plain": [
       "'fibo'"
      ]
     },
     "execution_count": 25,
     "metadata": {},
     "output_type": "execute_result"
    }
   ],
   "source": [
    "fibo.__name__"
   ]
  },
  {
   "cell_type": "markdown",
   "id": "d9a00122-f7ba-4ce5-bf96-dec294e7bc8d",
   "metadata": {},
   "source": [
    "And here is how we interact with the file as a module:"
   ]
  },
  {
   "cell_type": "code",
   "execution_count": 26,
   "id": "95a19b82-e4b6-40ac-ba60-19affbccf444",
   "metadata": {},
   "outputs": [
    {
     "name": "stdout",
     "output_type": "stream",
     "text": [
      "0 1 1 2 3 5 8 13 21 34 55 89 144 233 377 610 987 \n"
     ]
    }
   ],
   "source": [
    "fibo.fib(1000)"
   ]
  },
  {
   "cell_type": "code",
   "execution_count": 27,
   "id": "b44a8f58-d161-4002-9574-e0ad3c7266e5",
   "metadata": {},
   "outputs": [
    {
     "data": {
      "text/plain": [
       "[0, 1, 1, 2, 3, 5, 8, 13, 21, 34, 55, 89]"
      ]
     },
     "execution_count": 27,
     "metadata": {},
     "output_type": "execute_result"
    }
   ],
   "source": [
    "fibo.fib2(100)"
   ]
  },
  {
   "cell_type": "markdown",
   "id": "ef8fc702-0f83-4b6d-b097-31ce42c109d6",
   "metadata": {},
   "source": [
    "# Aside on Namespaces"
   ]
  },
  {
   "cell_type": "markdown",
   "id": "f24772ea-0d8d-4793-82d1-edcec3b7c702",
   "metadata": {},
   "source": [
    "You can see that a python **module** acts as a single **namespace**, which is used to organize a collection of values:\n",
    "\n",
    "-   functions\n",
    "-   constants\n",
    "-   class definitions\n",
    "-   really any old value"
   ]
  },
  {
   "attachments": {
    "8696b394-6b09-476e-a450-ab4330f074bc.png": {
     "image/png": "[encoded data removed]"
    }
   },
   "cell_type": "markdown",
   "id": "7911bd34-9ac6-4226-b1fa-72ae0b1dfc26",
   "metadata": {},
   "source": [
    "A namespace is a collection of currently defined names being used by a program.\n",
    "\n",
    "You can think of its as a Python dictionary in which the keys are the object names and the values are the objects themselves.\n",
    "\n",
    "It's a way of making sure variable and function names do not collide or get confused with each other.\n",
    "\n",
    "Python has four namespaces:\n",
    "* **Built-In**: Contains the names of all of Python’s built-in objects. See `dir(__builtins__)`\n",
    "* **Global**: Contains any names defined at the level of the main program. A global namespace is also created for any module that your program imports. See `globals()`.\n",
    "* **Enclosing**: The namespaces of a function for any functions defined within that function. \n",
    "* **Local**: Contains any names defined in a function.\n",
    "\n",
    "Namespaces are related to **scope**. To know the context in which a name has meaning, Python searches namespaces from the inside out.\n",
    "\n",
    "    L -> E -> G -> B\n",
    "\n",
    "![image.png](attachment:8696b394-6b09-476e-a450-ab4330f074bc.png)"
   ]
  },
  {
   "cell_type": "markdown",
   "id": "0f9b411a-f02b-45f6-8398-9f754f716357",
   "metadata": {},
   "source": [
    "See `M14-01b-Globals.ipynb` for a demo.\n",
    "\n",
    "See [Namespaces and Scope in Python (Real Python)](https://realpython.com/python-namespaces-scope/) for a good primer."
   ]
  },
  {
   "cell_type": "code",
   "execution_count": 34,
   "id": "4b875a2a-61b1-446c-bd1c-3444e0258d50",
   "metadata": {},
   "outputs": [],
   "source": [
    "# dir()"
   ]
  },
  {
   "cell_type": "code",
   "execution_count": 35,
   "id": "ba1f9a42-f5ed-4985-a7e4-fa82903b94f3",
   "metadata": {},
   "outputs": [],
   "source": [
    "# dir(__builtins__)"
   ]
  },
  {
   "cell_type": "code",
   "execution_count": 38,
   "id": "89075b91-d915-42a2-aad1-00d2a54a5c0d",
   "metadata": {},
   "outputs": [],
   "source": [
    "# locals()"
   ]
  },
  {
   "cell_type": "code",
   "execution_count": 39,
   "id": "c3aa8e21-5f2f-4c9f-9c0b-3814aa654470",
   "metadata": {},
   "outputs": [],
   "source": [
    "# globals()"
   ]
  },
  {
   "cell_type": "code",
   "execution_count": 75,
   "id": "d32fa1fe-d982-4be5-9abd-f1588cf3a105",
   "metadata": {},
   "outputs": [],
   "source": [
    "def foo():\n",
    "    x = y = z = 1\n",
    "    print(locals())\n",
    "    \n",
    "    def bar():\n",
    "        a = b = c = 2\n",
    "        print(locals())\n",
    "        \n",
    "    bar()"
   ]
  },
  {
   "cell_type": "code",
   "execution_count": 76,
   "id": "008c79d0-4bb4-4185-aacc-663752fa1ba1",
   "metadata": {},
   "outputs": [
    {
     "name": "stdout",
     "output_type": "stream",
     "text": [
      "{'x': 1, 'y': 1, 'z': 1}\n",
      "{'a': 2, 'b': 2, 'c': 2}\n"
     ]
    }
   ],
   "source": [
    "foo()"
   ]
  },
  {
   "cell_type": "markdown",
   "id": "0a81f239-8e23-4eec-ac8d-f672631baed9",
   "metadata": {},
   "source": [
    "# Packages\n",
    "\n",
    "**A package is a directory** that may contain other modules.\n",
    "\n",
    "For a directory to be a package, it must contain an `__init__.py` file.\n",
    "\n",
    "The `__init__.py` can be **totally empty** or it can have some Python code in it. We'll see why you would do that below.\n",
    "\n",
    "It it will contain other python files or other package directories, too.\n",
    "\n",
    "Here an example directory structure of a package that contains a package:\n",
    "\n",
    "```bash\n",
    "# EXAMPLE 1 \n",
    "a_package_dir\n",
    "    __init__.py\n",
    "    module_a.py\n",
    "    a_sub_package_dir\n",
    "        __init__.py\n",
    "        module_b.py\n",
    "```\n",
    "\n",
    "At a minimum, all you need to do have is this:\n",
    "\n",
    "```bash\n",
    "# EXAMPLE 2\n",
    "a_package_dir\n",
    "    __init__.py\n",
    "    module_a.py\n",
    "```\n",
    "However, **ideally**, if you want to have your package **installed**, you'd do this:\n",
    "\n",
    "```bash\n",
    "# EXAMPLE 3\n",
    "src\n",
    "    a_package_dir\n",
    "        __init__.py\n",
    "        module_a.py\n",
    "tests\n",
    "    ...\n",
    "setup.py # Or pyproject.toml \n",
    "```\n",
    "\n",
    "Note that we put our package in the source directory `src` and added the setup file `setup.py`, with the note that it can replaced by `pyproject.toml`."
   ]
  },
  {
   "cell_type": "markdown",
   "id": "ed6256e3-89d6-4a45-b246-1bd7b320cd8a",
   "metadata": {},
   "source": [
    "# Packages and Namespaces\n",
    "\n",
    "Packages structure Python’s **module namespace** by setting up **dotted module names.** \n",
    "\n",
    "For example, the module name `A.B` designates a submodule named `B` in a package named `A`. \n",
    "\n",
    "The use of dotted module names saves the authors of multi-module packages like NumPy or Pillow from having to worry about each other’s module names."
   ]
  },
  {
   "cell_type": "markdown",
   "id": "6a86531b-3484-49c6-b6ab-f9aabd5ed7ce",
   "metadata": {
    "jp-MarkdownHeadingCollapsed": true,
    "tags": []
   },
   "source": [
    "# Importing Packages and Modules\n",
    "\n",
    "So, given the above directory and file structure, within a Python file you can:\n",
    "\n",
    "```\n",
    "import a_package\n",
    "````\n",
    "\n",
    "This will run any code in `a_package/__init__.py`.\n",
    "\n",
    "So, any variable or function names defined in the `__init__.py` will be available like this:\n",
    "\n",
    "```\n",
    "a_package.a_name\n",
    "```\n",
    "\n",
    "However, no **modules** will be imported unless explicity commanded to. \n",
    "\n",
    "For example:\n",
    "\n",
    "```\n",
    "a_package.module_a\n",
    "```\n",
    "\n",
    "will not be imported. \n",
    "\n",
    "To get modules, you need to explicitly import them:\n",
    "\n",
    "```\n",
    "import a_package.module_a\n",
    "```\n",
    "\n",
    "You will have noticed this in working with well-known libraries (bundles of packages) like Scikit Learn. "
   ]
  },
  {
   "cell_type": "markdown",
   "id": "1c08d1c9-d243-4379-9d61-4d7c303d262a",
   "metadata": {},
   "source": [
    "# The module search path\n",
    "\n",
    "How does Python know where to find modules?\n",
    "\n",
    "The interpreter keeps a list of all the places that it looks for modules or packages when you do an import. It is stored in the `sys` module.\n",
    "\n",
    "```python\n",
    "import sys\n",
    "for p in sys.path:\n",
    "    print p\n",
    "```\n",
    "\n",
    "You can edit that list to add or remove paths to let python find\n",
    "modules on a new place.\n",
    "\n",
    "```python\n",
    "sys.path.append(some_local_dir)\n",
    "```\n",
    "\n",
    "Remember that every module has a `__file__` name that points to the path it lives in. \n",
    "\n",
    "This lets you add paths relative to where you are, etc.\n",
    "\n",
    "```python\n",
    "sys.path.append(f\"{__file__}/local_module_directory\")\n",
    "```"
   ]
  },
  {
   "cell_type": "markdown",
   "id": "f3949208-800c-4d7a-bdfc-6258f4c0ba31",
   "metadata": {},
   "source": [
    "# More Info\n",
    "\n",
    "There is, of course, a lot more to this topic than what's covered here.\n",
    "\n",
    "We've covered what you need to know to get started.\n",
    "\n",
    "See [the official docs on modules](https://docs.python.org/3/tutorial/modules.html#packages) for more depth."
   ]
  },
  {
   "cell_type": "code",
   "execution_count": null,
   "id": "035ddb5a-3591-4231-9513-0bf6740137ee",
   "metadata": {},
   "outputs": [],
   "source": []
  }
 ],
 "metadata": {
  "jupytext": {
   "cell_metadata_filter": "-all",
   "main_language": "python",
   "notebook_metadata_filter": "-all"
  },
  "kernelspec": {
   "display_name": "Python 3 (ipykernel)",
   "language": "python",
   "name": "python3"
  },
  "language_info": {
   "codemirror_mode": {
    "name": "ipython",
    "version": 3
   },
   "file_extension": ".py",
   "mimetype": "text/x-python",
   "name": "python",
   "nbconvert_exporter": "python",
   "pygments_lexer": "ipython3",
   "version": "3.8.3"
  },
  "vscode": {
   "interpreter": {
    "hash": "c3b963de08c47c3b6758389c5e0978ad73698a111eb508d4e16b558edb8f4cbf"
   }
  },
  "widgets": {
   "application/vnd.jupyter.widget-state+json": {
    "state": {},
    "version_major": 2,
    "version_minor": 0
   }
  }
 },
 "nbformat": 4,
 "nbformat_minor": 5
}
