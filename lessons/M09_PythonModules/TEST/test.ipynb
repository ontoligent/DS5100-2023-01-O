{
 "cells": [
  {
   "cell_type": "code",
   "execution_count": 26,
   "id": "f2c32193-be5e-4109-abd9-a26f2beba7b8",
   "metadata": {},
   "outputs": [
    {
     "data": {
      "text/plain": [
       "<module 'a' from '/Users/rca2t1/Dropbox/Courses/DS/DS5100/DS5100-2022-08-O/repo/lessons/M09_PythonModules/TEST/a/__init__.py'>"
      ]
     },
     "execution_count": 26,
     "metadata": {},
     "output_type": "execute_result"
    }
   ],
   "source": [
    "import a\n",
    "from imp import reload\n",
    "reload(a)"
   ]
  },
  {
   "cell_type": "code",
   "execution_count": 27,
   "id": "80a25ffd-be6b-4cc9-8d86-8fa35f29bfa8",
   "metadata": {},
   "outputs": [
    {
     "data": {
      "text/plain": [
       "a.b.c.Foo"
      ]
     },
     "execution_count": 27,
     "metadata": {},
     "output_type": "execute_result"
    }
   ],
   "source": [
    "a.Foo"
   ]
  },
  {
   "cell_type": "code",
   "execution_count": 28,
   "id": "a51c9f8c-7f70-4777-a165-307d63f17d4f",
   "metadata": {},
   "outputs": [],
   "source": [
    "foo1 = a.b.c.Foo()"
   ]
  },
  {
   "cell_type": "code",
   "execution_count": 29,
   "id": "0da76b93-435f-42df-8cbe-f7b0c0c42257",
   "metadata": {},
   "outputs": [
    {
     "data": {
      "text/plain": [
       "10"
      ]
     },
     "execution_count": 29,
     "metadata": {},
     "output_type": "execute_result"
    }
   ],
   "source": [
    "foo1.bar"
   ]
  },
  {
   "cell_type": "code",
   "execution_count": 30,
   "id": "ba1d30df-b4e7-4968-af8b-b016ef4b6d4e",
   "metadata": {},
   "outputs": [],
   "source": [
    "import x"
   ]
  },
  {
   "cell_type": "code",
   "execution_count": 31,
   "id": "51ad015e-6b8b-4367-b063-51cf7f936098",
   "metadata": {},
   "outputs": [
    {
     "data": {
      "text/plain": [
       "<module 'x' (namespace)>"
      ]
     },
     "execution_count": 31,
     "metadata": {},
     "output_type": "execute_result"
    }
   ],
   "source": [
    "x"
   ]
  },
  {
   "cell_type": "code",
   "execution_count": null,
   "id": "c3f7e8a8-0aeb-430a-846e-6e834a4d618d",
   "metadata": {},
   "outputs": [],
   "source": []
  }
 ],
 "metadata": {
  "kernelspec": {
   "display_name": "Python 3 (ipykernel)",
   "language": "python",
   "name": "python3"
  },
  "language_info": {
   "codemirror_mode": {
    "name": "ipython",
    "version": 3
   },
   "file_extension": ".py",
   "mimetype": "text/x-python",
   "name": "python",
   "nbconvert_exporter": "python",
   "pygments_lexer": "ipython3",
   "version": "3.8.3"
  },
  "widgets": {
   "application/vnd.jupyter.widget-state+json": {
    "state": {},
    "version_major": 2,
    "version_minor": 0
   }
  }
 },
 "nbformat": 4,
 "nbformat_minor": 5
}
