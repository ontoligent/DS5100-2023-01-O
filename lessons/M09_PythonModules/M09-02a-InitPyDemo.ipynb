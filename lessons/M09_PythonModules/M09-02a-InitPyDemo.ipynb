{
 "cells": [
  {
   "cell_type": "markdown",
   "id": "2dd0b274-95c5-4d18-aa76-756d14f5f4b7",
   "metadata": {},
   "source": [
    "# Metadata\n",
    "\n",
    "```yaml\n",
    "Course:   DS 5100\n",
    "Module:   09 Python Modules\n",
    "Topic:    Demonstrations of Import and __init__.py()\n",
    "Author:   R.C. Alvarado\n",
    "Date:     10 July 2022\n",
    "```"
   ]
  },
  {
   "cell_type": "markdown",
   "id": "80053cfe-4b2a-42a3-bf56-573a19eeea8f",
   "metadata": {},
   "source": [
    "# Demo 1: Empty `__init__.py`"
   ]
  },
  {
   "cell_type": "code",
   "execution_count": 1,
   "id": "b6950e5e-7489-4640-a3f2-e287b18338af",
   "metadata": {},
   "outputs": [],
   "source": [
    "import demo_package1.module1 as d1m"
   ]
  },
  {
   "cell_type": "code",
   "execution_count": 2,
   "id": "88715859-ad41-4367-ab4f-35f01ca432b0",
   "metadata": {},
   "outputs": [
    {
     "name": "stdout",
     "output_type": "stream",
     "text": [
      "Hi, I'm from Demo 1!\n"
     ]
    }
   ],
   "source": [
    "d1m.welcome1()"
   ]
  },
  {
   "cell_type": "code",
   "execution_count": 3,
   "id": "6bb3ef0e-822f-4fff-8b27-5e99f370fc55",
   "metadata": {},
   "outputs": [],
   "source": [
    "from demo_package1.module1 import welcome1"
   ]
  },
  {
   "cell_type": "code",
   "execution_count": 4,
   "id": "8bb2ebc2-f133-4880-b8fe-24cf85a44ef0",
   "metadata": {},
   "outputs": [
    {
     "name": "stdout",
     "output_type": "stream",
     "text": [
      "Hi, I'm from Demo 1!\n"
     ]
    }
   ],
   "source": [
    "welcome1()"
   ]
  },
  {
   "cell_type": "markdown",
   "id": "165bd46c-1819-4588-9081-9f2f5a2d1ec3",
   "metadata": {
    "tags": []
   },
   "source": [
    "# Demo 2: Edited `__init__.py`\n",
    "\n",
    "You can allow the users to import a module function directly from a package by simply adding:\n",
    "\n",
    "```python\n",
    "from package.module import func # or class\n",
    "```\n",
    "\n",
    "or \n",
    "\n",
    "```python\n",
    "from .module import func # or class\n",
    "```\n",
    "to your `__init__.py` file.\n",
    "\n",
    "\n",
    "For example, our Demo2 `__init__().py` contains:\n",
    "\n",
    "```python\n",
    "from demo_package2.module2 import welcome2\n",
    "```\n"
   ]
  },
  {
   "cell_type": "markdown",
   "id": "642fbe77-f1f5-46a6-a743-f56043ab7dca",
   "metadata": {},
   "source": [
    "This allows me to do this:"
   ]
  },
  {
   "cell_type": "code",
   "execution_count": 5,
   "id": "b35a9f72-e6e2-4943-8ff2-d9a30ed13854",
   "metadata": {},
   "outputs": [],
   "source": [
    "import demo_package2 as d2"
   ]
  },
  {
   "cell_type": "code",
   "execution_count": 6,
   "id": "95ee3764-1e88-473e-8c92-eb7211eea1d8",
   "metadata": {},
   "outputs": [
    {
     "name": "stdout",
     "output_type": "stream",
     "text": [
      "Hi, I'm from Demo 2!\n"
     ]
    }
   ],
   "source": [
    "d2.welcome2()"
   ]
  },
  {
   "cell_type": "markdown",
   "id": "20d6fe6d-d68a-4147-a5b3-57559a2879d5",
   "metadata": {},
   "source": [
    "Or this:"
   ]
  },
  {
   "cell_type": "code",
   "execution_count": 7,
   "id": "d9ea6be2-278b-41bf-bd6e-77b7e4e7ddbb",
   "metadata": {},
   "outputs": [],
   "source": [
    "from demo_package2 import welcome2"
   ]
  },
  {
   "cell_type": "code",
   "execution_count": 8,
   "id": "0583e1b9-675e-4402-a6cb-bf4b2fb86dac",
   "metadata": {},
   "outputs": [
    {
     "name": "stdout",
     "output_type": "stream",
     "text": [
      "Hi, I'm from Demo 2!\n"
     ]
    }
   ],
   "source": [
    "welcome2()"
   ]
  }
 ],
 "metadata": {
  "kernelspec": {
   "display_name": "Python 3 (ipykernel)",
   "language": "python",
   "name": "python3"
  },
  "language_info": {
   "codemirror_mode": {
    "name": "ipython",
    "version": 3
   },
   "file_extension": ".py",
   "mimetype": "text/x-python",
   "name": "python",
   "nbconvert_exporter": "python",
   "pygments_lexer": "ipython3",
   "version": "3.8.3"
  },
  "vscode": {
   "interpreter": {
    "hash": "c3b963de08c47c3b6758389c5e0978ad73698a111eb508d4e16b558edb8f4cbf"
   }
  },
  "widgets": {
   "application/vnd.jupyter.widget-state+json": {
    "state": {},
    "version_major": 2,
    "version_minor": 0
   }
  }
 },
 "nbformat": 4,
 "nbformat_minor": 5
}
