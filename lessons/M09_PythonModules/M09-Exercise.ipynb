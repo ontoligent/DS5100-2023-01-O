{
 "cells": [
  {
   "cell_type": "markdown",
   "id": "6a2d5b7e-0ea4-4ad4-a2a8-9d9a343397a1",
   "metadata": {
    "slideshow": {
     "slide_type": "slide"
    },
    "tags": []
   },
   "source": [
    "# Metadata\n",
    "\n",
    "```yaml\n",
    "Course:  DS 5100\n",
    "Module:  09 Python Packages\n",
    "Topic:   Challenge -- Create a Package\n",
    "Author:  R.C. Alvarado\n",
    "Date:    10 July 2022\n",
    "```"
   ]
  },
  {
   "cell_type": "markdown",
   "id": "b640a9b2",
   "metadata": {
    "slideshow": {
     "slide_type": "slide"
    }
   },
   "source": [
    "# Challenge\n",
    "\n",
    "Create and publish on GitHub a package containing a single module with a single function."
   ]
  },
  {
   "cell_type": "markdown",
   "id": "70320de7",
   "metadata": {
    "slideshow": {
     "slide_type": "slide"
    }
   },
   "source": [
    "# Recipe\n",
    "\n",
    "1. **Create a new git repo for your package**.\n",
    "2. **Write a module file** in the repo that contains at least one function.\n",
    "3. Create and edit the **required files and directories** for your package and move your module there.\n",
    "4. **Stage, commit, and push** all the files you've created.\n",
    "8. **Install** your package with `pip`.\n",
    "9. Outside of your package dir, write a script to **test your method**."
   ]
  },
  {
   "cell_type": "markdown",
   "id": "2ef92a08",
   "metadata": {
    "slideshow": {
     "slide_type": "slide"
    }
   },
   "source": [
    "# Create Repo\n",
    "\n",
    "Create a single new repo for your package on GitHib. \n",
    "\n",
    "Be sure to choose a license, include a readme, and a select a `.gitignore` file for Python.\n",
    "\n",
    "Clone the repo locally -- outside of your course repo. \n",
    "\n",
    "The root of the repo will be the root of your package.\n"
   ]
  },
  {
   "cell_type": "markdown",
   "id": "035a9e1c",
   "metadata": {
    "slideshow": {
     "slide_type": "slide"
    }
   },
   "source": [
    "# Create the Module\n",
    "\n",
    "Your module just needs to have one function.\n",
    "\n",
    "It's a good idea to make it print something.\n",
    "\n",
    "It should also have a docstring.\n",
    "\n",
    "Name the file something that reflects the purpose of the function, \n",
    "and any other code that the file will contain."
   ]
  },
  {
   "cell_type": "markdown",
   "id": "5eb12a8b",
   "metadata": {
    "slideshow": {
     "slide_type": "subslide"
    }
   },
   "source": [
    "in the file `jabber.py`:\n",
    "\n",
    "```python\n",
    "def tell_me_something():\n",
    "    \"\"\"Wise cracking function.\"\"\"\n",
    "    print(\"Something.\")\n",
    "```"
   ]
  },
  {
   "cell_type": "markdown",
   "id": "447f29ed",
   "metadata": {
    "slideshow": {
     "slide_type": "slide"
    }
   },
   "source": [
    "# Create Package Directory and Files\n",
    "\n",
    "Create your directory and file structure for your package.\n",
    "\n",
    "Include essential files.\n",
    "\n",
    "Move your module into it."
   ]
  },
  {
   "cell_type": "markdown",
   "id": "9d9b85f3",
   "metadata": {
    "slideshow": {
     "slide_type": "subslide"
    }
   },
   "source": [
    "The initial directory structure your package should look like this:\n",
    "\n",
    "```bash\n",
    "your_package/\n",
    "    your_module.py\n",
    "    __init__.py\n",
    "setup.py\n",
    "```\n",
    "\n",
    "My example looks like this (I named the package `demo`):\n",
    "```bash\n",
    "demo/\n",
    "    jabber.py\n",
    "    __init__.py\n",
    "setup.py\n",
    "```"
   ]
  },
  {
   "cell_type": "markdown",
   "id": "614f1576",
   "metadata": {
    "slideshow": {
     "slide_type": "slide"
    }
   },
   "source": [
    "# Edit `__init__.py`\n",
    "\n",
    "Put a print statement welcoming the user to your module."
   ]
  },
  {
   "cell_type": "markdown",
   "id": "a62f5d46",
   "metadata": {
    "slideshow": {
     "slide_type": "subslide"
    }
   },
   "source": [
    "Inside of `__init__.py`:\n",
    "\n",
    "```python\n",
    "print(\"Welcome to my module!\")\n",
    "```"
   ]
  },
  {
   "cell_type": "markdown",
   "id": "fbfe256a",
   "metadata": {
    "slideshow": {
     "slide_type": "slide"
    }
   },
   "source": [
    "# Create a setup file\n",
    "\n",
    "Create the `setup.py` file.\n",
    "\n",
    "Import what needs to be imported.\n",
    "\n",
    "Add basic metadata and configuration info about your package."
   ]
  },
  {
   "cell_type": "markdown",
   "id": "92702d19",
   "metadata": {
    "slideshow": {
     "slide_type": "subslide"
    }
   },
   "source": [
    "Inside of `setup.py` I put:\n",
    "\n",
    "```python\n",
    "from setuptools import setup\n",
    "\n",
    "setup(name='Demo',\n",
    "      version='0.1',\n",
    "      description='A simple demonstration package',\n",
    "      url='http://github.com/ontoligent/m09-demo',\n",
    "      author='R.C. Alvarado',\n",
    "      author_email='ontoligent@gmail.com',\n",
    "      license='MIT',\n",
    "      packages=['demo'])\n",
    "```"
   ]
  },
  {
   "cell_type": "markdown",
   "id": "06996196",
   "metadata": {
    "slideshow": {
     "slide_type": "slide"
    }
   },
   "source": [
    "# Install your package\n",
    "\n",
    "Run a command from bash to install the script to Python on your system."
   ]
  },
  {
   "cell_type": "markdown",
   "id": "9c17d48a",
   "metadata": {
    "slideshow": {
     "slide_type": "subslide"
    }
   },
   "source": [
    "We normally run this during development:\n",
    "\n",
    "```bash\n",
    "pip install -e .\n",
    "```\n",
    "\n",
    "Here are the results:\n",
    "```bash\n",
    "rca2t@rivanna$ pip install -e .\n",
    "Defaulting to user installation because normal site-packages is not writeable\n",
    "Obtaining file:///sfs/qumulo/qhome/rca2t/Documents/MSDS/DS5100/m14-demo\n",
    "Installing collected packages: Demo\n",
    "  Running setup.py develop for Demo\n",
    "Successfully installed Demo\n",
    "```\n",
    "\n",
    "We might also have done this:\n",
    "\n",
    "```python\n",
    "pip install --user -e .\n",
    "```"
   ]
  },
  {
   "cell_type": "markdown",
   "id": "18cab8f3",
   "metadata": {
    "slideshow": {
     "slide_type": "slide"
    }
   },
   "source": [
    "# Test it out\n",
    "\n",
    "Run the file somewhere on your system outside of the repo.\n",
    "\n",
    "You can use a python file, a notebook, or the command-line."
   ]
  },
  {
   "cell_type": "markdown",
   "id": "5129b663",
   "metadata": {
    "slideshow": {
     "slide_type": "subslide"
    }
   },
   "source": [
    "Here is a sample script:\n",
    "\n",
    "```python\n",
    "#! /usr/env python3\n",
    "\n",
    "from demo.jabber import tell_me_something as tms\n",
    "\n",
    "tms()\n",
    "```\n",
    "\n",
    "And here is the output:\n",
    "\n",
    "```bash\n",
    "rca2t@rivanna$ python ./m14-demo-test.py\n",
    "Welcome to Jabber!\n",
    "Something.\n",
    "```\n"
   ]
  },
  {
   "cell_type": "markdown",
   "id": "91f8bc80",
   "metadata": {
    "slideshow": {
     "slide_type": "slide"
    }
   },
   "source": [
    "# Really Test It\n",
    "\n",
    "Push your changes.\n",
    "\n",
    "Clone the repo on another computer.\n",
    "\n",
    "Install your package.\n",
    "\n",
    "Test it out."
   ]
  },
  {
   "cell_type": "markdown",
   "id": "6297215c",
   "metadata": {
    "slideshow": {
     "slide_type": "slide"
    }
   },
   "source": [
    "# Try importing the function in `__init__.py`\n",
    "\n",
    "Add an import line to `__init__.py` to preload the function."
   ]
  },
  {
   "cell_type": "markdown",
   "id": "1eda9046",
   "metadata": {
    "slideshow": {
     "slide_type": "subslide"
    }
   },
   "source": [
    "In my case, I put this at the top of `__init__.py`:\n",
    "\n",
    "```python\n",
    "from .jabber import tell_me_something\n",
    "```\n",
    "\n",
    "I could have also put:\n",
    "\n",
    "```python\n",
    "from demo.jabber import tell_me_something\n",
    "```"
   ]
  },
  {
   "cell_type": "code",
   "execution_count": null,
   "id": "746277d2",
   "metadata": {},
   "outputs": [],
   "source": []
  }
 ],
 "metadata": {
  "celltoolbar": "Slideshow",
  "jupytext": {
   "cell_metadata_filter": "-all",
   "main_language": "python",
   "notebook_metadata_filter": "-all"
  },
  "kernelspec": {
   "display_name": "Python 3 (ipykernel)",
   "language": "python",
   "name": "python3"
  },
  "language_info": {
   "codemirror_mode": {
    "name": "ipython",
    "version": 3
   },
   "file_extension": ".py",
   "mimetype": "text/x-python",
   "name": "python",
   "nbconvert_exporter": "python",
   "pygments_lexer": "ipython3",
   "version": "3.8.16"
  },
  "latex_envs": {
   "LaTeX_envs_menu_present": true,
   "autoclose": false,
   "autocomplete": true,
   "bibliofile": "biblio.bib",
   "cite_by": "apalike",
   "current_citInitial": 1,
   "eqLabelWithNumbers": true,
   "eqNumInitial": 1,
   "hotkeys": {
    "equation": "Ctrl-E",
    "itemize": "Ctrl-I"
   },
   "labels_anchors": false,
   "latex_user_defs": false,
   "report_style_numbering": false,
   "user_envs_cfg": false
  },
  "toc": {
   "base_numbering": 1,
   "nav_menu": {},
   "number_sections": false,
   "sideBar": true,
   "skip_h1_title": false,
   "title_cell": "Table of Contents",
   "title_sidebar": "Contents",
   "toc_cell": false,
   "toc_position": {},
   "toc_section_display": true,
   "toc_window_display": false
  },
  "varInspector": {
   "cols": {
    "lenName": 16,
    "lenType": 16,
    "lenVar": 40
   },
   "kernels_config": {
    "python": {
     "delete_cmd_postfix": "",
     "delete_cmd_prefix": "del ",
     "library": "var_list.py",
     "varRefreshCmd": "print(var_dic_list())"
    },
    "r": {
     "delete_cmd_postfix": ") ",
     "delete_cmd_prefix": "rm(",
     "library": "var_list.r",
     "varRefreshCmd": "cat(var_dic_list()) "
    }
   },
   "types_to_exclude": [
    "module",
    "function",
    "builtin_function_or_method",
    "instance",
    "_Feature"
   ],
   "window_display": false
  },
  "vscode": {
   "interpreter": {
    "hash": "c3b963de08c47c3b6758389c5e0978ad73698a111eb508d4e16b558edb8f4cbf"
   }
  },
  "widgets": {
   "application/vnd.jupyter.widget-state+json": {
    "state": {},
    "version_major": 2,
    "version_minor": 0
   }
  }
 },
 "nbformat": 4,
 "nbformat_minor": 5
}
